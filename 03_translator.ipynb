{
 "cells": [
  {
   "cell_type": "markdown",
   "metadata": {},
   "source": [
    "# Web scraping"
   ]
  },
  {
   "cell_type": "code",
   "execution_count": 1,
   "metadata": {},
   "outputs": [],
   "source": [
    "import pandas as pd\n",
    "\n",
    "# Import for the Translation with IBM Watson\n",
    "import requests\n",
    "import os\n",
    "import json\n",
    "import getpass\n",
    "import ast # convert str to dic\n",
    "\n",
    "# Imports the Google Cloud client library\n",
    "# from googletrans import Translator"
   ]
  },
  {
   "cell_type": "code",
   "execution_count": 33,
   "metadata": {},
   "outputs": [
    {
     "ename": "ParserError",
     "evalue": "Error tokenizing data. C error: Expected 7 fields in line 178, saw 9\n",
     "output_type": "error",
     "traceback": [
      "\u001b[0;31m---------------------------------------------------------------------------\u001b[0m",
      "\u001b[0;31mParserError\u001b[0m                               Traceback (most recent call last)",
      "\u001b[0;32m<ipython-input-33-97477bfac5eb>\u001b[0m in \u001b[0;36m<module>\u001b[0;34m\u001b[0m\n\u001b[1;32m      2\u001b[0m     \u001b[0;31m#'aldi_north': pd.read_csv('data/products-en/aldinorth-products-en.csv'),\u001b[0m\u001b[0;34m\u001b[0m\u001b[0;34m\u001b[0m\u001b[0;34m\u001b[0m\u001b[0m\n\u001b[1;32m      3\u001b[0m     \u001b[0;31m#'aldi_south': pd.read_csv('data/products-en/aldisouth_products-en.csv'),\u001b[0m\u001b[0;34m\u001b[0m\u001b[0;34m\u001b[0m\u001b[0;34m\u001b[0m\u001b[0m\n\u001b[0;32m----> 4\u001b[0;31m     \u001b[0;34m'edeka'\u001b[0m\u001b[0;34m:\u001b[0m \u001b[0mpd\u001b[0m\u001b[0;34m.\u001b[0m\u001b[0mread_csv\u001b[0m\u001b[0;34m(\u001b[0m\u001b[0;34m'data/products-en/edeka-products-en.csv'\u001b[0m\u001b[0;34m)\u001b[0m\u001b[0;34m,\u001b[0m\u001b[0;34m\u001b[0m\u001b[0;34m\u001b[0m\u001b[0m\n\u001b[0m\u001b[1;32m      5\u001b[0m     \u001b[0;34m'kaufland'\u001b[0m\u001b[0;34m:\u001b[0m \u001b[0mpd\u001b[0m\u001b[0;34m.\u001b[0m\u001b[0mread_csv\u001b[0m\u001b[0;34m(\u001b[0m\u001b[0;34m'data/products-en/kaufland-products-en.csv'\u001b[0m\u001b[0;34m)\u001b[0m\u001b[0;34m,\u001b[0m\u001b[0;34m\u001b[0m\u001b[0;34m\u001b[0m\u001b[0m\n\u001b[1;32m      6\u001b[0m     \u001b[0;34m'lidl'\u001b[0m\u001b[0;34m:\u001b[0m \u001b[0mpd\u001b[0m\u001b[0;34m.\u001b[0m\u001b[0mread_csv\u001b[0m\u001b[0;34m(\u001b[0m\u001b[0;34m'data/products-en/lidl-products-en.csv'\u001b[0m\u001b[0;34m)\u001b[0m\u001b[0;34m,\u001b[0m\u001b[0;34m\u001b[0m\u001b[0;34m\u001b[0m\u001b[0m\n",
      "\u001b[0;32m/opt/miniconda3/envs/boogie_woogie/lib/python3.8/site-packages/pandas/io/parsers.py\u001b[0m in \u001b[0;36mparser_f\u001b[0;34m(filepath_or_buffer, sep, delimiter, header, names, index_col, usecols, squeeze, prefix, mangle_dupe_cols, dtype, engine, converters, true_values, false_values, skipinitialspace, skiprows, skipfooter, nrows, na_values, keep_default_na, na_filter, verbose, skip_blank_lines, parse_dates, infer_datetime_format, keep_date_col, date_parser, dayfirst, cache_dates, iterator, chunksize, compression, thousands, decimal, lineterminator, quotechar, quoting, doublequote, escapechar, comment, encoding, dialect, error_bad_lines, warn_bad_lines, delim_whitespace, low_memory, memory_map, float_precision)\u001b[0m\n\u001b[1;32m    674\u001b[0m         )\n\u001b[1;32m    675\u001b[0m \u001b[0;34m\u001b[0m\u001b[0m\n\u001b[0;32m--> 676\u001b[0;31m         \u001b[0;32mreturn\u001b[0m \u001b[0m_read\u001b[0m\u001b[0;34m(\u001b[0m\u001b[0mfilepath_or_buffer\u001b[0m\u001b[0;34m,\u001b[0m \u001b[0mkwds\u001b[0m\u001b[0;34m)\u001b[0m\u001b[0;34m\u001b[0m\u001b[0;34m\u001b[0m\u001b[0m\n\u001b[0m\u001b[1;32m    677\u001b[0m \u001b[0;34m\u001b[0m\u001b[0m\n\u001b[1;32m    678\u001b[0m     \u001b[0mparser_f\u001b[0m\u001b[0;34m.\u001b[0m\u001b[0m__name__\u001b[0m \u001b[0;34m=\u001b[0m \u001b[0mname\u001b[0m\u001b[0;34m\u001b[0m\u001b[0;34m\u001b[0m\u001b[0m\n",
      "\u001b[0;32m/opt/miniconda3/envs/boogie_woogie/lib/python3.8/site-packages/pandas/io/parsers.py\u001b[0m in \u001b[0;36m_read\u001b[0;34m(filepath_or_buffer, kwds)\u001b[0m\n\u001b[1;32m    452\u001b[0m \u001b[0;34m\u001b[0m\u001b[0m\n\u001b[1;32m    453\u001b[0m     \u001b[0;32mtry\u001b[0m\u001b[0;34m:\u001b[0m\u001b[0;34m\u001b[0m\u001b[0;34m\u001b[0m\u001b[0m\n\u001b[0;32m--> 454\u001b[0;31m         \u001b[0mdata\u001b[0m \u001b[0;34m=\u001b[0m \u001b[0mparser\u001b[0m\u001b[0;34m.\u001b[0m\u001b[0mread\u001b[0m\u001b[0;34m(\u001b[0m\u001b[0mnrows\u001b[0m\u001b[0;34m)\u001b[0m\u001b[0;34m\u001b[0m\u001b[0;34m\u001b[0m\u001b[0m\n\u001b[0m\u001b[1;32m    455\u001b[0m     \u001b[0;32mfinally\u001b[0m\u001b[0;34m:\u001b[0m\u001b[0;34m\u001b[0m\u001b[0;34m\u001b[0m\u001b[0m\n\u001b[1;32m    456\u001b[0m         \u001b[0mparser\u001b[0m\u001b[0;34m.\u001b[0m\u001b[0mclose\u001b[0m\u001b[0;34m(\u001b[0m\u001b[0;34m)\u001b[0m\u001b[0;34m\u001b[0m\u001b[0;34m\u001b[0m\u001b[0m\n",
      "\u001b[0;32m/opt/miniconda3/envs/boogie_woogie/lib/python3.8/site-packages/pandas/io/parsers.py\u001b[0m in \u001b[0;36mread\u001b[0;34m(self, nrows)\u001b[0m\n\u001b[1;32m   1131\u001b[0m     \u001b[0;32mdef\u001b[0m \u001b[0mread\u001b[0m\u001b[0;34m(\u001b[0m\u001b[0mself\u001b[0m\u001b[0;34m,\u001b[0m \u001b[0mnrows\u001b[0m\u001b[0;34m=\u001b[0m\u001b[0;32mNone\u001b[0m\u001b[0;34m)\u001b[0m\u001b[0;34m:\u001b[0m\u001b[0;34m\u001b[0m\u001b[0;34m\u001b[0m\u001b[0m\n\u001b[1;32m   1132\u001b[0m         \u001b[0mnrows\u001b[0m \u001b[0;34m=\u001b[0m \u001b[0m_validate_integer\u001b[0m\u001b[0;34m(\u001b[0m\u001b[0;34m\"nrows\"\u001b[0m\u001b[0;34m,\u001b[0m \u001b[0mnrows\u001b[0m\u001b[0;34m)\u001b[0m\u001b[0;34m\u001b[0m\u001b[0;34m\u001b[0m\u001b[0m\n\u001b[0;32m-> 1133\u001b[0;31m         \u001b[0mret\u001b[0m \u001b[0;34m=\u001b[0m \u001b[0mself\u001b[0m\u001b[0;34m.\u001b[0m\u001b[0m_engine\u001b[0m\u001b[0;34m.\u001b[0m\u001b[0mread\u001b[0m\u001b[0;34m(\u001b[0m\u001b[0mnrows\u001b[0m\u001b[0;34m)\u001b[0m\u001b[0;34m\u001b[0m\u001b[0;34m\u001b[0m\u001b[0m\n\u001b[0m\u001b[1;32m   1134\u001b[0m \u001b[0;34m\u001b[0m\u001b[0m\n\u001b[1;32m   1135\u001b[0m         \u001b[0;31m# May alter columns / col_dict\u001b[0m\u001b[0;34m\u001b[0m\u001b[0;34m\u001b[0m\u001b[0;34m\u001b[0m\u001b[0m\n",
      "\u001b[0;32m/opt/miniconda3/envs/boogie_woogie/lib/python3.8/site-packages/pandas/io/parsers.py\u001b[0m in \u001b[0;36mread\u001b[0;34m(self, nrows)\u001b[0m\n\u001b[1;32m   2035\u001b[0m     \u001b[0;32mdef\u001b[0m \u001b[0mread\u001b[0m\u001b[0;34m(\u001b[0m\u001b[0mself\u001b[0m\u001b[0;34m,\u001b[0m \u001b[0mnrows\u001b[0m\u001b[0;34m=\u001b[0m\u001b[0;32mNone\u001b[0m\u001b[0;34m)\u001b[0m\u001b[0;34m:\u001b[0m\u001b[0;34m\u001b[0m\u001b[0;34m\u001b[0m\u001b[0m\n\u001b[1;32m   2036\u001b[0m         \u001b[0;32mtry\u001b[0m\u001b[0;34m:\u001b[0m\u001b[0;34m\u001b[0m\u001b[0;34m\u001b[0m\u001b[0m\n\u001b[0;32m-> 2037\u001b[0;31m             \u001b[0mdata\u001b[0m \u001b[0;34m=\u001b[0m \u001b[0mself\u001b[0m\u001b[0;34m.\u001b[0m\u001b[0m_reader\u001b[0m\u001b[0;34m.\u001b[0m\u001b[0mread\u001b[0m\u001b[0;34m(\u001b[0m\u001b[0mnrows\u001b[0m\u001b[0;34m)\u001b[0m\u001b[0;34m\u001b[0m\u001b[0;34m\u001b[0m\u001b[0m\n\u001b[0m\u001b[1;32m   2038\u001b[0m         \u001b[0;32mexcept\u001b[0m \u001b[0mStopIteration\u001b[0m\u001b[0;34m:\u001b[0m\u001b[0;34m\u001b[0m\u001b[0;34m\u001b[0m\u001b[0m\n\u001b[1;32m   2039\u001b[0m             \u001b[0;32mif\u001b[0m \u001b[0mself\u001b[0m\u001b[0;34m.\u001b[0m\u001b[0m_first_chunk\u001b[0m\u001b[0;34m:\u001b[0m\u001b[0;34m\u001b[0m\u001b[0;34m\u001b[0m\u001b[0m\n",
      "\u001b[0;32mpandas/_libs/parsers.pyx\u001b[0m in \u001b[0;36mpandas._libs.parsers.TextReader.read\u001b[0;34m()\u001b[0m\n",
      "\u001b[0;32mpandas/_libs/parsers.pyx\u001b[0m in \u001b[0;36mpandas._libs.parsers.TextReader._read_low_memory\u001b[0;34m()\u001b[0m\n",
      "\u001b[0;32mpandas/_libs/parsers.pyx\u001b[0m in \u001b[0;36mpandas._libs.parsers.TextReader._read_rows\u001b[0;34m()\u001b[0m\n",
      "\u001b[0;32mpandas/_libs/parsers.pyx\u001b[0m in \u001b[0;36mpandas._libs.parsers.TextReader._tokenize_rows\u001b[0;34m()\u001b[0m\n",
      "\u001b[0;32mpandas/_libs/parsers.pyx\u001b[0m in \u001b[0;36mpandas._libs.parsers.raise_parser_error\u001b[0;34m()\u001b[0m\n",
      "\u001b[0;31mParserError\u001b[0m: Error tokenizing data. C error: Expected 7 fields in line 178, saw 9\n"
     ]
    }
   ],
   "source": [
    "supermarkets_en = {\n",
    "    #'aldi_north': pd.read_csv('data/products-en/aldinorth-products-en.csv'),\n",
    "    #'aldi_south': pd.read_csv('data/products-en/aldisouth_products-en.csv'),\n",
    "    'edeka': pd.read_csv('data/products-en/edeka-products-en.csv'),\n",
    "    'kaufland': pd.read_csv('data/products-en/kaufland-products-en.csv'),\n",
    "    'lidl': pd.read_csv('data/products-en/lidl-products-en.csv'),\n",
    "    'rewe': pd.read_csv('data/products-en/rewe-product-en.csv')\n",
    "}"
   ]
  },
  {
   "cell_type": "markdown",
   "metadata": {},
   "source": [
    "Now that we have product info of the main 6 supermarkets in Berlin, and before we use it we are going to explore the data."
   ]
  },
  {
   "cell_type": "code",
   "execution_count": 3,
   "metadata": {},
   "outputs": [
    {
     "data": {
      "text/html": [
       "<div>\n",
       "<style scoped>\n",
       "    .dataframe tbody tr th:only-of-type {\n",
       "        vertical-align: middle;\n",
       "    }\n",
       "\n",
       "    .dataframe tbody tr th {\n",
       "        vertical-align: top;\n",
       "    }\n",
       "\n",
       "    .dataframe thead th {\n",
       "        text-align: right;\n",
       "    }\n",
       "</style>\n",
       "<table border=\"1\" class=\"dataframe\">\n",
       "  <thead>\n",
       "    <tr style=\"text-align: right;\">\n",
       "      <th></th>\n",
       "      <th>Unnamed: 0</th>\n",
       "      <th>Name</th>\n",
       "      <th>Price</th>\n",
       "      <th>Unit</th>\n",
       "      <th>Packet Size</th>\n",
       "      <th>Supermarket</th>\n",
       "      <th>Comparable Price</th>\n",
       "    </tr>\n",
       "  </thead>\n",
       "  <tbody>\n",
       "    <tr>\n",
       "      <th>0</th>\n",
       "      <td>0</td>\n",
       "      <td>Ja! Briespitze 60% Fett</td>\n",
       "      <td>1.19</td>\n",
       "      <td>100 Gramm</td>\n",
       "      <td>Packung 200 Gramm</td>\n",
       "      <td>rewe</td>\n",
       "      <td>0.600</td>\n",
       "    </tr>\n",
       "    <tr>\n",
       "      <th>1</th>\n",
       "      <td>1</td>\n",
       "      <td>REWE Beste Wahl Brie 45% Fett</td>\n",
       "      <td>0.69</td>\n",
       "      <td>100 Gramm</td>\n",
       "      <td>Packung 100 Gramm</td>\n",
       "      <td>rewe</td>\n",
       "      <td>0.690</td>\n",
       "    </tr>\n",
       "    <tr>\n",
       "      <th>2</th>\n",
       "      <td>2</td>\n",
       "      <td>REWE Beste Wahl Ziegenfrischkäse Mousse 73%</td>\n",
       "      <td>1.99</td>\n",
       "      <td>100 Gramm</td>\n",
       "      <td>Becher 125 Gramm</td>\n",
       "      <td>rewe</td>\n",
       "      <td>1.590</td>\n",
       "    </tr>\n",
       "    <tr>\n",
       "      <th>3</th>\n",
       "      <td>3</td>\n",
       "      <td>Rewe Brie 45% Fett</td>\n",
       "      <td>0.79</td>\n",
       "      <td>100 Gramm</td>\n",
       "      <td>Packung 100 Gramm</td>\n",
       "      <td>rewe</td>\n",
       "      <td>0.790</td>\n",
       "    </tr>\n",
       "    <tr>\n",
       "      <th>4</th>\n",
       "      <td>4</td>\n",
       "      <td>Nutella</td>\n",
       "      <td>3.79</td>\n",
       "      <td>100 Gramm</td>\n",
       "      <td>Glas 750 Gramm</td>\n",
       "      <td>rewe</td>\n",
       "      <td>0.505</td>\n",
       "    </tr>\n",
       "    <tr>\n",
       "      <th>...</th>\n",
       "      <td>...</td>\n",
       "      <td>...</td>\n",
       "      <td>...</td>\n",
       "      <td>...</td>\n",
       "      <td>...</td>\n",
       "      <td>...</td>\n",
       "      <td>...</td>\n",
       "    </tr>\n",
       "    <tr>\n",
       "      <th>6238</th>\n",
       "      <td>6238</td>\n",
       "      <td>ja! Kartoffelringe Paprika</td>\n",
       "      <td>0.99</td>\n",
       "      <td>100 Gramm</td>\n",
       "      <td>Beutel 100 Gramm</td>\n",
       "      <td>rewe</td>\n",
       "      <td>0.990</td>\n",
       "    </tr>\n",
       "    <tr>\n",
       "      <th>6239</th>\n",
       "      <td>6239</td>\n",
       "      <td>ja! Schoko Rosinen</td>\n",
       "      <td>0.99</td>\n",
       "      <td>100 Gramm</td>\n",
       "      <td>Beutel 200 Gramm</td>\n",
       "      <td>rewe</td>\n",
       "      <td>0.500</td>\n",
       "    </tr>\n",
       "    <tr>\n",
       "      <th>6240</th>\n",
       "      <td>6240</td>\n",
       "      <td>Ja! Erdnüsse Paprika</td>\n",
       "      <td>0.81</td>\n",
       "      <td>100 Gramm</td>\n",
       "      <td>Beutel 200 Gramm</td>\n",
       "      <td>rewe</td>\n",
       "      <td>0.410</td>\n",
       "    </tr>\n",
       "    <tr>\n",
       "      <th>6241</th>\n",
       "      <td>6241</td>\n",
       "      <td>ja! Orange Cake</td>\n",
       "      <td>0.99</td>\n",
       "      <td>100 Gramm</td>\n",
       "      <td>Packung 300 Gramm</td>\n",
       "      <td>rewe</td>\n",
       "      <td>0.330</td>\n",
       "    </tr>\n",
       "    <tr>\n",
       "      <th>6242</th>\n",
       "      <td>6242</td>\n",
       "      <td>ja! Kalifornische Pistazien geröstet</td>\n",
       "      <td>3.79</td>\n",
       "      <td>100 Gramm</td>\n",
       "      <td>Beutel 250 Gramm</td>\n",
       "      <td>rewe</td>\n",
       "      <td>1.520</td>\n",
       "    </tr>\n",
       "  </tbody>\n",
       "</table>\n",
       "<p>6243 rows × 7 columns</p>\n",
       "</div>"
      ],
      "text/plain": [
       "      Unnamed: 0                                         Name  Price  \\\n",
       "0              0                      Ja! Briespitze 60% Fett   1.19   \n",
       "1              1                REWE Beste Wahl Brie 45% Fett   0.69   \n",
       "2              2  REWE Beste Wahl Ziegenfrischkäse Mousse 73%   1.99   \n",
       "3              3                           Rewe Brie 45% Fett   0.79   \n",
       "4              4                                      Nutella   3.79   \n",
       "...          ...                                          ...    ...   \n",
       "6238        6238                   ja! Kartoffelringe Paprika   0.99   \n",
       "6239        6239                           ja! Schoko Rosinen   0.99   \n",
       "6240        6240                         Ja! Erdnüsse Paprika   0.81   \n",
       "6241        6241                              ja! Orange Cake   0.99   \n",
       "6242        6242         ja! Kalifornische Pistazien geröstet   3.79   \n",
       "\n",
       "           Unit        Packet Size Supermarket  Comparable Price  \n",
       "0     100 Gramm  Packung 200 Gramm        rewe             0.600  \n",
       "1     100 Gramm  Packung 100 Gramm        rewe             0.690  \n",
       "2     100 Gramm   Becher 125 Gramm        rewe             1.590  \n",
       "3     100 Gramm  Packung 100 Gramm        rewe             0.790  \n",
       "4     100 Gramm     Glas 750 Gramm        rewe             0.505  \n",
       "...         ...                ...         ...               ...  \n",
       "6238  100 Gramm   Beutel 100 Gramm        rewe             0.990  \n",
       "6239  100 Gramm   Beutel 200 Gramm        rewe             0.500  \n",
       "6240  100 Gramm   Beutel 200 Gramm        rewe             0.410  \n",
       "6241  100 Gramm  Packung 300 Gramm        rewe             0.330  \n",
       "6242  100 Gramm   Beutel 250 Gramm        rewe             1.520  \n",
       "\n",
       "[6243 rows x 7 columns]"
      ]
     },
     "execution_count": 3,
     "metadata": {},
     "output_type": "execute_result"
    }
   ],
   "source": [
    "supermarkets['rewe']"
   ]
  },
  {
   "cell_type": "code",
   "execution_count": 4,
   "metadata": {},
   "outputs": [
    {
     "data": {
      "text/plain": [
       "Unnamed: 0            int64\n",
       "Name                 object\n",
       "Price               float64\n",
       "Unit                 object\n",
       "Packet Size          object\n",
       "Supermarket          object\n",
       "Comparable Price    float64\n",
       "dtype: object"
      ]
     },
     "execution_count": 4,
     "metadata": {},
     "output_type": "execute_result"
    }
   ],
   "source": [
    "supermarkets['rewe'].dtypes"
   ]
  },
  {
   "cell_type": "code",
   "execution_count": 5,
   "metadata": {},
   "outputs": [
    {
     "data": {
      "text/plain": [
       "Ja! Champignons 3. Wahl - geschnitten         3\n",
       "Ja! Tomaten Ketchup                           3\n",
       "Dr. Oetker Die Ofenfrische Pizza Speciale     2\n",
       "REWE Feine Welt Chardonnay                    2\n",
       "ja! Kleiner Käse für den Ofen mild            2\n",
       "                                             ..\n",
       "Dr. Oetker Tortenguss klar gezuckert          1\n",
       "Kerrygold Original Irische Butter gesalzen    1\n",
       "Nadler Gartensalat Buntes Gemüse              1\n",
       "Nescafe Gold entkoffeiniert                   1\n",
       "REWE Beste Wahl Himbeeren                     1\n",
       "Name: Name, Length: 6194, dtype: int64"
      ]
     },
     "execution_count": 5,
     "metadata": {},
     "output_type": "execute_result"
    }
   ],
   "source": [
    "supermarkets['rewe']['Name'].value_counts()"
   ]
  },
  {
   "cell_type": "code",
   "execution_count": 6,
   "metadata": {},
   "outputs": [],
   "source": [
    "for market in supermarkets:\n",
    "    # Drop duplicates within the 'Name' column\n",
    "    supermarkets[market] = supermarkets[market].drop_duplicates('Name')\n",
    "    # Drop 'Unnamed: 0' column\n",
    "    supermarkets[market] = supermarkets[market].drop(columns='Unnamed: 0', errors='ignore')"
   ]
  },
  {
   "cell_type": "code",
   "execution_count": 7,
   "metadata": {},
   "outputs": [
    {
     "data": {
      "text/plain": [
       "0                           [Ja! Briespitze 60% Fett]\n",
       "1                     [REWE Beste Wahl Brie 45% Fett]\n",
       "2       [REWE Beste Wahl Ziegenfrischkäse Mousse 73%]\n",
       "3                                [Rewe Brie 45% Fett]\n",
       "4                                           [Nutella]\n",
       "                            ...                      \n",
       "6238                     [ja! Kartoffelringe Paprika]\n",
       "6239                             [ja! Schoko Rosinen]\n",
       "6240                           [Ja! Erdnüsse Paprika]\n",
       "6241                                [ja! Orange Cake]\n",
       "6242           [ja! Kalifornische Pistazien geröstet]\n",
       "Name: Name, Length: 6194, dtype: object"
      ]
     },
     "execution_count": 7,
     "metadata": {},
     "output_type": "execute_result"
    }
   ],
   "source": [
    "supermarkets['rewe']['Name'].str.split(',')"
   ]
  },
  {
   "cell_type": "markdown",
   "metadata": {},
   "source": [
    "Once we have the data clean, we will translate it from German to English\n",
    "\n",
    "## 2. Translate"
   ]
  },
  {
   "cell_type": "markdown",
   "metadata": {},
   "source": [
    "We are goin to use the googletrans module in order to translate our .csv"
   ]
  },
  {
   "cell_type": "markdown",
   "metadata": {},
   "source": [
    "### 2.1 IBM Watson Translate API"
   ]
  },
  {
   "cell_type": "code",
   "execution_count": 8,
   "metadata": {},
   "outputs": [
    {
     "name": "stdout",
     "output_type": "stream",
     "text": [
      "IBM API key: ········\n"
     ]
    }
   ],
   "source": [
    "# yaotT_lJIzyTXCRT9_POnyQqBLprpP6u9guac38WweEc\n",
    "api_key = getpass.getpass(prompt='IBM API key: ')"
   ]
  },
  {
   "cell_type": "code",
   "execution_count": 10,
   "metadata": {},
   "outputs": [],
   "source": [
    "url = \"https://api.eu-de.language-translator.watson.cloud.ibm.com/instances/8218aa64-0979-48a3-9395-cefb38349b8e/v3/translate?version=2018-05-01\"\n",
    "headers = {\"Content-Type\": \"application/json\"}\n",
    "auth = (\"apikey\", api_key)"
   ]
  },
  {
   "cell_type": "code",
   "execution_count": 11,
   "metadata": {},
   "outputs": [],
   "source": [
    "test = 'Pfanner Mango Fair 100%  Fair'\n",
    "data = {\"text\":test,\"model_id\":\"de-en\"}"
   ]
  },
  {
   "cell_type": "code",
   "execution_count": 12,
   "metadata": {},
   "outputs": [
    {
     "data": {
      "text/plain": [
       "'{\"text\": \"Pfanner Mango Fair 100%  Fair\", \"model_id\": \"de-en\"}'"
      ]
     },
     "execution_count": 12,
     "metadata": {},
     "output_type": "execute_result"
    }
   ],
   "source": [
    "json.dumps(data)"
   ]
  },
  {
   "cell_type": "code",
   "execution_count": 13,
   "metadata": {},
   "outputs": [],
   "source": [
    "# Request to the IBM Watson API\n",
    "r = requests.post(headers=headers, auth=auth, url=url, data=json.dumps(data))"
   ]
  },
  {
   "cell_type": "code",
   "execution_count": 14,
   "metadata": {},
   "outputs": [
    {
     "data": {
      "text/plain": [
       "{'translations': [{'translation': 'Pfanner Mango Fair 100% Fair'}],\n",
       " 'word_count': 6,\n",
       " 'character_count': 29}"
      ]
     },
     "execution_count": 14,
     "metadata": {},
     "output_type": "execute_result"
    }
   ],
   "source": [
    "r.json()"
   ]
  },
  {
   "cell_type": "code",
   "execution_count": 15,
   "metadata": {},
   "outputs": [
    {
     "data": {
      "text/plain": [
       "'Pfanner Mango Fair 100% Fair'"
      ]
     },
     "execution_count": 15,
     "metadata": {},
     "output_type": "execute_result"
    }
   ],
   "source": [
    "r.json()['translations'][0]['translation']"
   ]
  },
  {
   "cell_type": "code",
   "execution_count": 16,
   "metadata": {},
   "outputs": [
    {
     "data": {
      "text/plain": [
       "'Pfanner Mango Fair 100%  Fair'"
      ]
     },
     "execution_count": 16,
     "metadata": {},
     "output_type": "execute_result"
    }
   ],
   "source": [
    "ast.literal_eval(json.dumps(data))['text']"
   ]
  },
  {
   "cell_type": "markdown",
   "metadata": {},
   "source": [
    "IBM has a limitation of 'Exceeded max content length for translate request, max allowed is 50 KiB.'\n",
    "So, in order to translate the whole csv file, we will have to go through each cell and translate it. We only need to translate 'Name', 'Unit' and 'Packet Size'."
   ]
  },
  {
   "cell_type": "code",
   "execution_count": 17,
   "metadata": {},
   "outputs": [],
   "source": [
    "# Create an empty DataFrame for the tranlated ingredients with the 'Name' as key\n",
    "supermarkets_example = {}\n",
    "supermarkets_example['rewe-en'] = pd.DataFrame(columns=('Name', 'Name-en'))"
   ]
  },
  {
   "cell_type": "code",
   "execution_count": 18,
   "metadata": {},
   "outputs": [
    {
     "data": {
      "text/html": [
       "<div>\n",
       "<style scoped>\n",
       "    .dataframe tbody tr th:only-of-type {\n",
       "        vertical-align: middle;\n",
       "    }\n",
       "\n",
       "    .dataframe tbody tr th {\n",
       "        vertical-align: top;\n",
       "    }\n",
       "\n",
       "    .dataframe thead th {\n",
       "        text-align: right;\n",
       "    }\n",
       "</style>\n",
       "<table border=\"1\" class=\"dataframe\">\n",
       "  <thead>\n",
       "    <tr style=\"text-align: right;\">\n",
       "      <th></th>\n",
       "      <th>Name</th>\n",
       "      <th>Name-en</th>\n",
       "    </tr>\n",
       "  </thead>\n",
       "  <tbody>\n",
       "  </tbody>\n",
       "</table>\n",
       "</div>"
      ],
      "text/plain": [
       "Empty DataFrame\n",
       "Columns: [Name, Name-en]\n",
       "Index: []"
      ]
     },
     "execution_count": 18,
     "metadata": {},
     "output_type": "execute_result"
    }
   ],
   "source": [
    "supermarkets_example['rewe-en']"
   ]
  },
  {
   "cell_type": "code",
   "execution_count": 19,
   "metadata": {},
   "outputs": [],
   "source": [
    "data = {\"text\":['Wasser'],\"model_id\":\"de-en\"}\n",
    "\n",
    "json.dumps(data)\n",
    "\n",
    "r = requests.post(headers=headers, auth=auth, url=url, data=json.dumps(data))\n",
    "           \n",
    "new_row = {'Name': ast.literal_eval(json.dumps(data))['text'][0], 'Name-en': r.json()['translations'][0]['translation']}"
   ]
  },
  {
   "cell_type": "code",
   "execution_count": 20,
   "metadata": {},
   "outputs": [
    {
     "data": {
      "text/plain": [
       "{'Name': 'Wasser', 'Name-en': 'Water'}"
      ]
     },
     "execution_count": 20,
     "metadata": {},
     "output_type": "execute_result"
    }
   ],
   "source": [
    "new_row"
   ]
  },
  {
   "cell_type": "code",
   "execution_count": 21,
   "metadata": {},
   "outputs": [],
   "source": [
    "supermarkets_example['rewe-en'] = supermarkets_example['rewe-en'].append(new_row, ignore_index=True)"
   ]
  },
  {
   "cell_type": "code",
   "execution_count": 22,
   "metadata": {},
   "outputs": [
    {
     "data": {
      "text/html": [
       "<div>\n",
       "<style scoped>\n",
       "    .dataframe tbody tr th:only-of-type {\n",
       "        vertical-align: middle;\n",
       "    }\n",
       "\n",
       "    .dataframe tbody tr th {\n",
       "        vertical-align: top;\n",
       "    }\n",
       "\n",
       "    .dataframe thead th {\n",
       "        text-align: right;\n",
       "    }\n",
       "</style>\n",
       "<table border=\"1\" class=\"dataframe\">\n",
       "  <thead>\n",
       "    <tr style=\"text-align: right;\">\n",
       "      <th></th>\n",
       "      <th>Name</th>\n",
       "      <th>Name-en</th>\n",
       "    </tr>\n",
       "  </thead>\n",
       "  <tbody>\n",
       "    <tr>\n",
       "      <th>0</th>\n",
       "      <td>Wasser</td>\n",
       "      <td>Water</td>\n",
       "    </tr>\n",
       "  </tbody>\n",
       "</table>\n",
       "</div>"
      ],
      "text/plain": [
       "     Name Name-en\n",
       "0  Wasser   Water"
      ]
     },
     "execution_count": 22,
     "metadata": {},
     "output_type": "execute_result"
    }
   ],
   "source": [
    "supermarkets_example['rewe-en']"
   ]
  },
  {
   "cell_type": "code",
   "execution_count": 23,
   "metadata": {},
   "outputs": [
    {
     "data": {
      "text/plain": [
       "['REWE Beste Wahl Brie 45% Fett']"
      ]
     },
     "execution_count": 23,
     "metadata": {},
     "output_type": "execute_result"
    }
   ],
   "source": [
    "[supermarkets['rewe']['Name'][1]]"
   ]
  },
  {
   "cell_type": "code",
   "execution_count": 24,
   "metadata": {},
   "outputs": [],
   "source": [
    "src = 'de' # Source language\n",
    "dest = 'en' # Destiny language\n",
    "\n",
    "supermarkets_en = {\n",
    "    'aldi_north': pd.DataFrame(columns=('Name', 'Name-en')),\n",
    "    'aldi_south': pd.DataFrame(columns=('Name', 'Name-en')),\n",
    "    'edeka': pd.DataFrame(columns=('Name', 'Name-en')),\n",
    "    'kaufland': pd.DataFrame(columns=('Name', 'Name-en')),\n",
    "    'lidl': pd.DataFrame(columns=('Name', 'Name-en')),\n",
    "    'rewe': pd.DataFrame(columns=('Name', 'Name-en'))\n",
    "}"
   ]
  },
  {
   "cell_type": "code",
   "execution_count": 25,
   "metadata": {},
   "outputs": [],
   "source": [
    "for market in supermarkets:\n",
    "    # Create new dataframe for the english version\n",
    "    # supermarkets[f'{market}-en'] = supermarkets[market].copy()\n",
    "\n",
    "    # Loop through each row\n",
    "    for row in range(0,5):# range(len(supermarkets[market])):\n",
    "        try:\n",
    "            data = {\"text\":[supermarkets[market]['Name'][row]], \"model_id\":\"de-en\"}\n",
    "            r = requests.post(headers=headers, auth=auth, url=url, data=json.dumps(data))\n",
    "            # Create a new row with the word in 'de' and in 'en'\n",
    "            new_row = {'Name': ast.literal_eval(json.dumps(data))['text'][0], 'Name-en': r.json()['translations'][0]['translation']}\n",
    "            supermarkets_en[market] = supermarkets[market].append(new_row, ignore_index=True)\n",
    "\n",
    "        except:\n",
    "            print(supermarkets[market]['Name'][row])"
   ]
  },
  {
   "cell_type": "code",
   "execution_count": 26,
   "metadata": {},
   "outputs": [
    {
     "data": {
      "text/html": [
       "<div>\n",
       "<style scoped>\n",
       "    .dataframe tbody tr th:only-of-type {\n",
       "        vertical-align: middle;\n",
       "    }\n",
       "\n",
       "    .dataframe tbody tr th {\n",
       "        vertical-align: top;\n",
       "    }\n",
       "\n",
       "    .dataframe thead th {\n",
       "        text-align: right;\n",
       "    }\n",
       "</style>\n",
       "<table border=\"1\" class=\"dataframe\">\n",
       "  <thead>\n",
       "    <tr style=\"text-align: right;\">\n",
       "      <th></th>\n",
       "      <th>Name</th>\n",
       "      <th>Price</th>\n",
       "      <th>Unit</th>\n",
       "      <th>Packet Size</th>\n",
       "      <th>Supermarket</th>\n",
       "      <th>Comparable Price</th>\n",
       "      <th>Name-en</th>\n",
       "    </tr>\n",
       "  </thead>\n",
       "  <tbody>\n",
       "    <tr>\n",
       "      <th>0</th>\n",
       "      <td>Ja! Briespitze 60% Fett</td>\n",
       "      <td>1.19</td>\n",
       "      <td>100 Gramm</td>\n",
       "      <td>Packung 200 Gramm</td>\n",
       "      <td>rewe</td>\n",
       "      <td>0.600</td>\n",
       "      <td>NaN</td>\n",
       "    </tr>\n",
       "    <tr>\n",
       "      <th>1</th>\n",
       "      <td>REWE Beste Wahl Brie 45% Fett</td>\n",
       "      <td>0.69</td>\n",
       "      <td>100 Gramm</td>\n",
       "      <td>Packung 100 Gramm</td>\n",
       "      <td>rewe</td>\n",
       "      <td>0.690</td>\n",
       "      <td>NaN</td>\n",
       "    </tr>\n",
       "    <tr>\n",
       "      <th>2</th>\n",
       "      <td>REWE Beste Wahl Ziegenfrischkäse Mousse 73%</td>\n",
       "      <td>1.99</td>\n",
       "      <td>100 Gramm</td>\n",
       "      <td>Becher 125 Gramm</td>\n",
       "      <td>rewe</td>\n",
       "      <td>1.590</td>\n",
       "      <td>NaN</td>\n",
       "    </tr>\n",
       "    <tr>\n",
       "      <th>3</th>\n",
       "      <td>Rewe Brie 45% Fett</td>\n",
       "      <td>0.79</td>\n",
       "      <td>100 Gramm</td>\n",
       "      <td>Packung 100 Gramm</td>\n",
       "      <td>rewe</td>\n",
       "      <td>0.790</td>\n",
       "      <td>NaN</td>\n",
       "    </tr>\n",
       "    <tr>\n",
       "      <th>4</th>\n",
       "      <td>Nutella</td>\n",
       "      <td>3.79</td>\n",
       "      <td>100 Gramm</td>\n",
       "      <td>Glas 750 Gramm</td>\n",
       "      <td>rewe</td>\n",
       "      <td>0.505</td>\n",
       "      <td>NaN</td>\n",
       "    </tr>\n",
       "    <tr>\n",
       "      <th>...</th>\n",
       "      <td>...</td>\n",
       "      <td>...</td>\n",
       "      <td>...</td>\n",
       "      <td>...</td>\n",
       "      <td>...</td>\n",
       "      <td>...</td>\n",
       "      <td>...</td>\n",
       "    </tr>\n",
       "    <tr>\n",
       "      <th>6190</th>\n",
       "      <td>ja! Schoko Rosinen</td>\n",
       "      <td>0.99</td>\n",
       "      <td>100 Gramm</td>\n",
       "      <td>Beutel 200 Gramm</td>\n",
       "      <td>rewe</td>\n",
       "      <td>0.500</td>\n",
       "      <td>NaN</td>\n",
       "    </tr>\n",
       "    <tr>\n",
       "      <th>6191</th>\n",
       "      <td>Ja! Erdnüsse Paprika</td>\n",
       "      <td>0.81</td>\n",
       "      <td>100 Gramm</td>\n",
       "      <td>Beutel 200 Gramm</td>\n",
       "      <td>rewe</td>\n",
       "      <td>0.410</td>\n",
       "      <td>NaN</td>\n",
       "    </tr>\n",
       "    <tr>\n",
       "      <th>6192</th>\n",
       "      <td>ja! Orange Cake</td>\n",
       "      <td>0.99</td>\n",
       "      <td>100 Gramm</td>\n",
       "      <td>Packung 300 Gramm</td>\n",
       "      <td>rewe</td>\n",
       "      <td>0.330</td>\n",
       "      <td>NaN</td>\n",
       "    </tr>\n",
       "    <tr>\n",
       "      <th>6193</th>\n",
       "      <td>ja! Kalifornische Pistazien geröstet</td>\n",
       "      <td>3.79</td>\n",
       "      <td>100 Gramm</td>\n",
       "      <td>Beutel 250 Gramm</td>\n",
       "      <td>rewe</td>\n",
       "      <td>1.520</td>\n",
       "      <td>NaN</td>\n",
       "    </tr>\n",
       "    <tr>\n",
       "      <th>6194</th>\n",
       "      <td>Nutella</td>\n",
       "      <td>NaN</td>\n",
       "      <td>NaN</td>\n",
       "      <td>NaN</td>\n",
       "      <td>NaN</td>\n",
       "      <td>NaN</td>\n",
       "      <td>Nutella</td>\n",
       "    </tr>\n",
       "  </tbody>\n",
       "</table>\n",
       "<p>6195 rows × 7 columns</p>\n",
       "</div>"
      ],
      "text/plain": [
       "                                             Name  Price       Unit  \\\n",
       "0                         Ja! Briespitze 60% Fett   1.19  100 Gramm   \n",
       "1                   REWE Beste Wahl Brie 45% Fett   0.69  100 Gramm   \n",
       "2     REWE Beste Wahl Ziegenfrischkäse Mousse 73%   1.99  100 Gramm   \n",
       "3                              Rewe Brie 45% Fett   0.79  100 Gramm   \n",
       "4                                         Nutella   3.79  100 Gramm   \n",
       "...                                           ...    ...        ...   \n",
       "6190                           ja! Schoko Rosinen   0.99  100 Gramm   \n",
       "6191                         Ja! Erdnüsse Paprika   0.81  100 Gramm   \n",
       "6192                              ja! Orange Cake   0.99  100 Gramm   \n",
       "6193         ja! Kalifornische Pistazien geröstet   3.79  100 Gramm   \n",
       "6194                                      Nutella    NaN        NaN   \n",
       "\n",
       "            Packet Size Supermarket  Comparable Price  Name-en  \n",
       "0     Packung 200 Gramm        rewe             0.600      NaN  \n",
       "1     Packung 100 Gramm        rewe             0.690      NaN  \n",
       "2      Becher 125 Gramm        rewe             1.590      NaN  \n",
       "3     Packung 100 Gramm        rewe             0.790      NaN  \n",
       "4        Glas 750 Gramm        rewe             0.505      NaN  \n",
       "...                 ...         ...               ...      ...  \n",
       "6190   Beutel 200 Gramm        rewe             0.500      NaN  \n",
       "6191   Beutel 200 Gramm        rewe             0.410      NaN  \n",
       "6192  Packung 300 Gramm        rewe             0.330      NaN  \n",
       "6193   Beutel 250 Gramm        rewe             1.520      NaN  \n",
       "6194                NaN         NaN               NaN  Nutella  \n",
       "\n",
       "[6195 rows x 7 columns]"
      ]
     },
     "execution_count": 26,
     "metadata": {},
     "output_type": "execute_result"
    }
   ],
   "source": [
    "supermarkets_en['rewe']"
   ]
  },
  {
   "cell_type": "code",
   "execution_count": null,
   "metadata": {},
   "outputs": [],
   "source": [
    "data = {\"text\":test,\"model_id\":\"de-en\"}\n",
    "json.dumps(data)\n",
    "\n",
    "# Request to the IBM Watson API\n",
    "r = requests.post(headers=headers, auth=auth, url=url, data=json.dumps(data))\n",
    "\n",
    "r.json()\n",
    "\n",
    "r.json()['translations'][0]['translation']"
   ]
  },
  {
   "cell_type": "markdown",
   "metadata": {},
   "source": [
    "The method accepts lists as input as well. So we are going to loop per each row in order to catch the rows that raise errors"
   ]
  },
  {
   "cell_type": "markdown",
   "metadata": {},
   "source": [
    "---------------"
   ]
  },
  {
   "cell_type": "code",
   "execution_count": null,
   "metadata": {},
   "outputs": [],
   "source": [
    "def translate(dataframe):\n",
    "    # We need to translate 'Name', 'Unit', 'Packet Size'\n",
    "    supermarkets[f'{dataframe}-en']"
   ]
  },
  {
   "cell_type": "code",
   "execution_count": null,
   "metadata": {},
   "outputs": [],
   "source": [
    "# Instantiates a client\n",
    "translator = Translator()"
   ]
  },
  {
   "cell_type": "code",
   "execution_count": null,
   "metadata": {},
   "outputs": [],
   "source": [
    "# Example to see how it works\n",
    "# 1 - translator.translate('Hello').text"
   ]
  },
  {
   "cell_type": "code",
   "execution_count": null,
   "metadata": {},
   "outputs": [],
   "source": [
    "# 1 - word.origin # .origin -> prints the original word"
   ]
  },
  {
   "cell_type": "code",
   "execution_count": null,
   "metadata": {},
   "outputs": [],
   "source": [
    "# 1 - word[0].text # .text -> prints the translated word"
   ]
  },
  {
   "cell_type": "code",
   "execution_count": null,
   "metadata": {},
   "outputs": [],
   "source": [
    "# Undertand how the method works\n",
    "# 1 - translator.translate(supermarkets['rewe']['Name'][1], dest='en').text"
   ]
  },
  {
   "cell_type": "markdown",
   "metadata": {},
   "source": [
    "## 3. Next Steps\n",
    "\n",
    "- Create a dictionary with a dataframe per retailer with unique ingredients \n",
    "- [v0] - Build an algorithm able to (input: ingredient, output: % coverage + total price per each supermarket)\n",
    "- [v1] - Build an algorithm able to (input: list of ingredients, output: % coverage + total price per each supermarket)\n",
    "- [v2] - Use fuzzy buzzy to match the input (potato) with the ingredients by similarity."
   ]
  },
  {
   "cell_type": "markdown",
   "metadata": {},
   "source": [
    "### 3.2 [v0] algorithm\n",
    "- [v0] - Build an algorithm able to (input: ingredient, output: % coverage + total price per each supermarket)"
   ]
  },
  {
   "cell_type": "code",
   "execution_count": null,
   "metadata": {},
   "outputs": [],
   "source": [
    "# We are looking for the price of the ingredient that we are searching per each supermarket\n",
    "supermarkets['rewe'][supermarkets['rewe']['Name'] == 'Pfanner Mango Fair 100%  Fair']['Price'].values[0]"
   ]
  },
  {
   "cell_type": "code",
   "execution_count": null,
   "metadata": {},
   "outputs": [],
   "source": [
    "def search(ingredient:str):\n",
    "    # New empty list\n",
    "    result = []\n",
    "    for market in supermarkets:\n",
    "        a = supermarkets[market]\n",
    "        try:\n",
    "            price = a[a['Name'] == ingredient]['Price'].values[0]\n",
    "            result.append(f'{market}: {price}')\n",
    "        except:\n",
    "            result.append(f'{market}: Not found')\n",
    "    return result\n",
    "\n",
    "# Try it with 'Coca Cola' because it is available in every supermarket\n",
    "# Try with 'Pfanner Mango Fair 100%  Fair'"
   ]
  },
  {
   "cell_type": "code",
   "execution_count": null,
   "metadata": {},
   "outputs": [],
   "source": [
    "# Testing the function\n",
    "search('Pfanner Mango Fair 100%  Fair')"
   ]
  },
  {
   "cell_type": "code",
   "execution_count": null,
   "metadata": {},
   "outputs": [],
   "source": [
    "# Testing the function\n",
    "search('Coca Cola')"
   ]
  },
  {
   "cell_type": "markdown",
   "metadata": {},
   "source": [
    "We can se that there are some inconsistencies with the 'Coca Cola' prices. Let's find out which is the problem"
   ]
  },
  {
   "cell_type": "code",
   "execution_count": null,
   "metadata": {},
   "outputs": [],
   "source": [
    "supermarkets['kaufland'][supermarkets['kaufland']['Name'] == 'Coca Cola']"
   ]
  },
  {
   "cell_type": "markdown",
   "metadata": {},
   "source": [
    "### 3.3 [v1] algorithm\n",
    "- [v1] - Build an algorithm able to (input: list of ingredients, output: % coverage + total price per each supermarket)"
   ]
  },
  {
   "cell_type": "code",
   "execution_count": null,
   "metadata": {},
   "outputs": [],
   "source": [
    "def search_list(ingredients:list):\n",
    "    # New empty list\n",
    "    result = []\n",
    "    \n",
    "    for market in supermarkets:\n",
    "        \n",
    "        a = supermarkets[market]\n",
    "        \n",
    "        for ing in ingredients:    \n",
    "            try:\n",
    "                price = a[a['Name'] == ing]['Price'].values[0]\n",
    "                result.append(f'{market}: {price} for the {ing}')\n",
    "            except:\n",
    "                result.append(f'{market}: Not found')\n",
    "            \n",
    "    return result"
   ]
  },
  {
   "cell_type": "code",
   "execution_count": null,
   "metadata": {},
   "outputs": [],
   "source": [
    "search_list(['Coca Cola', 'Pfanner Mango Fair 100%  Fair'])"
   ]
  },
  {
   "cell_type": "markdown",
   "metadata": {},
   "source": [
    "## Clean data\n",
    "\n",
    "- Translate data to english\n",
    "- Isolate the package size\n",
    "- Check values\n",
    "- Normalize Unit\n",
    "\n",
    "- Create a unique list with unique products of all different markets\n",
    "- Analyse it\n",
    "- Conclude how to approach the solution"
   ]
  },
  {
   "cell_type": "markdown",
   "metadata": {},
   "source": [
    "There are inconsistencies in the sizes of the packages. Let's normalize the package size to 100 (ml, g, ...). To do it, we have to get the unit from the package size and: [price / unit * 100]"
   ]
  },
  {
   "cell_type": "code",
   "execution_count": null,
   "metadata": {},
   "outputs": [],
   "source": []
  }
 ],
 "metadata": {
  "kernelspec": {
   "display_name": "Python 3",
   "language": "python",
   "name": "python3"
  },
  "language_info": {
   "codemirror_mode": {
    "name": "ipython",
    "version": 3
   },
   "file_extension": ".py",
   "mimetype": "text/x-python",
   "name": "python",
   "nbconvert_exporter": "python",
   "pygments_lexer": "ipython3",
   "version": "3.8.3"
  }
 },
 "nbformat": 4,
 "nbformat_minor": 4
}
