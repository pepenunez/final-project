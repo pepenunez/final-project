{
 "cells": [
  {
   "cell_type": "markdown",
   "metadata": {},
   "source": [
    "# Web scraping"
   ]
  },
  {
   "cell_type": "code",
   "execution_count": 108,
   "metadata": {},
   "outputs": [],
   "source": [
    "import pandas as pd\n",
    "\n",
    "# Imporst for the Translation with IBM Watson\n",
    "import requests\n",
    "import os\n",
    "import json\n",
    "\n",
    "# Imports the Google Cloud client library\n",
    "from googletrans import Translator"
   ]
  },
  {
   "cell_type": "code",
   "execution_count": 2,
   "metadata": {},
   "outputs": [],
   "source": [
    "supermarkets = {\n",
    "    'aldi_north': pd.read_csv('data/products-info-german/cleaned_aldi_products.txt'),\n",
    "    'aldi_south': pd.read_csv('data/products-info-german/cleaned_aldisued_products.txt'),\n",
    "    'edeka': pd.read_csv('data/products-info-german/cleaned_edeka_products.txt'),\n",
    "    'kaufland': pd.read_csv('data/products-info-german/cleaned_kaufland_products.txt'),\n",
    "    'lidl': pd.read_csv('data/products-info-german/cleaned_lidl_products.txt'),\n",
    "    'rewe': pd.read_csv('data/products-info-german/cleaned_rewe_products.txt')\n",
    "}"
   ]
  },
  {
   "cell_type": "markdown",
   "metadata": {},
   "source": [
    "Now that we have product info of the main 6 supermarkets in Berlin, and before we use it we are going to explore the data."
   ]
  },
  {
   "cell_type": "code",
   "execution_count": 3,
   "metadata": {},
   "outputs": [
    {
     "data": {
      "text/html": [
       "<div>\n",
       "<style scoped>\n",
       "    .dataframe tbody tr th:only-of-type {\n",
       "        vertical-align: middle;\n",
       "    }\n",
       "\n",
       "    .dataframe tbody tr th {\n",
       "        vertical-align: top;\n",
       "    }\n",
       "\n",
       "    .dataframe thead th {\n",
       "        text-align: right;\n",
       "    }\n",
       "</style>\n",
       "<table border=\"1\" class=\"dataframe\">\n",
       "  <thead>\n",
       "    <tr style=\"text-align: right;\">\n",
       "      <th></th>\n",
       "      <th>Unnamed: 0</th>\n",
       "      <th>Name</th>\n",
       "      <th>Price</th>\n",
       "      <th>Unit</th>\n",
       "      <th>Packet Size</th>\n",
       "      <th>Supermarket</th>\n",
       "      <th>Comparable Price</th>\n",
       "    </tr>\n",
       "  </thead>\n",
       "  <tbody>\n",
       "    <tr>\n",
       "      <th>0</th>\n",
       "      <td>0</td>\n",
       "      <td>Ja! Briespitze 60% Fett</td>\n",
       "      <td>1.19</td>\n",
       "      <td>100 Gramm</td>\n",
       "      <td>Packung 200 Gramm</td>\n",
       "      <td>rewe</td>\n",
       "      <td>0.600</td>\n",
       "    </tr>\n",
       "    <tr>\n",
       "      <th>1</th>\n",
       "      <td>1</td>\n",
       "      <td>REWE Beste Wahl Brie 45% Fett</td>\n",
       "      <td>0.69</td>\n",
       "      <td>100 Gramm</td>\n",
       "      <td>Packung 100 Gramm</td>\n",
       "      <td>rewe</td>\n",
       "      <td>0.690</td>\n",
       "    </tr>\n",
       "    <tr>\n",
       "      <th>2</th>\n",
       "      <td>2</td>\n",
       "      <td>REWE Beste Wahl Ziegenfrischkäse Mousse 73%</td>\n",
       "      <td>1.99</td>\n",
       "      <td>100 Gramm</td>\n",
       "      <td>Becher 125 Gramm</td>\n",
       "      <td>rewe</td>\n",
       "      <td>1.590</td>\n",
       "    </tr>\n",
       "    <tr>\n",
       "      <th>3</th>\n",
       "      <td>3</td>\n",
       "      <td>Rewe Brie 45% Fett</td>\n",
       "      <td>0.79</td>\n",
       "      <td>100 Gramm</td>\n",
       "      <td>Packung 100 Gramm</td>\n",
       "      <td>rewe</td>\n",
       "      <td>0.790</td>\n",
       "    </tr>\n",
       "    <tr>\n",
       "      <th>4</th>\n",
       "      <td>4</td>\n",
       "      <td>Nutella</td>\n",
       "      <td>3.79</td>\n",
       "      <td>100 Gramm</td>\n",
       "      <td>Glas 750 Gramm</td>\n",
       "      <td>rewe</td>\n",
       "      <td>0.505</td>\n",
       "    </tr>\n",
       "    <tr>\n",
       "      <th>...</th>\n",
       "      <td>...</td>\n",
       "      <td>...</td>\n",
       "      <td>...</td>\n",
       "      <td>...</td>\n",
       "      <td>...</td>\n",
       "      <td>...</td>\n",
       "      <td>...</td>\n",
       "    </tr>\n",
       "    <tr>\n",
       "      <th>6238</th>\n",
       "      <td>6238</td>\n",
       "      <td>ja! Kartoffelringe Paprika</td>\n",
       "      <td>0.99</td>\n",
       "      <td>100 Gramm</td>\n",
       "      <td>Beutel 100 Gramm</td>\n",
       "      <td>rewe</td>\n",
       "      <td>0.990</td>\n",
       "    </tr>\n",
       "    <tr>\n",
       "      <th>6239</th>\n",
       "      <td>6239</td>\n",
       "      <td>ja! Schoko Rosinen</td>\n",
       "      <td>0.99</td>\n",
       "      <td>100 Gramm</td>\n",
       "      <td>Beutel 200 Gramm</td>\n",
       "      <td>rewe</td>\n",
       "      <td>0.500</td>\n",
       "    </tr>\n",
       "    <tr>\n",
       "      <th>6240</th>\n",
       "      <td>6240</td>\n",
       "      <td>Ja! Erdnüsse Paprika</td>\n",
       "      <td>0.81</td>\n",
       "      <td>100 Gramm</td>\n",
       "      <td>Beutel 200 Gramm</td>\n",
       "      <td>rewe</td>\n",
       "      <td>0.410</td>\n",
       "    </tr>\n",
       "    <tr>\n",
       "      <th>6241</th>\n",
       "      <td>6241</td>\n",
       "      <td>ja! Orange Cake</td>\n",
       "      <td>0.99</td>\n",
       "      <td>100 Gramm</td>\n",
       "      <td>Packung 300 Gramm</td>\n",
       "      <td>rewe</td>\n",
       "      <td>0.330</td>\n",
       "    </tr>\n",
       "    <tr>\n",
       "      <th>6242</th>\n",
       "      <td>6242</td>\n",
       "      <td>ja! Kalifornische Pistazien geröstet</td>\n",
       "      <td>3.79</td>\n",
       "      <td>100 Gramm</td>\n",
       "      <td>Beutel 250 Gramm</td>\n",
       "      <td>rewe</td>\n",
       "      <td>1.520</td>\n",
       "    </tr>\n",
       "  </tbody>\n",
       "</table>\n",
       "<p>6243 rows × 7 columns</p>\n",
       "</div>"
      ],
      "text/plain": [
       "      Unnamed: 0                                         Name  Price  \\\n",
       "0              0                      Ja! Briespitze 60% Fett   1.19   \n",
       "1              1                REWE Beste Wahl Brie 45% Fett   0.69   \n",
       "2              2  REWE Beste Wahl Ziegenfrischkäse Mousse 73%   1.99   \n",
       "3              3                           Rewe Brie 45% Fett   0.79   \n",
       "4              4                                      Nutella   3.79   \n",
       "...          ...                                          ...    ...   \n",
       "6238        6238                   ja! Kartoffelringe Paprika   0.99   \n",
       "6239        6239                           ja! Schoko Rosinen   0.99   \n",
       "6240        6240                         Ja! Erdnüsse Paprika   0.81   \n",
       "6241        6241                              ja! Orange Cake   0.99   \n",
       "6242        6242         ja! Kalifornische Pistazien geröstet   3.79   \n",
       "\n",
       "           Unit        Packet Size Supermarket  Comparable Price  \n",
       "0     100 Gramm  Packung 200 Gramm        rewe             0.600  \n",
       "1     100 Gramm  Packung 100 Gramm        rewe             0.690  \n",
       "2     100 Gramm   Becher 125 Gramm        rewe             1.590  \n",
       "3     100 Gramm  Packung 100 Gramm        rewe             0.790  \n",
       "4     100 Gramm     Glas 750 Gramm        rewe             0.505  \n",
       "...         ...                ...         ...               ...  \n",
       "6238  100 Gramm   Beutel 100 Gramm        rewe             0.990  \n",
       "6239  100 Gramm   Beutel 200 Gramm        rewe             0.500  \n",
       "6240  100 Gramm   Beutel 200 Gramm        rewe             0.410  \n",
       "6241  100 Gramm  Packung 300 Gramm        rewe             0.330  \n",
       "6242  100 Gramm   Beutel 250 Gramm        rewe             1.520  \n",
       "\n",
       "[6243 rows x 7 columns]"
      ]
     },
     "execution_count": 3,
     "metadata": {},
     "output_type": "execute_result"
    }
   ],
   "source": [
    "supermarkets['rewe']"
   ]
  },
  {
   "cell_type": "code",
   "execution_count": 12,
   "metadata": {},
   "outputs": [
    {
     "data": {
      "text/plain": [
       "Name                 object\n",
       "Price               float64\n",
       "Unit                 object\n",
       "Packet Size          object\n",
       "Supermarket          object\n",
       "Comparable Price    float64\n",
       "dtype: object"
      ]
     },
     "execution_count": 12,
     "metadata": {},
     "output_type": "execute_result"
    }
   ],
   "source": [
    "supermarkets['rewe'].dtypes"
   ]
  },
  {
   "cell_type": "code",
   "execution_count": 13,
   "metadata": {},
   "outputs": [
    {
     "data": {
      "text/plain": [
       "Pfanner Mango Fair 100%  Fair                                                1\n",
       "Weihenstephan Haltbare Alpenmilch 3,5% Fett                                  1\n",
       "Nordbrand Pina Colada 15 % Vol.                                              1\n",
       "Meica Eisbeinfleisch in Aspik                                                1\n",
       "Ehrmann Almighurt nach Herzenslust Mandarinen Käsekuchen & Knusperwaffeln    1\n",
       "                                                                            ..\n",
       "ja! Forellenfilet natur                                                      1\n",
       "Seeberger Aprikosen extra Natural Power                                      1\n",
       "Ja! Spül und Haushaltstuch 6 Stück                                           1\n",
       "Rewe Backpapier Zuschnitte, 20 Stück                                         1\n",
       "Vogtlandweide Haltbare Vollmilch 3,5%                                        1\n",
       "Name: Name, Length: 6194, dtype: int64"
      ]
     },
     "execution_count": 13,
     "metadata": {},
     "output_type": "execute_result"
    }
   ],
   "source": [
    "supermarkets['rewe']['Name'].value_counts()"
   ]
  },
  {
   "cell_type": "code",
   "execution_count": 14,
   "metadata": {},
   "outputs": [],
   "source": [
    "for market in supermarkets:\n",
    "    # Drop duplicates within the 'Name' column\n",
    "    supermarkets[market] = supermarkets[market].drop_duplicates('Name')\n",
    "    # Drop 'Unnamed: 0' column\n",
    "    supermarkets[market] = supermarkets[market].drop(columns='Unnamed: 0', errors='ignore')"
   ]
  },
  {
   "cell_type": "code",
   "execution_count": 15,
   "metadata": {},
   "outputs": [
    {
     "data": {
      "text/plain": [
       "0                           [Ja! Briespitze 60% Fett]\n",
       "1                     [REWE Beste Wahl Brie 45% Fett]\n",
       "2       [REWE Beste Wahl Ziegenfrischkäse Mousse 73%]\n",
       "3                                [Rewe Brie 45% Fett]\n",
       "4                                           [Nutella]\n",
       "                            ...                      \n",
       "6238                     [ja! Kartoffelringe Paprika]\n",
       "6239                             [ja! Schoko Rosinen]\n",
       "6240                           [Ja! Erdnüsse Paprika]\n",
       "6241                                [ja! Orange Cake]\n",
       "6242           [ja! Kalifornische Pistazien geröstet]\n",
       "Name: Name, Length: 6194, dtype: object"
      ]
     },
     "execution_count": 15,
     "metadata": {},
     "output_type": "execute_result"
    }
   ],
   "source": [
    "supermarkets['rewe']['Name'].str.split(',')"
   ]
  },
  {
   "cell_type": "markdown",
   "metadata": {},
   "source": [
    "Once we have the data clean, we will translate it from German to English\n",
    "\n",
    "## 2. Translate"
   ]
  },
  {
   "cell_type": "markdown",
   "metadata": {},
   "source": [
    "We are goin to use the googletrans module in order to translate our .csv"
   ]
  },
  {
   "cell_type": "markdown",
   "metadata": {},
   "source": [
    "### 2.1 IBM Watson Translate API"
   ]
  },
  {
   "cell_type": "code",
   "execution_count": 122,
   "metadata": {},
   "outputs": [],
   "source": [
    "api_key = os.getenv(\"f5sAznhrKQyvBFFaZbtF60m5tzLbqWhyALQawBg5TjRI\")\n",
    "url = \"https://api.eu-de.language-translator.watson.cloud.ibm.com/instances/58781bbf-1a05-4c1d-a4ee-338e692fecee/v3/translate?version=2018-05-01\"\n",
    "headers = {\"Content-Type\": \"application/json\"}\n",
    "auth = (\"apikey\", api_key)"
   ]
  },
  {
   "cell_type": "code",
   "execution_count": 123,
   "metadata": {},
   "outputs": [],
   "source": [
    "test = 'Pfanner Mango Fair 100%  Fair'\n",
    "data = {\"text\":[test],\"model_id\":\"de-en\"}"
   ]
  },
  {
   "cell_type": "code",
   "execution_count": 124,
   "metadata": {},
   "outputs": [
    {
     "data": {
      "text/plain": [
       "'{\"text\": [\"Pfanner Mango Fair 100%  Fair\"], \"model_id\": \"de-en\"}'"
      ]
     },
     "execution_count": 124,
     "metadata": {},
     "output_type": "execute_result"
    }
   ],
   "source": [
    "json.dumps(data)"
   ]
  },
  {
   "cell_type": "code",
   "execution_count": 125,
   "metadata": {},
   "outputs": [],
   "source": [
    "r = requests.post(headers=headers, auth=auth, url=url, data=json.dumps(data))"
   ]
  },
  {
   "cell_type": "code",
   "execution_count": 126,
   "metadata": {},
   "outputs": [
    {
     "data": {
      "text/plain": [
       "{'code': 401, 'error': 'Unauthorized'}"
      ]
     },
     "execution_count": 126,
     "metadata": {},
     "output_type": "execute_result"
    }
   ],
   "source": [
    "r.json()"
   ]
  },
  {
   "cell_type": "code",
   "execution_count": 127,
   "metadata": {},
   "outputs": [
    {
     "name": "stdout",
     "output_type": "stream",
     "text": [
      "('apikey', 'f5sAznhrKQyvBFFaZbtF60m5tzLbqWhyALQawBg5TjRI')\n"
     ]
    }
   ],
   "source": [
    "print(auth)"
   ]
  },
  {
   "cell_type": "code",
   "execution_count": 16,
   "metadata": {},
   "outputs": [],
   "source": [
    "# Instantiates a client\n",
    "translator = Translator()"
   ]
  },
  {
   "cell_type": "code",
   "execution_count": 20,
   "metadata": {},
   "outputs": [],
   "source": [
    "# Example to see how it works\n",
    "# 1 - translator.translate('Hello').text"
   ]
  },
  {
   "cell_type": "code",
   "execution_count": null,
   "metadata": {},
   "outputs": [],
   "source": [
    "# 1 - word.origin # .origin -> prints the original word"
   ]
  },
  {
   "cell_type": "code",
   "execution_count": null,
   "metadata": {},
   "outputs": [],
   "source": [
    "# 1 - word[0].text # .text -> prints the translated word"
   ]
  },
  {
   "cell_type": "markdown",
   "metadata": {},
   "source": [
    "In order to translate the whole csv file, we will have to go through each cell and translate it. We only need to translate 'Name', 'Unit' and 'Packet Size'."
   ]
  },
  {
   "cell_type": "code",
   "execution_count": null,
   "metadata": {},
   "outputs": [],
   "source": [
    "# Undertand how the method works\n",
    "# 1 - translator.translate(supermarkets['rewe']['Name'][1], dest='en').text"
   ]
  },
  {
   "cell_type": "markdown",
   "metadata": {},
   "source": [
    "The method accepts lists as input as well. So we are going to loop per each row in order to catch the rows that raise errors"
   ]
  },
  {
   "cell_type": "code",
   "execution_count": null,
   "metadata": {},
   "outputs": [],
   "source": [
    "src = 'auto' # Source language\n",
    "dest = 'en' # Destiny language\n",
    "\n",
    "for market in supermarkets:\n",
    "    # Create new dataframe for the english version\n",
    "    supermarkets[f'{market}-en'] = supermarkets[market].copy()\n",
    "    \n",
    "    # Loop through each row\n",
    "    for row in 5:# range(len(supermarkets[market])):\n",
    "        try:\n",
    "            supermarkets[f'{market}-en']['Name'][row] = translator.translate(supermarkets[market]['Name'][row], dest=dest, src=src).text\n",
    "        except:\n",
    "            print(supermarkets[market]['Name'][row])"
   ]
  },
  {
   "cell_type": "code",
   "execution_count": null,
   "metadata": {},
   "outputs": [],
   "source": [
    "def translate(dataframe):\n",
    "    # We need to translate 'Name', 'Unit', 'Packet Size'\n",
    "    supermarkets[f'{dataframe}-en']"
   ]
  },
  {
   "cell_type": "markdown",
   "metadata": {},
   "source": [
    "If it does not work, walkarounds:\n",
    "- translate it manualy\n",
    "- connect with google official API\n",
    "- IBM class\n",
    "\n",
    "## 3. Next Steps\n",
    "\n",
    "- Create a dictionary with a dataframe per retailer with unique ingredients \n",
    "- [v0] - Build an algorithm able to (input: ingredient, output: % coverage + total price per each supermarket)\n",
    "- [v1] - Build an algorithm able to (input: list of ingredients, output: % coverage + total price per each supermarket)\n",
    "- [v2] - Use fuzzy buzzy to match the input (potato) with the ingredients by similarity."
   ]
  },
  {
   "cell_type": "markdown",
   "metadata": {},
   "source": [
    "### 3.2 [v0] algorithm\n",
    "- [v0] - Build an algorithm able to (input: ingredient, output: % coverage + total price per each supermarket)"
   ]
  },
  {
   "cell_type": "code",
   "execution_count": 82,
   "metadata": {},
   "outputs": [
    {
     "data": {
      "text/plain": [
       "1.29"
      ]
     },
     "execution_count": 82,
     "metadata": {},
     "output_type": "execute_result"
    }
   ],
   "source": [
    "# We are looking for the price of the ingredient that we are searching per each supermarket\n",
    "supermarkets['rewe'][supermarkets['rewe']['Name'] == 'Pfanner Mango Fair 100%  Fair']['Price'].values[0]"
   ]
  },
  {
   "cell_type": "code",
   "execution_count": 88,
   "metadata": {},
   "outputs": [],
   "source": [
    "def search(ingredient:str):\n",
    "    # New empty list\n",
    "    result = []\n",
    "    for market in supermarkets:\n",
    "        a = supermarkets[market]\n",
    "        try:\n",
    "            price = a[a['Name'] == ingredient]['Price'].values[0]\n",
    "            result.append(f'{market}: {price}')\n",
    "        except:\n",
    "            result.append(f'{market}: Not found')\n",
    "    return result\n",
    "\n",
    "# Try it with 'Coca Cola' because it is available in every supermarket\n",
    "# Try with 'Pfanner Mango Fair 100%  Fair'"
   ]
  },
  {
   "cell_type": "code",
   "execution_count": 85,
   "metadata": {},
   "outputs": [
    {
     "data": {
      "text/plain": [
       "['aldi_north: Not found',\n",
       " 'aldi_south: Not found',\n",
       " 'edeka: Not found',\n",
       " 'kaufland: 1.89',\n",
       " 'lidl: Not found',\n",
       " 'rewe: 1.29']"
      ]
     },
     "execution_count": 85,
     "metadata": {},
     "output_type": "execute_result"
    }
   ],
   "source": [
    "# Testing the function\n",
    "search('Pfanner Mango Fair 100%  Fair')"
   ]
  },
  {
   "cell_type": "code",
   "execution_count": 86,
   "metadata": {},
   "outputs": [
    {
     "data": {
      "text/plain": [
       "['aldi_north: 2.89',\n",
       " 'aldi_south: 0.99',\n",
       " 'edeka: 1.39',\n",
       " 'kaufland: 11.4',\n",
       " 'lidl: 0.99',\n",
       " 'rewe: 0.99']"
      ]
     },
     "execution_count": 86,
     "metadata": {},
     "output_type": "execute_result"
    }
   ],
   "source": [
    "# Testing the function\n",
    "search('Coca Cola')"
   ]
  },
  {
   "cell_type": "markdown",
   "metadata": {},
   "source": [
    "We can se that there are some inconsistencies with the 'Coca Cola' prices. Let's find out which is the problem"
   ]
  },
  {
   "cell_type": "code",
   "execution_count": 80,
   "metadata": {},
   "outputs": [
    {
     "data": {
      "text/html": [
       "<div>\n",
       "<style scoped>\n",
       "    .dataframe tbody tr th:only-of-type {\n",
       "        vertical-align: middle;\n",
       "    }\n",
       "\n",
       "    .dataframe tbody tr th {\n",
       "        vertical-align: top;\n",
       "    }\n",
       "\n",
       "    .dataframe thead th {\n",
       "        text-align: right;\n",
       "    }\n",
       "</style>\n",
       "<table border=\"1\" class=\"dataframe\">\n",
       "  <thead>\n",
       "    <tr style=\"text-align: right;\">\n",
       "      <th></th>\n",
       "      <th>Name</th>\n",
       "      <th>Price</th>\n",
       "      <th>Unit</th>\n",
       "      <th>Packet Size</th>\n",
       "      <th>Supermarket</th>\n",
       "      <th>Comparable Price</th>\n",
       "    </tr>\n",
       "  </thead>\n",
       "  <tbody>\n",
       "    <tr>\n",
       "      <th>15</th>\n",
       "      <td>Coca Cola</td>\n",
       "      <td>11.4</td>\n",
       "      <td>100 ml</td>\n",
       "      <td>Kasten 12 L, 12 x 1l</td>\n",
       "      <td>kaufland</td>\n",
       "      <td>0.095</td>\n",
       "    </tr>\n",
       "  </tbody>\n",
       "</table>\n",
       "</div>"
      ],
      "text/plain": [
       "         Name  Price    Unit           Packet Size Supermarket  \\\n",
       "15  Coca Cola   11.4  100 ml  Kasten 12 L, 12 x 1l    kaufland   \n",
       "\n",
       "    Comparable Price  \n",
       "15             0.095  "
      ]
     },
     "execution_count": 80,
     "metadata": {},
     "output_type": "execute_result"
    }
   ],
   "source": [
    "supermarkets['kaufland'][supermarkets['kaufland']['Name'] == 'Coca Cola']"
   ]
  },
  {
   "cell_type": "markdown",
   "metadata": {},
   "source": [
    "### 3.3 [v1] algorithm\n",
    "- [v1] - Build an algorithm able to (input: list of ingredients, output: % coverage + total price per each supermarket)"
   ]
  },
  {
   "cell_type": "code",
   "execution_count": 100,
   "metadata": {},
   "outputs": [],
   "source": [
    "def search_list(ingredients:list):\n",
    "    # New empty list\n",
    "    result = []\n",
    "    \n",
    "    for market in supermarkets:\n",
    "        \n",
    "        a = supermarkets[market]\n",
    "        \n",
    "        for ing in ingredients:    \n",
    "            try:\n",
    "                price = a[a['Name'] == ing]['Price'].values[0]\n",
    "                result.append(f'{market}: {price} for the {ing}')\n",
    "            except:\n",
    "                result.append(f'{market}: Not found')\n",
    "            \n",
    "    return result"
   ]
  },
  {
   "cell_type": "code",
   "execution_count": 101,
   "metadata": {},
   "outputs": [
    {
     "data": {
      "text/plain": [
       "['aldi_north: 2.89 for the Coca Cola',\n",
       " 'aldi_north: Not found',\n",
       " 'aldi_south: 0.99 for the Coca Cola',\n",
       " 'aldi_south: Not found',\n",
       " 'edeka: 1.39 for the Coca Cola',\n",
       " 'edeka: Not found',\n",
       " 'kaufland: 11.4 for the Coca Cola',\n",
       " 'kaufland: 1.89 for the Pfanner Mango Fair 100%  Fair',\n",
       " 'lidl: 0.99 for the Coca Cola',\n",
       " 'lidl: Not found',\n",
       " 'rewe: 0.99 for the Coca Cola',\n",
       " 'rewe: 1.29 for the Pfanner Mango Fair 100%  Fair']"
      ]
     },
     "execution_count": 101,
     "metadata": {},
     "output_type": "execute_result"
    }
   ],
   "source": [
    "search_list(['Coca Cola', 'Pfanner Mango Fair 100%  Fair'])"
   ]
  },
  {
   "cell_type": "markdown",
   "metadata": {},
   "source": [
    "## Clean data\n",
    "\n",
    "- Translate data to english\n",
    "- Isolate the package size\n",
    "- Check values\n",
    "- Normalize Unit\n",
    "\n",
    "- Create a unique list with unique products of all different markets\n",
    "- Analyse it\n",
    "- Conclude how to approach the solution"
   ]
  },
  {
   "cell_type": "markdown",
   "metadata": {},
   "source": [
    "There are inconsistencies in the sizes of the packages. Let's normalize the package size to 100 (ml, g, ...). To do it, we have to get the unit from the package size and: [price / unit * 100]"
   ]
  },
  {
   "cell_type": "code",
   "execution_count": null,
   "metadata": {},
   "outputs": [],
   "source": []
  }
 ],
 "metadata": {
  "kernelspec": {
   "display_name": "Python 3",
   "language": "python",
   "name": "python3"
  },
  "language_info": {
   "codemirror_mode": {
    "name": "ipython",
    "version": 3
   },
   "file_extension": ".py",
   "mimetype": "text/x-python",
   "name": "python",
   "nbconvert_exporter": "python",
   "pygments_lexer": "ipython3",
   "version": "3.8.3"
  }
 },
 "nbformat": 4,
 "nbformat_minor": 4
}
