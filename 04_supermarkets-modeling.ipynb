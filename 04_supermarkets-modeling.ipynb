{
 "cells": [
  {
   "cell_type": "markdown",
   "metadata": {},
   "source": [
    "# Supermarkets modeling\n",
    "\n",
    "The goal of this document...."
   ]
  },
  {
   "cell_type": "code",
   "execution_count": 1,
   "metadata": {},
   "outputs": [],
   "source": [
    "import pandas as pd\n",
    "import numpy as np"
   ]
  },
  {
   "cell_type": "markdown",
   "metadata": {},
   "source": [
    "## 1. Import data"
   ]
  },
  {
   "cell_type": "code",
   "execution_count": 2,
   "metadata": {},
   "outputs": [],
   "source": [
    "# import data\n",
    "supermarkets = {\n",
    "    'aldinorth': pd.read_pickle('data/products-clean/aldinorth-products-clean.pkl'),\n",
    "    'aldisouth': pd.read_pickle('data/products-clean/aldisouth-products-clean.pkl'),\n",
    "    'edeka': pd.read_pickle('data/products-clean/edeka-products-clean.pkl'),\n",
    "    'kaufland': pd.read_pickle('data/products-clean/kaufland-products-clean.pkl'),\n",
    "    'lidl': pd.read_pickle('data/products-clean/lidl-products-clean.pkl'),\n",
    "    'rewe': pd.read_pickle('data/products-clean/rewe-products-clean.pkl')\n",
    "}"
   ]
  },
  {
   "cell_type": "code",
   "execution_count": 3,
   "metadata": {},
   "outputs": [
    {
     "data": {
      "text/html": [
       "<div>\n",
       "<style scoped>\n",
       "    .dataframe tbody tr th:only-of-type {\n",
       "        vertical-align: middle;\n",
       "    }\n",
       "\n",
       "    .dataframe tbody tr th {\n",
       "        vertical-align: top;\n",
       "    }\n",
       "\n",
       "    .dataframe thead th {\n",
       "        text-align: right;\n",
       "    }\n",
       "</style>\n",
       "<table border=\"1\" class=\"dataframe\">\n",
       "  <thead>\n",
       "    <tr style=\"text-align: right;\">\n",
       "      <th></th>\n",
       "      <th>Name</th>\n",
       "      <th>Price</th>\n",
       "    </tr>\n",
       "  </thead>\n",
       "  <tbody>\n",
       "    <tr>\n",
       "      <th>0</th>\n",
       "      <td>Coke</td>\n",
       "      <td>1.39</td>\n",
       "    </tr>\n",
       "    <tr>\n",
       "      <th>1</th>\n",
       "      <td>Nutella</td>\n",
       "      <td>1.77</td>\n",
       "    </tr>\n",
       "    <tr>\n",
       "      <th>2</th>\n",
       "      <td>Becel Gold 70% fat</td>\n",
       "      <td>1.49</td>\n",
       "    </tr>\n",
       "    <tr>\n",
       "      <th>3</th>\n",
       "      <td>Iglo fish fingers</td>\n",
       "      <td>2.99</td>\n",
       "    </tr>\n",
       "    <tr>\n",
       "      <th>5</th>\n",
       "      <td>\"Landliebe country cheese original</td>\n",
       "      <td>2.29</td>\n",
       "    </tr>\n",
       "  </tbody>\n",
       "</table>\n",
       "</div>"
      ],
      "text/plain": [
       "                                 Name  Price\n",
       "0                                Coke   1.39\n",
       "1                             Nutella   1.77\n",
       "2                  Becel Gold 70% fat   1.49\n",
       "3                   Iglo fish fingers   2.99\n",
       "5  \"Landliebe country cheese original   2.29"
      ]
     },
     "execution_count": 3,
     "metadata": {},
     "output_type": "execute_result"
    }
   ],
   "source": [
    "supermarkets['edeka'].head()"
   ]
  },
  {
   "cell_type": "markdown",
   "metadata": {},
   "source": [
    "## 2. Modeling to do's\n",
    "\n",
    "- Algorithm 1.0 - Build an algorithm able to (input: ingredient, output: % coverage + total price per each supermarket)\n",
    "- Algorithm 2.0 - Build an algorithm able to (input: list of ingredients, output: % coverage + total price per each supermarket)\n",
    "- Algorithm 3.0 - Use fuzzy buzzy to match the input (potato) with the ingredients by similarity.\n",
    "\n",
    "### 2.1 Algorithm 1.0\n",
    "Build an algorithm able to: \n",
    "\n",
    "- [input]: ingredient\n",
    "\n",
    "- [output]: price in each supermarket"
   ]
  },
  {
   "cell_type": "code",
   "execution_count": 4,
   "metadata": {},
   "outputs": [
    {
     "data": {
      "text/plain": [
       "3.79"
      ]
     },
     "execution_count": 4,
     "metadata": {},
     "output_type": "execute_result"
    }
   ],
   "source": [
    "# We are looking for the price of the ingredient that we are searching per each supermarket\n",
    "supermarkets['aldinorth'][supermarkets['aldinorth']['Name'] == 'Nutella']['Price'].values[0]"
   ]
  },
  {
   "cell_type": "code",
   "execution_count": 5,
   "metadata": {},
   "outputs": [],
   "source": [
    "# Function to get the prices with an ingredient as input\n",
    "def search(ingredient:str):\n",
    "    # New empty list\n",
    "    result = []\n",
    "    for market in supermarkets:\n",
    "        a = supermarkets[market]\n",
    "        try:\n",
    "            price = a[a['Name'] == ingredient]['Price'].values[0]\n",
    "            result.append(f'{market}: {price}')\n",
    "        except:\n",
    "            result.append(f'{market}: Not found')\n",
    "    return result\n",
    "\n",
    "# Try it with 'Nutella' because it is available in every supermarket\n",
    "# Try with 'Coke'"
   ]
  },
  {
   "cell_type": "code",
   "execution_count": 6,
   "metadata": {},
   "outputs": [
    {
     "data": {
      "text/plain": [
       "['aldinorth: 3.79',\n",
       " 'aldisouth: Not found',\n",
       " 'edeka: 1.77',\n",
       " 'kaufland: 3.79',\n",
       " 'lidl: 3.99',\n",
       " 'rewe: 3.79']"
      ]
     },
     "execution_count": 6,
     "metadata": {},
     "output_type": "execute_result"
    }
   ],
   "source": [
    "# Testing the function\n",
    "search('Nutella')"
   ]
  },
  {
   "cell_type": "code",
   "execution_count": 7,
   "metadata": {},
   "outputs": [
    {
     "data": {
      "text/plain": [
       "['aldinorth: 2.89',\n",
       " 'aldisouth: Not found',\n",
       " 'edeka: 1.39',\n",
       " 'kaufland: 11.4',\n",
       " 'lidl: 0.99',\n",
       " 'rewe: 0.99']"
      ]
     },
     "execution_count": 7,
     "metadata": {},
     "output_type": "execute_result"
    }
   ],
   "source": [
    "# Testing the function\n",
    "search('Coke')"
   ]
  },
  {
   "cell_type": "markdown",
   "metadata": {},
   "source": [
    "We can see that there are some inconsistencies with the 'Coca Cola' prices. The problem is that the size of the packs are not normalized. "
   ]
  },
  {
   "cell_type": "code",
   "execution_count": 8,
   "metadata": {},
   "outputs": [
    {
     "data": {
      "text/html": [
       "<div>\n",
       "<style scoped>\n",
       "    .dataframe tbody tr th:only-of-type {\n",
       "        vertical-align: middle;\n",
       "    }\n",
       "\n",
       "    .dataframe tbody tr th {\n",
       "        vertical-align: top;\n",
       "    }\n",
       "\n",
       "    .dataframe thead th {\n",
       "        text-align: right;\n",
       "    }\n",
       "</style>\n",
       "<table border=\"1\" class=\"dataframe\">\n",
       "  <thead>\n",
       "    <tr style=\"text-align: right;\">\n",
       "      <th></th>\n",
       "      <th>Name</th>\n",
       "      <th>Price</th>\n",
       "    </tr>\n",
       "  </thead>\n",
       "  <tbody>\n",
       "    <tr>\n",
       "      <th>0</th>\n",
       "      <td>Coke</td>\n",
       "      <td>1.39</td>\n",
       "    </tr>\n",
       "  </tbody>\n",
       "</table>\n",
       "</div>"
      ],
      "text/plain": [
       "   Name  Price\n",
       "0  Coke   1.39"
      ]
     },
     "execution_count": 8,
     "metadata": {},
     "output_type": "execute_result"
    }
   ],
   "source": [
    "supermarkets['edeka'][supermarkets['edeka']['Name'] == 'Coke']"
   ]
  },
  {
   "cell_type": "code",
   "execution_count": 9,
   "metadata": {},
   "outputs": [
    {
     "data": {
      "text/html": [
       "<div>\n",
       "<style scoped>\n",
       "    .dataframe tbody tr th:only-of-type {\n",
       "        vertical-align: middle;\n",
       "    }\n",
       "\n",
       "    .dataframe tbody tr th {\n",
       "        vertical-align: top;\n",
       "    }\n",
       "\n",
       "    .dataframe thead th {\n",
       "        text-align: right;\n",
       "    }\n",
       "</style>\n",
       "<table border=\"1\" class=\"dataframe\">\n",
       "  <thead>\n",
       "    <tr style=\"text-align: right;\">\n",
       "      <th></th>\n",
       "      <th>Name</th>\n",
       "      <th>Price</th>\n",
       "    </tr>\n",
       "  </thead>\n",
       "  <tbody>\n",
       "    <tr>\n",
       "      <th>0</th>\n",
       "      <td>Coke</td>\n",
       "      <td>1.39</td>\n",
       "    </tr>\n",
       "  </tbody>\n",
       "</table>\n",
       "</div>"
      ],
      "text/plain": [
       "   Name  Price\n",
       "0  Coke   1.39"
      ]
     },
     "execution_count": 9,
     "metadata": {},
     "output_type": "execute_result"
    }
   ],
   "source": [
    "supermarkets['edeka'][supermarkets['edeka']['Name'].str.contains('Coke')]"
   ]
  },
  {
   "cell_type": "markdown",
   "metadata": {},
   "source": [
    "### 2.2 Algorithm 2.0\n",
    "Build an algorithm able to:\n",
    "\n",
    "- [input]: list of ingredients (ing as it is in the dataset)\n",
    "- [output]: % coverage + total price per each supermarket"
   ]
  },
  {
   "cell_type": "code",
   "execution_count": 10,
   "metadata": {},
   "outputs": [],
   "source": [
    "def search_list(ingredients:list):\n",
    "    # New empty list\n",
    "    result = []\n",
    "    \n",
    "    for market in supermarkets:\n",
    "        \n",
    "        a = supermarkets[market]\n",
    "        \n",
    "        for ing in ingredients:    \n",
    "            try:\n",
    "                price = a[a['Name'] == ing]['Price'].values[0]\n",
    "                result.append(f'{market}: {price} for the {ing}')\n",
    "            except:\n",
    "                result.append(f'{market}: Not found')\n",
    "            \n",
    "    return result"
   ]
  },
  {
   "cell_type": "code",
   "execution_count": 11,
   "metadata": {},
   "outputs": [
    {
     "data": {
      "text/plain": [
       "['aldinorth: 2.89 for the Coke',\n",
       " 'aldinorth: 3.79 for the Nutella',\n",
       " 'aldisouth: Not found',\n",
       " 'aldisouth: Not found',\n",
       " 'edeka: 1.39 for the Coke',\n",
       " 'edeka: 1.77 for the Nutella',\n",
       " 'kaufland: 11.4 for the Coke',\n",
       " 'kaufland: 3.79 for the Nutella',\n",
       " 'lidl: 0.99 for the Coke',\n",
       " 'lidl: 3.99 for the Nutella',\n",
       " 'rewe: 0.99 for the Coke',\n",
       " 'rewe: 3.79 for the Nutella']"
      ]
     },
     "execution_count": 11,
     "metadata": {},
     "output_type": "execute_result"
    }
   ],
   "source": [
    "search_list(['Coke', 'Nutella'])"
   ]
  },
  {
   "cell_type": "code",
   "execution_count": 12,
   "metadata": {},
   "outputs": [],
   "source": [
    "result = pd.DataFrame(columns=['Supermarket', 'Ingredient', 'Price', 'Coverage'])"
   ]
  },
  {
   "cell_type": "code",
   "execution_count": 13,
   "metadata": {},
   "outputs": [
    {
     "data": {
      "text/html": [
       "<div>\n",
       "<style scoped>\n",
       "    .dataframe tbody tr th:only-of-type {\n",
       "        vertical-align: middle;\n",
       "    }\n",
       "\n",
       "    .dataframe tbody tr th {\n",
       "        vertical-align: top;\n",
       "    }\n",
       "\n",
       "    .dataframe thead th {\n",
       "        text-align: right;\n",
       "    }\n",
       "</style>\n",
       "<table border=\"1\" class=\"dataframe\">\n",
       "  <thead>\n",
       "    <tr style=\"text-align: right;\">\n",
       "      <th></th>\n",
       "      <th>Supermarket</th>\n",
       "      <th>Ingredient</th>\n",
       "      <th>Price</th>\n",
       "      <th>Coverage</th>\n",
       "    </tr>\n",
       "  </thead>\n",
       "  <tbody>\n",
       "    <tr>\n",
       "      <th>0</th>\n",
       "      <td>aldinorth</td>\n",
       "      <td>Coke</td>\n",
       "      <td>2.89</td>\n",
       "      <td>1</td>\n",
       "    </tr>\n",
       "  </tbody>\n",
       "</table>\n",
       "</div>"
      ],
      "text/plain": [
       "  Supermarket Ingredient  Price Coverage\n",
       "0   aldinorth       Coke   2.89        1"
      ]
     },
     "execution_count": 13,
     "metadata": {},
     "output_type": "execute_result"
    }
   ],
   "source": [
    "result.append({'Supermarket': 'aldinorth', 'Ingredient': 'Coke', 'Price': 2.89, 'Coverage': 1}, ignore_index=True)"
   ]
  },
  {
   "cell_type": "code",
   "execution_count": 14,
   "metadata": {},
   "outputs": [],
   "source": [
    "result['Price'] = pd.to_numeric(result['Price'], errors='coerce')\n",
    "result['Coverage'] = pd.to_numeric(result['Coverage'], errors='coerce')"
   ]
  },
  {
   "cell_type": "code",
   "execution_count": 15,
   "metadata": {},
   "outputs": [
    {
     "data": {
      "text/plain": [
       "Supermarket    object\n",
       "Ingredient     object\n",
       "Price           int64\n",
       "Coverage        int64\n",
       "dtype: object"
      ]
     },
     "execution_count": 15,
     "metadata": {},
     "output_type": "execute_result"
    }
   ],
   "source": [
    "result.dtypes"
   ]
  },
  {
   "cell_type": "code",
   "execution_count": 16,
   "metadata": {},
   "outputs": [],
   "source": [
    "def search_list_grouped(ingredients:list):\n",
    "    # New empty df\n",
    "    result = pd.DataFrame(columns=['Supermarket', 'Ingredient', 'Price', 'Coverage'])\n",
    "\n",
    "    for market in supermarkets:\n",
    "        \n",
    "        a = supermarkets[market]\n",
    "        \n",
    "        for ing in ingredients:    \n",
    "            try:\n",
    "                price = a[a['Name'] == ing]['Price'].values[0]\n",
    "                df2 = {'Supermarket': market, 'Ingredient': ing, 'Price': price, 'Coverage': 1}\n",
    "                result = result.append(df2, ignore_index=True)\n",
    "            except:\n",
    "                result = result.append({'Supermarket': market, 'Ingredient': ing, 'Price': np.nan, 'Coverage': 0}, ignore_index=True)\n",
    "    \n",
    "    # Change to numeric\n",
    "    result['Price'] = pd.to_numeric(result['Price'], errors='coerce')\n",
    "    result['Coverage'] = pd.to_numeric(result['Coverage'], errors='coerce') * 100\n",
    "    \n",
    "    # Group by 'Supermarket'\n",
    "    results = result.groupby('Supermarket').agg({'Price':'sum', 'Coverage': 'mean'}).reset_index()\n",
    "    results = results.sort_values('Price').reset_index(drop=True)\n",
    "    \n",
    "    # How to display it to users\n",
    "#    for row in range(len(results)):\n",
    "#        print(f\"In {row['Supermarket']} you can find {row['Coverage']}% of the ingredients for row['Price']\")\n",
    "    \n",
    "    return results\n",
    "\n",
    "# 'result' dataframe contains detailes information\n",
    "# 'results' dataframe contains grouped information"
   ]
  },
  {
   "cell_type": "code",
   "execution_count": 17,
   "metadata": {},
   "outputs": [
    {
     "data": {
      "text/html": [
       "<div>\n",
       "<style scoped>\n",
       "    .dataframe tbody tr th:only-of-type {\n",
       "        vertical-align: middle;\n",
       "    }\n",
       "\n",
       "    .dataframe tbody tr th {\n",
       "        vertical-align: top;\n",
       "    }\n",
       "\n",
       "    .dataframe thead th {\n",
       "        text-align: right;\n",
       "    }\n",
       "</style>\n",
       "<table border=\"1\" class=\"dataframe\">\n",
       "  <thead>\n",
       "    <tr style=\"text-align: right;\">\n",
       "      <th></th>\n",
       "      <th>Supermarket</th>\n",
       "      <th>Price</th>\n",
       "      <th>Coverage</th>\n",
       "    </tr>\n",
       "  </thead>\n",
       "  <tbody>\n",
       "    <tr>\n",
       "      <th>0</th>\n",
       "      <td>aldisouth</td>\n",
       "      <td>0.00</td>\n",
       "      <td>0.000000</td>\n",
       "    </tr>\n",
       "    <tr>\n",
       "      <th>1</th>\n",
       "      <td>edeka</td>\n",
       "      <td>3.16</td>\n",
       "      <td>33.333333</td>\n",
       "    </tr>\n",
       "    <tr>\n",
       "      <th>2</th>\n",
       "      <td>rewe</td>\n",
       "      <td>4.78</td>\n",
       "      <td>33.333333</td>\n",
       "    </tr>\n",
       "    <tr>\n",
       "      <th>3</th>\n",
       "      <td>lidl</td>\n",
       "      <td>4.98</td>\n",
       "      <td>33.333333</td>\n",
       "    </tr>\n",
       "    <tr>\n",
       "      <th>4</th>\n",
       "      <td>aldinorth</td>\n",
       "      <td>6.68</td>\n",
       "      <td>33.333333</td>\n",
       "    </tr>\n",
       "    <tr>\n",
       "      <th>5</th>\n",
       "      <td>kaufland</td>\n",
       "      <td>15.19</td>\n",
       "      <td>33.333333</td>\n",
       "    </tr>\n",
       "  </tbody>\n",
       "</table>\n",
       "</div>"
      ],
      "text/plain": [
       "  Supermarket  Price   Coverage\n",
       "0   aldisouth   0.00   0.000000\n",
       "1       edeka   3.16  33.333333\n",
       "2        rewe   4.78  33.333333\n",
       "3        lidl   4.98  33.333333\n",
       "4   aldinorth   6.68  33.333333\n",
       "5    kaufland  15.19  33.333333"
      ]
     },
     "execution_count": 17,
     "metadata": {},
     "output_type": "execute_result"
    }
   ],
   "source": [
    "search_list_grouped(['Coke', 'Nutella', 'Vanilla', 'Tuna', 'Soap', 'Classic Tomato Sauce'])"
   ]
  },
  {
   "cell_type": "markdown",
   "metadata": {},
   "source": [
    "As we can see, if we do not type the ingredient exactly as it is in the dataset, our algorithm is not able to find it. In order to make it more useful, we are going to add fuzzy words and create a basic search engine.\n",
    "\n",
    "### 2.3 Algorithm 3.0\n",
    "\n",
    "Build an algorithm able to:\n",
    "\n",
    "- [input]: list of ingredients (similar word)\n",
    "- [output]: % coverage + total price per each supermarket\n",
    "\n",
    "We are going to use the fuzzywuzzy ratio"
   ]
  },
  {
   "cell_type": "code",
   "execution_count": 18,
   "metadata": {},
   "outputs": [],
   "source": [
    "# Add the packages\n",
    "from fuzzywuzzy import fuzz"
   ]
  },
  {
   "cell_type": "code",
   "execution_count": 19,
   "metadata": {},
   "outputs": [
    {
     "data": {
      "text/plain": [
       "100"
      ]
     },
     "execution_count": 19,
     "metadata": {},
     "output_type": "execute_result"
    }
   ],
   "source": [
    "fuzz.ratio(\"Coca Cola\", \"Coca Cola\")"
   ]
  },
  {
   "cell_type": "code",
   "execution_count": 20,
   "metadata": {},
   "outputs": [
    {
     "data": {
      "text/plain": [
       "31"
      ]
     },
     "execution_count": 20,
     "metadata": {},
     "output_type": "execute_result"
    }
   ],
   "source": [
    "fuzz.ratio(\"Coca Cola\", \"Coke\")"
   ]
  },
  {
   "cell_type": "code",
   "execution_count": 21,
   "metadata": {},
   "outputs": [
    {
     "data": {
      "text/plain": [
       "31"
      ]
     },
     "execution_count": 21,
     "metadata": {},
     "output_type": "execute_result"
    }
   ],
   "source": [
    "fuzz.ratio(\"Coca Cola\".lower(), \"Coke\".lower())"
   ]
  },
  {
   "cell_type": "markdown",
   "metadata": {},
   "source": [
    "Extract the ingredient name"
   ]
  },
  {
   "cell_type": "code",
   "execution_count": 22,
   "metadata": {},
   "outputs": [
    {
     "data": {
      "text/html": [
       "<div>\n",
       "<style scoped>\n",
       "    .dataframe tbody tr th:only-of-type {\n",
       "        vertical-align: middle;\n",
       "    }\n",
       "\n",
       "    .dataframe tbody tr th {\n",
       "        vertical-align: top;\n",
       "    }\n",
       "\n",
       "    .dataframe thead th {\n",
       "        text-align: right;\n",
       "    }\n",
       "</style>\n",
       "<table border=\"1\" class=\"dataframe\">\n",
       "  <thead>\n",
       "    <tr style=\"text-align: right;\">\n",
       "      <th></th>\n",
       "      <th>Name</th>\n",
       "      <th>Price</th>\n",
       "    </tr>\n",
       "  </thead>\n",
       "  <tbody>\n",
       "    <tr>\n",
       "      <th>0</th>\n",
       "      <td>Coke</td>\n",
       "      <td>1.39</td>\n",
       "    </tr>\n",
       "    <tr>\n",
       "      <th>1</th>\n",
       "      <td>Nutella</td>\n",
       "      <td>1.77</td>\n",
       "    </tr>\n",
       "    <tr>\n",
       "      <th>2</th>\n",
       "      <td>Becel Gold 70% fat</td>\n",
       "      <td>1.49</td>\n",
       "    </tr>\n",
       "    <tr>\n",
       "      <th>3</th>\n",
       "      <td>Iglo fish fingers</td>\n",
       "      <td>2.99</td>\n",
       "    </tr>\n",
       "    <tr>\n",
       "      <th>5</th>\n",
       "      <td>\"Landliebe country cheese original</td>\n",
       "      <td>2.29</td>\n",
       "    </tr>\n",
       "    <tr>\n",
       "      <th>...</th>\n",
       "      <td>...</td>\n",
       "      <td>...</td>\n",
       "    </tr>\n",
       "    <tr>\n",
       "      <th>5042</th>\n",
       "      <td>Nivea Stay on Eye Pencil 6 Smoke</td>\n",
       "      <td>6.49</td>\n",
       "    </tr>\n",
       "    <tr>\n",
       "      <th>5043</th>\n",
       "      <td>Nivea Extreme Stay Lipstick 17 Extrem Pinkini</td>\n",
       "      <td>11.49</td>\n",
       "    </tr>\n",
       "    <tr>\n",
       "      <th>5044</th>\n",
       "      <td>Nivea Extreme Stay Lipstick 21 Extreme Cinnam</td>\n",
       "      <td>11.49</td>\n",
       "    </tr>\n",
       "    <tr>\n",
       "      <th>5045</th>\n",
       "      <td>Nivea Extreme Stay Lipstick 11 Extremely Beige</td>\n",
       "      <td>11.49</td>\n",
       "    </tr>\n",
       "    <tr>\n",
       "      <th>5046</th>\n",
       "      <td>Nivea Turbo Color Nail Polish 12 Turbo Red</td>\n",
       "      <td>7.89</td>\n",
       "    </tr>\n",
       "  </tbody>\n",
       "</table>\n",
       "<p>4864 rows × 2 columns</p>\n",
       "</div>"
      ],
      "text/plain": [
       "                                                Name  Price\n",
       "0                                               Coke   1.39\n",
       "1                                            Nutella   1.77\n",
       "2                                 Becel Gold 70% fat   1.49\n",
       "3                                  Iglo fish fingers   2.99\n",
       "5                 \"Landliebe country cheese original   2.29\n",
       "...                                              ...    ...\n",
       "5042                Nivea Stay on Eye Pencil 6 Smoke   6.49\n",
       "5043   Nivea Extreme Stay Lipstick 17 Extrem Pinkini  11.49\n",
       "5044   Nivea Extreme Stay Lipstick 21 Extreme Cinnam  11.49\n",
       "5045  Nivea Extreme Stay Lipstick 11 Extremely Beige  11.49\n",
       "5046      Nivea Turbo Color Nail Polish 12 Turbo Red   7.89\n",
       "\n",
       "[4864 rows x 2 columns]"
      ]
     },
     "execution_count": 22,
     "metadata": {},
     "output_type": "execute_result"
    }
   ],
   "source": [
    "supermarkets['edeka']"
   ]
  },
  {
   "cell_type": "markdown",
   "metadata": {},
   "source": [
    "- After the numbers I can extract the rest\n",
    "- Brands ? \n",
    "- Black list with words that I can exclude"
   ]
  },
  {
   "cell_type": "code",
   "execution_count": 23,
   "metadata": {},
   "outputs": [],
   "source": [
    "input_ing = \"Sunflower oil\""
   ]
  },
  {
   "cell_type": "code",
   "execution_count": 24,
   "metadata": {},
   "outputs": [],
   "source": [
    "matches = []\n",
    "\n",
    "for ing in supermarkets['aldinorth']['Name']:\n",
    "    ratio = fuzz.ratio(ing.lower(), input_ing.lower())\n",
    "\n",
    "    if ratio > 60:\n",
    "        matches.append((ing, ratio))"
   ]
  },
  {
   "cell_type": "code",
   "execution_count": 25,
   "metadata": {},
   "outputs": [
    {
     "data": {
      "text/plain": [
       "[('Buttella fine sunflower oil', 65)]"
      ]
     },
     "execution_count": 25,
     "metadata": {},
     "output_type": "execute_result"
    }
   ],
   "source": [
    "matches"
   ]
  },
  {
   "cell_type": "code",
   "execution_count": 26,
   "metadata": {},
   "outputs": [],
   "source": [
    "matches = sorted(matches, key=lambda x: x[1], reverse=True)"
   ]
  },
  {
   "cell_type": "code",
   "execution_count": 27,
   "metadata": {},
   "outputs": [],
   "source": [
    "# Add the best match to a list\n",
    "clean_list = []\n",
    "\n",
    "clean_list.append(matches[0][0])"
   ]
  },
  {
   "cell_type": "code",
   "execution_count": 28,
   "metadata": {},
   "outputs": [
    {
     "data": {
      "text/plain": [
       "['Buttella fine sunflower oil']"
      ]
     },
     "execution_count": 28,
     "metadata": {},
     "output_type": "execute_result"
    }
   ],
   "source": [
    "clean_list"
   ]
  },
  {
   "cell_type": "markdown",
   "metadata": {},
   "source": [
    "Our final algorithm should be able to: \n",
    "    \n",
    "    Step 1:\n",
    "    -------\n",
    "    \n",
    "    - [Input] - [List of ingredients (not necessarly exactly same as database)]\n",
    "    - [Output] - list of supermarkets with total price and coverage\n",
    "    \n",
    "    Step 2:\n",
    "    -------\n",
    "    \n",
    "    - [Input] - user selects one supermarket\n",
    "    - [Output] - Shopping list with ingredient + price\n",
    "    \n",
    "    Step 3:\n",
    "    -------\n",
    "    \n",
    "    - [Output] - list of 5 items that they might be interested in shopping\n",
    "    \n"
   ]
  },
  {
   "cell_type": "code",
   "execution_count": 29,
   "metadata": {},
   "outputs": [
    {
     "data": {
      "text/html": [
       "<div>\n",
       "<style scoped>\n",
       "    .dataframe tbody tr th:only-of-type {\n",
       "        vertical-align: middle;\n",
       "    }\n",
       "\n",
       "    .dataframe tbody tr th {\n",
       "        vertical-align: top;\n",
       "    }\n",
       "\n",
       "    .dataframe thead th {\n",
       "        text-align: right;\n",
       "    }\n",
       "</style>\n",
       "<table border=\"1\" class=\"dataframe\">\n",
       "  <thead>\n",
       "    <tr style=\"text-align: right;\">\n",
       "      <th></th>\n",
       "      <th>Name</th>\n",
       "      <th>Price</th>\n",
       "    </tr>\n",
       "  </thead>\n",
       "  <tbody>\n",
       "    <tr>\n",
       "      <th>0</th>\n",
       "      <td>Coke</td>\n",
       "      <td>1.39</td>\n",
       "    </tr>\n",
       "    <tr>\n",
       "      <th>1</th>\n",
       "      <td>Nutella</td>\n",
       "      <td>1.77</td>\n",
       "    </tr>\n",
       "    <tr>\n",
       "      <th>2</th>\n",
       "      <td>Becel Gold 70% fat</td>\n",
       "      <td>1.49</td>\n",
       "    </tr>\n",
       "    <tr>\n",
       "      <th>3</th>\n",
       "      <td>Iglo fish fingers</td>\n",
       "      <td>2.99</td>\n",
       "    </tr>\n",
       "    <tr>\n",
       "      <th>5</th>\n",
       "      <td>\"Landliebe country cheese original</td>\n",
       "      <td>2.29</td>\n",
       "    </tr>\n",
       "    <tr>\n",
       "      <th>...</th>\n",
       "      <td>...</td>\n",
       "      <td>...</td>\n",
       "    </tr>\n",
       "    <tr>\n",
       "      <th>5042</th>\n",
       "      <td>Nivea Stay on Eye Pencil 6 Smoke</td>\n",
       "      <td>6.49</td>\n",
       "    </tr>\n",
       "    <tr>\n",
       "      <th>5043</th>\n",
       "      <td>Nivea Extreme Stay Lipstick 17 Extrem Pinkini</td>\n",
       "      <td>11.49</td>\n",
       "    </tr>\n",
       "    <tr>\n",
       "      <th>5044</th>\n",
       "      <td>Nivea Extreme Stay Lipstick 21 Extreme Cinnam</td>\n",
       "      <td>11.49</td>\n",
       "    </tr>\n",
       "    <tr>\n",
       "      <th>5045</th>\n",
       "      <td>Nivea Extreme Stay Lipstick 11 Extremely Beige</td>\n",
       "      <td>11.49</td>\n",
       "    </tr>\n",
       "    <tr>\n",
       "      <th>5046</th>\n",
       "      <td>Nivea Turbo Color Nail Polish 12 Turbo Red</td>\n",
       "      <td>7.89</td>\n",
       "    </tr>\n",
       "  </tbody>\n",
       "</table>\n",
       "<p>4864 rows × 2 columns</p>\n",
       "</div>"
      ],
      "text/plain": [
       "                                                Name  Price\n",
       "0                                               Coke   1.39\n",
       "1                                            Nutella   1.77\n",
       "2                                 Becel Gold 70% fat   1.49\n",
       "3                                  Iglo fish fingers   2.99\n",
       "5                 \"Landliebe country cheese original   2.29\n",
       "...                                              ...    ...\n",
       "5042                Nivea Stay on Eye Pencil 6 Smoke   6.49\n",
       "5043   Nivea Extreme Stay Lipstick 17 Extrem Pinkini  11.49\n",
       "5044   Nivea Extreme Stay Lipstick 21 Extreme Cinnam  11.49\n",
       "5045  Nivea Extreme Stay Lipstick 11 Extremely Beige  11.49\n",
       "5046      Nivea Turbo Color Nail Polish 12 Turbo Red   7.89\n",
       "\n",
       "[4864 rows x 2 columns]"
      ]
     },
     "execution_count": 29,
     "metadata": {},
     "output_type": "execute_result"
    }
   ],
   "source": [
    "supermarkets['edeka']"
   ]
  },
  {
   "cell_type": "code",
   "execution_count": 30,
   "metadata": {},
   "outputs": [
    {
     "data": {
      "text/plain": [
       "Name      object\n",
       "Price    float64\n",
       "dtype: object"
      ]
     },
     "execution_count": 30,
     "metadata": {},
     "output_type": "execute_result"
    }
   ],
   "source": [
    "supermarkets['edeka'].dtypes"
   ]
  },
  {
   "cell_type": "code",
   "execution_count": 31,
   "metadata": {},
   "outputs": [],
   "source": [
    "supermarkets['edeka']['Name'] = supermarkets['edeka']['Name'].astype(str)"
   ]
  },
  {
   "cell_type": "code",
   "execution_count": 32,
   "metadata": {},
   "outputs": [
    {
     "data": {
      "text/plain": [
       "Danone Actimel 4-pack raspberry, 4 x 100 g. 0.1% fat         1\n",
       "Sanella baking is love ... margarine, 75% fat                1\n",
       "Good & cheap pure cream cheese                               1\n",
       "Bahlsen sweet pleasure                                       1\n",
       "Knorr Fix Spaghetti Bolognese                                1\n",
       "                                                            ..\n",
       "Oro di Parma tomato paste with fresh garlic                  1\n",
       "Kraft Steak & Grillketchup Chili                             1\n",
       "Homann Rollmops with onion and mustard                       1\n",
       "Rügen Fisch Light line Pangasius fillet in salsa dressing    1\n",
       "Good & cheap premium ice cream vanilla                       1\n",
       "Name: Name, Length: 4864, dtype: int64"
      ]
     },
     "execution_count": 32,
     "metadata": {},
     "output_type": "execute_result"
    }
   ],
   "source": [
    "supermarkets['edeka']['Name'].value_counts()"
   ]
  },
  {
   "cell_type": "code",
   "execution_count": 39,
   "metadata": {},
   "outputs": [],
   "source": [
    "def get_products(ingredients:list):\n",
    "    \n",
    "    # Create an empty list per each supermarket\n",
    "    supermarkets_lists = {\n",
    "            'aldinorth': [],\n",
    "            'aldisouth': [],\n",
    "            'edeka': [],\n",
    "            'kaufland': [],\n",
    "            'lidl': [],\n",
    "            'rewe': []\n",
    "        }\n",
    "    \n",
    "    for market in supermarkets:\n",
    "\n",
    "        for ing in ingredients:\n",
    "            \n",
    "            # Empty dictionary where we will store the matching products\n",
    "            matches = []   \n",
    "        \n",
    "            # For each product, iterate through each supermarket and generate a list\n",
    "            for product in supermarkets[market]['Name']:\n",
    "                ratio = fuzz.ratio(product.lower(), ing.lower())\n",
    "\n",
    "                if ratio > 50:\n",
    "                    matches.append((product, ratio))\n",
    "                    matches = sorted(matches, key=lambda x: x[1], reverse=True)\n",
    "                \n",
    "            # If matches list is not empty\n",
    "            if matches:\n",
    "                supermarkets_lists[market].append(matches[0][0])\n",
    "            else: \n",
    "                supermarkets_lists[market].append(np.nan)\n",
    "\n",
    "    return supermarkets_lists"
   ]
  },
  {
   "cell_type": "markdown",
   "metadata": {},
   "source": [
    "The function has to have different input depending on the supermarket. That means that we have to modify the search_list_grouped function, since it has been developed to be able to take only 1 input argument."
   ]
  },
  {
   "cell_type": "code",
   "execution_count": 40,
   "metadata": {},
   "outputs": [
    {
     "data": {
      "text/plain": [
       "{'aldinorth': ['meatloaf',\n",
       "  'Coke',\n",
       "  'Buttella fine sunflower oil',\n",
       "  nan,\n",
       "  'Onion baguette',\n",
       "  'Albona milk rice'],\n",
       " 'aldisouth': [nan, nan, nan, nan, nan, nan],\n",
       " 'edeka': [nan,\n",
       "  'Coke',\n",
       "  'Thomy sunflower oil',\n",
       "  'garlic',\n",
       "  'Onions',\n",
       "  'Lien Ying Basmati rice'],\n",
       " 'kaufland': [nan,\n",
       "  'Coke',\n",
       "  'Thomy sunflower oil',\n",
       "  'garlic',\n",
       "  'Onions',\n",
       "  'K organic basmati rice'],\n",
       " 'lidl': [nan,\n",
       "  'Coke',\n",
       "  'Mermaid fillets in sunflower oil',\n",
       "  'garlic',\n",
       "  'Onions',\n",
       "  'Fairglobe basmati rice loose'],\n",
       " 'rewe': [nan,\n",
       "  'Coke',\n",
       "  'Rewe shower oil',\n",
       "  'garlic',\n",
       "  'Onions',\n",
       "  'Rewe Basmati rice']}"
      ]
     },
     "execution_count": 40,
     "metadata": {},
     "output_type": "execute_result"
    }
   ],
   "source": [
    "get_products(['meat', 'Coce', 'Sunflower oil', 'Garlic', 'Onion', 'Basmati rice'])"
   ]
  },
  {
   "cell_type": "code",
   "execution_count": 45,
   "metadata": {},
   "outputs": [],
   "source": [
    "def get_list_products_price(ingredients:list):\n",
    "    \n",
    "    # Create a dictionary with the supermarkets and a list with the products\n",
    "    supermarkets_p = {\n",
    "        'aldinorth': get_products(ingredients)['aldinorth'],\n",
    "        'aldisouth': get_products(ingredients)['aldisouth'],\n",
    "        'edeka': get_products(ingredients)['edeka'],\n",
    "        'kaufland': get_products(ingredients)['kaufland'],\n",
    "        'lidl': get_products(ingredients)['lidl'],\n",
    "        'rewe': get_products(ingredients)['rewe']\n",
    "    }\n",
    "    \n",
    "    # New empty df\n",
    "    result = pd.DataFrame(columns=['Ingredient', 'Supermarket', 'Product', 'Price', 'Coverage'])\n",
    "\n",
    "    # Iterate and populate a df with the final result\n",
    "    for market in supermarkets_p:\n",
    "        \n",
    "        # Iterate per each product in each supermarket\n",
    "        s = supermarkets[market] # Dictionary which contains the detailed info of all products per supermarket\n",
    "        \n",
    "        ### NEW TO FIND HOW TO ADD THE NAN with THE COVERAGE 0.\n",
    "        for prod, ing in zip(supermarkets_p[market], ingredients):    \n",
    "            try:\n",
    "                price = s[s['Name'] == prod]['Price'].values[0]\n",
    "                df2 = {'Ingredient': ing, 'Supermarket': market, 'Product': prod, 'Price': price, 'Coverage': 1}\n",
    "                result = result.append(df2, ignore_index=True)\n",
    "            except:\n",
    "                result = result.append({'Ingredient': ing, 'Supermarket': market, 'Product': np.nan, 'Price': np.nan, 'Coverage': 0}, ignore_index=True)\n",
    "    \n",
    "    # 'result' contains detailed information about product and price per each supermarket\n",
    "    \n",
    "    # Change to numeric\n",
    "    result['Price'] = pd.to_numeric(result['Price'], errors='coerce')\n",
    "    result['Coverage'] = pd.to_numeric(result['Coverage'], errors='coerce')\n",
    "    \n",
    "    return result\n"
   ]
  },
  {
   "cell_type": "code",
   "execution_count": 46,
   "metadata": {},
   "outputs": [
    {
     "data": {
      "text/html": [
       "<div>\n",
       "<style scoped>\n",
       "    .dataframe tbody tr th:only-of-type {\n",
       "        vertical-align: middle;\n",
       "    }\n",
       "\n",
       "    .dataframe tbody tr th {\n",
       "        vertical-align: top;\n",
       "    }\n",
       "\n",
       "    .dataframe thead th {\n",
       "        text-align: right;\n",
       "    }\n",
       "</style>\n",
       "<table border=\"1\" class=\"dataframe\">\n",
       "  <thead>\n",
       "    <tr style=\"text-align: right;\">\n",
       "      <th></th>\n",
       "      <th>Ingredient</th>\n",
       "      <th>Supermarket</th>\n",
       "      <th>Product</th>\n",
       "      <th>Price</th>\n",
       "      <th>Coverage</th>\n",
       "    </tr>\n",
       "  </thead>\n",
       "  <tbody>\n",
       "    <tr>\n",
       "      <th>0</th>\n",
       "      <td>oats</td>\n",
       "      <td>aldinorth</td>\n",
       "      <td>Oranges</td>\n",
       "      <td>0.69</td>\n",
       "      <td>1</td>\n",
       "    </tr>\n",
       "    <tr>\n",
       "      <th>1</th>\n",
       "      <td>zuchinni</td>\n",
       "      <td>aldinorth</td>\n",
       "      <td>NaN</td>\n",
       "      <td>NaN</td>\n",
       "      <td>0</td>\n",
       "    </tr>\n",
       "    <tr>\n",
       "      <th>2</th>\n",
       "      <td>cherry tomatoes</td>\n",
       "      <td>aldinorth</td>\n",
       "      <td>Rocher chocolates</td>\n",
       "      <td>3.49</td>\n",
       "      <td>1</td>\n",
       "    </tr>\n",
       "    <tr>\n",
       "      <th>3</th>\n",
       "      <td>pasta</td>\n",
       "      <td>aldinorth</td>\n",
       "      <td>NaN</td>\n",
       "      <td>NaN</td>\n",
       "      <td>0</td>\n",
       "    </tr>\n",
       "    <tr>\n",
       "      <th>4</th>\n",
       "      <td>meat</td>\n",
       "      <td>aldinorth</td>\n",
       "      <td>meatloaf</td>\n",
       "      <td>1.89</td>\n",
       "      <td>1</td>\n",
       "    </tr>\n",
       "    <tr>\n",
       "      <th>...</th>\n",
       "      <td>...</td>\n",
       "      <td>...</td>\n",
       "      <td>...</td>\n",
       "      <td>...</td>\n",
       "      <td>...</td>\n",
       "    </tr>\n",
       "    <tr>\n",
       "      <th>73</th>\n",
       "      <td>Basmati rice</td>\n",
       "      <td>rewe</td>\n",
       "      <td>Rewe Basmati rice</td>\n",
       "      <td>2.19</td>\n",
       "      <td>1</td>\n",
       "    </tr>\n",
       "    <tr>\n",
       "      <th>74</th>\n",
       "      <td>Spaghetti</td>\n",
       "      <td>rewe</td>\n",
       "      <td>Rewe spaghetti</td>\n",
       "      <td>1.19</td>\n",
       "      <td>1</td>\n",
       "    </tr>\n",
       "    <tr>\n",
       "      <th>75</th>\n",
       "      <td>Miso soup</td>\n",
       "      <td>rewe</td>\n",
       "      <td>Felix goulash soup</td>\n",
       "      <td>2.29</td>\n",
       "      <td>1</td>\n",
       "    </tr>\n",
       "    <tr>\n",
       "      <th>76</th>\n",
       "      <td>Tempeh</td>\n",
       "      <td>rewe</td>\n",
       "      <td>peach</td>\n",
       "      <td>1.99</td>\n",
       "      <td>1</td>\n",
       "    </tr>\n",
       "    <tr>\n",
       "      <th>77</th>\n",
       "      <td>Soya Sauce</td>\n",
       "      <td>rewe</td>\n",
       "      <td>Thomy tartar sauce</td>\n",
       "      <td>1.55</td>\n",
       "      <td>1</td>\n",
       "    </tr>\n",
       "  </tbody>\n",
       "</table>\n",
       "<p>78 rows × 5 columns</p>\n",
       "</div>"
      ],
      "text/plain": [
       "         Ingredient Supermarket             Product  Price  Coverage\n",
       "0              oats   aldinorth             Oranges   0.69         1\n",
       "1          zuchinni   aldinorth                 NaN    NaN         0\n",
       "2   cherry tomatoes   aldinorth   Rocher chocolates   3.49         1\n",
       "3             pasta   aldinorth                 NaN    NaN         0\n",
       "4              meat   aldinorth            meatloaf   1.89         1\n",
       "..              ...         ...                 ...    ...       ...\n",
       "73     Basmati rice        rewe   Rewe Basmati rice   2.19         1\n",
       "74        Spaghetti        rewe      Rewe spaghetti   1.19         1\n",
       "75        Miso soup        rewe  Felix goulash soup   2.29         1\n",
       "76           Tempeh        rewe               peach   1.99         1\n",
       "77       Soya Sauce        rewe  Thomy tartar sauce   1.55         1\n",
       "\n",
       "[78 rows x 5 columns]"
      ]
     },
     "execution_count": 46,
     "metadata": {},
     "output_type": "execute_result"
    }
   ],
   "source": [
    "get_list_products_price(['oats', 'zuchinni', 'cherry tomatoes', 'pasta', 'meat', 'Coce', 'Sunflower oil', 'Onion', 'Basmati rice', 'Spaghetti', 'Miso soup', 'Tempeh', 'Soya Sauce'])"
   ]
  },
  {
   "cell_type": "code",
   "execution_count": 47,
   "metadata": {},
   "outputs": [],
   "source": [
    "# We want to see:\n",
    "#    1. Where we will be able to find all the products\n",
    "#    2. Where can we buy them at the best price\n",
    "\n",
    "def get_supermarket_choice(ingredients:list):\n",
    "    \n",
    "    result = get_list_products_price(ingredients) \n",
    "    \n",
    "    # Group by 'Supermarket'\n",
    "    results = result.groupby('Supermarket').agg({'Price':'sum', 'Coverage': 'mean'}).reset_index()\n",
    "    results = results.sort_values('Price').reset_index(drop=True)\n",
    "    \n",
    "    return results"
   ]
  },
  {
   "cell_type": "code",
   "execution_count": 48,
   "metadata": {},
   "outputs": [
    {
     "data": {
      "text/html": [
       "<div>\n",
       "<style scoped>\n",
       "    .dataframe tbody tr th:only-of-type {\n",
       "        vertical-align: middle;\n",
       "    }\n",
       "\n",
       "    .dataframe tbody tr th {\n",
       "        vertical-align: top;\n",
       "    }\n",
       "\n",
       "    .dataframe thead th {\n",
       "        text-align: right;\n",
       "    }\n",
       "</style>\n",
       "<table border=\"1\" class=\"dataframe\">\n",
       "  <thead>\n",
       "    <tr style=\"text-align: right;\">\n",
       "      <th></th>\n",
       "      <th>Supermarket</th>\n",
       "      <th>Price</th>\n",
       "      <th>Coverage</th>\n",
       "    </tr>\n",
       "  </thead>\n",
       "  <tbody>\n",
       "    <tr>\n",
       "      <th>0</th>\n",
       "      <td>aldisouth</td>\n",
       "      <td>0.00</td>\n",
       "      <td>0.000000</td>\n",
       "    </tr>\n",
       "    <tr>\n",
       "      <th>1</th>\n",
       "      <td>lidl</td>\n",
       "      <td>12.16</td>\n",
       "      <td>0.714286</td>\n",
       "    </tr>\n",
       "    <tr>\n",
       "      <th>2</th>\n",
       "      <td>edeka</td>\n",
       "      <td>13.42</td>\n",
       "      <td>0.571429</td>\n",
       "    </tr>\n",
       "    <tr>\n",
       "      <th>3</th>\n",
       "      <td>aldinorth</td>\n",
       "      <td>18.21</td>\n",
       "      <td>0.785714</td>\n",
       "    </tr>\n",
       "    <tr>\n",
       "      <th>4</th>\n",
       "      <td>kaufland</td>\n",
       "      <td>22.97</td>\n",
       "      <td>0.714286</td>\n",
       "    </tr>\n",
       "    <tr>\n",
       "      <th>5</th>\n",
       "      <td>rewe</td>\n",
       "      <td>25.13</td>\n",
       "      <td>0.928571</td>\n",
       "    </tr>\n",
       "  </tbody>\n",
       "</table>\n",
       "</div>"
      ],
      "text/plain": [
       "  Supermarket  Price  Coverage\n",
       "0   aldisouth   0.00  0.000000\n",
       "1        lidl  12.16  0.714286\n",
       "2       edeka  13.42  0.571429\n",
       "3   aldinorth  18.21  0.785714\n",
       "4    kaufland  22.97  0.714286\n",
       "5        rewe  25.13  0.928571"
      ]
     },
     "execution_count": 48,
     "metadata": {},
     "output_type": "execute_result"
    }
   ],
   "source": [
    "get_supermarket_choice(['vodka', 'oats', 'zuchinni', 'cherry tomatoes', 'pasta', 'meat', 'Coce', 'Sunflower oil', 'Onion', 'Basmati rice', 'Spaghetti', 'Miso soup', 'Tempeh', 'Soya Sauce'])"
   ]
  },
  {
   "cell_type": "code",
   "execution_count": 49,
   "metadata": {},
   "outputs": [],
   "source": [
    "# We want to see:\n",
    "#    1. Detailed list of the product names and price\n",
    "def get_shopping_list(ingredients:list):\n",
    "    \n",
    "    result = get_list_products_price(ingredients) \n",
    "    results = get_supermarket_choice(ingredients)\n",
    "    \n",
    "    # Ask the user where they would like to do the grocery shopping\n",
    "    user_input = input('Where would you like to go shopping?\\n')\n",
    "    \n",
    "    return result[result['Supermarket'] == user_input]"
   ]
  },
  {
   "cell_type": "code",
   "execution_count": 50,
   "metadata": {},
   "outputs": [
    {
     "name": "stdout",
     "output_type": "stream",
     "text": [
      "Where would you like to go shopping?\n",
      "rewe\n"
     ]
    },
    {
     "data": {
      "text/html": [
       "<div>\n",
       "<style scoped>\n",
       "    .dataframe tbody tr th:only-of-type {\n",
       "        vertical-align: middle;\n",
       "    }\n",
       "\n",
       "    .dataframe tbody tr th {\n",
       "        vertical-align: top;\n",
       "    }\n",
       "\n",
       "    .dataframe thead th {\n",
       "        text-align: right;\n",
       "    }\n",
       "</style>\n",
       "<table border=\"1\" class=\"dataframe\">\n",
       "  <thead>\n",
       "    <tr style=\"text-align: right;\">\n",
       "      <th></th>\n",
       "      <th>Ingredient</th>\n",
       "      <th>Supermarket</th>\n",
       "      <th>Product</th>\n",
       "      <th>Price</th>\n",
       "      <th>Coverage</th>\n",
       "    </tr>\n",
       "  </thead>\n",
       "  <tbody>\n",
       "    <tr>\n",
       "      <th>70</th>\n",
       "      <td>vodka</td>\n",
       "      <td>rewe</td>\n",
       "      <td>Vodka Schilkin</td>\n",
       "      <td>5.49</td>\n",
       "      <td>1</td>\n",
       "    </tr>\n",
       "    <tr>\n",
       "      <th>71</th>\n",
       "      <td>oats</td>\n",
       "      <td>rewe</td>\n",
       "      <td>Carrots</td>\n",
       "      <td>0.99</td>\n",
       "      <td>1</td>\n",
       "    </tr>\n",
       "    <tr>\n",
       "      <th>72</th>\n",
       "      <td>zuchinni</td>\n",
       "      <td>rewe</td>\n",
       "      <td>zucchini</td>\n",
       "      <td>0.89</td>\n",
       "      <td>1</td>\n",
       "    </tr>\n",
       "    <tr>\n",
       "      <th>73</th>\n",
       "      <td>cherry tomatoes</td>\n",
       "      <td>rewe</td>\n",
       "      <td>REWE cherry groats</td>\n",
       "      <td>3.99</td>\n",
       "      <td>1</td>\n",
       "    </tr>\n",
       "    <tr>\n",
       "      <th>74</th>\n",
       "      <td>pasta</td>\n",
       "      <td>rewe</td>\n",
       "      <td>papaya</td>\n",
       "      <td>1.79</td>\n",
       "      <td>1</td>\n",
       "    </tr>\n",
       "    <tr>\n",
       "      <th>75</th>\n",
       "      <td>meat</td>\n",
       "      <td>rewe</td>\n",
       "      <td>NaN</td>\n",
       "      <td>NaN</td>\n",
       "      <td>0</td>\n",
       "    </tr>\n",
       "    <tr>\n",
       "      <th>76</th>\n",
       "      <td>Coce</td>\n",
       "      <td>rewe</td>\n",
       "      <td>Coke</td>\n",
       "      <td>0.99</td>\n",
       "      <td>1</td>\n",
       "    </tr>\n",
       "    <tr>\n",
       "      <th>77</th>\n",
       "      <td>Sunflower oil</td>\n",
       "      <td>rewe</td>\n",
       "      <td>Rewe shower oil</td>\n",
       "      <td>1.29</td>\n",
       "      <td>1</td>\n",
       "    </tr>\n",
       "    <tr>\n",
       "      <th>78</th>\n",
       "      <td>Onion</td>\n",
       "      <td>rewe</td>\n",
       "      <td>Onions</td>\n",
       "      <td>0.49</td>\n",
       "      <td>1</td>\n",
       "    </tr>\n",
       "    <tr>\n",
       "      <th>79</th>\n",
       "      <td>Basmati rice</td>\n",
       "      <td>rewe</td>\n",
       "      <td>Rewe Basmati rice</td>\n",
       "      <td>2.19</td>\n",
       "      <td>1</td>\n",
       "    </tr>\n",
       "    <tr>\n",
       "      <th>80</th>\n",
       "      <td>Spaghetti</td>\n",
       "      <td>rewe</td>\n",
       "      <td>Rewe spaghetti</td>\n",
       "      <td>1.19</td>\n",
       "      <td>1</td>\n",
       "    </tr>\n",
       "    <tr>\n",
       "      <th>81</th>\n",
       "      <td>Miso soup</td>\n",
       "      <td>rewe</td>\n",
       "      <td>Felix goulash soup</td>\n",
       "      <td>2.29</td>\n",
       "      <td>1</td>\n",
       "    </tr>\n",
       "    <tr>\n",
       "      <th>82</th>\n",
       "      <td>Tempeh</td>\n",
       "      <td>rewe</td>\n",
       "      <td>peach</td>\n",
       "      <td>1.99</td>\n",
       "      <td>1</td>\n",
       "    </tr>\n",
       "    <tr>\n",
       "      <th>83</th>\n",
       "      <td>Soya Sauce</td>\n",
       "      <td>rewe</td>\n",
       "      <td>Thomy tartar sauce</td>\n",
       "      <td>1.55</td>\n",
       "      <td>1</td>\n",
       "    </tr>\n",
       "  </tbody>\n",
       "</table>\n",
       "</div>"
      ],
      "text/plain": [
       "         Ingredient Supermarket             Product  Price  Coverage\n",
       "70            vodka        rewe      Vodka Schilkin   5.49         1\n",
       "71             oats        rewe             Carrots   0.99         1\n",
       "72         zuchinni        rewe            zucchini   0.89         1\n",
       "73  cherry tomatoes        rewe  REWE cherry groats   3.99         1\n",
       "74            pasta        rewe              papaya   1.79         1\n",
       "75             meat        rewe                 NaN    NaN         0\n",
       "76             Coce        rewe                Coke   0.99         1\n",
       "77    Sunflower oil        rewe     Rewe shower oil   1.29         1\n",
       "78            Onion        rewe              Onions   0.49         1\n",
       "79     Basmati rice        rewe   Rewe Basmati rice   2.19         1\n",
       "80        Spaghetti        rewe      Rewe spaghetti   1.19         1\n",
       "81        Miso soup        rewe  Felix goulash soup   2.29         1\n",
       "82           Tempeh        rewe               peach   1.99         1\n",
       "83       Soya Sauce        rewe  Thomy tartar sauce   1.55         1"
      ]
     },
     "execution_count": 50,
     "metadata": {},
     "output_type": "execute_result"
    }
   ],
   "source": [
    "get_shopping_list(['vodka', 'oats', 'zuchinni', 'cherry tomatoes', 'pasta', 'meat', 'Coce', 'Sunflower oil', 'Onion', 'Basmati rice', 'Spaghetti', 'Miso soup', 'Tempeh', 'Soya Sauce'])"
   ]
  },
  {
   "cell_type": "markdown",
   "metadata": {},
   "source": [
    "### Create one function with the whole process"
   ]
  },
  {
   "cell_type": "code",
   "execution_count": 51,
   "metadata": {},
   "outputs": [],
   "source": [
    "def demo(ingredients:list):\n",
    "    \n",
    "    # 1. Convert the ingredient list to product lists per each supermarket\n",
    "    result = get_list_products_price(ingredients)\n",
    "    \n",
    "    # 2. Show an overview of their shopping list grouped by supermarket\n",
    "    results = get_supermarket_choice(ingredients)\n",
    "    \n",
    "    print(results) # display as dataframe with print method..\n",
    "    \n",
    "    # 3. Ask the user where they would like to do the grocery shopping\n",
    "    user_input = input('Where would you like to go shopping?\\n')\n",
    "    \n",
    "    # 4. Show the user theis shopping list\n",
    "    return result[result['Supermarket'] == user_input]\n",
    "    \n",
    "    # 5. Show products that they may be interested in buy\n",
    "\n",
    "## HOW CAN I MAKE IT INTERACTIVE?\n",
    "## Display -- > https://stackoverflow.com/questions/26873127/show-dataframe-as-table-in-ipython-notebook"
   ]
  },
  {
   "cell_type": "code",
   "execution_count": 52,
   "metadata": {},
   "outputs": [
    {
     "name": "stdout",
     "output_type": "stream",
     "text": [
      "  Supermarket  Price  Coverage\n",
      "0   aldisouth   0.00  0.000000\n",
      "1   aldinorth   9.93  0.818182\n",
      "2        lidl  13.41  0.818182\n",
      "3        rewe  14.22  0.909091\n",
      "4       edeka  16.42  0.727273\n",
      "5    kaufland  22.24  0.818182\n",
      "Where would you like to go shopping?\n",
      "rewe\n"
     ]
    },
    {
     "data": {
      "text/html": [
       "<div>\n",
       "<style scoped>\n",
       "    .dataframe tbody tr th:only-of-type {\n",
       "        vertical-align: middle;\n",
       "    }\n",
       "\n",
       "    .dataframe tbody tr th {\n",
       "        vertical-align: top;\n",
       "    }\n",
       "\n",
       "    .dataframe thead th {\n",
       "        text-align: right;\n",
       "    }\n",
       "</style>\n",
       "<table border=\"1\" class=\"dataframe\">\n",
       "  <thead>\n",
       "    <tr style=\"text-align: right;\">\n",
       "      <th></th>\n",
       "      <th>Ingredient</th>\n",
       "      <th>Supermarket</th>\n",
       "      <th>Product</th>\n",
       "      <th>Price</th>\n",
       "      <th>Coverage</th>\n",
       "    </tr>\n",
       "  </thead>\n",
       "  <tbody>\n",
       "    <tr>\n",
       "      <th>55</th>\n",
       "      <td>tofu</td>\n",
       "      <td>rewe</td>\n",
       "      <td>NaN</td>\n",
       "      <td>NaN</td>\n",
       "      <td>0</td>\n",
       "    </tr>\n",
       "    <tr>\n",
       "      <th>56</th>\n",
       "      <td>black pepper</td>\n",
       "      <td>rewe</td>\n",
       "      <td>Yes! Snack peppers</td>\n",
       "      <td>0.75</td>\n",
       "      <td>1</td>\n",
       "    </tr>\n",
       "    <tr>\n",
       "      <th>57</th>\n",
       "      <td>lemonmeatballs</td>\n",
       "      <td>rewe</td>\n",
       "      <td>Yes! Meatballs</td>\n",
       "      <td>1.49</td>\n",
       "      <td>1</td>\n",
       "    </tr>\n",
       "    <tr>\n",
       "      <th>58</th>\n",
       "      <td>Coce</td>\n",
       "      <td>rewe</td>\n",
       "      <td>Coke</td>\n",
       "      <td>0.99</td>\n",
       "      <td>1</td>\n",
       "    </tr>\n",
       "    <tr>\n",
       "      <th>59</th>\n",
       "      <td>Sunflower oil</td>\n",
       "      <td>rewe</td>\n",
       "      <td>Rewe shower oil</td>\n",
       "      <td>1.29</td>\n",
       "      <td>1</td>\n",
       "    </tr>\n",
       "    <tr>\n",
       "      <th>60</th>\n",
       "      <td>Onion</td>\n",
       "      <td>rewe</td>\n",
       "      <td>Onions</td>\n",
       "      <td>0.49</td>\n",
       "      <td>1</td>\n",
       "    </tr>\n",
       "    <tr>\n",
       "      <th>61</th>\n",
       "      <td>Basmati rice</td>\n",
       "      <td>rewe</td>\n",
       "      <td>Rewe Basmati rice</td>\n",
       "      <td>2.19</td>\n",
       "      <td>1</td>\n",
       "    </tr>\n",
       "    <tr>\n",
       "      <th>62</th>\n",
       "      <td>Spaghetti</td>\n",
       "      <td>rewe</td>\n",
       "      <td>Rewe spaghetti</td>\n",
       "      <td>1.19</td>\n",
       "      <td>1</td>\n",
       "    </tr>\n",
       "    <tr>\n",
       "      <th>63</th>\n",
       "      <td>Miso soup</td>\n",
       "      <td>rewe</td>\n",
       "      <td>Felix goulash soup</td>\n",
       "      <td>2.29</td>\n",
       "      <td>1</td>\n",
       "    </tr>\n",
       "    <tr>\n",
       "      <th>64</th>\n",
       "      <td>Tempeh</td>\n",
       "      <td>rewe</td>\n",
       "      <td>peach</td>\n",
       "      <td>1.99</td>\n",
       "      <td>1</td>\n",
       "    </tr>\n",
       "    <tr>\n",
       "      <th>65</th>\n",
       "      <td>Soya Sauce</td>\n",
       "      <td>rewe</td>\n",
       "      <td>Thomy tartar sauce</td>\n",
       "      <td>1.55</td>\n",
       "      <td>1</td>\n",
       "    </tr>\n",
       "  </tbody>\n",
       "</table>\n",
       "</div>"
      ],
      "text/plain": [
       "        Ingredient Supermarket             Product  Price  Coverage\n",
       "55            tofu        rewe                 NaN    NaN         0\n",
       "56    black pepper        rewe  Yes! Snack peppers   0.75         1\n",
       "57  lemonmeatballs        rewe      Yes! Meatballs   1.49         1\n",
       "58            Coce        rewe                Coke   0.99         1\n",
       "59   Sunflower oil        rewe     Rewe shower oil   1.29         1\n",
       "60           Onion        rewe              Onions   0.49         1\n",
       "61    Basmati rice        rewe   Rewe Basmati rice   2.19         1\n",
       "62       Spaghetti        rewe      Rewe spaghetti   1.19         1\n",
       "63       Miso soup        rewe  Felix goulash soup   2.29         1\n",
       "64          Tempeh        rewe               peach   1.99         1\n",
       "65      Soya Sauce        rewe  Thomy tartar sauce   1.55         1"
      ]
     },
     "execution_count": 52,
     "metadata": {},
     "output_type": "execute_result"
    }
   ],
   "source": [
    "demo(['tofu', 'black pepper', 'lemon' 'meatballs', 'Coce', 'Sunflower oil', 'Onion', 'Basmati rice', 'Spaghetti', 'Miso soup', 'Tempeh', 'Soya Sauce'])"
   ]
  },
  {
   "cell_type": "markdown",
   "metadata": {},
   "source": [
    "### Unify with the ML model"
   ]
  },
  {
   "cell_type": "code",
   "execution_count": null,
   "metadata": {},
   "outputs": [],
   "source": []
  }
 ],
 "metadata": {
  "kernelspec": {
   "display_name": "Python 3",
   "language": "python",
   "name": "python3"
  },
  "language_info": {
   "codemirror_mode": {
    "name": "ipython",
    "version": 3
   },
   "file_extension": ".py",
   "mimetype": "text/x-python",
   "name": "python",
   "nbconvert_exporter": "python",
   "pygments_lexer": "ipython3",
   "version": "3.8.3"
  }
 },
 "nbformat": 4,
 "nbformat_minor": 4
}
