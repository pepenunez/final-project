{
 "cells": [
  {
   "cell_type": "markdown",
   "metadata": {},
   "source": [
    "# Supermarkets modeling\n",
    "\n",
    "The goal of this document...."
   ]
  },
  {
   "cell_type": "code",
   "execution_count": 1,
   "metadata": {},
   "outputs": [],
   "source": [
    "import pandas as pd\n",
    "import numpy as np"
   ]
  },
  {
   "cell_type": "markdown",
   "metadata": {},
   "source": [
    "## 1. Import data"
   ]
  },
  {
   "cell_type": "code",
   "execution_count": 2,
   "metadata": {},
   "outputs": [],
   "source": [
    "# import data\n",
    "supermarkets = {\n",
    "    'aldinorth': pd.read_pickle('data/products-clean/aldinorth-products-clean.pkl'),\n",
    "    'aldisouth': pd.read_pickle('data/products-clean/aldisouth-products-clean.pkl'),\n",
    "    'edeka': pd.read_pickle('data/products-clean/edeka-products-clean.pkl')\n",
    "    #'kaufan': pd.read_pickle('data/products-clean/edeka-products-clean.pkl')\n",
    "    #'rewe': pd.read_pickle('data/products-clean/edeka-products-clean.pkl')\n",
    "    #'lidl': pd.read_pickle('data/products-clean/edeka-products-clean.pkl')\n",
    "}"
   ]
  },
  {
   "cell_type": "code",
   "execution_count": 3,
   "metadata": {},
   "outputs": [
    {
     "data": {
      "text/html": [
       "<div>\n",
       "<style scoped>\n",
       "    .dataframe tbody tr th:only-of-type {\n",
       "        vertical-align: middle;\n",
       "    }\n",
       "\n",
       "    .dataframe tbody tr th {\n",
       "        vertical-align: top;\n",
       "    }\n",
       "\n",
       "    .dataframe thead th {\n",
       "        text-align: right;\n",
       "    }\n",
       "</style>\n",
       "<table border=\"1\" class=\"dataframe\">\n",
       "  <thead>\n",
       "    <tr style=\"text-align: right;\">\n",
       "      <th></th>\n",
       "      <th>Name</th>\n",
       "      <th>Price</th>\n",
       "    </tr>\n",
       "  </thead>\n",
       "  <tbody>\n",
       "    <tr>\n",
       "      <th>0</th>\n",
       "      <td>Tamara extra strawberry jam</td>\n",
       "      <td>0.99</td>\n",
       "    </tr>\n",
       "    <tr>\n",
       "      <th>1</th>\n",
       "      <td>Nutella</td>\n",
       "      <td>3.79</td>\n",
       "    </tr>\n",
       "    <tr>\n",
       "      <th>2</th>\n",
       "      <td>Coke</td>\n",
       "      <td>2.89</td>\n",
       "    </tr>\n",
       "    <tr>\n",
       "      <th>3</th>\n",
       "      <td>Trader Joe's / Aldi Nord Lemon Iced Tea</td>\n",
       "      <td>0.49</td>\n",
       "    </tr>\n",
       "    <tr>\n",
       "      <th>4</th>\n",
       "      <td>Iglo fish fingers</td>\n",
       "      <td>3.49</td>\n",
       "    </tr>\n",
       "  </tbody>\n",
       "</table>\n",
       "</div>"
      ],
      "text/plain": [
       "                                      Name  Price\n",
       "0              Tamara extra strawberry jam   0.99\n",
       "1                                  Nutella   3.79\n",
       "2                                     Coke   2.89\n",
       "3  Trader Joe's / Aldi Nord Lemon Iced Tea   0.49\n",
       "4                        Iglo fish fingers   3.49"
      ]
     },
     "execution_count": 3,
     "metadata": {},
     "output_type": "execute_result"
    }
   ],
   "source": [
    "supermarkets['aldinorth'].head()"
   ]
  },
  {
   "cell_type": "markdown",
   "metadata": {},
   "source": [
    "## 2. Modeling to do's\n",
    "\n",
    "- Algorithm 1.0 - Build an algorithm able to (input: ingredient, output: % coverage + total price per each supermarket)\n",
    "- Algorithm 2.0 - Build an algorithm able to (input: list of ingredients, output: % coverage + total price per each supermarket)\n",
    "- Algorithm 3.0 - Use fuzzy buzzy to match the input (potato) with the ingredients by similarity.\n",
    "\n",
    "### 2.1 Algorithm 1.0\n",
    "Build an algorithm able to: \n",
    "\n",
    "- [input]: ingredient\n",
    "\n",
    "- [output]: price in each supermarket"
   ]
  },
  {
   "cell_type": "code",
   "execution_count": 4,
   "metadata": {},
   "outputs": [
    {
     "data": {
      "text/plain": [
       "3.79"
      ]
     },
     "execution_count": 4,
     "metadata": {},
     "output_type": "execute_result"
    }
   ],
   "source": [
    "# We are looking for the price of the ingredient that we are searching per each supermarket\n",
    "supermarkets['aldinorth'][supermarkets['aldinorth']['Name'] == 'Nutella']['Price'].values[0]"
   ]
  },
  {
   "cell_type": "code",
   "execution_count": 5,
   "metadata": {},
   "outputs": [],
   "source": [
    "# Function to get the prices with an ingredient as input\n",
    "def search(ingredient:str):\n",
    "    # New empty list\n",
    "    result = []\n",
    "    for market in supermarkets:\n",
    "        a = supermarkets[market]\n",
    "        try:\n",
    "            price = a[a['Name'] == ingredient]['Price'].values[0]\n",
    "            result.append(f'{market}: {price}')\n",
    "        except:\n",
    "            result.append(f'{market}: Not found')\n",
    "    return result\n",
    "\n",
    "# Try it with 'Nutella' because it is available in every supermarket\n",
    "# Try with 'Coke'"
   ]
  },
  {
   "cell_type": "code",
   "execution_count": 6,
   "metadata": {},
   "outputs": [
    {
     "data": {
      "text/plain": [
       "['aldinorth: 3.79', 'aldisouth: 3.89', 'edeka: 1.77']"
      ]
     },
     "execution_count": 6,
     "metadata": {},
     "output_type": "execute_result"
    }
   ],
   "source": [
    "# Testing the function\n",
    "search('Nutella')"
   ]
  },
  {
   "cell_type": "code",
   "execution_count": 7,
   "metadata": {},
   "outputs": [
    {
     "data": {
      "text/plain": [
       "['aldinorth: 2.89', 'aldisouth: 0.99', 'edeka: 1.39']"
      ]
     },
     "execution_count": 7,
     "metadata": {},
     "output_type": "execute_result"
    }
   ],
   "source": [
    "# Testing the function\n",
    "search('Coke')"
   ]
  },
  {
   "cell_type": "markdown",
   "metadata": {},
   "source": [
    "We can see that there are some inconsistencies with the 'Coca Cola' prices. The problem is that the size of the packs are not normalized. "
   ]
  },
  {
   "cell_type": "code",
   "execution_count": 8,
   "metadata": {},
   "outputs": [
    {
     "data": {
      "text/html": [
       "<div>\n",
       "<style scoped>\n",
       "    .dataframe tbody tr th:only-of-type {\n",
       "        vertical-align: middle;\n",
       "    }\n",
       "\n",
       "    .dataframe tbody tr th {\n",
       "        vertical-align: top;\n",
       "    }\n",
       "\n",
       "    .dataframe thead th {\n",
       "        text-align: right;\n",
       "    }\n",
       "</style>\n",
       "<table border=\"1\" class=\"dataframe\">\n",
       "  <thead>\n",
       "    <tr style=\"text-align: right;\">\n",
       "      <th></th>\n",
       "      <th>Name</th>\n",
       "      <th>Price</th>\n",
       "    </tr>\n",
       "  </thead>\n",
       "  <tbody>\n",
       "    <tr>\n",
       "      <th>0</th>\n",
       "      <td>Coke</td>\n",
       "      <td>1.39</td>\n",
       "    </tr>\n",
       "  </tbody>\n",
       "</table>\n",
       "</div>"
      ],
      "text/plain": [
       "   Name  Price\n",
       "0  Coke   1.39"
      ]
     },
     "execution_count": 8,
     "metadata": {},
     "output_type": "execute_result"
    }
   ],
   "source": [
    "supermarkets['edeka'][supermarkets['edeka']['Name'] == 'Coke']"
   ]
  },
  {
   "cell_type": "code",
   "execution_count": 9,
   "metadata": {},
   "outputs": [
    {
     "data": {
      "text/html": [
       "<div>\n",
       "<style scoped>\n",
       "    .dataframe tbody tr th:only-of-type {\n",
       "        vertical-align: middle;\n",
       "    }\n",
       "\n",
       "    .dataframe tbody tr th {\n",
       "        vertical-align: top;\n",
       "    }\n",
       "\n",
       "    .dataframe thead th {\n",
       "        text-align: right;\n",
       "    }\n",
       "</style>\n",
       "<table border=\"1\" class=\"dataframe\">\n",
       "  <thead>\n",
       "    <tr style=\"text-align: right;\">\n",
       "      <th></th>\n",
       "      <th>Name</th>\n",
       "      <th>Price</th>\n",
       "    </tr>\n",
       "  </thead>\n",
       "  <tbody>\n",
       "    <tr>\n",
       "      <th>0</th>\n",
       "      <td>Coke</td>\n",
       "      <td>1.39</td>\n",
       "    </tr>\n",
       "  </tbody>\n",
       "</table>\n",
       "</div>"
      ],
      "text/plain": [
       "   Name  Price\n",
       "0  Coke   1.39"
      ]
     },
     "execution_count": 9,
     "metadata": {},
     "output_type": "execute_result"
    }
   ],
   "source": [
    "supermarkets['edeka'][supermarkets['edeka']['Name'].str.contains('Coke')]"
   ]
  },
  {
   "cell_type": "markdown",
   "metadata": {},
   "source": [
    "### 2.2 Algorithm 2.0\n",
    "Build an algorithm able to:\n",
    "\n",
    "- [input]: list of ingredients (ing as it is in the dataset)\n",
    "- [output]: % coverage + total price per each supermarket"
   ]
  },
  {
   "cell_type": "code",
   "execution_count": 10,
   "metadata": {},
   "outputs": [],
   "source": [
    "def search_list(ingredients:list):\n",
    "    # New empty list\n",
    "    result = []\n",
    "    \n",
    "    for market in supermarkets:\n",
    "        \n",
    "        a = supermarkets[market]\n",
    "        \n",
    "        for ing in ingredients:    \n",
    "            try:\n",
    "                price = a[a['Name'] == ing]['Price'].values[0]\n",
    "                result.append(f'{market}: {price} for the {ing}')\n",
    "            except:\n",
    "                result.append(f'{market}: Not found')\n",
    "            \n",
    "    return result"
   ]
  },
  {
   "cell_type": "code",
   "execution_count": 11,
   "metadata": {},
   "outputs": [
    {
     "data": {
      "text/plain": [
       "['aldinorth: 2.89 for the Coke',\n",
       " 'aldinorth: 3.79 for the Nutella',\n",
       " 'aldisouth: 0.99 for the Coke',\n",
       " 'aldisouth: 3.89 for the Nutella',\n",
       " 'edeka: 1.39 for the Coke',\n",
       " 'edeka: 1.77 for the Nutella']"
      ]
     },
     "execution_count": 11,
     "metadata": {},
     "output_type": "execute_result"
    }
   ],
   "source": [
    "search_list(['Coke', 'Nutella'])"
   ]
  },
  {
   "cell_type": "code",
   "execution_count": 12,
   "metadata": {},
   "outputs": [],
   "source": [
    "result = pd.DataFrame(columns=['Supermarket', 'Ingredient', 'Price', 'Coverage'])"
   ]
  },
  {
   "cell_type": "code",
   "execution_count": 13,
   "metadata": {},
   "outputs": [
    {
     "data": {
      "text/html": [
       "<div>\n",
       "<style scoped>\n",
       "    .dataframe tbody tr th:only-of-type {\n",
       "        vertical-align: middle;\n",
       "    }\n",
       "\n",
       "    .dataframe tbody tr th {\n",
       "        vertical-align: top;\n",
       "    }\n",
       "\n",
       "    .dataframe thead th {\n",
       "        text-align: right;\n",
       "    }\n",
       "</style>\n",
       "<table border=\"1\" class=\"dataframe\">\n",
       "  <thead>\n",
       "    <tr style=\"text-align: right;\">\n",
       "      <th></th>\n",
       "      <th>Supermarket</th>\n",
       "      <th>Ingredient</th>\n",
       "      <th>Price</th>\n",
       "      <th>Coverage</th>\n",
       "    </tr>\n",
       "  </thead>\n",
       "  <tbody>\n",
       "    <tr>\n",
       "      <th>0</th>\n",
       "      <td>aldinorth</td>\n",
       "      <td>Coke</td>\n",
       "      <td>2.89</td>\n",
       "      <td>1</td>\n",
       "    </tr>\n",
       "  </tbody>\n",
       "</table>\n",
       "</div>"
      ],
      "text/plain": [
       "  Supermarket Ingredient  Price Coverage\n",
       "0   aldinorth       Coke   2.89        1"
      ]
     },
     "execution_count": 13,
     "metadata": {},
     "output_type": "execute_result"
    }
   ],
   "source": [
    "result.append({'Supermarket': 'aldinorth', 'Ingredient': 'Coke', 'Price': 2.89, 'Coverage': 1}, ignore_index=True)"
   ]
  },
  {
   "cell_type": "code",
   "execution_count": 14,
   "metadata": {},
   "outputs": [],
   "source": [
    "result['Price'] = pd.to_numeric(result['Price'], errors='coerce')\n",
    "result['Coverage'] = pd.to_numeric(result['Coverage'], errors='coerce')"
   ]
  },
  {
   "cell_type": "code",
   "execution_count": 15,
   "metadata": {},
   "outputs": [
    {
     "data": {
      "text/plain": [
       "Supermarket    object\n",
       "Ingredient     object\n",
       "Price           int64\n",
       "Coverage        int64\n",
       "dtype: object"
      ]
     },
     "execution_count": 15,
     "metadata": {},
     "output_type": "execute_result"
    }
   ],
   "source": [
    "result.dtypes"
   ]
  },
  {
   "cell_type": "code",
   "execution_count": 16,
   "metadata": {},
   "outputs": [],
   "source": [
    "def search_list_grouped(ingredients:list):\n",
    "    # New empty df\n",
    "    result = pd.DataFrame(columns=['Supermarket', 'Ingredient', 'Price', 'Coverage'])\n",
    "\n",
    "    for market in supermarkets:\n",
    "        \n",
    "        a = supermarkets[market]\n",
    "        \n",
    "        for ing in ingredients:    \n",
    "            try:\n",
    "                price = a[a['Name'] == ing]['Price'].values[0]\n",
    "                df2 = {'Supermarket': market, 'Ingredient': ing, 'Price': price, 'Coverage': 1}\n",
    "                result = result.append(df2, ignore_index=True)\n",
    "            except:\n",
    "                result = result.append({'Supermarket': market, 'Ingredient': ing, 'Price': np.nan, 'Coverage': 0}, ignore_index=True)\n",
    "    \n",
    "    # Change to numeric\n",
    "    result['Price'] = pd.to_numeric(result['Price'], errors='coerce')\n",
    "    result['Coverage'] = pd.to_numeric(result['Coverage'], errors='coerce') * 100\n",
    "    \n",
    "    # Group by 'Supermarket'\n",
    "    results = result.groupby('Supermarket').agg({'Price':'sum', 'Coverage': 'mean'}).reset_index()\n",
    "    results = results.sort_values('Price').reset_index(drop=True)\n",
    "    \n",
    "    # How to display it to users\n",
    "#    for row in range(len(results)):\n",
    "#        print(f\"In {row['Supermarket']} you can find {row['Coverage']}% of the ingredients for row['Price']\")\n",
    "    \n",
    "    return results\n",
    "\n",
    "# 'result' dataframe contains detailes information\n",
    "# 'results' dataframe contains grouped information"
   ]
  },
  {
   "cell_type": "code",
   "execution_count": 17,
   "metadata": {},
   "outputs": [
    {
     "data": {
      "text/html": [
       "<div>\n",
       "<style scoped>\n",
       "    .dataframe tbody tr th:only-of-type {\n",
       "        vertical-align: middle;\n",
       "    }\n",
       "\n",
       "    .dataframe tbody tr th {\n",
       "        vertical-align: top;\n",
       "    }\n",
       "\n",
       "    .dataframe thead th {\n",
       "        text-align: right;\n",
       "    }\n",
       "</style>\n",
       "<table border=\"1\" class=\"dataframe\">\n",
       "  <thead>\n",
       "    <tr style=\"text-align: right;\">\n",
       "      <th></th>\n",
       "      <th>Supermarket</th>\n",
       "      <th>Price</th>\n",
       "      <th>Coverage</th>\n",
       "    </tr>\n",
       "  </thead>\n",
       "  <tbody>\n",
       "    <tr>\n",
       "      <th>0</th>\n",
       "      <td>edeka</td>\n",
       "      <td>3.16</td>\n",
       "      <td>33.333333</td>\n",
       "    </tr>\n",
       "    <tr>\n",
       "      <th>1</th>\n",
       "      <td>aldisouth</td>\n",
       "      <td>4.88</td>\n",
       "      <td>33.333333</td>\n",
       "    </tr>\n",
       "    <tr>\n",
       "      <th>2</th>\n",
       "      <td>aldinorth</td>\n",
       "      <td>6.68</td>\n",
       "      <td>33.333333</td>\n",
       "    </tr>\n",
       "  </tbody>\n",
       "</table>\n",
       "</div>"
      ],
      "text/plain": [
       "  Supermarket  Price   Coverage\n",
       "0       edeka   3.16  33.333333\n",
       "1   aldisouth   4.88  33.333333\n",
       "2   aldinorth   6.68  33.333333"
      ]
     },
     "execution_count": 17,
     "metadata": {},
     "output_type": "execute_result"
    }
   ],
   "source": [
    "search_list_grouped(['Coke', 'Nutella', 'Vanilla', 'Tuna', 'Soap', 'Classic Tomato Sauce'])"
   ]
  },
  {
   "cell_type": "markdown",
   "metadata": {},
   "source": [
    "As we can see, if we do not type the ingredient exactly as it is in the dataset, our algorithm is not able to find it. In order to make it more useful, we are going to add fuzzy words and create a basic search engine.\n",
    "\n",
    "### 2.3 Algorithm 3.0\n",
    "\n",
    "Build an algorithm able to:\n",
    "\n",
    "- [input]: list of ingredients (similar word)\n",
    "- [output]: % coverage + total price per each supermarket\n",
    "\n",
    "We are going to use the fuzzywuzzy ratio"
   ]
  },
  {
   "cell_type": "code",
   "execution_count": 18,
   "metadata": {},
   "outputs": [],
   "source": [
    "# Add the packages\n",
    "from fuzzywuzzy import fuzz\n",
    "import re"
   ]
  },
  {
   "cell_type": "code",
   "execution_count": 19,
   "metadata": {},
   "outputs": [
    {
     "data": {
      "text/plain": [
       "100"
      ]
     },
     "execution_count": 19,
     "metadata": {},
     "output_type": "execute_result"
    }
   ],
   "source": [
    "fuzz.ratio(\"Coca Cola\", \"Coca Cola\")"
   ]
  },
  {
   "cell_type": "code",
   "execution_count": 20,
   "metadata": {},
   "outputs": [
    {
     "data": {
      "text/plain": [
       "31"
      ]
     },
     "execution_count": 20,
     "metadata": {},
     "output_type": "execute_result"
    }
   ],
   "source": [
    "fuzz.ratio(\"Coca Cola\", \"Coke\")"
   ]
  },
  {
   "cell_type": "code",
   "execution_count": 21,
   "metadata": {},
   "outputs": [
    {
     "data": {
      "text/plain": [
       "31"
      ]
     },
     "execution_count": 21,
     "metadata": {},
     "output_type": "execute_result"
    }
   ],
   "source": [
    "fuzz.ratio(\"Coca Cola\".lower(), \"Coke\".lower())"
   ]
  },
  {
   "cell_type": "markdown",
   "metadata": {},
   "source": [
    "Extract the ingredient name"
   ]
  },
  {
   "cell_type": "code",
   "execution_count": 22,
   "metadata": {},
   "outputs": [
    {
     "data": {
      "text/html": [
       "<div>\n",
       "<style scoped>\n",
       "    .dataframe tbody tr th:only-of-type {\n",
       "        vertical-align: middle;\n",
       "    }\n",
       "\n",
       "    .dataframe tbody tr th {\n",
       "        vertical-align: top;\n",
       "    }\n",
       "\n",
       "    .dataframe thead th {\n",
       "        text-align: right;\n",
       "    }\n",
       "</style>\n",
       "<table border=\"1\" class=\"dataframe\">\n",
       "  <thead>\n",
       "    <tr style=\"text-align: right;\">\n",
       "      <th></th>\n",
       "      <th>Name</th>\n",
       "      <th>Price</th>\n",
       "    </tr>\n",
       "  </thead>\n",
       "  <tbody>\n",
       "    <tr>\n",
       "      <th>0</th>\n",
       "      <td>Coke</td>\n",
       "      <td>1.39</td>\n",
       "    </tr>\n",
       "    <tr>\n",
       "      <th>1</th>\n",
       "      <td>Nutella</td>\n",
       "      <td>1.77</td>\n",
       "    </tr>\n",
       "    <tr>\n",
       "      <th>2</th>\n",
       "      <td>Becel Gold 70% fat</td>\n",
       "      <td>1.49</td>\n",
       "    </tr>\n",
       "    <tr>\n",
       "      <th>3</th>\n",
       "      <td>Iglo fish fingers</td>\n",
       "      <td>2.99</td>\n",
       "    </tr>\n",
       "    <tr>\n",
       "      <th>4</th>\n",
       "      <td>Good &amp; Cheap Landgasthof Goulash Pan</td>\n",
       "      <td>1.99</td>\n",
       "    </tr>\n",
       "    <tr>\n",
       "      <th>...</th>\n",
       "      <td>...</td>\n",
       "      <td>...</td>\n",
       "    </tr>\n",
       "    <tr>\n",
       "      <th>5043</th>\n",
       "      <td>Nivea Extreme Stay Lipstick 17 Extrem Pinkini</td>\n",
       "      <td>11.49</td>\n",
       "    </tr>\n",
       "    <tr>\n",
       "      <th>5044</th>\n",
       "      <td>Nivea Extreme Stay Lipstick 21 Extreme Cinnam</td>\n",
       "      <td>11.49</td>\n",
       "    </tr>\n",
       "    <tr>\n",
       "      <th>5045</th>\n",
       "      <td>Nivea Extreme Stay Lipstick 11 Extremely Beige</td>\n",
       "      <td>11.49</td>\n",
       "    </tr>\n",
       "    <tr>\n",
       "      <th>5046</th>\n",
       "      <td>Nivea Turbo Color Nail Polish 12 Turbo Red</td>\n",
       "      <td>7.89</td>\n",
       "    </tr>\n",
       "    <tr>\n",
       "      <th>5047</th>\n",
       "      <td>Nivea Turbo Color Nail Polish 6 Turbo Goldpi</td>\n",
       "      <td>7.89</td>\n",
       "    </tr>\n",
       "  </tbody>\n",
       "</table>\n",
       "<p>4932 rows × 2 columns</p>\n",
       "</div>"
      ],
      "text/plain": [
       "                                                Name  Price\n",
       "0                                               Coke   1.39\n",
       "1                                            Nutella   1.77\n",
       "2                                 Becel Gold 70% fat   1.49\n",
       "3                                  Iglo fish fingers   2.99\n",
       "4               Good & Cheap Landgasthof Goulash Pan   1.99\n",
       "...                                              ...    ...\n",
       "5043   Nivea Extreme Stay Lipstick 17 Extrem Pinkini  11.49\n",
       "5044   Nivea Extreme Stay Lipstick 21 Extreme Cinnam  11.49\n",
       "5045  Nivea Extreme Stay Lipstick 11 Extremely Beige  11.49\n",
       "5046      Nivea Turbo Color Nail Polish 12 Turbo Red   7.89\n",
       "5047    Nivea Turbo Color Nail Polish 6 Turbo Goldpi   7.89\n",
       "\n",
       "[4932 rows x 2 columns]"
      ]
     },
     "execution_count": 22,
     "metadata": {},
     "output_type": "execute_result"
    }
   ],
   "source": [
    "supermarkets['edeka']"
   ]
  },
  {
   "cell_type": "markdown",
   "metadata": {},
   "source": [
    "- After the numbers I can extract the rest\n",
    "- Brands ? \n",
    "- Black list with words that I can exclude"
   ]
  },
  {
   "cell_type": "code",
   "execution_count": 23,
   "metadata": {},
   "outputs": [],
   "source": [
    "input_ing = \"Sunflower oil\""
   ]
  },
  {
   "cell_type": "code",
   "execution_count": 24,
   "metadata": {},
   "outputs": [],
   "source": [
    "matches = []\n",
    "\n",
    "for ing in supermarkets['aldinorth']['Name']:\n",
    "    ratio = fuzz.ratio(ing.lower(), input_ing.lower())\n",
    "\n",
    "    if ratio > 60:\n",
    "        matches.append((ing, ratio))"
   ]
  },
  {
   "cell_type": "code",
   "execution_count": 25,
   "metadata": {},
   "outputs": [
    {
     "data": {
      "text/plain": [
       "[('Buttella fine sunflower oil', 65)]"
      ]
     },
     "execution_count": 25,
     "metadata": {},
     "output_type": "execute_result"
    }
   ],
   "source": [
    "matches"
   ]
  },
  {
   "cell_type": "code",
   "execution_count": 26,
   "metadata": {},
   "outputs": [],
   "source": [
    "matches = sorted(matches, key=lambda x: x[1], reverse=True)"
   ]
  },
  {
   "cell_type": "code",
   "execution_count": 27,
   "metadata": {},
   "outputs": [],
   "source": [
    "# Add the best match to a list\n",
    "clean_list = []\n",
    "\n",
    "clean_list.append(matches[0][0])"
   ]
  },
  {
   "cell_type": "code",
   "execution_count": 28,
   "metadata": {},
   "outputs": [
    {
     "data": {
      "text/plain": [
       "['Buttella fine sunflower oil']"
      ]
     },
     "execution_count": 28,
     "metadata": {},
     "output_type": "execute_result"
    }
   ],
   "source": [
    "clean_list"
   ]
  },
  {
   "cell_type": "markdown",
   "metadata": {},
   "source": [
    "Our final algorithm should be able to: \n",
    "    \n",
    "    Step 1:\n",
    "    -------\n",
    "    \n",
    "    - [Input] - [List of ingredients (not necessarly exactly same as database)]\n",
    "    - [Output] - list of supermarkets with total price and coverage\n",
    "    \n",
    "    Step 2:\n",
    "    -------\n",
    "    \n",
    "    - [Input] - user selects one supermarket\n",
    "    - [Output] - Shopping list with ingredient + price\n",
    "    \n",
    "    Step 3:\n",
    "    -------\n",
    "    \n",
    "    - [Output] - list of 5 items that they might be interested in shopping\n",
    "    \n"
   ]
  },
  {
   "cell_type": "code",
   "execution_count": 29,
   "metadata": {},
   "outputs": [
    {
     "data": {
      "text/html": [
       "<div>\n",
       "<style scoped>\n",
       "    .dataframe tbody tr th:only-of-type {\n",
       "        vertical-align: middle;\n",
       "    }\n",
       "\n",
       "    .dataframe tbody tr th {\n",
       "        vertical-align: top;\n",
       "    }\n",
       "\n",
       "    .dataframe thead th {\n",
       "        text-align: right;\n",
       "    }\n",
       "</style>\n",
       "<table border=\"1\" class=\"dataframe\">\n",
       "  <thead>\n",
       "    <tr style=\"text-align: right;\">\n",
       "      <th></th>\n",
       "      <th>Name</th>\n",
       "      <th>Price</th>\n",
       "    </tr>\n",
       "  </thead>\n",
       "  <tbody>\n",
       "    <tr>\n",
       "      <th>0</th>\n",
       "      <td>Tamara extra strawberry jam</td>\n",
       "      <td>0.99</td>\n",
       "    </tr>\n",
       "    <tr>\n",
       "      <th>1</th>\n",
       "      <td>Nutella</td>\n",
       "      <td>3.79</td>\n",
       "    </tr>\n",
       "    <tr>\n",
       "      <th>2</th>\n",
       "      <td>Coke</td>\n",
       "      <td>2.89</td>\n",
       "    </tr>\n",
       "    <tr>\n",
       "      <th>3</th>\n",
       "      <td>Trader Joe's / Aldi Nord Lemon Iced Tea</td>\n",
       "      <td>0.49</td>\n",
       "    </tr>\n",
       "    <tr>\n",
       "      <th>4</th>\n",
       "      <td>Iglo fish fingers</td>\n",
       "      <td>3.49</td>\n",
       "    </tr>\n",
       "    <tr>\n",
       "      <th>...</th>\n",
       "      <td>...</td>\n",
       "      <td>...</td>\n",
       "    </tr>\n",
       "    <tr>\n",
       "      <th>2984</th>\n",
       "      <td>Moser Roth Fine Easter Eggs Fine Bitter 70%</td>\n",
       "      <td>3.65</td>\n",
       "    </tr>\n",
       "    <tr>\n",
       "      <th>2985</th>\n",
       "      <td>Moser Roth Fine Easter Eggs Noble Nougat</td>\n",
       "      <td>1.49</td>\n",
       "    </tr>\n",
       "    <tr>\n",
       "      <th>2986</th>\n",
       "      <td>Moser Roth Fine Easter Eggs Chocolate Candy</td>\n",
       "      <td>0.99</td>\n",
       "    </tr>\n",
       "    <tr>\n",
       "      <th>2987</th>\n",
       "      <td>Moser Roth Fine Easter Eggs Noble Collection w...</td>\n",
       "      <td>1.15</td>\n",
       "    </tr>\n",
       "    <tr>\n",
       "      <th>2988</th>\n",
       "      <td>Ombra Sun Care Sunscreen Light Touch, SPF 30</td>\n",
       "      <td>1.79</td>\n",
       "    </tr>\n",
       "  </tbody>\n",
       "</table>\n",
       "<p>2958 rows × 2 columns</p>\n",
       "</div>"
      ],
      "text/plain": [
       "                                                   Name  Price\n",
       "0                           Tamara extra strawberry jam   0.99\n",
       "1                                               Nutella   3.79\n",
       "2                                                  Coke   2.89\n",
       "3               Trader Joe's / Aldi Nord Lemon Iced Tea   0.49\n",
       "4                                     Iglo fish fingers   3.49\n",
       "...                                                 ...    ...\n",
       "2984        Moser Roth Fine Easter Eggs Fine Bitter 70%   3.65\n",
       "2985           Moser Roth Fine Easter Eggs Noble Nougat   1.49\n",
       "2986        Moser Roth Fine Easter Eggs Chocolate Candy   0.99\n",
       "2987  Moser Roth Fine Easter Eggs Noble Collection w...   1.15\n",
       "2988       Ombra Sun Care Sunscreen Light Touch, SPF 30   1.79\n",
       "\n",
       "[2958 rows x 2 columns]"
      ]
     },
     "execution_count": 29,
     "metadata": {},
     "output_type": "execute_result"
    }
   ],
   "source": [
    "supermarkets['aldinorth']"
   ]
  },
  {
   "cell_type": "code",
   "execution_count": 122,
   "metadata": {},
   "outputs": [],
   "source": [
    "def get_products(ingredients:list):\n",
    "    \n",
    "            # ...\n",
    "    supermarkets_lists = {\n",
    "            'aldinorth': [],\n",
    "            'aldisouth': [],\n",
    "            'edeka': []\n",
    "            #'kaufan': pd.read_pickle('data/products-clean/edeka-products-clean.pkl')\n",
    "            #'rewe': pd.read_pickle('data/products-clean/edeka-products-clean.pkl')\n",
    "            #'lidl':\n",
    "        }\n",
    "    \n",
    "    for market in supermarkets:\n",
    "\n",
    "        for ing in ingredients:\n",
    "        \n",
    "            # Empty dictionary where we will store the matching products\n",
    "            matches = []   \n",
    "        \n",
    "            # For each product, iterate through each supermarket and generate a list\n",
    "            for product in supermarkets[market]['Name']:\n",
    "                ratio = fuzz.ratio(product.lower(), ing.lower())\n",
    "\n",
    "                if ratio > 50:\n",
    "                    matches.append((product, ratio))\n",
    "                    matches = sorted(matches, key=lambda x: x[1], reverse=True)\n",
    "                \n",
    "            # If matches list is not empty\n",
    "            if matches:\n",
    "                supermarkets_lists[market].append(matches[0][0])\n",
    "            else: \n",
    "                supermarkets_lists[market].append(np.nan)\n",
    "\n",
    "    return supermarkets_lists"
   ]
  },
  {
   "cell_type": "markdown",
   "metadata": {},
   "source": [
    "The function has to have different input depending on the supermarket. That means that we have to modify the search_list_grouped function, since it has been developed to be able to take only 1 input argument."
   ]
  },
  {
   "cell_type": "code",
   "execution_count": 123,
   "metadata": {},
   "outputs": [
    {
     "data": {
      "text/plain": [
       "{'aldinorth': ['meatloaf',\n",
       "  'Coke',\n",
       "  'Buttella fine sunflower oil',\n",
       "  nan,\n",
       "  'Onion baguette',\n",
       "  'Albona milk rice'],\n",
       " 'aldisouth': [nan,\n",
       "  'Coke',\n",
       "  'Bellasan sunflower oil',\n",
       "  'garlic',\n",
       "  'Onions',\n",
       "  'RYZ Basmati rice'],\n",
       " 'edeka': [nan,\n",
       "  'Coke',\n",
       "  'Thomy sunflower oil',\n",
       "  'garlic',\n",
       "  'Onions',\n",
       "  'Lien Ying Basmati rice']}"
      ]
     },
     "execution_count": 123,
     "metadata": {},
     "output_type": "execute_result"
    }
   ],
   "source": [
    "get_products(['meat', 'Coce', 'Sunflower oil', 'Garlic', 'Onion', 'Basmati rice'])"
   ]
  },
  {
   "cell_type": "code",
   "execution_count": 124,
   "metadata": {},
   "outputs": [],
   "source": [
    "def get_list_products_price(ingredients:list):\n",
    "    \n",
    "    # Create a dictionary with the supermarkets and a list with the products\n",
    "    supermarkets_p = {\n",
    "        'aldinorth': get_products(ingredients)['aldinorth'],\n",
    "        'aldisouth': get_products(ingredients)['aldisouth'],\n",
    "        'edeka': get_products(ingredients)['edeka']\n",
    "        # ...\n",
    "    }\n",
    "    \n",
    "    # New empty df\n",
    "    result = pd.DataFrame(columns=['Ingredient', 'Supermarket', 'Product', 'Price', 'Coverage'])\n",
    "\n",
    "    # Iterate and populate a df with the final result\n",
    "    for market in supermarkets_p:\n",
    "        \n",
    "        # Iterate per each product in each supermarket\n",
    "        s = supermarkets[market] # Dictionary which contains the detailed info of all products per supermarket\n",
    "        \n",
    "        \n",
    "        ### NEW TO FIND HOW TO ADD THE NAN with THE COVERAGE 0.\n",
    "        for prod, ing in supermarkets_p[market], ingredients:    \n",
    "            try:\n",
    "                price = s[s['Name'] == ing]['Price'].values[0]\n",
    "                df2 = {'Ingredient': ing, 'Supermarket': market, 'Product': prod, 'Price': price, 'Coverage': 1}\n",
    "                result = result.append(df2, ignore_index=True)\n",
    "            except:\n",
    "                result = result.append({'Ingredient': ing, 'Supermarket': market, 'Product': np.nan, 'Price': np.nan, 'Coverage': 0}, ignore_index=True)\n",
    "    \n",
    "    # 'result' contains detailed information about product and price per each supermarket\n",
    "    \n",
    "    # Change to numeric\n",
    "    result['Price'] = pd.to_numeric(result['Price'], errors='coerce')\n",
    "    result['Coverage'] = pd.to_numeric(result['Coverage'], errors='coerce') * 100\n",
    "    \n",
    "    return result\n"
   ]
  },
  {
   "cell_type": "code",
   "execution_count": 125,
   "metadata": {},
   "outputs": [
    {
     "ename": "ValueError",
     "evalue": "too many values to unpack (expected 2)",
     "output_type": "error",
     "traceback": [
      "\u001b[0;31m---------------------------------------------------------------------------\u001b[0m",
      "\u001b[0;31mValueError\u001b[0m                                Traceback (most recent call last)",
      "\u001b[0;32m<ipython-input-125-c48ffacaa1d0>\u001b[0m in \u001b[0;36m<module>\u001b[0;34m\u001b[0m\n\u001b[0;32m----> 1\u001b[0;31m \u001b[0mget_list_products_price\u001b[0m\u001b[0;34m(\u001b[0m\u001b[0;34m[\u001b[0m\u001b[0;34m'meat'\u001b[0m\u001b[0;34m,\u001b[0m \u001b[0;34m'Coce'\u001b[0m\u001b[0;34m,\u001b[0m \u001b[0;34m'Sunflower oil'\u001b[0m\u001b[0;34m,\u001b[0m \u001b[0;34m'Garlic'\u001b[0m\u001b[0;34m,\u001b[0m \u001b[0;34m'Onion'\u001b[0m\u001b[0;34m,\u001b[0m \u001b[0;34m'Basmati rice'\u001b[0m\u001b[0;34m,\u001b[0m \u001b[0;34m'Spaghetti'\u001b[0m\u001b[0;34m,\u001b[0m \u001b[0;34m'Miso soup'\u001b[0m\u001b[0;34m,\u001b[0m \u001b[0;34m'Tempeh'\u001b[0m\u001b[0;34m,\u001b[0m \u001b[0;34m'Soya Sauce'\u001b[0m\u001b[0;34m]\u001b[0m\u001b[0;34m)\u001b[0m\u001b[0;34m\u001b[0m\u001b[0;34m\u001b[0m\u001b[0m\n\u001b[0m",
      "\u001b[0;32m<ipython-input-124-d0617447ffd3>\u001b[0m in \u001b[0;36mget_list_products_price\u001b[0;34m(ingredients)\u001b[0m\n\u001b[1;32m     18\u001b[0m         \u001b[0ms\u001b[0m \u001b[0;34m=\u001b[0m \u001b[0msupermarkets\u001b[0m\u001b[0;34m[\u001b[0m\u001b[0mmarket\u001b[0m\u001b[0;34m]\u001b[0m \u001b[0;31m# Dictionary which contains the detailed info of all products per supermarket\u001b[0m\u001b[0;34m\u001b[0m\u001b[0;34m\u001b[0m\u001b[0m\n\u001b[1;32m     19\u001b[0m \u001b[0;34m\u001b[0m\u001b[0m\n\u001b[0;32m---> 20\u001b[0;31m         \u001b[0;32mfor\u001b[0m \u001b[0mprod\u001b[0m\u001b[0;34m,\u001b[0m \u001b[0ming\u001b[0m \u001b[0;32min\u001b[0m \u001b[0msupermarkets_p\u001b[0m\u001b[0;34m[\u001b[0m\u001b[0mmarket\u001b[0m\u001b[0;34m]\u001b[0m\u001b[0;34m,\u001b[0m \u001b[0mingredients\u001b[0m\u001b[0;34m:\u001b[0m\u001b[0;34m\u001b[0m\u001b[0;34m\u001b[0m\u001b[0m\n\u001b[0m\u001b[1;32m     21\u001b[0m             \u001b[0;32mtry\u001b[0m\u001b[0;34m:\u001b[0m\u001b[0;34m\u001b[0m\u001b[0;34m\u001b[0m\u001b[0m\n\u001b[1;32m     22\u001b[0m                 \u001b[0mprice\u001b[0m \u001b[0;34m=\u001b[0m \u001b[0ms\u001b[0m\u001b[0;34m[\u001b[0m\u001b[0ms\u001b[0m\u001b[0;34m[\u001b[0m\u001b[0;34m'Name'\u001b[0m\u001b[0;34m]\u001b[0m \u001b[0;34m==\u001b[0m \u001b[0ming\u001b[0m\u001b[0;34m]\u001b[0m\u001b[0;34m[\u001b[0m\u001b[0;34m'Price'\u001b[0m\u001b[0;34m]\u001b[0m\u001b[0;34m.\u001b[0m\u001b[0mvalues\u001b[0m\u001b[0;34m[\u001b[0m\u001b[0;36m0\u001b[0m\u001b[0;34m]\u001b[0m\u001b[0;34m\u001b[0m\u001b[0;34m\u001b[0m\u001b[0m\n",
      "\u001b[0;31mValueError\u001b[0m: too many values to unpack (expected 2)"
     ]
    }
   ],
   "source": [
    "get_list_products_price(['meat', 'Coce', 'Sunflower oil', 'Garlic', 'Onion', 'Basmati rice', 'Spaghetti', 'Miso soup', 'Tempeh', 'Soya Sauce'])"
   ]
  },
  {
   "cell_type": "code",
   "execution_count": 87,
   "metadata": {},
   "outputs": [
    {
     "data": {
      "text/html": [
       "<div>\n",
       "<style scoped>\n",
       "    .dataframe tbody tr th:only-of-type {\n",
       "        vertical-align: middle;\n",
       "    }\n",
       "\n",
       "    .dataframe tbody tr th {\n",
       "        vertical-align: top;\n",
       "    }\n",
       "\n",
       "    .dataframe thead th {\n",
       "        text-align: right;\n",
       "    }\n",
       "</style>\n",
       "<table border=\"1\" class=\"dataframe\">\n",
       "  <thead>\n",
       "    <tr style=\"text-align: right;\">\n",
       "      <th></th>\n",
       "      <th>Name</th>\n",
       "      <th>Price</th>\n",
       "    </tr>\n",
       "  </thead>\n",
       "  <tbody>\n",
       "    <tr>\n",
       "      <th>3944</th>\n",
       "      <td>garlic</td>\n",
       "      <td>9.9</td>\n",
       "    </tr>\n",
       "  </tbody>\n",
       "</table>\n",
       "</div>"
      ],
      "text/plain": [
       "        Name  Price\n",
       "3944  garlic    9.9"
      ]
     },
     "execution_count": 87,
     "metadata": {},
     "output_type": "execute_result"
    }
   ],
   "source": [
    "supermarkets['edeka'][supermarkets['edeka']['Name'] == 'garlic']"
   ]
  },
  {
   "cell_type": "code",
   "execution_count": 96,
   "metadata": {},
   "outputs": [],
   "source": [
    "# We want to see:\n",
    "#    1. Where we will be able to find all the products\n",
    "#    2. Where can we buy them at the best price\n",
    "\n",
    "def get_supermarket_choice(ingredients:list):\n",
    "    \n",
    "    result = get_list_products_price(ingredients) \n",
    "    \n",
    "    # Group by 'Supermarket'\n",
    "    results = result.groupby('Supermarket').agg({'Price':'sum', 'Coverage': 'mean'}).reset_index()\n",
    "    results = results.sort_values('Price').reset_index(drop=True)\n",
    "    \n",
    "    return results"
   ]
  },
  {
   "cell_type": "code",
   "execution_count": 97,
   "metadata": {},
   "outputs": [
    {
     "data": {
      "text/html": [
       "<div>\n",
       "<style scoped>\n",
       "    .dataframe tbody tr th:only-of-type {\n",
       "        vertical-align: middle;\n",
       "    }\n",
       "\n",
       "    .dataframe tbody tr th {\n",
       "        vertical-align: top;\n",
       "    }\n",
       "\n",
       "    .dataframe thead th {\n",
       "        text-align: right;\n",
       "    }\n",
       "</style>\n",
       "<table border=\"1\" class=\"dataframe\">\n",
       "  <thead>\n",
       "    <tr style=\"text-align: right;\">\n",
       "      <th></th>\n",
       "      <th>Supermarket</th>\n",
       "      <th>Price</th>\n",
       "      <th>Coverage</th>\n",
       "    </tr>\n",
       "  </thead>\n",
       "  <tbody>\n",
       "    <tr>\n",
       "      <th>0</th>\n",
       "      <td>aldisouth</td>\n",
       "      <td>8.25</td>\n",
       "      <td>100</td>\n",
       "    </tr>\n",
       "    <tr>\n",
       "      <th>1</th>\n",
       "      <td>aldinorth</td>\n",
       "      <td>8.56</td>\n",
       "      <td>100</td>\n",
       "    </tr>\n",
       "    <tr>\n",
       "      <th>2</th>\n",
       "      <td>edeka</td>\n",
       "      <td>19.34</td>\n",
       "      <td>100</td>\n",
       "    </tr>\n",
       "  </tbody>\n",
       "</table>\n",
       "</div>"
      ],
      "text/plain": [
       "  Supermarket  Price  Coverage\n",
       "0   aldisouth   8.25       100\n",
       "1   aldinorth   8.56       100\n",
       "2       edeka  19.34       100"
      ]
     },
     "execution_count": 97,
     "metadata": {},
     "output_type": "execute_result"
    }
   ],
   "source": [
    "get_supermarket_choice(['meat', 'Coce', 'Sunflower oil', 'Garlic', 'Onion', 'Basmati rice', 'Spaghetti', 'Miso soup', 'Tempeh', 'Soya Sauce'])"
   ]
  },
  {
   "cell_type": "code",
   "execution_count": 105,
   "metadata": {},
   "outputs": [],
   "source": [
    "# We want to see:\n",
    "#    1. Detailed list of the product names and price\n",
    "def get_shopping_list(ingredients:list):\n",
    "    \n",
    "    result = get_list_products_price(ingredients) \n",
    "    results = get_supermarket_choice(ingredients)\n",
    "    \n",
    "    # Ask the user where they would like to do the grocery shopping\n",
    "    user_input = input('Where would you like to go shopping?\\n')\n",
    "    \n",
    "    return result[result['Supermarket'] == user_input]"
   ]
  },
  {
   "cell_type": "code",
   "execution_count": 115,
   "metadata": {},
   "outputs": [
    {
     "name": "stdout",
     "output_type": "stream",
     "text": [
      "Where would you like to go shopping?\n",
      "aldinorth\n"
     ]
    },
    {
     "data": {
      "text/html": [
       "<div>\n",
       "<style scoped>\n",
       "    .dataframe tbody tr th:only-of-type {\n",
       "        vertical-align: middle;\n",
       "    }\n",
       "\n",
       "    .dataframe tbody tr th {\n",
       "        vertical-align: top;\n",
       "    }\n",
       "\n",
       "    .dataframe thead th {\n",
       "        text-align: right;\n",
       "    }\n",
       "</style>\n",
       "<table border=\"1\" class=\"dataframe\">\n",
       "  <thead>\n",
       "    <tr style=\"text-align: right;\">\n",
       "      <th></th>\n",
       "      <th>Supermarket</th>\n",
       "      <th>Ingredient</th>\n",
       "      <th>Price</th>\n",
       "      <th>Coverage</th>\n",
       "    </tr>\n",
       "  </thead>\n",
       "  <tbody>\n",
       "    <tr>\n",
       "      <th>0</th>\n",
       "      <td>aldinorth</td>\n",
       "      <td>Greece peppers</td>\n",
       "      <td>0.99</td>\n",
       "      <td>100</td>\n",
       "    </tr>\n",
       "    <tr>\n",
       "      <th>1</th>\n",
       "      <td>aldinorth</td>\n",
       "      <td>Sölde meatballs</td>\n",
       "      <td>NaN</td>\n",
       "      <td>100</td>\n",
       "    </tr>\n",
       "    <tr>\n",
       "      <th>2</th>\n",
       "      <td>aldinorth</td>\n",
       "      <td>Coke</td>\n",
       "      <td>2.89</td>\n",
       "      <td>100</td>\n",
       "    </tr>\n",
       "    <tr>\n",
       "      <th>3</th>\n",
       "      <td>aldinorth</td>\n",
       "      <td>Buttella fine sunflower oil</td>\n",
       "      <td>0.99</td>\n",
       "      <td>100</td>\n",
       "    </tr>\n",
       "    <tr>\n",
       "      <th>4</th>\n",
       "      <td>aldinorth</td>\n",
       "      <td>Onion baguette</td>\n",
       "      <td>0.89</td>\n",
       "      <td>100</td>\n",
       "    </tr>\n",
       "    <tr>\n",
       "      <th>5</th>\n",
       "      <td>aldinorth</td>\n",
       "      <td>Albona milk rice</td>\n",
       "      <td>0.45</td>\n",
       "      <td>100</td>\n",
       "    </tr>\n",
       "    <tr>\n",
       "      <th>6</th>\n",
       "      <td>aldinorth</td>\n",
       "      <td>Good organic spaghetti</td>\n",
       "      <td>0.75</td>\n",
       "      <td>100</td>\n",
       "    </tr>\n",
       "    <tr>\n",
       "      <th>7</th>\n",
       "      <td>aldinorth</td>\n",
       "      <td>Milsa sour cream</td>\n",
       "      <td>0.35</td>\n",
       "      <td>100</td>\n",
       "    </tr>\n",
       "  </tbody>\n",
       "</table>\n",
       "</div>"
      ],
      "text/plain": [
       "  Supermarket                   Ingredient  Price  Coverage\n",
       "0   aldinorth               Greece peppers   0.99       100\n",
       "1   aldinorth              Sölde meatballs    NaN       100\n",
       "2   aldinorth                         Coke   2.89       100\n",
       "3   aldinorth  Buttella fine sunflower oil   0.99       100\n",
       "4   aldinorth               Onion baguette   0.89       100\n",
       "5   aldinorth             Albona milk rice   0.45       100\n",
       "6   aldinorth       Good organic spaghetti   0.75       100\n",
       "7   aldinorth             Milsa sour cream   0.35       100"
      ]
     },
     "execution_count": 115,
     "metadata": {},
     "output_type": "execute_result"
    }
   ],
   "source": [
    "get_shopping_list(['tofu', 'black pepper', 'lemon' 'meatballs', 'Coce', 'Sunflower oil', 'Garlic', 'Onion', 'Basmati rice', 'Spaghetti', 'Miso soup', 'Tempeh'])"
   ]
  },
  {
   "cell_type": "markdown",
   "metadata": {},
   "source": [
    "### Create one function with the whole process"
   ]
  },
  {
   "cell_type": "code",
   "execution_count": null,
   "metadata": {},
   "outputs": [],
   "source": [
    "def demo(ingredients:list):\n",
    "    \n",
    "    # 1. Convert the ingredient list to product lists per each supermarket\n",
    "    result = get_list_products_price(ingredients)\n",
    "    \n",
    "    # 2. Show an overview of their shopping list grouped by supermarket\n",
    "    results = get_supermarket_choice(ingredients)\n",
    "    \n",
    "        return results\n",
    "    \n",
    "    # 3. Ask the user where they would like to do the grocery shopping\n",
    "    user_input = input('Where would you like to go shopping?\\n')\n",
    "    \n",
    "    # 4. Show the user theis shopping list\n",
    "    return result[result['Supermarket'] == user_input]\n",
    "    \n",
    "    # 5. Show products that they may be interested in buy\n",
    "\n",
    "## HOW CAN I MAKE IT INTERACTIVE?"
   ]
  },
  {
   "cell_type": "code",
   "execution_count": null,
   "metadata": {},
   "outputs": [],
   "source": [
    "demo(['tofu', 'black pepper', 'lemon' 'meatballs', 'Coce', 'Sunflower oil', 'Onion', 'Basmati rice', 'Spaghetti', 'Miso soup', 'Tempeh', 'Soya Sauce'])"
   ]
  },
  {
   "cell_type": "markdown",
   "metadata": {},
   "source": [
    "### Unify with the ML model"
   ]
  },
  {
   "cell_type": "code",
   "execution_count": null,
   "metadata": {},
   "outputs": [],
   "source": []
  }
 ],
 "metadata": {
  "kernelspec": {
   "display_name": "Python 3",
   "language": "python",
   "name": "python3"
  },
  "language_info": {
   "codemirror_mode": {
    "name": "ipython",
    "version": 3
   },
   "file_extension": ".py",
   "mimetype": "text/x-python",
   "name": "python",
   "nbconvert_exporter": "python",
   "pygments_lexer": "ipython3",
   "version": "3.8.3"
  }
 },
 "nbformat": 4,
 "nbformat_minor": 4
}
