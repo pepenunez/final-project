{
 "cells": [
  {
   "cell_type": "markdown",
   "metadata": {},
   "source": [
    "# Supermarkets modeling\n",
    "\n",
    "The goal of this document...."
   ]
  },
  {
   "cell_type": "code",
   "execution_count": 14,
   "metadata": {},
   "outputs": [],
   "source": [
    "import pandas as pd\n",
    "import numpy as np"
   ]
  },
  {
   "cell_type": "markdown",
   "metadata": {},
   "source": [
    "## 1. Import data"
   ]
  },
  {
   "cell_type": "code",
   "execution_count": 15,
   "metadata": {},
   "outputs": [],
   "source": [
    "# import data\n",
    "supermarkets = {\n",
    "    'aldinorth': pd.read_pickle('data/products-clean/aldinorth-products-clean.pkl'),\n",
    "    'aldisouth': pd.read_pickle('data/products-clean/aldisouth-products-clean.pkl'),\n",
    "    'edeka': pd.read_pickle('data/products-clean/edeka-products-clean.pkl')\n",
    "    #'kaufan': pd.read_pickle('data/products-clean/edeka-products-clean.pkl')\n",
    "    #'rewe': pd.read_pickle('data/products-clean/edeka-products-clean.pkl')\n",
    "    #'lidl': pd.read_pickle('data/products-clean/edeka-products-clean.pkl')\n",
    "}"
   ]
  },
  {
   "cell_type": "code",
   "execution_count": 17,
   "metadata": {},
   "outputs": [
    {
     "data": {
      "text/html": [
       "<div>\n",
       "<style scoped>\n",
       "    .dataframe tbody tr th:only-of-type {\n",
       "        vertical-align: middle;\n",
       "    }\n",
       "\n",
       "    .dataframe tbody tr th {\n",
       "        vertical-align: top;\n",
       "    }\n",
       "\n",
       "    .dataframe thead th {\n",
       "        text-align: right;\n",
       "    }\n",
       "</style>\n",
       "<table border=\"1\" class=\"dataframe\">\n",
       "  <thead>\n",
       "    <tr style=\"text-align: right;\">\n",
       "      <th></th>\n",
       "      <th>Name</th>\n",
       "      <th>Price</th>\n",
       "    </tr>\n",
       "  </thead>\n",
       "  <tbody>\n",
       "    <tr>\n",
       "      <th>0</th>\n",
       "      <td>Tamara extra strawberry jam</td>\n",
       "      <td>0.99</td>\n",
       "    </tr>\n",
       "    <tr>\n",
       "      <th>1</th>\n",
       "      <td>Nutella</td>\n",
       "      <td>3.79</td>\n",
       "    </tr>\n",
       "    <tr>\n",
       "      <th>2</th>\n",
       "      <td>Coke</td>\n",
       "      <td>2.89</td>\n",
       "    </tr>\n",
       "    <tr>\n",
       "      <th>3</th>\n",
       "      <td>Trader Joe's / Aldi Nord Lemon Iced Tea</td>\n",
       "      <td>0.49</td>\n",
       "    </tr>\n",
       "    <tr>\n",
       "      <th>4</th>\n",
       "      <td>Iglo fish fingers</td>\n",
       "      <td>3.49</td>\n",
       "    </tr>\n",
       "  </tbody>\n",
       "</table>\n",
       "</div>"
      ],
      "text/plain": [
       "                                      Name  Price\n",
       "0              Tamara extra strawberry jam   0.99\n",
       "1                                  Nutella   3.79\n",
       "2                                     Coke   2.89\n",
       "3  Trader Joe's / Aldi Nord Lemon Iced Tea   0.49\n",
       "4                        Iglo fish fingers   3.49"
      ]
     },
     "execution_count": 17,
     "metadata": {},
     "output_type": "execute_result"
    }
   ],
   "source": [
    "supermarkets['aldinorth'].head()"
   ]
  },
  {
   "cell_type": "markdown",
   "metadata": {},
   "source": [
    "## 2. Modeling to do's\n",
    "\n",
    "- Algorithm 1.0 - Build an algorithm able to (input: ingredient, output: % coverage + total price per each supermarket)\n",
    "- Algorithm 2.0 - Build an algorithm able to (input: list of ingredients, output: % coverage + total price per each supermarket)\n",
    "- Algorithm 3.0 - Use fuzzy buzzy to match the input (potato) with the ingredients by similarity.\n",
    "\n",
    "### 2.1 Algorithm 1.0\n",
    "Build an algorithm able to: \n",
    "\n",
    "- [input]: ingredient\n",
    "\n",
    "- [output]: price in each supermarket"
   ]
  },
  {
   "cell_type": "code",
   "execution_count": 18,
   "metadata": {},
   "outputs": [
    {
     "data": {
      "text/plain": [
       "3.79"
      ]
     },
     "execution_count": 18,
     "metadata": {},
     "output_type": "execute_result"
    }
   ],
   "source": [
    "# We are looking for the price of the ingredient that we are searching per each supermarket\n",
    "supermarkets['aldinorth'][supermarkets['aldinorth']['Name'] == 'Nutella']['Price'].values[0]"
   ]
  },
  {
   "cell_type": "code",
   "execution_count": 27,
   "metadata": {},
   "outputs": [],
   "source": [
    "# Function to get the prices with an ingredient as input\n",
    "def search(ingredient:str):\n",
    "    # New empty list\n",
    "    result = []\n",
    "    for market in supermarkets:\n",
    "        a = supermarkets[market]\n",
    "        try:\n",
    "            price = a[a['Name'] == ingredient]['Price'].values[0]\n",
    "            result.append(f'{market}: {price}')\n",
    "        except:\n",
    "            result.append(f'{market}: Not found')\n",
    "    return result\n",
    "\n",
    "# Try it with 'Nutella' because it is available in every supermarket\n",
    "# Try with 'Coke'"
   ]
  },
  {
   "cell_type": "code",
   "execution_count": 28,
   "metadata": {},
   "outputs": [
    {
     "data": {
      "text/plain": [
       "['aldinorth: 3.79', 'aldisouth: 3.89', 'edeka: 1.77']"
      ]
     },
     "execution_count": 28,
     "metadata": {},
     "output_type": "execute_result"
    }
   ],
   "source": [
    "# Testing the function\n",
    "search('Nutella')"
   ]
  },
  {
   "cell_type": "code",
   "execution_count": 29,
   "metadata": {},
   "outputs": [
    {
     "data": {
      "text/plain": [
       "['aldinorth: 2.89', 'aldisouth: 0.99', 'edeka: 1.39']"
      ]
     },
     "execution_count": 29,
     "metadata": {},
     "output_type": "execute_result"
    }
   ],
   "source": [
    "# Testing the function\n",
    "search('Coke')"
   ]
  },
  {
   "cell_type": "markdown",
   "metadata": {},
   "source": [
    "We can see that there are some inconsistencies with the 'Coca Cola' prices. The problem is that the size of the packs are not normalized. "
   ]
  },
  {
   "cell_type": "code",
   "execution_count": 31,
   "metadata": {},
   "outputs": [
    {
     "data": {
      "text/html": [
       "<div>\n",
       "<style scoped>\n",
       "    .dataframe tbody tr th:only-of-type {\n",
       "        vertical-align: middle;\n",
       "    }\n",
       "\n",
       "    .dataframe tbody tr th {\n",
       "        vertical-align: top;\n",
       "    }\n",
       "\n",
       "    .dataframe thead th {\n",
       "        text-align: right;\n",
       "    }\n",
       "</style>\n",
       "<table border=\"1\" class=\"dataframe\">\n",
       "  <thead>\n",
       "    <tr style=\"text-align: right;\">\n",
       "      <th></th>\n",
       "      <th>Name</th>\n",
       "      <th>Price</th>\n",
       "    </tr>\n",
       "  </thead>\n",
       "  <tbody>\n",
       "    <tr>\n",
       "      <th>0</th>\n",
       "      <td>Coke</td>\n",
       "      <td>1.39</td>\n",
       "    </tr>\n",
       "  </tbody>\n",
       "</table>\n",
       "</div>"
      ],
      "text/plain": [
       "   Name  Price\n",
       "0  Coke   1.39"
      ]
     },
     "execution_count": 31,
     "metadata": {},
     "output_type": "execute_result"
    }
   ],
   "source": [
    "supermarkets['edeka'][supermarkets['edeka']['Name'] == 'Coke']"
   ]
  },
  {
   "cell_type": "code",
   "execution_count": 39,
   "metadata": {},
   "outputs": [
    {
     "data": {
      "text/html": [
       "<div>\n",
       "<style scoped>\n",
       "    .dataframe tbody tr th:only-of-type {\n",
       "        vertical-align: middle;\n",
       "    }\n",
       "\n",
       "    .dataframe tbody tr th {\n",
       "        vertical-align: top;\n",
       "    }\n",
       "\n",
       "    .dataframe thead th {\n",
       "        text-align: right;\n",
       "    }\n",
       "</style>\n",
       "<table border=\"1\" class=\"dataframe\">\n",
       "  <thead>\n",
       "    <tr style=\"text-align: right;\">\n",
       "      <th></th>\n",
       "      <th>Name</th>\n",
       "      <th>Price</th>\n",
       "    </tr>\n",
       "  </thead>\n",
       "  <tbody>\n",
       "    <tr>\n",
       "      <th>0</th>\n",
       "      <td>Coke</td>\n",
       "      <td>1.39</td>\n",
       "    </tr>\n",
       "  </tbody>\n",
       "</table>\n",
       "</div>"
      ],
      "text/plain": [
       "   Name  Price\n",
       "0  Coke   1.39"
      ]
     },
     "execution_count": 39,
     "metadata": {},
     "output_type": "execute_result"
    }
   ],
   "source": [
    "supermarkets['edeka'][supermarkets['edeka']['Name'].str.contains('Coke')]"
   ]
  },
  {
   "cell_type": "markdown",
   "metadata": {},
   "source": [
    "### 2.2 Algorithm 2.0\n",
    "Build an algorithm able to:\n",
    "\n",
    "- [input]: list of ingredients (ing as it is in the dataset)\n",
    "- [output]: % coverage + total price per each supermarket"
   ]
  },
  {
   "cell_type": "code",
   "execution_count": 40,
   "metadata": {},
   "outputs": [],
   "source": [
    "def search_list(ingredients:list):\n",
    "    # New empty list\n",
    "    result = []\n",
    "    \n",
    "    for market in supermarkets:\n",
    "        \n",
    "        a = supermarkets[market]\n",
    "        \n",
    "        for ing in ingredients:    \n",
    "            try:\n",
    "                price = a[a['Name'] == ing]['Price'].values[0]\n",
    "                result.append(f'{market}: {price} for the {ing}')\n",
    "            except:\n",
    "                result.append(f'{market}: Not found')\n",
    "            \n",
    "    return result"
   ]
  },
  {
   "cell_type": "code",
   "execution_count": 42,
   "metadata": {},
   "outputs": [
    {
     "data": {
      "text/plain": [
       "['aldinorth: 2.89 for the Coke',\n",
       " 'aldinorth: 3.79 for the Nutella',\n",
       " 'aldisouth: 0.99 for the Coke',\n",
       " 'aldisouth: 3.89 for the Nutella',\n",
       " 'edeka: 1.39 for the Coke',\n",
       " 'edeka: 1.77 for the Nutella']"
      ]
     },
     "execution_count": 42,
     "metadata": {},
     "output_type": "execute_result"
    }
   ],
   "source": [
    "search_list(['Coke', 'Nutella'])"
   ]
  },
  {
   "cell_type": "code",
   "execution_count": 153,
   "metadata": {},
   "outputs": [],
   "source": [
    "result = pd.DataFrame(columns=['Supermarket', 'Ingredient', 'Price', 'Coverage'])"
   ]
  },
  {
   "cell_type": "code",
   "execution_count": 154,
   "metadata": {},
   "outputs": [
    {
     "data": {
      "text/html": [
       "<div>\n",
       "<style scoped>\n",
       "    .dataframe tbody tr th:only-of-type {\n",
       "        vertical-align: middle;\n",
       "    }\n",
       "\n",
       "    .dataframe tbody tr th {\n",
       "        vertical-align: top;\n",
       "    }\n",
       "\n",
       "    .dataframe thead th {\n",
       "        text-align: right;\n",
       "    }\n",
       "</style>\n",
       "<table border=\"1\" class=\"dataframe\">\n",
       "  <thead>\n",
       "    <tr style=\"text-align: right;\">\n",
       "      <th></th>\n",
       "      <th>Supermarket</th>\n",
       "      <th>Ingredient</th>\n",
       "      <th>Price</th>\n",
       "      <th>Coverage</th>\n",
       "    </tr>\n",
       "  </thead>\n",
       "  <tbody>\n",
       "    <tr>\n",
       "      <th>0</th>\n",
       "      <td>aldinorth</td>\n",
       "      <td>Coke</td>\n",
       "      <td>2.89</td>\n",
       "      <td>1</td>\n",
       "    </tr>\n",
       "  </tbody>\n",
       "</table>\n",
       "</div>"
      ],
      "text/plain": [
       "  Supermarket Ingredient  Price Coverage\n",
       "0   aldinorth       Coke   2.89        1"
      ]
     },
     "execution_count": 154,
     "metadata": {},
     "output_type": "execute_result"
    }
   ],
   "source": [
    "result.append({'Supermarket': 'aldinorth', 'Ingredient': 'Coke', 'Price': 2.89, 'Coverage': 1}, ignore_index=True)"
   ]
  },
  {
   "cell_type": "code",
   "execution_count": 157,
   "metadata": {},
   "outputs": [],
   "source": [
    "result['Price'] = pd.to_numeric(result['Price'], errors='coerce')\n",
    "result['Coverage'] = pd.to_numeric(result['Coverage'], errors='coerce')"
   ]
  },
  {
   "cell_type": "code",
   "execution_count": 158,
   "metadata": {},
   "outputs": [
    {
     "data": {
      "text/plain": [
       "Supermarket    object\n",
       "Ingredient     object\n",
       "Price           int64\n",
       "Coverage        int64\n",
       "dtype: object"
      ]
     },
     "execution_count": 158,
     "metadata": {},
     "output_type": "execute_result"
    }
   ],
   "source": [
    "result.dtypes"
   ]
  },
  {
   "cell_type": "code",
   "execution_count": 188,
   "metadata": {},
   "outputs": [],
   "source": [
    "def search_list_grouped(ingredients:list):\n",
    "    # New empty df\n",
    "    result = pd.DataFrame(columns=['Supermarket', 'Ingredient', 'Price', 'Coverage'])\n",
    "\n",
    "    for market in supermarkets:\n",
    "        \n",
    "        a = supermarkets[market]\n",
    "        \n",
    "        for ing in ingredients:    \n",
    "            try:\n",
    "                price = a[a['Name'] == ing]['Price'].values[0]\n",
    "                df2 = {'Supermarket': market, 'Ingredient': ing, 'Price': price, 'Coverage': 1}\n",
    "                result = result.append(df2, ignore_index=True)\n",
    "            except:\n",
    "                result = result.append({'Supermarket': market, 'Ingredient': ing, 'Price': np.nan, 'Coverage': 0}, ignore_index=True)\n",
    "    \n",
    "    # Change to numeric\n",
    "    result['Price'] = pd.to_numeric(result['Price'], errors='coerce')\n",
    "    result['Coverage'] = pd.to_numeric(result['Coverage'], errors='coerce') * 100\n",
    "    \n",
    "    # Group by 'Supermarket'\n",
    "    results = result.groupby('Supermarket').agg({'Price':'sum', 'Coverage': 'mean'}).reset_index()\n",
    "    results = results.sort_values('Price').reset_index(drop=True)\n",
    "    \n",
    "    # How to display it to users\n",
    "#    for row in range(len(results)):\n",
    "#        print(f\"In {row['Supermarket']} you can find {row['Coverage']}% of the ingredients for row['Price']\")\n",
    "    \n",
    "    return results\n",
    "\n",
    "# 'result' dataframe contains detailes information\n",
    "# 'results' dataframe contains grouped information"
   ]
  },
  {
   "cell_type": "code",
   "execution_count": 189,
   "metadata": {},
   "outputs": [
    {
     "data": {
      "text/html": [
       "<div>\n",
       "<style scoped>\n",
       "    .dataframe tbody tr th:only-of-type {\n",
       "        vertical-align: middle;\n",
       "    }\n",
       "\n",
       "    .dataframe tbody tr th {\n",
       "        vertical-align: top;\n",
       "    }\n",
       "\n",
       "    .dataframe thead th {\n",
       "        text-align: right;\n",
       "    }\n",
       "</style>\n",
       "<table border=\"1\" class=\"dataframe\">\n",
       "  <thead>\n",
       "    <tr style=\"text-align: right;\">\n",
       "      <th></th>\n",
       "      <th>Supermarket</th>\n",
       "      <th>Price</th>\n",
       "      <th>Coverage</th>\n",
       "    </tr>\n",
       "  </thead>\n",
       "  <tbody>\n",
       "    <tr>\n",
       "      <th>0</th>\n",
       "      <td>edeka</td>\n",
       "      <td>3.16</td>\n",
       "      <td>33.333333</td>\n",
       "    </tr>\n",
       "    <tr>\n",
       "      <th>1</th>\n",
       "      <td>aldisouth</td>\n",
       "      <td>4.88</td>\n",
       "      <td>33.333333</td>\n",
       "    </tr>\n",
       "    <tr>\n",
       "      <th>2</th>\n",
       "      <td>aldinorth</td>\n",
       "      <td>6.68</td>\n",
       "      <td>33.333333</td>\n",
       "    </tr>\n",
       "  </tbody>\n",
       "</table>\n",
       "</div>"
      ],
      "text/plain": [
       "  Supermarket  Price   Coverage\n",
       "0       edeka   3.16  33.333333\n",
       "1   aldisouth   4.88  33.333333\n",
       "2   aldinorth   6.68  33.333333"
      ]
     },
     "execution_count": 189,
     "metadata": {},
     "output_type": "execute_result"
    }
   ],
   "source": [
    "search_list_grouped(['Coke', 'Nutella', 'Vanilla', 'Tuna', 'Soap', 'Classic Tomato Sauce'])"
   ]
  },
  {
   "cell_type": "markdown",
   "metadata": {},
   "source": [
    "As we can see, if we do not type the ingredient exactly as it is in the dataset, our algorithm is not able to find it. In order to make it more useful, we are going to add fuzzy words and create a basic search engine.\n",
    "\n",
    "### 2.3 Algorithm 3.0\n",
    "\n",
    "Build an algorithm able to:\n",
    "\n",
    "- [input]: list of ingredients (similar word)\n",
    "- [output]: % coverage + total price per each supermarket"
   ]
  },
  {
   "cell_type": "code",
   "execution_count": null,
   "metadata": {},
   "outputs": [],
   "source": [
    "# Add the packages\n",
    "\n"
   ]
  }
 ],
 "metadata": {
  "kernelspec": {
   "display_name": "Python 3",
   "language": "python",
   "name": "python3"
  },
  "language_info": {
   "codemirror_mode": {
    "name": "ipython",
    "version": 3
   },
   "file_extension": ".py",
   "mimetype": "text/x-python",
   "name": "python",
   "nbconvert_exporter": "python",
   "pygments_lexer": "ipython3",
   "version": "3.8.3"
  }
 },
 "nbformat": 4,
 "nbformat_minor": 4
}
