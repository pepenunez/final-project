{
 "cells": [
  {
   "cell_type": "markdown",
   "metadata": {},
   "source": [
    "# Supermarkets modeling\n",
    "\n",
    "The goal of this document...."
   ]
  },
  {
   "cell_type": "code",
   "execution_count": 14,
   "metadata": {},
   "outputs": [],
   "source": [
    "import pandas as pd\n",
    "import numpy as np"
   ]
  },
  {
   "cell_type": "markdown",
   "metadata": {},
   "source": [
    "## 1. Import data"
   ]
  },
  {
   "cell_type": "code",
   "execution_count": 417,
   "metadata": {},
   "outputs": [],
   "source": [
    "# import data\n",
    "supermarkets = {\n",
    "    'aldinorth': pd.read_pickle('data/products-clean/aldinorth-products-clean.pkl'),\n",
    "    'aldisouth': pd.read_pickle('data/products-clean/aldisouth-products-clean.pkl'),\n",
    "    'edeka': pd.read_pickle('data/products-clean/edeka-products-clean.pkl')\n",
    "    #'kaufan': pd.read_pickle('data/products-clean/edeka-products-clean.pkl')\n",
    "    #'rewe': pd.read_pickle('data/products-clean/edeka-products-clean.pkl')\n",
    "    #'lidl': pd.read_pickle('data/products-clean/edeka-products-clean.pkl')\n",
    "}"
   ]
  },
  {
   "cell_type": "code",
   "execution_count": 418,
   "metadata": {},
   "outputs": [
    {
     "data": {
      "text/html": [
       "<div>\n",
       "<style scoped>\n",
       "    .dataframe tbody tr th:only-of-type {\n",
       "        vertical-align: middle;\n",
       "    }\n",
       "\n",
       "    .dataframe tbody tr th {\n",
       "        vertical-align: top;\n",
       "    }\n",
       "\n",
       "    .dataframe thead th {\n",
       "        text-align: right;\n",
       "    }\n",
       "</style>\n",
       "<table border=\"1\" class=\"dataframe\">\n",
       "  <thead>\n",
       "    <tr style=\"text-align: right;\">\n",
       "      <th></th>\n",
       "      <th>Name</th>\n",
       "      <th>Price</th>\n",
       "    </tr>\n",
       "  </thead>\n",
       "  <tbody>\n",
       "    <tr>\n",
       "      <th>0</th>\n",
       "      <td>Tamara extra strawberry jam</td>\n",
       "      <td>0.99</td>\n",
       "    </tr>\n",
       "    <tr>\n",
       "      <th>1</th>\n",
       "      <td>Nutella</td>\n",
       "      <td>3.79</td>\n",
       "    </tr>\n",
       "    <tr>\n",
       "      <th>2</th>\n",
       "      <td>Coke</td>\n",
       "      <td>2.89</td>\n",
       "    </tr>\n",
       "    <tr>\n",
       "      <th>3</th>\n",
       "      <td>Trader Joe's / Aldi Nord Lemon Iced Tea</td>\n",
       "      <td>0.49</td>\n",
       "    </tr>\n",
       "    <tr>\n",
       "      <th>4</th>\n",
       "      <td>Iglo fish fingers</td>\n",
       "      <td>3.49</td>\n",
       "    </tr>\n",
       "  </tbody>\n",
       "</table>\n",
       "</div>"
      ],
      "text/plain": [
       "                                      Name  Price\n",
       "0              Tamara extra strawberry jam   0.99\n",
       "1                                  Nutella   3.79\n",
       "2                                     Coke   2.89\n",
       "3  Trader Joe's / Aldi Nord Lemon Iced Tea   0.49\n",
       "4                        Iglo fish fingers   3.49"
      ]
     },
     "execution_count": 418,
     "metadata": {},
     "output_type": "execute_result"
    }
   ],
   "source": [
    "supermarkets['aldinorth'].head()"
   ]
  },
  {
   "cell_type": "markdown",
   "metadata": {},
   "source": [
    "## 2. Modeling to do's\n",
    "\n",
    "- Algorithm 1.0 - Build an algorithm able to (input: ingredient, output: % coverage + total price per each supermarket)\n",
    "- Algorithm 2.0 - Build an algorithm able to (input: list of ingredients, output: % coverage + total price per each supermarket)\n",
    "- Algorithm 3.0 - Use fuzzy buzzy to match the input (potato) with the ingredients by similarity.\n",
    "\n",
    "### 2.1 Algorithm 1.0\n",
    "Build an algorithm able to: \n",
    "\n",
    "- [input]: ingredient\n",
    "\n",
    "- [output]: price in each supermarket"
   ]
  },
  {
   "cell_type": "code",
   "execution_count": 18,
   "metadata": {},
   "outputs": [
    {
     "data": {
      "text/plain": [
       "3.79"
      ]
     },
     "execution_count": 18,
     "metadata": {},
     "output_type": "execute_result"
    }
   ],
   "source": [
    "# We are looking for the price of the ingredient that we are searching per each supermarket\n",
    "supermarkets['aldinorth'][supermarkets['aldinorth']['Name'] == 'Nutella']['Price'].values[0]"
   ]
  },
  {
   "cell_type": "code",
   "execution_count": 27,
   "metadata": {},
   "outputs": [],
   "source": [
    "# Function to get the prices with an ingredient as input\n",
    "def search(ingredient:str):\n",
    "    # New empty list\n",
    "    result = []\n",
    "    for market in supermarkets:\n",
    "        a = supermarkets[market]\n",
    "        try:\n",
    "            price = a[a['Name'] == ingredient]['Price'].values[0]\n",
    "            result.append(f'{market}: {price}')\n",
    "        except:\n",
    "            result.append(f'{market}: Not found')\n",
    "    return result\n",
    "\n",
    "# Try it with 'Nutella' because it is available in every supermarket\n",
    "# Try with 'Coke'"
   ]
  },
  {
   "cell_type": "code",
   "execution_count": 28,
   "metadata": {},
   "outputs": [
    {
     "data": {
      "text/plain": [
       "['aldinorth: 3.79', 'aldisouth: 3.89', 'edeka: 1.77']"
      ]
     },
     "execution_count": 28,
     "metadata": {},
     "output_type": "execute_result"
    }
   ],
   "source": [
    "# Testing the function\n",
    "search('Nutella')"
   ]
  },
  {
   "cell_type": "code",
   "execution_count": 29,
   "metadata": {},
   "outputs": [
    {
     "data": {
      "text/plain": [
       "['aldinorth: 2.89', 'aldisouth: 0.99', 'edeka: 1.39']"
      ]
     },
     "execution_count": 29,
     "metadata": {},
     "output_type": "execute_result"
    }
   ],
   "source": [
    "# Testing the function\n",
    "search('Coke')"
   ]
  },
  {
   "cell_type": "markdown",
   "metadata": {},
   "source": [
    "We can see that there are some inconsistencies with the 'Coca Cola' prices. The problem is that the size of the packs are not normalized. "
   ]
  },
  {
   "cell_type": "code",
   "execution_count": 31,
   "metadata": {},
   "outputs": [
    {
     "data": {
      "text/html": [
       "<div>\n",
       "<style scoped>\n",
       "    .dataframe tbody tr th:only-of-type {\n",
       "        vertical-align: middle;\n",
       "    }\n",
       "\n",
       "    .dataframe tbody tr th {\n",
       "        vertical-align: top;\n",
       "    }\n",
       "\n",
       "    .dataframe thead th {\n",
       "        text-align: right;\n",
       "    }\n",
       "</style>\n",
       "<table border=\"1\" class=\"dataframe\">\n",
       "  <thead>\n",
       "    <tr style=\"text-align: right;\">\n",
       "      <th></th>\n",
       "      <th>Name</th>\n",
       "      <th>Price</th>\n",
       "    </tr>\n",
       "  </thead>\n",
       "  <tbody>\n",
       "    <tr>\n",
       "      <th>0</th>\n",
       "      <td>Coke</td>\n",
       "      <td>1.39</td>\n",
       "    </tr>\n",
       "  </tbody>\n",
       "</table>\n",
       "</div>"
      ],
      "text/plain": [
       "   Name  Price\n",
       "0  Coke   1.39"
      ]
     },
     "execution_count": 31,
     "metadata": {},
     "output_type": "execute_result"
    }
   ],
   "source": [
    "supermarkets['edeka'][supermarkets['edeka']['Name'] == 'Coke']"
   ]
  },
  {
   "cell_type": "code",
   "execution_count": 39,
   "metadata": {},
   "outputs": [
    {
     "data": {
      "text/html": [
       "<div>\n",
       "<style scoped>\n",
       "    .dataframe tbody tr th:only-of-type {\n",
       "        vertical-align: middle;\n",
       "    }\n",
       "\n",
       "    .dataframe tbody tr th {\n",
       "        vertical-align: top;\n",
       "    }\n",
       "\n",
       "    .dataframe thead th {\n",
       "        text-align: right;\n",
       "    }\n",
       "</style>\n",
       "<table border=\"1\" class=\"dataframe\">\n",
       "  <thead>\n",
       "    <tr style=\"text-align: right;\">\n",
       "      <th></th>\n",
       "      <th>Name</th>\n",
       "      <th>Price</th>\n",
       "    </tr>\n",
       "  </thead>\n",
       "  <tbody>\n",
       "    <tr>\n",
       "      <th>0</th>\n",
       "      <td>Coke</td>\n",
       "      <td>1.39</td>\n",
       "    </tr>\n",
       "  </tbody>\n",
       "</table>\n",
       "</div>"
      ],
      "text/plain": [
       "   Name  Price\n",
       "0  Coke   1.39"
      ]
     },
     "execution_count": 39,
     "metadata": {},
     "output_type": "execute_result"
    }
   ],
   "source": [
    "supermarkets['edeka'][supermarkets['edeka']['Name'].str.contains('Coke')]"
   ]
  },
  {
   "cell_type": "markdown",
   "metadata": {},
   "source": [
    "### 2.2 Algorithm 2.0\n",
    "Build an algorithm able to:\n",
    "\n",
    "- [input]: list of ingredients (ing as it is in the dataset)\n",
    "- [output]: % coverage + total price per each supermarket"
   ]
  },
  {
   "cell_type": "code",
   "execution_count": 40,
   "metadata": {},
   "outputs": [],
   "source": [
    "def search_list(ingredients:list):\n",
    "    # New empty list\n",
    "    result = []\n",
    "    \n",
    "    for market in supermarkets:\n",
    "        \n",
    "        a = supermarkets[market]\n",
    "        \n",
    "        for ing in ingredients:    \n",
    "            try:\n",
    "                price = a[a['Name'] == ing]['Price'].values[0]\n",
    "                result.append(f'{market}: {price} for the {ing}')\n",
    "            except:\n",
    "                result.append(f'{market}: Not found')\n",
    "            \n",
    "    return result"
   ]
  },
  {
   "cell_type": "code",
   "execution_count": 42,
   "metadata": {},
   "outputs": [
    {
     "data": {
      "text/plain": [
       "['aldinorth: 2.89 for the Coke',\n",
       " 'aldinorth: 3.79 for the Nutella',\n",
       " 'aldisouth: 0.99 for the Coke',\n",
       " 'aldisouth: 3.89 for the Nutella',\n",
       " 'edeka: 1.39 for the Coke',\n",
       " 'edeka: 1.77 for the Nutella']"
      ]
     },
     "execution_count": 42,
     "metadata": {},
     "output_type": "execute_result"
    }
   ],
   "source": [
    "search_list(['Coke', 'Nutella'])"
   ]
  },
  {
   "cell_type": "code",
   "execution_count": 153,
   "metadata": {},
   "outputs": [],
   "source": [
    "result = pd.DataFrame(columns=['Supermarket', 'Ingredient', 'Price', 'Coverage'])"
   ]
  },
  {
   "cell_type": "code",
   "execution_count": 154,
   "metadata": {},
   "outputs": [
    {
     "data": {
      "text/html": [
       "<div>\n",
       "<style scoped>\n",
       "    .dataframe tbody tr th:only-of-type {\n",
       "        vertical-align: middle;\n",
       "    }\n",
       "\n",
       "    .dataframe tbody tr th {\n",
       "        vertical-align: top;\n",
       "    }\n",
       "\n",
       "    .dataframe thead th {\n",
       "        text-align: right;\n",
       "    }\n",
       "</style>\n",
       "<table border=\"1\" class=\"dataframe\">\n",
       "  <thead>\n",
       "    <tr style=\"text-align: right;\">\n",
       "      <th></th>\n",
       "      <th>Supermarket</th>\n",
       "      <th>Ingredient</th>\n",
       "      <th>Price</th>\n",
       "      <th>Coverage</th>\n",
       "    </tr>\n",
       "  </thead>\n",
       "  <tbody>\n",
       "    <tr>\n",
       "      <th>0</th>\n",
       "      <td>aldinorth</td>\n",
       "      <td>Coke</td>\n",
       "      <td>2.89</td>\n",
       "      <td>1</td>\n",
       "    </tr>\n",
       "  </tbody>\n",
       "</table>\n",
       "</div>"
      ],
      "text/plain": [
       "  Supermarket Ingredient  Price Coverage\n",
       "0   aldinorth       Coke   2.89        1"
      ]
     },
     "execution_count": 154,
     "metadata": {},
     "output_type": "execute_result"
    }
   ],
   "source": [
    "result.append({'Supermarket': 'aldinorth', 'Ingredient': 'Coke', 'Price': 2.89, 'Coverage': 1}, ignore_index=True)"
   ]
  },
  {
   "cell_type": "code",
   "execution_count": 157,
   "metadata": {},
   "outputs": [],
   "source": [
    "result['Price'] = pd.to_numeric(result['Price'], errors='coerce')\n",
    "result['Coverage'] = pd.to_numeric(result['Coverage'], errors='coerce')"
   ]
  },
  {
   "cell_type": "code",
   "execution_count": 158,
   "metadata": {},
   "outputs": [
    {
     "data": {
      "text/plain": [
       "Supermarket    object\n",
       "Ingredient     object\n",
       "Price           int64\n",
       "Coverage        int64\n",
       "dtype: object"
      ]
     },
     "execution_count": 158,
     "metadata": {},
     "output_type": "execute_result"
    }
   ],
   "source": [
    "result.dtypes"
   ]
  },
  {
   "cell_type": "code",
   "execution_count": 188,
   "metadata": {},
   "outputs": [],
   "source": [
    "def search_list_grouped(ingredients:list):\n",
    "    # New empty df\n",
    "    result = pd.DataFrame(columns=['Supermarket', 'Ingredient', 'Price', 'Coverage'])\n",
    "\n",
    "    for market in supermarkets:\n",
    "        \n",
    "        a = supermarkets[market]\n",
    "        \n",
    "        for ing in ingredients:    \n",
    "            try:\n",
    "                price = a[a['Name'] == ing]['Price'].values[0]\n",
    "                df2 = {'Supermarket': market, 'Ingredient': ing, 'Price': price, 'Coverage': 1}\n",
    "                result = result.append(df2, ignore_index=True)\n",
    "            except:\n",
    "                result = result.append({'Supermarket': market, 'Ingredient': ing, 'Price': np.nan, 'Coverage': 0}, ignore_index=True)\n",
    "    \n",
    "    # Change to numeric\n",
    "    result['Price'] = pd.to_numeric(result['Price'], errors='coerce')\n",
    "    result['Coverage'] = pd.to_numeric(result['Coverage'], errors='coerce') * 100\n",
    "    \n",
    "    # Group by 'Supermarket'\n",
    "    results = result.groupby('Supermarket').agg({'Price':'sum', 'Coverage': 'mean'}).reset_index()\n",
    "    results = results.sort_values('Price').reset_index(drop=True)\n",
    "    \n",
    "    # How to display it to users\n",
    "#    for row in range(len(results)):\n",
    "#        print(f\"In {row['Supermarket']} you can find {row['Coverage']}% of the ingredients for row['Price']\")\n",
    "    \n",
    "    return results\n",
    "\n",
    "# 'result' dataframe contains detailes information\n",
    "# 'results' dataframe contains grouped information"
   ]
  },
  {
   "cell_type": "code",
   "execution_count": 189,
   "metadata": {},
   "outputs": [
    {
     "data": {
      "text/html": [
       "<div>\n",
       "<style scoped>\n",
       "    .dataframe tbody tr th:only-of-type {\n",
       "        vertical-align: middle;\n",
       "    }\n",
       "\n",
       "    .dataframe tbody tr th {\n",
       "        vertical-align: top;\n",
       "    }\n",
       "\n",
       "    .dataframe thead th {\n",
       "        text-align: right;\n",
       "    }\n",
       "</style>\n",
       "<table border=\"1\" class=\"dataframe\">\n",
       "  <thead>\n",
       "    <tr style=\"text-align: right;\">\n",
       "      <th></th>\n",
       "      <th>Supermarket</th>\n",
       "      <th>Price</th>\n",
       "      <th>Coverage</th>\n",
       "    </tr>\n",
       "  </thead>\n",
       "  <tbody>\n",
       "    <tr>\n",
       "      <th>0</th>\n",
       "      <td>edeka</td>\n",
       "      <td>3.16</td>\n",
       "      <td>33.333333</td>\n",
       "    </tr>\n",
       "    <tr>\n",
       "      <th>1</th>\n",
       "      <td>aldisouth</td>\n",
       "      <td>4.88</td>\n",
       "      <td>33.333333</td>\n",
       "    </tr>\n",
       "    <tr>\n",
       "      <th>2</th>\n",
       "      <td>aldinorth</td>\n",
       "      <td>6.68</td>\n",
       "      <td>33.333333</td>\n",
       "    </tr>\n",
       "  </tbody>\n",
       "</table>\n",
       "</div>"
      ],
      "text/plain": [
       "  Supermarket  Price   Coverage\n",
       "0       edeka   3.16  33.333333\n",
       "1   aldisouth   4.88  33.333333\n",
       "2   aldinorth   6.68  33.333333"
      ]
     },
     "execution_count": 189,
     "metadata": {},
     "output_type": "execute_result"
    }
   ],
   "source": [
    "search_list_grouped(['Coke', 'Nutella', 'Vanilla', 'Tuna', 'Soap', 'Classic Tomato Sauce'])"
   ]
  },
  {
   "cell_type": "markdown",
   "metadata": {},
   "source": [
    "As we can see, if we do not type the ingredient exactly as it is in the dataset, our algorithm is not able to find it. In order to make it more useful, we are going to add fuzzy words and create a basic search engine.\n",
    "\n",
    "### 2.3 Algorithm 3.0\n",
    "\n",
    "Build an algorithm able to:\n",
    "\n",
    "- [input]: list of ingredients (similar word)\n",
    "- [output]: % coverage + total price per each supermarket\n",
    "\n",
    "We are going to use the fuzzywuzzy ratio"
   ]
  },
  {
   "cell_type": "code",
   "execution_count": 191,
   "metadata": {},
   "outputs": [],
   "source": [
    "# Add the packages\n",
    "from fuzzywuzzy import fuzz\n",
    "import re"
   ]
  },
  {
   "cell_type": "code",
   "execution_count": 193,
   "metadata": {},
   "outputs": [
    {
     "data": {
      "text/plain": [
       "100"
      ]
     },
     "execution_count": 193,
     "metadata": {},
     "output_type": "execute_result"
    }
   ],
   "source": [
    "fuzz.ratio(\"Coca Cola\", \"Coca Cola\")"
   ]
  },
  {
   "cell_type": "code",
   "execution_count": 195,
   "metadata": {},
   "outputs": [
    {
     "data": {
      "text/plain": [
       "31"
      ]
     },
     "execution_count": 195,
     "metadata": {},
     "output_type": "execute_result"
    }
   ],
   "source": [
    "fuzz.ratio(\"Coca Cola\", \"Coke\")"
   ]
  },
  {
   "cell_type": "code",
   "execution_count": 199,
   "metadata": {},
   "outputs": [
    {
     "data": {
      "text/plain": [
       "31"
      ]
     },
     "execution_count": 199,
     "metadata": {},
     "output_type": "execute_result"
    }
   ],
   "source": [
    "fuzz.ratio(\"Coca Cola\".lower(), \"Coke\".lower())"
   ]
  },
  {
   "cell_type": "markdown",
   "metadata": {},
   "source": [
    "Extract the ingredient name"
   ]
  },
  {
   "cell_type": "code",
   "execution_count": 201,
   "metadata": {},
   "outputs": [
    {
     "data": {
      "text/html": [
       "<div>\n",
       "<style scoped>\n",
       "    .dataframe tbody tr th:only-of-type {\n",
       "        vertical-align: middle;\n",
       "    }\n",
       "\n",
       "    .dataframe tbody tr th {\n",
       "        vertical-align: top;\n",
       "    }\n",
       "\n",
       "    .dataframe thead th {\n",
       "        text-align: right;\n",
       "    }\n",
       "</style>\n",
       "<table border=\"1\" class=\"dataframe\">\n",
       "  <thead>\n",
       "    <tr style=\"text-align: right;\">\n",
       "      <th></th>\n",
       "      <th>Name</th>\n",
       "      <th>Price</th>\n",
       "    </tr>\n",
       "  </thead>\n",
       "  <tbody>\n",
       "    <tr>\n",
       "      <th>0</th>\n",
       "      <td>Coke</td>\n",
       "      <td>1.39</td>\n",
       "    </tr>\n",
       "    <tr>\n",
       "      <th>1</th>\n",
       "      <td>Nutella</td>\n",
       "      <td>1.77</td>\n",
       "    </tr>\n",
       "    <tr>\n",
       "      <th>2</th>\n",
       "      <td>Becel Gold 70% fat</td>\n",
       "      <td>1.49</td>\n",
       "    </tr>\n",
       "    <tr>\n",
       "      <th>3</th>\n",
       "      <td>Iglo fish fingers</td>\n",
       "      <td>2.99</td>\n",
       "    </tr>\n",
       "    <tr>\n",
       "      <th>4</th>\n",
       "      <td>Good &amp; Cheap Landgasthof Goulash Pan</td>\n",
       "      <td>1.99</td>\n",
       "    </tr>\n",
       "    <tr>\n",
       "      <th>...</th>\n",
       "      <td>...</td>\n",
       "      <td>...</td>\n",
       "    </tr>\n",
       "    <tr>\n",
       "      <th>5043</th>\n",
       "      <td>Nivea Extreme Stay Lipstick 17 Extrem Pinkini</td>\n",
       "      <td>11.49</td>\n",
       "    </tr>\n",
       "    <tr>\n",
       "      <th>5044</th>\n",
       "      <td>Nivea Extreme Stay Lipstick 21 Extreme Cinnam</td>\n",
       "      <td>11.49</td>\n",
       "    </tr>\n",
       "    <tr>\n",
       "      <th>5045</th>\n",
       "      <td>Nivea Extreme Stay Lipstick 11 Extremely Beige</td>\n",
       "      <td>11.49</td>\n",
       "    </tr>\n",
       "    <tr>\n",
       "      <th>5046</th>\n",
       "      <td>Nivea Turbo Color Nail Polish 12 Turbo Red</td>\n",
       "      <td>7.89</td>\n",
       "    </tr>\n",
       "    <tr>\n",
       "      <th>5047</th>\n",
       "      <td>Nivea Turbo Color Nail Polish 6 Turbo Goldpi</td>\n",
       "      <td>7.89</td>\n",
       "    </tr>\n",
       "  </tbody>\n",
       "</table>\n",
       "<p>4932 rows × 2 columns</p>\n",
       "</div>"
      ],
      "text/plain": [
       "                                                Name  Price\n",
       "0                                               Coke   1.39\n",
       "1                                            Nutella   1.77\n",
       "2                                 Becel Gold 70% fat   1.49\n",
       "3                                  Iglo fish fingers   2.99\n",
       "4               Good & Cheap Landgasthof Goulash Pan   1.99\n",
       "...                                              ...    ...\n",
       "5043   Nivea Extreme Stay Lipstick 17 Extrem Pinkini  11.49\n",
       "5044   Nivea Extreme Stay Lipstick 21 Extreme Cinnam  11.49\n",
       "5045  Nivea Extreme Stay Lipstick 11 Extremely Beige  11.49\n",
       "5046      Nivea Turbo Color Nail Polish 12 Turbo Red   7.89\n",
       "5047    Nivea Turbo Color Nail Polish 6 Turbo Goldpi   7.89\n",
       "\n",
       "[4932 rows x 2 columns]"
      ]
     },
     "execution_count": 201,
     "metadata": {},
     "output_type": "execute_result"
    }
   ],
   "source": [
    "supermarkets['edeka']"
   ]
  },
  {
   "cell_type": "markdown",
   "metadata": {},
   "source": [
    "- After the numbers I can extract the rest\n",
    "- Brands ? \n",
    "- Black list with words that I can exclude"
   ]
  },
  {
   "cell_type": "code",
   "execution_count": 411,
   "metadata": {},
   "outputs": [],
   "source": [
    "input_ing = \"Sunflower oil\""
   ]
  },
  {
   "cell_type": "code",
   "execution_count": 412,
   "metadata": {},
   "outputs": [],
   "source": [
    "matches = []\n",
    "\n",
    "for ing in supermarkets['aldinorth']['Name']:\n",
    "    ratio = fuzz.ratio(ing.lower(), input_ing.lower())\n",
    "\n",
    "    if ratio > 60:\n",
    "        matches.append((ing, ratio))"
   ]
  },
  {
   "cell_type": "code",
   "execution_count": 413,
   "metadata": {},
   "outputs": [
    {
     "data": {
      "text/plain": [
       "[('Buttella fine sunflower oil', 65)]"
      ]
     },
     "execution_count": 413,
     "metadata": {},
     "output_type": "execute_result"
    }
   ],
   "source": [
    "matches"
   ]
  },
  {
   "cell_type": "code",
   "execution_count": 414,
   "metadata": {},
   "outputs": [],
   "source": [
    "matches = sorted(matches, key=lambda x: x[1], reverse=True)"
   ]
  },
  {
   "cell_type": "code",
   "execution_count": 415,
   "metadata": {},
   "outputs": [],
   "source": [
    "# Add the best match to a list\n",
    "clean_list = []\n",
    "\n",
    "clean_list.append(matches[0][0])"
   ]
  },
  {
   "cell_type": "code",
   "execution_count": 416,
   "metadata": {},
   "outputs": [
    {
     "data": {
      "text/plain": [
       "['Buttella fine sunflower oil']"
      ]
     },
     "execution_count": 416,
     "metadata": {},
     "output_type": "execute_result"
    }
   ],
   "source": [
    "clean_list"
   ]
  },
  {
   "cell_type": "markdown",
   "metadata": {},
   "source": [
    "Our final algorithm should be able to: \n",
    "    \n",
    "    Step 1:\n",
    "    -------\n",
    "    \n",
    "    - [Input] - [List of ingredients (not necessarly exactly same as database)]\n",
    "    - [Output] - list of supermarkets with total price and coverage\n",
    "    \n",
    "    Step 2:\n",
    "    -------\n",
    "    \n",
    "    - [Input] - user selects one supermarket\n",
    "    - [Output] - Shopping list with ingredient + price\n",
    "    \n",
    "    Step 3:\n",
    "    -------\n",
    "    \n",
    "    - [Output] - list of 5 items that they might be interested in shopping\n",
    "    \n"
   ]
  },
  {
   "cell_type": "code",
   "execution_count": 436,
   "metadata": {},
   "outputs": [
    {
     "data": {
      "text/html": [
       "<div>\n",
       "<style scoped>\n",
       "    .dataframe tbody tr th:only-of-type {\n",
       "        vertical-align: middle;\n",
       "    }\n",
       "\n",
       "    .dataframe tbody tr th {\n",
       "        vertical-align: top;\n",
       "    }\n",
       "\n",
       "    .dataframe thead th {\n",
       "        text-align: right;\n",
       "    }\n",
       "</style>\n",
       "<table border=\"1\" class=\"dataframe\">\n",
       "  <thead>\n",
       "    <tr style=\"text-align: right;\">\n",
       "      <th></th>\n",
       "      <th>Name</th>\n",
       "      <th>Price</th>\n",
       "    </tr>\n",
       "  </thead>\n",
       "  <tbody>\n",
       "    <tr>\n",
       "      <th>0</th>\n",
       "      <td>Tamara extra strawberry jam</td>\n",
       "      <td>0.99</td>\n",
       "    </tr>\n",
       "    <tr>\n",
       "      <th>1</th>\n",
       "      <td>Nutella</td>\n",
       "      <td>3.79</td>\n",
       "    </tr>\n",
       "    <tr>\n",
       "      <th>2</th>\n",
       "      <td>Coke</td>\n",
       "      <td>2.89</td>\n",
       "    </tr>\n",
       "    <tr>\n",
       "      <th>3</th>\n",
       "      <td>Trader Joe's / Aldi Nord Lemon Iced Tea</td>\n",
       "      <td>0.49</td>\n",
       "    </tr>\n",
       "    <tr>\n",
       "      <th>4</th>\n",
       "      <td>Iglo fish fingers</td>\n",
       "      <td>3.49</td>\n",
       "    </tr>\n",
       "    <tr>\n",
       "      <th>...</th>\n",
       "      <td>...</td>\n",
       "      <td>...</td>\n",
       "    </tr>\n",
       "    <tr>\n",
       "      <th>2984</th>\n",
       "      <td>Moser Roth Fine Easter Eggs Fine Bitter 70%</td>\n",
       "      <td>3.65</td>\n",
       "    </tr>\n",
       "    <tr>\n",
       "      <th>2985</th>\n",
       "      <td>Moser Roth Fine Easter Eggs Noble Nougat</td>\n",
       "      <td>1.49</td>\n",
       "    </tr>\n",
       "    <tr>\n",
       "      <th>2986</th>\n",
       "      <td>Moser Roth Fine Easter Eggs Chocolate Candy</td>\n",
       "      <td>0.99</td>\n",
       "    </tr>\n",
       "    <tr>\n",
       "      <th>2987</th>\n",
       "      <td>Moser Roth Fine Easter Eggs Noble Collection w...</td>\n",
       "      <td>1.15</td>\n",
       "    </tr>\n",
       "    <tr>\n",
       "      <th>2988</th>\n",
       "      <td>Ombra Sun Care Sunscreen Light Touch, SPF 30</td>\n",
       "      <td>1.79</td>\n",
       "    </tr>\n",
       "  </tbody>\n",
       "</table>\n",
       "<p>2958 rows × 2 columns</p>\n",
       "</div>"
      ],
      "text/plain": [
       "                                                   Name  Price\n",
       "0                           Tamara extra strawberry jam   0.99\n",
       "1                                               Nutella   3.79\n",
       "2                                                  Coke   2.89\n",
       "3               Trader Joe's / Aldi Nord Lemon Iced Tea   0.49\n",
       "4                                     Iglo fish fingers   3.49\n",
       "...                                                 ...    ...\n",
       "2984        Moser Roth Fine Easter Eggs Fine Bitter 70%   3.65\n",
       "2985           Moser Roth Fine Easter Eggs Noble Nougat   1.49\n",
       "2986        Moser Roth Fine Easter Eggs Chocolate Candy   0.99\n",
       "2987  Moser Roth Fine Easter Eggs Noble Collection w...   1.15\n",
       "2988       Ombra Sun Care Sunscreen Light Touch, SPF 30   1.79\n",
       "\n",
       "[2958 rows x 2 columns]"
      ]
     },
     "execution_count": 436,
     "metadata": {},
     "output_type": "execute_result"
    }
   ],
   "source": [
    "supermarkets['aldinorth']"
   ]
  },
  {
   "cell_type": "code",
   "execution_count": 437,
   "metadata": {},
   "outputs": [],
   "source": [
    "def shopping(ingredients:list):\n",
    "    \n",
    "            # ...\n",
    "    supermarkets_lists = {\n",
    "            'aldinorth': [],\n",
    "            'aldisouth': [],\n",
    "            'edeka': []\n",
    "            #'kaufan': pd.read_pickle('data/products-clean/edeka-products-clean.pkl')\n",
    "            #'rewe': pd.read_pickle('data/products-clean/edeka-products-clean.pkl')\n",
    "            #'lidl':\n",
    "        }\n",
    "    \n",
    "    for market in supermarkets:\n",
    "\n",
    "        for ing in ingredients:\n",
    "        \n",
    "            # Empty dictionary where we will store the matching products\n",
    "            matches = []   \n",
    "        \n",
    "            # Cada palabra, recorrer ingredientes del supermercado y generar lista\n",
    "            for product in supermarkets[market]['Name']:\n",
    "                ratio = fuzz.ratio(product.lower(), ing.lower())\n",
    "\n",
    "                if ratio > 60:\n",
    "                    matches.append((product, ratio))\n",
    "                    matches = sorted(matches, key=lambda x: x[1], reverse=True)\n",
    "                \n",
    "            # If matches list is not empty\n",
    "            if matches:\n",
    "                supermarkets_lists[market].append(matches[0][0])\n",
    "                        \n",
    "    # Use the function .. to get the get the prices in the dif supermarkets\n",
    "    return supermarkets_lists\n",
    "\n",
    "# Cada supermercado\n",
    "\n",
    "# Seleccionar la palabra con mejor puntuación\n",
    "\n",
    "# Añadirla a una lista limpia que será el input de la siguiente función"
   ]
  },
  {
   "cell_type": "markdown",
   "metadata": {},
   "source": [
    "The function has to have different input depending on the supermarket. That means that we have to modify the search_list_grouped function, since it has been developed to be able to take only 1 input argument."
   ]
  },
  {
   "cell_type": "code",
   "execution_count": 438,
   "metadata": {},
   "outputs": [
    {
     "data": {
      "text/plain": [
       "{'aldinorth': ['Coke', 'Buttella fine sunflower oil', 'Albona milk rice'],\n",
       " 'aldisouth': ['Coke',\n",
       "  'Bellasan sunflower oil',\n",
       "  'garlic',\n",
       "  'Onions',\n",
       "  'RYZ Basmati rice'],\n",
       " 'edeka': ['Coke',\n",
       "  'Thomy sunflower oil',\n",
       "  'garlic',\n",
       "  'Onions',\n",
       "  'Lien Ying Basmati rice']}"
      ]
     },
     "execution_count": 438,
     "metadata": {},
     "output_type": "execute_result"
    }
   ],
   "source": [
    "shopping(['sausages', 'Coce', 'Sunflower oil', 'Garlic', 'Onion', 'Basmati rice'])"
   ]
  },
  {
   "cell_type": "markdown",
   "metadata": {},
   "source": [
    "UNTIL HERE"
   ]
  },
  {
   "cell_type": "code",
   "execution_count": 439,
   "metadata": {},
   "outputs": [
    {
     "ename": "SyntaxError",
     "evalue": "invalid syntax (<ipython-input-439-107bc6770184>, line 3)",
     "output_type": "error",
     "traceback": [
      "\u001b[0;36m  File \u001b[0;32m\"<ipython-input-439-107bc6770184>\"\u001b[0;36m, line \u001b[0;32m3\u001b[0m\n\u001b[0;31m    def search_list_grouped(aldinorth=[]:list,\u001b[0m\n\u001b[0m                                        ^\u001b[0m\n\u001b[0;31mSyntaxError\u001b[0m\u001b[0;31m:\u001b[0m invalid syntax\n"
     ]
    }
   ],
   "source": [
    "####### COPY #######\n",
    "\n",
    "def search_list_grouped(aldinorth=[]:list,\n",
    "                        aldisouth=[]:list,\n",
    "                        edeka=[]:list,\n",
    "                        kaufan=[]:list,\n",
    "                        lidl=[]:list,\n",
    "                        rewe=[]:list):\n",
    "    # New empty df\n",
    "    result = pd.DataFrame(columns=['Supermarket', 'Ingredient', 'Price', 'Coverage'])\n",
    "\n",
    "    for market in supermarkets:\n",
    "        \n",
    "        a = supermarkets[market]\n",
    "        \n",
    "        for ing in ingredients:    \n",
    "            try:\n",
    "                price = a[a['Name'] == ing]['Price'].values[0]\n",
    "                df2 = {'Supermarket': market, 'Ingredient': ing, 'Price': price, 'Coverage': 1}\n",
    "                result = result.append(df2, ignore_index=True)\n",
    "            except:\n",
    "                result = result.append({'Supermarket': market, 'Ingredient': ing, 'Price': np.nan, 'Coverage': 0}, ignore_index=True)\n",
    "    \n",
    "    # Change to numeric\n",
    "    result['Price'] = pd.to_numeric(result['Price'], errors='coerce')\n",
    "    result['Coverage'] = pd.to_numeric(result['Coverage'], errors='coerce') * 100\n",
    "    \n",
    "    # Group by 'Supermarket'\n",
    "    results = result.groupby('Supermarket').agg({'Price':'sum', 'Coverage': 'mean'}).reset_index()\n",
    "    results = results.sort_values('Price').reset_index(drop=True)\n",
    "    \n",
    "    # How to display it to users\n",
    "#    for row in range(len(results)):\n",
    "#        print(f\"In {row['Supermarket']} you can find {row['Coverage']}% of the ingredients for row['Price']\")\n",
    "    \n",
    "    return results\n",
    "\n",
    "# 'result' dataframe contains detailes information\n",
    "# 'results' dataframe contains grouped information"
   ]
  },
  {
   "cell_type": "code",
   "execution_count": null,
   "metadata": {},
   "outputs": [],
   "source": []
  }
 ],
 "metadata": {
  "kernelspec": {
   "display_name": "Python 3",
   "language": "python",
   "name": "python3"
  },
  "language_info": {
   "codemirror_mode": {
    "name": "ipython",
    "version": 3
   },
   "file_extension": ".py",
   "mimetype": "text/x-python",
   "name": "python",
   "nbconvert_exporter": "python",
   "pygments_lexer": "ipython3",
   "version": "3.8.3"
  }
 },
 "nbformat": 4,
 "nbformat_minor": 4
}
