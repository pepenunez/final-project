{
 "cells": [
  {
   "cell_type": "markdown",
   "metadata": {},
   "source": [
    "# Grocery\n",
    "\n",
    "## Problems\n",
    "\n",
    "1. New to a city and do not know where to do the groceries.\n",
    "2. [user] Forget about ingredients when doing groceries / [retailer] How do I place/display the products\n",
    "\n",
    "## Questions\n",
    "\n",
    "1. Ingredient recommender. \n",
    "\n",
    "2. Supermarket recommender / comparison / clusterization\n",
    "\n",
    "-----\n",
    "\n",
    "- What is the total cost of ingredients needed for a homemage meal vs restaurant meal? \n",
    "- What are the most common ingredients used?\n",
    "- How are the categories distributed within the lists (fresh, ...)\n",
    "- Types of users?\n",
    "- Add nutritional factors?\n",
    "- Add images to ingredient names?\n",
    "- Bring (app recommend)\n",
    "- Google Maps (supermarket)\n",
    "- Foursquare & Yelp (supermarket)\n",
    "- Recipe builder \n",
    "\n",
    "\n",
    "## Datasets\n",
    "\n",
    "- Allrecipes (Kaggle) - 50.000 recipes with reviews. (count number of users + explore the data)\n",
    "- Supermarket - https://www.supermarktcheck.de/"
   ]
  },
  {
   "cell_type": "markdown",
   "metadata": {},
   "source": [
    "--------------------------------------------------\n",
    "\n",
    "## Demo\n",
    "\n",
    "### Input \n",
    "-------------- \n",
    "Tomato                    |             [Tomato, Onion, Tuna]\n",
    "    \n",
    "### Output \n",
    "-------------- \n",
    "1. Onion\n",
    "2. Carrot\n",
    "3. Mushroom\n",
    "4. Water\n",
    "5. Milk"
   ]
  }
 ],
 "metadata": {
  "kernelspec": {
   "display_name": "Python 3",
   "language": "python",
   "name": "python3"
  },
  "language_info": {
   "codemirror_mode": {
    "name": "ipython",
    "version": 3
   },
   "file_extension": ".py",
   "mimetype": "text/x-python",
   "name": "python",
   "nbconvert_exporter": "python",
   "pygments_lexer": "ipython3",
   "version": "3.8.3"
  }
 },
 "nbformat": 4,
 "nbformat_minor": 4
}
