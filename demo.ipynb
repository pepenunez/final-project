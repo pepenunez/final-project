{
 "cells": [
  {
   "cell_type": "markdown",
   "metadata": {
    "slideshow": {
     "slide_type": "slide"
    }
   },
   "source": [
    "# Grocery Recommender Demo\n",
    "by Pepe Nunez"
   ]
  },
  {
   "cell_type": "markdown",
   "metadata": {
    "slideshow": {
     "slide_type": "slide"
    }
   },
   "source": [
    "### 1. Ingredient list"
   ]
  },
  {
   "cell_type": "code",
   "execution_count": 50,
   "metadata": {
    "slideshow": {
     "slide_type": "-"
    }
   },
   "outputs": [],
   "source": [
    "ingredients = ['cherry tomatoes', 'zucchini', 'watermelon', 'carrots',\n",
    "               'peppers', 'grapes', 'green apples', 'lemonade',\n",
    "               'bread', 'instant coffee', 'Spaghetti',\n",
    "               'meatballs']"
   ]
  },
  {
   "cell_type": "markdown",
   "metadata": {
    "slideshow": {
     "slide_type": "slide"
    }
   },
   "source": [
    "### 2. Which supermarket should we choose? "
   ]
  },
  {
   "cell_type": "code",
   "execution_count": 51,
   "metadata": {
    "slideshow": {
     "slide_type": "-"
    }
   },
   "outputs": [
    {
     "name": "stdout",
     "output_type": "stream",
     "text": [
      "  Supermarket  Price  Coverage  Avge Price / Ingredient\n",
      "0   aldinorth 11.690     0.917                    1.063\n",
      "1   aldisouth 14.130     0.833                    1.413\n",
      "2        rewe 19.290     1.000                    1.607\n",
      "3        lidl 20.240     1.000                    1.687\n",
      "4       edeka 19.310     0.750                    2.146\n",
      "5    kaufland 25.510     0.917                    2.319\n",
      "\n",
      "Where would you like to go shopping?\n",
      "rewe\n"
     ]
    },
    {
     "data": {
      "text/html": [
       "<div>\n",
       "<style scoped>\n",
       "    .dataframe tbody tr th:only-of-type {\n",
       "        vertical-align: middle;\n",
       "    }\n",
       "\n",
       "    .dataframe tbody tr th {\n",
       "        vertical-align: top;\n",
       "    }\n",
       "\n",
       "    .dataframe thead th {\n",
       "        text-align: right;\n",
       "    }\n",
       "</style>\n",
       "<table border=\"1\" class=\"dataframe\">\n",
       "  <thead>\n",
       "    <tr style=\"text-align: right;\">\n",
       "      <th></th>\n",
       "      <th>Ingredient</th>\n",
       "      <th>Supermarket</th>\n",
       "      <th>Product</th>\n",
       "      <th>Price</th>\n",
       "      <th>Coverage</th>\n",
       "    </tr>\n",
       "  </thead>\n",
       "  <tbody>\n",
       "    <tr>\n",
       "      <th>60</th>\n",
       "      <td>cherry tomatoes</td>\n",
       "      <td>rewe</td>\n",
       "      <td>REWE cherry groats</td>\n",
       "      <td>3.990</td>\n",
       "      <td>1</td>\n",
       "    </tr>\n",
       "    <tr>\n",
       "      <th>61</th>\n",
       "      <td>zucchini</td>\n",
       "      <td>rewe</td>\n",
       "      <td>zucchini</td>\n",
       "      <td>0.890</td>\n",
       "      <td>1</td>\n",
       "    </tr>\n",
       "    <tr>\n",
       "      <th>62</th>\n",
       "      <td>watermelon</td>\n",
       "      <td>rewe</td>\n",
       "      <td>Watermelon</td>\n",
       "      <td>1.990</td>\n",
       "      <td>1</td>\n",
       "    </tr>\n",
       "    <tr>\n",
       "      <th>63</th>\n",
       "      <td>carrots</td>\n",
       "      <td>rewe</td>\n",
       "      <td>Carrots</td>\n",
       "      <td>0.990</td>\n",
       "      <td>1</td>\n",
       "    </tr>\n",
       "    <tr>\n",
       "      <th>64</th>\n",
       "      <td>peppers</td>\n",
       "      <td>rewe</td>\n",
       "      <td>Red pepper</td>\n",
       "      <td>1.190</td>\n",
       "      <td>1</td>\n",
       "    </tr>\n",
       "    <tr>\n",
       "      <th>65</th>\n",
       "      <td>grapes</td>\n",
       "      <td>rewe</td>\n",
       "      <td>Grapefruit</td>\n",
       "      <td>0.590</td>\n",
       "      <td>1</td>\n",
       "    </tr>\n",
       "    <tr>\n",
       "      <th>66</th>\n",
       "      <td>green apples</td>\n",
       "      <td>rewe</td>\n",
       "      <td>Red apples</td>\n",
       "      <td>1.490</td>\n",
       "      <td>1</td>\n",
       "    </tr>\n",
       "    <tr>\n",
       "      <th>67</th>\n",
       "      <td>lemonade</td>\n",
       "      <td>rewe</td>\n",
       "      <td>Yes! lemonade</td>\n",
       "      <td>2.340</td>\n",
       "      <td>1</td>\n",
       "    </tr>\n",
       "    <tr>\n",
       "      <th>68</th>\n",
       "      <td>bread</td>\n",
       "      <td>rewe</td>\n",
       "      <td>Crusty bread</td>\n",
       "      <td>1.150</td>\n",
       "      <td>1</td>\n",
       "    </tr>\n",
       "    <tr>\n",
       "      <th>69</th>\n",
       "      <td>instant coffee</td>\n",
       "      <td>rewe</td>\n",
       "      <td>Lindes grain coffee</td>\n",
       "      <td>1.990</td>\n",
       "      <td>1</td>\n",
       "    </tr>\n",
       "    <tr>\n",
       "      <th>70</th>\n",
       "      <td>Spaghetti</td>\n",
       "      <td>rewe</td>\n",
       "      <td>Rewe spaghetti</td>\n",
       "      <td>1.190</td>\n",
       "      <td>1</td>\n",
       "    </tr>\n",
       "    <tr>\n",
       "      <th>71</th>\n",
       "      <td>meatballs</td>\n",
       "      <td>rewe</td>\n",
       "      <td>Yes! Meatballs</td>\n",
       "      <td>1.490</td>\n",
       "      <td>1</td>\n",
       "    </tr>\n",
       "  </tbody>\n",
       "</table>\n",
       "</div>"
      ],
      "text/plain": [
       "         Ingredient Supermarket              Product  Price  Coverage\n",
       "60  cherry tomatoes        rewe   REWE cherry groats  3.990         1\n",
       "61         zucchini        rewe             zucchini  0.890         1\n",
       "62       watermelon        rewe           Watermelon  1.990         1\n",
       "63          carrots        rewe              Carrots  0.990         1\n",
       "64          peppers        rewe           Red pepper  1.190         1\n",
       "65           grapes        rewe           Grapefruit  0.590         1\n",
       "66     green apples        rewe           Red apples  1.490         1\n",
       "67         lemonade        rewe        Yes! lemonade  2.340         1\n",
       "68            bread        rewe         Crusty bread  1.150         1\n",
       "69   instant coffee        rewe  Lindes grain coffee  1.990         1\n",
       "70        Spaghetti        rewe       Rewe spaghetti  1.190         1\n",
       "71        meatballs        rewe       Yes! Meatballs  1.490         1"
      ]
     },
     "execution_count": 51,
     "metadata": {},
     "output_type": "execute_result"
    }
   ],
   "source": [
    "demo(ingredients)"
   ]
  },
  {
   "cell_type": "markdown",
   "metadata": {
    "slideshow": {
     "slide_type": "slide"
    }
   },
   "source": [
    "### 3. Customers that bought those items, also bought:"
   ]
  },
  {
   "cell_type": "code",
   "execution_count": 52,
   "metadata": {
    "slideshow": {
     "slide_type": "-"
    }
   },
   "outputs": [
    {
     "name": "stdout",
     "output_type": "stream",
     "text": [
      "If you are buying ['pint cherry tomatoes', 'large zucchini', 'kernel corn', 'carrot', 'pepper', 'capers', 'green peas', 'lemonade', 'bread', 'instant white rice', 'spaghetti', 'frozen meatballs'] you may also want to buy:\n",
      "---------------------------------------------------------\n",
      "\n",
      "1.large tomatoes chopped\n",
      "2.head lettuce shredded\n",
      "3.crushed tortilla chips (optional)\n",
      "4.diced tomatoes with green chilies undrained\n",
      "5.shredded Cheddar cheese (optional)\n",
      "6.taco seasoning\n",
      "7.sour cream (optional)\n",
      "8.cream of celery soup\n",
      "9.black beans\n"
     ]
    }
   ],
   "source": [
    "get_top10_recommendations(ingredients)"
   ]
  },
  {
   "cell_type": "markdown",
   "metadata": {
    "slideshow": {
     "slide_type": "slide"
    }
   },
   "source": [
    "### 4. Ingredient recommender for recipes:"
   ]
  },
  {
   "cell_type": "code",
   "execution_count": 53,
   "metadata": {
    "slideshow": {
     "slide_type": "-"
    }
   },
   "outputs": [
    {
     "name": "stdout",
     "output_type": "stream",
     "text": [
      "If you are buying ['hot sauce', 'black beans', 'diced tomatoes'] you may also want to buy:\n",
      "---------------------------------------------------------\n",
      "\n",
      "1.crushed tortilla chips (optional)\n",
      "2.diced tomatoes with green chilies undrained\n",
      "3.shredded Cheddar cheese (optional)\n",
      "4.sour cream (optional)\n",
      "5.taco seasoning\n",
      "6.fluid ounce) can\n",
      "7.kernel corn\n",
      "8.chopped fresh ginger root\n",
      "9.chili beans\n"
     ]
    }
   ],
   "source": [
    "burrito = ['hot sauce', 'Black beans', 'Diced tomato']\n",
    "\n",
    "# ['spaghetti', 'parmesan']\n",
    "get_top10_recommendations(burrito)"
   ]
  },
  {
   "cell_type": "markdown",
   "metadata": {
    "slideshow": {
     "slide_type": "slide"
    }
   },
   "source": [
    "# Thank you! Questions?\n",
    "\n",
    "\n",
    "-----\n",
    "\n",
    "\n",
    "github.com/pepenunez\n",
    "\n",
    "linkedin.com/in/pepenunez/"
   ]
  },
  {
   "cell_type": "markdown",
   "metadata": {
    "slideshow": {
     "slide_type": "skip"
    }
   },
   "source": [
    "---------"
   ]
  },
  {
   "cell_type": "code",
   "execution_count": 29,
   "metadata": {
    "slideshow": {
     "slide_type": "skip"
    }
   },
   "outputs": [],
   "source": [
    "import pandas as pd\n",
    "import pickle\n",
    "import numpy as np\n",
    "from fuzzywuzzy import fuzz\n",
    "from sklearn.neighbors import NearestNeighbors\n",
    "from IPython.display import display, HTML\n",
    "\n",
    "pd.set_option('display.float_format', lambda x: '%.3f' % x)"
   ]
  },
  {
   "cell_type": "markdown",
   "metadata": {
    "slideshow": {
     "slide_type": "skip"
    }
   },
   "source": [
    "## 0. Setup"
   ]
  },
  {
   "cell_type": "markdown",
   "metadata": {
    "slideshow": {
     "slide_type": "skip"
    }
   },
   "source": [
    "### 0.1 Import datasets"
   ]
  },
  {
   "cell_type": "code",
   "execution_count": 30,
   "metadata": {
    "slideshow": {
     "slide_type": "skip"
    }
   },
   "outputs": [],
   "source": [
    "ingredient_features = pd.read_pickle('data/demo/ingredient_features.pkl')\n",
    "unique_ingredients = pd.read_pickle('data/demo/unique_ingredients.pkl')"
   ]
  },
  {
   "cell_type": "code",
   "execution_count": 31,
   "metadata": {
    "slideshow": {
     "slide_type": "skip"
    }
   },
   "outputs": [],
   "source": [
    "# import data\n",
    "supermarkets = {\n",
    "    'aldinorth': pd.read_pickle('data/products-clean/aldinorth-products-clean.pkl'),\n",
    "    'aldisouth': pd.read_pickle('data/products-clean/aldisouth-products-clean.pkl'),\n",
    "    'edeka': pd.read_pickle('data/products-clean/edeka-products-clean.pkl'),\n",
    "    'kaufland': pd.read_pickle('data/products-clean/kaufland-products-clean.pkl'),\n",
    "    'lidl': pd.read_pickle('data/products-clean/lidl-products-clean.pkl'),\n",
    "    'rewe': pd.read_pickle('data/products-clean/rewe-products-clean.pkl')\n",
    "}"
   ]
  },
  {
   "cell_type": "markdown",
   "metadata": {
    "slideshow": {
     "slide_type": "skip"
    }
   },
   "source": [
    "### 0.2 Define Functions\n",
    "\n",
    "#### 04_supermarkets-modeling"
   ]
  },
  {
   "cell_type": "code",
   "execution_count": 32,
   "metadata": {
    "slideshow": {
     "slide_type": "skip"
    }
   },
   "outputs": [],
   "source": [
    "def get_products(ingredients:list):\n",
    "    \n",
    "    # Create an empty list per each supermarket\n",
    "    supermarkets_lists = {\n",
    "            'aldinorth': [],\n",
    "            'aldisouth': [],\n",
    "            'edeka': [],\n",
    "            'kaufland': [],\n",
    "            'lidl': [],\n",
    "            'rewe': []\n",
    "        }\n",
    "    \n",
    "    for market in supermarkets:\n",
    "\n",
    "        for ing in ingredients:\n",
    "            \n",
    "            # Empty dictionary where we will store the matching products\n",
    "            matches = []   \n",
    "        \n",
    "            # For each product, iterate through each supermarket and generate a list\n",
    "            for product in supermarkets[market]['Name']:\n",
    "                ratio = fuzz.ratio(product.lower(), ing.lower())\n",
    "\n",
    "                if ratio > 50:\n",
    "                    matches.append((product, ratio))\n",
    "                    matches = sorted(matches, key=lambda x: x[1], reverse=True)\n",
    "                \n",
    "            # If matches list is not empty\n",
    "            if matches:\n",
    "                supermarkets_lists[market].append(matches[0][0])\n",
    "            else: \n",
    "                supermarkets_lists[market].append(np.nan)\n",
    "\n",
    "    return supermarkets_lists"
   ]
  },
  {
   "cell_type": "code",
   "execution_count": 33,
   "metadata": {
    "slideshow": {
     "slide_type": "skip"
    }
   },
   "outputs": [],
   "source": [
    "def get_list_products_price(ingredients:list):\n",
    "    \n",
    "    # Create a dictionary with the supermarkets and a list with the products\n",
    "    supermarkets_p = {\n",
    "        'aldinorth': get_products(ingredients)['aldinorth'],\n",
    "        'aldisouth': get_products(ingredients)['aldisouth'],\n",
    "        'edeka': get_products(ingredients)['edeka'],\n",
    "        'kaufland': get_products(ingredients)['kaufland'],\n",
    "        'lidl': get_products(ingredients)['lidl'],\n",
    "        'rewe': get_products(ingredients)['rewe']\n",
    "    }\n",
    "    \n",
    "    # New empty df\n",
    "    result = pd.DataFrame(columns=['Ingredient', 'Supermarket', 'Product', 'Price', 'Coverage'])\n",
    "\n",
    "    # Iterate and populate a df with the final result\n",
    "    for market in supermarkets_p:\n",
    "        \n",
    "        # Iterate per each product in each supermarket\n",
    "        s = supermarkets[market] # Dictionary which contains the detailed info of all products per supermarket\n",
    "        \n",
    "        ### NEW TO FIND HOW TO ADD THE NAN with THE COVERAGE 0.\n",
    "        for prod, ing in zip(supermarkets_p[market], ingredients):    \n",
    "            try:\n",
    "                price = s[s['Name'] == prod]['Price'].values[0]\n",
    "                df2 = {'Ingredient': ing, 'Supermarket': market, 'Product': prod, 'Price': price, 'Coverage': 1}\n",
    "                result = result.append(df2, ignore_index=True)\n",
    "            except:\n",
    "                result = result.append({'Ingredient': ing, 'Supermarket': market, 'Product': np.nan, 'Price': np.nan, 'Coverage': 0}, ignore_index=True)\n",
    "    \n",
    "    # 'result' contains detailed information about product and price per each supermarket\n",
    "    \n",
    "    # Change to numeric\n",
    "    result['Price'] = pd.to_numeric(result['Price'], errors='coerce')\n",
    "    result['Coverage'] = pd.to_numeric(result['Coverage'], errors='coerce')\n",
    "    \n",
    "    return result"
   ]
  },
  {
   "cell_type": "code",
   "execution_count": 34,
   "metadata": {
    "slideshow": {
     "slide_type": "skip"
    }
   },
   "outputs": [],
   "source": [
    "def get_supermarket_choice(ingredients:list):\n",
    "    \n",
    "    result = get_list_products_price(ingredients) \n",
    "    \n",
    "    # Group by 'Supermarket'\n",
    "    results = result.groupby('Supermarket').agg({'Price':'sum', 'Coverage': 'mean'}).reset_index()\n",
    "    results['Avge Price / Ingredient'] = results['Price'] / (len(ingredients) * results ['Coverage'])\n",
    "    results = results.sort_values('Avge Price / Ingredient').reset_index(drop=True)\n",
    "\n",
    "    \n",
    "    return results"
   ]
  },
  {
   "cell_type": "code",
   "execution_count": 35,
   "metadata": {
    "slideshow": {
     "slide_type": "skip"
    }
   },
   "outputs": [
    {
     "data": {
      "text/html": [
       "<div>\n",
       "<style scoped>\n",
       "    .dataframe tbody tr th:only-of-type {\n",
       "        vertical-align: middle;\n",
       "    }\n",
       "\n",
       "    .dataframe tbody tr th {\n",
       "        vertical-align: top;\n",
       "    }\n",
       "\n",
       "    .dataframe thead th {\n",
       "        text-align: right;\n",
       "    }\n",
       "</style>\n",
       "<table border=\"1\" class=\"dataframe\">\n",
       "  <thead>\n",
       "    <tr style=\"text-align: right;\">\n",
       "      <th></th>\n",
       "      <th>Supermarket</th>\n",
       "      <th>Price</th>\n",
       "      <th>Coverage</th>\n",
       "      <th>Avge Price / Ingredient</th>\n",
       "    </tr>\n",
       "  </thead>\n",
       "  <tbody>\n",
       "    <tr>\n",
       "      <th>0</th>\n",
       "      <td>aldisouth</td>\n",
       "      <td>2.930</td>\n",
       "      <td>0.500</td>\n",
       "      <td>0.977</td>\n",
       "    </tr>\n",
       "    <tr>\n",
       "      <th>1</th>\n",
       "      <td>lidl</td>\n",
       "      <td>5.670</td>\n",
       "      <td>0.500</td>\n",
       "      <td>1.890</td>\n",
       "    </tr>\n",
       "    <tr>\n",
       "      <th>2</th>\n",
       "      <td>rewe</td>\n",
       "      <td>10.630</td>\n",
       "      <td>0.833</td>\n",
       "      <td>2.126</td>\n",
       "    </tr>\n",
       "    <tr>\n",
       "      <th>3</th>\n",
       "      <td>kaufland</td>\n",
       "      <td>6.670</td>\n",
       "      <td>0.500</td>\n",
       "      <td>2.223</td>\n",
       "    </tr>\n",
       "    <tr>\n",
       "      <th>4</th>\n",
       "      <td>aldinorth</td>\n",
       "      <td>8.480</td>\n",
       "      <td>0.333</td>\n",
       "      <td>4.240</td>\n",
       "    </tr>\n",
       "    <tr>\n",
       "      <th>5</th>\n",
       "      <td>edeka</td>\n",
       "      <td>14.880</td>\n",
       "      <td>0.500</td>\n",
       "      <td>4.960</td>\n",
       "    </tr>\n",
       "  </tbody>\n",
       "</table>\n",
       "</div>"
      ],
      "text/plain": [
       "  Supermarket  Price  Coverage  Avge Price / Ingredient\n",
       "0   aldisouth  2.930     0.500                    0.977\n",
       "1        lidl  5.670     0.500                    1.890\n",
       "2        rewe 10.630     0.833                    2.126\n",
       "3    kaufland  6.670     0.500                    2.223\n",
       "4   aldinorth  8.480     0.333                    4.240\n",
       "5       edeka 14.880     0.500                    4.960"
      ]
     },
     "execution_count": 35,
     "metadata": {},
     "output_type": "execute_result"
    }
   ],
   "source": [
    "get_supermarket_choice(['Fish fingers', 'garlic', 'beer', 'vodka', 'pasta', 'zuchini'])"
   ]
  },
  {
   "cell_type": "code",
   "execution_count": 36,
   "metadata": {
    "slideshow": {
     "slide_type": "skip"
    }
   },
   "outputs": [],
   "source": [
    "def get_shopping_list(ingredients:list):\n",
    "    \n",
    "    result = get_list_products_price(ingredients) \n",
    "    results = get_supermarket_choice(ingredients)\n",
    "    \n",
    "    # Ask the user where they would like to do the grocery shopping\n",
    "    user_input = input('Where would you like to go shopping?\\n')\n",
    "    \n",
    "    return display(result[result['Supermarket'] == user_input])\n"
   ]
  },
  {
   "cell_type": "code",
   "execution_count": 37,
   "metadata": {
    "slideshow": {
     "slide_type": "skip"
    }
   },
   "outputs": [],
   "source": [
    "def get_translation(ingredients:list):\n",
    "    \n",
    "    clean_list = []\n",
    "    \n",
    "    # ...\n",
    "    for ingredient in ingredients:\n",
    "\n",
    "        matches = []\n",
    "\n",
    "        for ing in unique_ingredients['ingredients']:\n",
    "            ratio = fuzz.ratio(ing.lower(), ingredient.lower())\n",
    "\n",
    "            if ratio > 50:\n",
    "                matches.append((ing, ratio))\n",
    "                matches = sorted(matches, key=lambda x: x[1], reverse=True)\n",
    "                \n",
    "        if matches:\n",
    "            clean_list.append(matches[0][0])\n",
    "        else: \n",
    "            clean_list.append(np.nan)\n",
    "            \n",
    "    return clean_list"
   ]
  },
  {
   "cell_type": "code",
   "execution_count": 38,
   "metadata": {
    "slideshow": {
     "slide_type": "skip"
    }
   },
   "outputs": [],
   "source": [
    "def get_top10_recommendations(ingredients:list):\n",
    "    \n",
    "    ingredients = get_translation(ingredients)\n",
    "    ingredients = [ing for ing in ingredients if str(ing) != 'nan']\n",
    "\n",
    "    input_arr = np.array(ingredients)\n",
    "    \n",
    "    # Create empty DataFrame\n",
    "    model = pd.DataFrame(columns=('Ingredient Position', 'Distance'))\n",
    "    \n",
    "    # Generate the model\n",
    "    knn = model_knn.kneighbors(ingredient_features.loc[input_arr].values, n_neighbors=10)\n",
    "    \n",
    "    for i, ing in enumerate(ingredients):\n",
    "        \n",
    "        # Zip the ingredients position with the distance to the input 'ingredient'\n",
    "        z = zip(knn[1][i].tolist(), knn[0][i].tolist())\n",
    "        \n",
    "        # Formate it as a list\n",
    "        z_list = [(x, y) for x, y in z]\n",
    "    \n",
    "        # Create the DataFrame\n",
    "        temp = pd.DataFrame(z_list, columns=('Ingredient Position', 'Distance'))\n",
    "        \n",
    "        # Drop the rows of the ingredients that are already in our list\n",
    "        temp = temp.drop(temp[temp['Distance'] <= 0.001].index)\n",
    "\n",
    "        # Concat the new list of (Position, Distance) with the final df\n",
    "        model = pd.concat([model, temp])\n",
    "        \n",
    "    # Group by ingredient position and sort by distance\n",
    "    model = model.groupby('Ingredient Position').agg({'Distance': 'mean'})\n",
    "    model = model.sort_values(by='Distance', ascending=True).reset_index()\n",
    "    \n",
    "    # Print output header\n",
    "    print(f'If you are buying {ingredients} you may also want to buy:')\n",
    "    print(f'---------------------------------------------------------\\n')\n",
    "    \n",
    "    for x in range(0, 9):\n",
    "        #Print a list with the top 10 recommendations\n",
    "        print(f'{x + 1}.{ingredient_features.iloc[model[\"Ingredient Position\"][x]].name}')\n",
    "    \n",
    "    return"
   ]
  },
  {
   "cell_type": "code",
   "execution_count": 39,
   "metadata": {
    "slideshow": {
     "slide_type": "skip"
    }
   },
   "outputs": [],
   "source": [
    "def demo(ingredients:list):\n",
    "    \n",
    "    # 1. Convert the ingredient list to product lists per each supermarket\n",
    "    result = get_list_products_price(ingredients)\n",
    "    \n",
    "    # 2. Show an overview of their shopping list grouped by supermarket\n",
    "    results = get_supermarket_choice(ingredients)\n",
    "    \n",
    "    print(f'{results}\\n') # display as dataframe with print method..\n",
    "    \n",
    "    # 3. Ask the user where they would like to do the grocery shopping\n",
    "    user_input = input(f\"Where would you like to go shopping?\\n\")\n",
    "    \n",
    "    # 5. Show the user theis shopping list\n",
    "    return result[result['Supermarket'] == user_input]"
   ]
  },
  {
   "cell_type": "markdown",
   "metadata": {
    "slideshow": {
     "slide_type": "skip"
    }
   },
   "source": [
    "## 0.3 Train KNN model"
   ]
  },
  {
   "cell_type": "code",
   "execution_count": 40,
   "metadata": {
    "slideshow": {
     "slide_type": "skip"
    }
   },
   "outputs": [
    {
     "data": {
      "text/plain": [
       "NearestNeighbors(algorithm='brute', leaf_size=30, metric='cosine',\n",
       "                 metric_params=None, n_jobs=-1, n_neighbors=5, p=2, radius=1.0)"
      ]
     },
     "execution_count": 40,
     "metadata": {},
     "output_type": "execute_result"
    }
   ],
   "source": [
    "from scipy.sparse import csr_matrix\n",
    "from sklearn.neighbors import NearestNeighbors\n",
    "\n",
    "mat_ingredient_features = csr_matrix(ingredient_features)\n",
    "\n",
    "model_knn = NearestNeighbors(metric=\"cosine\",\n",
    "                             algorithm=\"brute\",\n",
    "                             n_jobs=-1)\n",
    "\n",
    "model_knn.fit(mat_ingredient_features)"
   ]
  }
 ],
 "metadata": {
  "celltoolbar": "Slideshow",
  "kernelspec": {
   "display_name": "Python 3",
   "language": "python",
   "name": "python3"
  },
  "language_info": {
   "codemirror_mode": {
    "name": "ipython",
    "version": 3
   },
   "file_extension": ".py",
   "mimetype": "text/x-python",
   "name": "python",
   "nbconvert_exporter": "python",
   "pygments_lexer": "ipython3",
   "version": "3.8.3"
  }
 },
 "nbformat": 4,
 "nbformat_minor": 4
}
