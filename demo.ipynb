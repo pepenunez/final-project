{
 "cells": [
  {
   "cell_type": "markdown",
   "metadata": {
    "slideshow": {
     "slide_type": "slide"
    }
   },
   "source": [
    "# Grocery Recommender Demo\n",
    "by Pepe Nunez"
   ]
  },
  {
   "cell_type": "code",
   "execution_count": 1,
   "metadata": {
    "slideshow": {
     "slide_type": "skip"
    }
   },
   "outputs": [],
   "source": [
    "import pandas as pd\n",
    "import pickle\n",
    "import numpy as np\n",
    "from fuzzywuzzy import fuzz\n",
    "from sklearn.neighbors import NearestNeighbors\n",
    "from IPython.display import display, HTML\n",
    "\n",
    "pd.set_option('display.float_format', lambda x: '%.3f' % x)"
   ]
  },
  {
   "cell_type": "markdown",
   "metadata": {
    "slideshow": {
     "slide_type": "skip"
    }
   },
   "source": [
    "## 0. Setup"
   ]
  },
  {
   "cell_type": "markdown",
   "metadata": {
    "slideshow": {
     "slide_type": "skip"
    }
   },
   "source": [
    "### 0.1 Import datasets"
   ]
  },
  {
   "cell_type": "code",
   "execution_count": 2,
   "metadata": {
    "slideshow": {
     "slide_type": "skip"
    }
   },
   "outputs": [],
   "source": [
    "ingredient_features = pd.read_pickle('data/demo/ingredient_features.pkl')\n",
    "unique_ingredients = pd.read_pickle('data/demo/unique_ingredients.pkl')"
   ]
  },
  {
   "cell_type": "code",
   "execution_count": 3,
   "metadata": {
    "slideshow": {
     "slide_type": "skip"
    }
   },
   "outputs": [],
   "source": [
    "# import data\n",
    "supermarkets = {\n",
    "    'aldinorth': pd.read_pickle('data/products-clean/aldinorth-products-clean.pkl'),\n",
    "    'aldisouth': pd.read_pickle('data/products-clean/aldisouth-products-clean.pkl'),\n",
    "    'edeka': pd.read_pickle('data/products-clean/edeka-products-clean.pkl'),\n",
    "    'kaufland': pd.read_pickle('data/products-clean/kaufland-products-clean.pkl'),\n",
    "    'lidl': pd.read_pickle('data/products-clean/lidl-products-clean.pkl'),\n",
    "    'rewe': pd.read_pickle('data/products-clean/rewe-products-clean.pkl')\n",
    "}"
   ]
  },
  {
   "cell_type": "markdown",
   "metadata": {
    "slideshow": {
     "slide_type": "skip"
    }
   },
   "source": [
    "### 0.2 Define Functions\n",
    "\n",
    "#### 04_supermarkets-modeling"
   ]
  },
  {
   "cell_type": "code",
   "execution_count": 4,
   "metadata": {
    "slideshow": {
     "slide_type": "skip"
    }
   },
   "outputs": [],
   "source": [
    "def get_products(ingredients:list):\n",
    "    \n",
    "    # Create an empty list per each supermarket\n",
    "    supermarkets_lists = {\n",
    "            'aldinorth': [],\n",
    "            'aldisouth': [],\n",
    "            'edeka': [],\n",
    "            'kaufland': [],\n",
    "            'lidl': [],\n",
    "            'rewe': []\n",
    "        }\n",
    "    \n",
    "    for market in supermarkets:\n",
    "\n",
    "        for ing in ingredients:\n",
    "            \n",
    "            # Empty dictionary where we will store the matching products\n",
    "            matches = []   \n",
    "        \n",
    "            # For each product, iterate through each supermarket and generate a list\n",
    "            for product in supermarkets[market]['Name']:\n",
    "                ratio = fuzz.ratio(product.lower(), ing.lower())\n",
    "\n",
    "                if ratio > 50:\n",
    "                    matches.append((product, ratio))\n",
    "                    matches = sorted(matches, key=lambda x: x[1], reverse=True)\n",
    "                \n",
    "            # If matches list is not empty\n",
    "            if matches:\n",
    "                supermarkets_lists[market].append(matches[0][0])\n",
    "            else: \n",
    "                supermarkets_lists[market].append(np.nan)\n",
    "\n",
    "    return supermarkets_lists"
   ]
  },
  {
   "cell_type": "code",
   "execution_count": 5,
   "metadata": {
    "slideshow": {
     "slide_type": "skip"
    }
   },
   "outputs": [],
   "source": [
    "def get_list_products_price(ingredients:list):\n",
    "    \n",
    "    # Create a dictionary with the supermarkets and a list with the products\n",
    "    supermarkets_p = {\n",
    "        'aldinorth': get_products(ingredients)['aldinorth'],\n",
    "        'aldisouth': get_products(ingredients)['aldisouth'],\n",
    "        'edeka': get_products(ingredients)['edeka'],\n",
    "        'kaufland': get_products(ingredients)['kaufland'],\n",
    "        'lidl': get_products(ingredients)['lidl'],\n",
    "        'rewe': get_products(ingredients)['rewe']\n",
    "    }\n",
    "    \n",
    "    # New empty df\n",
    "    result = pd.DataFrame(columns=['Ingredient', 'Supermarket', 'Product', 'Price', 'Coverage'])\n",
    "\n",
    "    # Iterate and populate a df with the final result\n",
    "    for market in supermarkets_p:\n",
    "        \n",
    "        # Iterate per each product in each supermarket\n",
    "        s = supermarkets[market] # Dictionary which contains the detailed info of all products per supermarket\n",
    "        \n",
    "        ### NEW TO FIND HOW TO ADD THE NAN with THE COVERAGE 0.\n",
    "        for prod, ing in zip(supermarkets_p[market], ingredients):    \n",
    "            try:\n",
    "                price = s[s['Name'] == prod]['Price'].values[0]\n",
    "                df2 = {'Ingredient': ing, 'Supermarket': market, 'Product': prod, 'Price': price, 'Coverage': 1}\n",
    "                result = result.append(df2, ignore_index=True)\n",
    "            except:\n",
    "                result = result.append({'Ingredient': ing, 'Supermarket': market, 'Product': np.nan, 'Price': np.nan, 'Coverage': 0}, ignore_index=True)\n",
    "    \n",
    "    # 'result' contains detailed information about product and price per each supermarket\n",
    "    \n",
    "    # Change to numeric\n",
    "    result['Price'] = pd.to_numeric(result['Price'], errors='coerce')\n",
    "    result['Coverage'] = pd.to_numeric(result['Coverage'], errors='coerce')\n",
    "    \n",
    "    return result"
   ]
  },
  {
   "cell_type": "code",
   "execution_count": 6,
   "metadata": {
    "slideshow": {
     "slide_type": "skip"
    }
   },
   "outputs": [],
   "source": [
    "def get_supermarket_choice(ingredients:list):\n",
    "    \n",
    "    result = get_list_products_price(ingredients) \n",
    "    \n",
    "    # Group by 'Supermarket'\n",
    "    results = result.groupby('Supermarket').agg({'Price':'sum', 'Coverage': 'mean'}).reset_index()\n",
    "    results['Avge Price / Ingredient'] = results['Price'] / (len(ingredients) * results ['Coverage'])\n",
    "    results = results.sort_values('Avge Price / Ingredient').reset_index(drop=True)\n",
    "\n",
    "    \n",
    "    return results"
   ]
  },
  {
   "cell_type": "code",
   "execution_count": 7,
   "metadata": {},
   "outputs": [
    {
     "data": {
      "text/html": [
       "<div>\n",
       "<style scoped>\n",
       "    .dataframe tbody tr th:only-of-type {\n",
       "        vertical-align: middle;\n",
       "    }\n",
       "\n",
       "    .dataframe tbody tr th {\n",
       "        vertical-align: top;\n",
       "    }\n",
       "\n",
       "    .dataframe thead th {\n",
       "        text-align: right;\n",
       "    }\n",
       "</style>\n",
       "<table border=\"1\" class=\"dataframe\">\n",
       "  <thead>\n",
       "    <tr style=\"text-align: right;\">\n",
       "      <th></th>\n",
       "      <th>Supermarket</th>\n",
       "      <th>Price</th>\n",
       "      <th>Coverage</th>\n",
       "      <th>Avge Price / Ingredient</th>\n",
       "    </tr>\n",
       "  </thead>\n",
       "  <tbody>\n",
       "    <tr>\n",
       "      <th>0</th>\n",
       "      <td>aldisouth</td>\n",
       "      <td>2.930</td>\n",
       "      <td>0.500</td>\n",
       "      <td>0.977</td>\n",
       "    </tr>\n",
       "    <tr>\n",
       "      <th>1</th>\n",
       "      <td>lidl</td>\n",
       "      <td>5.670</td>\n",
       "      <td>0.500</td>\n",
       "      <td>1.890</td>\n",
       "    </tr>\n",
       "    <tr>\n",
       "      <th>2</th>\n",
       "      <td>rewe</td>\n",
       "      <td>10.630</td>\n",
       "      <td>0.833</td>\n",
       "      <td>2.126</td>\n",
       "    </tr>\n",
       "    <tr>\n",
       "      <th>3</th>\n",
       "      <td>kaufland</td>\n",
       "      <td>6.670</td>\n",
       "      <td>0.500</td>\n",
       "      <td>2.223</td>\n",
       "    </tr>\n",
       "    <tr>\n",
       "      <th>4</th>\n",
       "      <td>aldinorth</td>\n",
       "      <td>8.480</td>\n",
       "      <td>0.333</td>\n",
       "      <td>4.240</td>\n",
       "    </tr>\n",
       "    <tr>\n",
       "      <th>5</th>\n",
       "      <td>edeka</td>\n",
       "      <td>14.880</td>\n",
       "      <td>0.500</td>\n",
       "      <td>4.960</td>\n",
       "    </tr>\n",
       "  </tbody>\n",
       "</table>\n",
       "</div>"
      ],
      "text/plain": [
       "  Supermarket  Price  Coverage  Avge Price / Ingredient\n",
       "0   aldisouth  2.930     0.500                    0.977\n",
       "1        lidl  5.670     0.500                    1.890\n",
       "2        rewe 10.630     0.833                    2.126\n",
       "3    kaufland  6.670     0.500                    2.223\n",
       "4   aldinorth  8.480     0.333                    4.240\n",
       "5       edeka 14.880     0.500                    4.960"
      ]
     },
     "execution_count": 7,
     "metadata": {},
     "output_type": "execute_result"
    }
   ],
   "source": [
    "get_supermarket_choice(['Fish fingers', 'garlic', 'beer', 'vodka', 'pasta', 'zuchini'])"
   ]
  },
  {
   "cell_type": "code",
   "execution_count": 8,
   "metadata": {
    "slideshow": {
     "slide_type": "skip"
    }
   },
   "outputs": [],
   "source": [
    "def get_shopping_list(ingredients:list):\n",
    "    \n",
    "    result = get_list_products_price(ingredients) \n",
    "    results = get_supermarket_choice(ingredients)\n",
    "    \n",
    "    # Ask the user where they would like to do the grocery shopping\n",
    "    user_input = input('Where would you like to go shopping?\\n')\n",
    "    \n",
    "    return display(result[result['Supermarket'] == user_input])\n"
   ]
  },
  {
   "cell_type": "code",
   "execution_count": 9,
   "metadata": {
    "slideshow": {
     "slide_type": "skip"
    }
   },
   "outputs": [],
   "source": [
    "def get_translation(ingredients:list):\n",
    "    \n",
    "    clean_list = []\n",
    "    \n",
    "    # ...\n",
    "    for ingredient in ingredients:\n",
    "\n",
    "        matches = []\n",
    "\n",
    "        for ing in unique_ingredients['ingredients']:\n",
    "            ratio = fuzz.ratio(ing.lower(), ingredient.lower())\n",
    "\n",
    "            if ratio > 50:\n",
    "                matches.append((ing, ratio))\n",
    "                matches = sorted(matches, key=lambda x: x[1], reverse=True)\n",
    "                \n",
    "        if matches:\n",
    "            clean_list.append(matches[0][0])\n",
    "        else: \n",
    "            clean_list.append(np.nan)\n",
    "            \n",
    "    return clean_list"
   ]
  },
  {
   "cell_type": "code",
   "execution_count": 10,
   "metadata": {
    "slideshow": {
     "slide_type": "skip"
    }
   },
   "outputs": [],
   "source": [
    "def get_top10_recommendations(ingredients:list):\n",
    "    \n",
    "    ingredients = get_translation(ingredients)\n",
    "    ingredients = [ing for ing in ingredients if str(ing) != 'nan']\n",
    "\n",
    "    input_arr = np.array(ingredients)\n",
    "    \n",
    "    # Create empty DataFrame\n",
    "    model = pd.DataFrame(columns=('Ingredient Position', 'Distance'))\n",
    "    \n",
    "    # Generate the model\n",
    "    knn = model_knn.kneighbors(ingredient_features.loc[input_arr].values, n_neighbors=10)\n",
    "    \n",
    "    for i, ing in enumerate(ingredients):\n",
    "        \n",
    "        # Zip the ingredients position with the distance to the input 'ingredient'\n",
    "        z = zip(knn[1][i].tolist(), knn[0][i].tolist())\n",
    "        \n",
    "        # Formate it as a list\n",
    "        z_list = [(x, y) for x, y in z]\n",
    "    \n",
    "        # Create the DataFrame\n",
    "        temp = pd.DataFrame(z_list, columns=('Ingredient Position', 'Distance'))\n",
    "        \n",
    "        # Drop the rows of the ingredients that are already in our list\n",
    "        temp = temp.drop(temp[temp['Distance'] <= 0.001].index)\n",
    "\n",
    "        # Concat the new list of (Position, Distance) with the final df\n",
    "        model = pd.concat([model, temp])\n",
    "        \n",
    "    # Group by ingredient position and sort by distance\n",
    "    model = model.groupby('Ingredient Position').agg({'Distance': 'mean'})\n",
    "    model = model.sort_values(by='Distance', ascending=True).reset_index()\n",
    "    \n",
    "    # Print output header\n",
    "    print(f'If you are buying {ingredients} you may also want to buy:')\n",
    "    print(f'---------------------------------------------------------\\n')\n",
    "    \n",
    "    for x in range(0, 9):\n",
    "        #Print a list with the top 10 recommendations\n",
    "        print(f'{x + 1}.{ingredient_features.iloc[model[\"Ingredient Position\"][x]].name}')\n",
    "    \n",
    "    return"
   ]
  },
  {
   "cell_type": "code",
   "execution_count": 11,
   "metadata": {
    "slideshow": {
     "slide_type": "skip"
    }
   },
   "outputs": [],
   "source": [
    "def demo(ingredients:list):\n",
    "    \n",
    "    # 1. Convert the ingredient list to product lists per each supermarket\n",
    "    result = get_list_products_price(ingredients)\n",
    "    \n",
    "    # 2. Show an overview of their shopping list grouped by supermarket\n",
    "    results = get_supermarket_choice(ingredients)\n",
    "    \n",
    "    print(results) # display as dataframe with print method..\n",
    "    \n",
    "    # 3. Ask the user where they would like to do the grocery shopping\n",
    "    user_input = input('Where would you like to go shopping?\\n')\n",
    "    \n",
    "    # 4. Show the user theis shopping list\n",
    "    return result[result['Supermarket'] == user_input]"
   ]
  },
  {
   "cell_type": "markdown",
   "metadata": {
    "slideshow": {
     "slide_type": "skip"
    }
   },
   "source": [
    "## 0.3 Train KNN model"
   ]
  },
  {
   "cell_type": "code",
   "execution_count": 12,
   "metadata": {
    "slideshow": {
     "slide_type": "skip"
    }
   },
   "outputs": [
    {
     "data": {
      "text/plain": [
       "NearestNeighbors(algorithm='brute', leaf_size=30, metric='cosine',\n",
       "                 metric_params=None, n_jobs=-1, n_neighbors=5, p=2, radius=1.0)"
      ]
     },
     "execution_count": 12,
     "metadata": {},
     "output_type": "execute_result"
    }
   ],
   "source": [
    "from scipy.sparse import csr_matrix\n",
    "from sklearn.neighbors import NearestNeighbors\n",
    "\n",
    "mat_ingredient_features = csr_matrix(ingredient_features)\n",
    "\n",
    "model_knn = NearestNeighbors(metric=\"cosine\",\n",
    "                             algorithm=\"brute\",\n",
    "                             n_jobs=-1)\n",
    "\n",
    "model_knn.fit(mat_ingredient_features)"
   ]
  },
  {
   "cell_type": "markdown",
   "metadata": {
    "slideshow": {
     "slide_type": "slide"
    }
   },
   "source": [
    "## 1. Ingredient list"
   ]
  },
  {
   "cell_type": "code",
   "execution_count": 31,
   "metadata": {
    "slideshow": {
     "slide_type": "slide"
    }
   },
   "outputs": [],
   "source": [
    "ingredients = ['mustard', 'cherry tomatoes', 'zucchini', 'carrots',\n",
    "               'tofu', 'peppers', 'waterlemon', 'meatballs', \n",
    "               'Sunflower oil', 'fish fingers', 'black beans', 'Spaghetti']"
   ]
  },
  {
   "cell_type": "markdown",
   "metadata": {
    "slideshow": {
     "slide_type": "slide"
    }
   },
   "source": [
    "## 2. Which supermarket should we choose?"
   ]
  },
  {
   "cell_type": "code",
   "execution_count": 26,
   "metadata": {
    "slideshow": {
     "slide_type": "slide"
    }
   },
   "outputs": [
    {
     "data": {
      "text/html": [
       "<div>\n",
       "<style scoped>\n",
       "    .dataframe tbody tr th:only-of-type {\n",
       "        vertical-align: middle;\n",
       "    }\n",
       "\n",
       "    .dataframe tbody tr th {\n",
       "        vertical-align: top;\n",
       "    }\n",
       "\n",
       "    .dataframe thead th {\n",
       "        text-align: right;\n",
       "    }\n",
       "</style>\n",
       "<table border=\"1\" class=\"dataframe\">\n",
       "  <thead>\n",
       "    <tr style=\"text-align: right;\">\n",
       "      <th></th>\n",
       "      <th>Supermarket</th>\n",
       "      <th>Price</th>\n",
       "      <th>Coverage</th>\n",
       "      <th>Avge Price / Ingredient</th>\n",
       "    </tr>\n",
       "  </thead>\n",
       "  <tbody>\n",
       "    <tr>\n",
       "      <th>0</th>\n",
       "      <td>lidl</td>\n",
       "      <td>16.500</td>\n",
       "      <td>0.923</td>\n",
       "      <td>1.375</td>\n",
       "    </tr>\n",
       "    <tr>\n",
       "      <th>1</th>\n",
       "      <td>aldisouth</td>\n",
       "      <td>13.930</td>\n",
       "      <td>0.769</td>\n",
       "      <td>1.393</td>\n",
       "    </tr>\n",
       "    <tr>\n",
       "      <th>2</th>\n",
       "      <td>rewe</td>\n",
       "      <td>18.260</td>\n",
       "      <td>0.923</td>\n",
       "      <td>1.522</td>\n",
       "    </tr>\n",
       "    <tr>\n",
       "      <th>3</th>\n",
       "      <td>aldinorth</td>\n",
       "      <td>17.650</td>\n",
       "      <td>0.846</td>\n",
       "      <td>1.605</td>\n",
       "    </tr>\n",
       "    <tr>\n",
       "      <th>4</th>\n",
       "      <td>edeka</td>\n",
       "      <td>23.640</td>\n",
       "      <td>0.923</td>\n",
       "      <td>1.970</td>\n",
       "    </tr>\n",
       "    <tr>\n",
       "      <th>5</th>\n",
       "      <td>kaufland</td>\n",
       "      <td>28.610</td>\n",
       "      <td>0.923</td>\n",
       "      <td>2.384</td>\n",
       "    </tr>\n",
       "  </tbody>\n",
       "</table>\n",
       "</div>"
      ],
      "text/plain": [
       "  Supermarket  Price  Coverage  Avge Price / Ingredient\n",
       "0        lidl 16.500     0.923                    1.375\n",
       "1   aldisouth 13.930     0.769                    1.393\n",
       "2        rewe 18.260     0.923                    1.522\n",
       "3   aldinorth 17.650     0.846                    1.605\n",
       "4       edeka 23.640     0.923                    1.970\n",
       "5    kaufland 28.610     0.923                    2.384"
      ]
     },
     "execution_count": 26,
     "metadata": {},
     "output_type": "execute_result"
    }
   ],
   "source": [
    "get_supermarket_choice(ingredients)"
   ]
  },
  {
   "cell_type": "markdown",
   "metadata": {
    "slideshow": {
     "slide_type": "slide"
    }
   },
   "source": [
    "## 3. Can we get the Shopping List with the exact products?"
   ]
  },
  {
   "cell_type": "code",
   "execution_count": 29,
   "metadata": {
    "slideshow": {
     "slide_type": "slide"
    }
   },
   "outputs": [
    {
     "name": "stdout",
     "output_type": "stream",
     "text": [
      "Where would you like to go shopping?\n",
      "kaufland\n"
     ]
    },
    {
     "data": {
      "text/html": [
       "<div>\n",
       "<style scoped>\n",
       "    .dataframe tbody tr th:only-of-type {\n",
       "        vertical-align: middle;\n",
       "    }\n",
       "\n",
       "    .dataframe tbody tr th {\n",
       "        vertical-align: top;\n",
       "    }\n",
       "\n",
       "    .dataframe thead th {\n",
       "        text-align: right;\n",
       "    }\n",
       "</style>\n",
       "<table border=\"1\" class=\"dataframe\">\n",
       "  <thead>\n",
       "    <tr style=\"text-align: right;\">\n",
       "      <th></th>\n",
       "      <th>Ingredient</th>\n",
       "      <th>Supermarket</th>\n",
       "      <th>Product</th>\n",
       "      <th>Price</th>\n",
       "      <th>Coverage</th>\n",
       "    </tr>\n",
       "  </thead>\n",
       "  <tbody>\n",
       "    <tr>\n",
       "      <th>39</th>\n",
       "      <td>mustard</td>\n",
       "      <td>kaufland</td>\n",
       "      <td>Jütro mustard</td>\n",
       "      <td>1.090</td>\n",
       "      <td>1</td>\n",
       "    </tr>\n",
       "    <tr>\n",
       "      <th>40</th>\n",
       "      <td>cherry tomatoes</td>\n",
       "      <td>kaufland</td>\n",
       "      <td>Date cherry tomatoes</td>\n",
       "      <td>0.790</td>\n",
       "      <td>1</td>\n",
       "    </tr>\n",
       "    <tr>\n",
       "      <th>41</th>\n",
       "      <td>zucchini</td>\n",
       "      <td>kaufland</td>\n",
       "      <td>zucchini</td>\n",
       "      <td>1.890</td>\n",
       "      <td>1</td>\n",
       "    </tr>\n",
       "    <tr>\n",
       "      <th>42</th>\n",
       "      <td>carrots</td>\n",
       "      <td>kaufland</td>\n",
       "      <td>Carrots</td>\n",
       "      <td>0.690</td>\n",
       "      <td>1</td>\n",
       "    </tr>\n",
       "    <tr>\n",
       "      <th>43</th>\n",
       "      <td>tofu</td>\n",
       "      <td>kaufland</td>\n",
       "      <td>NaN</td>\n",
       "      <td>nan</td>\n",
       "      <td>0</td>\n",
       "    </tr>\n",
       "    <tr>\n",
       "      <th>44</th>\n",
       "      <td>peppers</td>\n",
       "      <td>kaufland</td>\n",
       "      <td>Red pepper</td>\n",
       "      <td>1.790</td>\n",
       "      <td>1</td>\n",
       "    </tr>\n",
       "    <tr>\n",
       "      <th>45</th>\n",
       "      <td>waterlemon</td>\n",
       "      <td>kaufland</td>\n",
       "      <td>Watermelon</td>\n",
       "      <td>1.150</td>\n",
       "      <td>1</td>\n",
       "    </tr>\n",
       "    <tr>\n",
       "      <th>46</th>\n",
       "      <td>meatballs</td>\n",
       "      <td>kaufland</td>\n",
       "      <td>Leimer marrowballs</td>\n",
       "      <td>0.850</td>\n",
       "      <td>1</td>\n",
       "    </tr>\n",
       "    <tr>\n",
       "      <th>47</th>\n",
       "      <td>Coke</td>\n",
       "      <td>kaufland</td>\n",
       "      <td>Coke</td>\n",
       "      <td>11.400</td>\n",
       "      <td>1</td>\n",
       "    </tr>\n",
       "    <tr>\n",
       "      <th>48</th>\n",
       "      <td>Sunflower oil</td>\n",
       "      <td>kaufland</td>\n",
       "      <td>Thomy sunflower oil</td>\n",
       "      <td>1.990</td>\n",
       "      <td>1</td>\n",
       "    </tr>\n",
       "    <tr>\n",
       "      <th>49</th>\n",
       "      <td>fish fingers</td>\n",
       "      <td>kaufland</td>\n",
       "      <td>Iglo fish fingers</td>\n",
       "      <td>3.390</td>\n",
       "      <td>1</td>\n",
       "    </tr>\n",
       "    <tr>\n",
       "      <th>50</th>\n",
       "      <td>white rice</td>\n",
       "      <td>kaufland</td>\n",
       "      <td>Hak white beans</td>\n",
       "      <td>2.190</td>\n",
       "      <td>1</td>\n",
       "    </tr>\n",
       "    <tr>\n",
       "      <th>51</th>\n",
       "      <td>Spaghetti</td>\n",
       "      <td>kaufland</td>\n",
       "      <td>Buitoni spaghetti</td>\n",
       "      <td>1.390</td>\n",
       "      <td>1</td>\n",
       "    </tr>\n",
       "  </tbody>\n",
       "</table>\n",
       "</div>"
      ],
      "text/plain": [
       "         Ingredient Supermarket               Product  Price  Coverage\n",
       "39          mustard    kaufland         Jütro mustard  1.090         1\n",
       "40  cherry tomatoes    kaufland  Date cherry tomatoes  0.790         1\n",
       "41         zucchini    kaufland              zucchini  1.890         1\n",
       "42          carrots    kaufland               Carrots  0.690         1\n",
       "43             tofu    kaufland                   NaN    nan         0\n",
       "44          peppers    kaufland            Red pepper  1.790         1\n",
       "45       waterlemon    kaufland            Watermelon  1.150         1\n",
       "46        meatballs    kaufland    Leimer marrowballs  0.850         1\n",
       "47             Coke    kaufland                  Coke 11.400         1\n",
       "48    Sunflower oil    kaufland   Thomy sunflower oil  1.990         1\n",
       "49     fish fingers    kaufland     Iglo fish fingers  3.390         1\n",
       "50       white rice    kaufland       Hak white beans  2.190         1\n",
       "51        Spaghetti    kaufland     Buitoni spaghetti  1.390         1"
      ]
     },
     "metadata": {},
     "output_type": "display_data"
    }
   ],
   "source": [
    "get_shopping_list(ingredients)"
   ]
  },
  {
   "cell_type": "markdown",
   "metadata": {
    "slideshow": {
     "slide_type": "slide"
    }
   },
   "source": [
    "## 4. Customers that bought those items, also bought:"
   ]
  },
  {
   "cell_type": "code",
   "execution_count": 28,
   "metadata": {
    "slideshow": {
     "slide_type": "slide"
    }
   },
   "outputs": [
    {
     "name": "stdout",
     "output_type": "stream",
     "text": [
      "If you are buying ['dry mustard', 'pint cherry tomatoes', 'large zucchini', 'carrot', 'pepper', 'lemon', 'frozen meatballs', 'chicken', 'flour tortillas', 'fresh ginger root', 'white rice', 'spaghetti'] you may also want to buy:\n",
      "---------------------------------------------------------\n",
      "\n",
      "1.cranberry sauce\n",
      "2.diced green chili peppers\n",
      "3.taco sauce\n",
      "4.shredded Colby cheese\n",
      "5.sliced bamboo shoots drained\n",
      "6.black olives sliced\n",
      "7.zucchini squashes julienned\n",
      "8.refried beans\n",
      "9.chopped fresh cilantro (optional)\n"
     ]
    }
   ],
   "source": [
    "get_top10_recommendations(ingredients)"
   ]
  },
  {
   "cell_type": "markdown",
   "metadata": {},
   "source": [
    "## 5. Ingredient recommender for recipes:"
   ]
  },
  {
   "cell_type": "code",
   "execution_count": 32,
   "metadata": {},
   "outputs": [
    {
     "name": "stdout",
     "output_type": "stream",
     "text": [
      "If you are buying ['hot sauce', 'black beans', 'diced tomatoes'] you may also want to buy:\n",
      "---------------------------------------------------------\n",
      "\n",
      "1.crushed tortilla chips (optional)\n",
      "2.diced tomatoes with green chilies undrained\n",
      "3.shredded Cheddar cheese (optional)\n",
      "4.sour cream (optional)\n",
      "5.taco seasoning\n",
      "6.fluid ounce) can\n",
      "7.kernel corn\n",
      "8.chopped fresh ginger root\n",
      "9.chili beans\n"
     ]
    }
   ],
   "source": [
    "get_top10_recommendations(['hot sauce', 'Black beans', 'Diced tomato'])"
   ]
  },
  {
   "cell_type": "code",
   "execution_count": 33,
   "metadata": {},
   "outputs": [
    {
     "name": "stdout",
     "output_type": "stream",
     "text": [
      "  Supermarket  Price  Coverage  Avge Price / Ingredient\n",
      "0   aldinorth  2.670         1                    0.890\n",
      "1    kaufland  2.930         1                    0.977\n",
      "2   aldisouth  3.140         1                    1.047\n",
      "3        rewe  4.230         1                    1.410\n",
      "4       edeka  4.470         1                    1.490\n",
      "5        lidl  4.470         1                    1.490\n",
      "Where would you like to go shopping?\n",
      "rewe\n"
     ]
    },
    {
     "data": {
      "text/html": [
       "<div>\n",
       "<style scoped>\n",
       "    .dataframe tbody tr th:only-of-type {\n",
       "        vertical-align: middle;\n",
       "    }\n",
       "\n",
       "    .dataframe tbody tr th {\n",
       "        vertical-align: top;\n",
       "    }\n",
       "\n",
       "    .dataframe thead th {\n",
       "        text-align: right;\n",
       "    }\n",
       "</style>\n",
       "<table border=\"1\" class=\"dataframe\">\n",
       "  <thead>\n",
       "    <tr style=\"text-align: right;\">\n",
       "      <th></th>\n",
       "      <th>Ingredient</th>\n",
       "      <th>Supermarket</th>\n",
       "      <th>Product</th>\n",
       "      <th>Price</th>\n",
       "      <th>Coverage</th>\n",
       "    </tr>\n",
       "  </thead>\n",
       "  <tbody>\n",
       "    <tr>\n",
       "      <th>15</th>\n",
       "      <td>hot sauce</td>\n",
       "      <td>rewe</td>\n",
       "      <td>Thomy tartar sauce</td>\n",
       "      <td>1.550</td>\n",
       "      <td>1</td>\n",
       "    </tr>\n",
       "    <tr>\n",
       "      <th>16</th>\n",
       "      <td>Black beans</td>\n",
       "      <td>rewe</td>\n",
       "      <td>Bush beans</td>\n",
       "      <td>2.290</td>\n",
       "      <td>1</td>\n",
       "    </tr>\n",
       "    <tr>\n",
       "      <th>17</th>\n",
       "      <td>Diced tomato</td>\n",
       "      <td>rewe</td>\n",
       "      <td>Yes! Sieved tomatos</td>\n",
       "      <td>0.390</td>\n",
       "      <td>1</td>\n",
       "    </tr>\n",
       "  </tbody>\n",
       "</table>\n",
       "</div>"
      ],
      "text/plain": [
       "      Ingredient Supermarket              Product  Price  Coverage\n",
       "15     hot sauce        rewe   Thomy tartar sauce  1.550         1\n",
       "16   Black beans        rewe           Bush beans  2.290         1\n",
       "17  Diced tomato        rewe  Yes! Sieved tomatos  0.390         1"
      ]
     },
     "execution_count": 33,
     "metadata": {},
     "output_type": "execute_result"
    }
   ],
   "source": [
    "demo(['hot sauce', 'Black beans', 'Diced tomato'])"
   ]
  }
 ],
 "metadata": {
  "kernelspec": {
   "display_name": "Python 3",
   "language": "python",
   "name": "python3"
  },
  "language_info": {
   "codemirror_mode": {
    "name": "ipython",
    "version": 3
   },
   "file_extension": ".py",
   "mimetype": "text/x-python",
   "name": "python",
   "nbconvert_exporter": "python",
   "pygments_lexer": "ipython3",
   "version": "3.8.3"
  }
 },
 "nbformat": 4,
 "nbformat_minor": 4
}
