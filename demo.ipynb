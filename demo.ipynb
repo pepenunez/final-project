{
 "cells": [
  {
   "cell_type": "code",
   "execution_count": 30,
   "metadata": {},
   "outputs": [],
   "source": [
    "import pandas as pd\n",
    "import pickle\n",
    "import numpy as np\n",
    "from fuzzywuzzy import fuzz\n",
    "from sklearn.neighbors import NearestNeighbors"
   ]
  },
  {
   "cell_type": "markdown",
   "metadata": {},
   "source": [
    "## 0. Setup"
   ]
  },
  {
   "cell_type": "markdown",
   "metadata": {},
   "source": [
    "### 0.1 Import datasets"
   ]
  },
  {
   "cell_type": "code",
   "execution_count": 34,
   "metadata": {},
   "outputs": [],
   "source": [
    "ingredient_features = pd.read_pickle('data/demo/ingredient_features.pkl')\n",
    "unique_ingredients = pd.read_pickle('data/demo/unique_ingredients.pkl')"
   ]
  },
  {
   "cell_type": "code",
   "execution_count": 32,
   "metadata": {},
   "outputs": [],
   "source": [
    "# import data\n",
    "supermarkets = {\n",
    "    'aldinorth': pd.read_pickle('data/products-clean/aldinorth-products-clean.pkl'),\n",
    "    'aldisouth': pd.read_pickle('data/products-clean/aldisouth-products-clean.pkl'),\n",
    "    'edeka': pd.read_pickle('data/products-clean/edeka-products-clean.pkl'),\n",
    "    'kaufland': pd.read_pickle('data/products-clean/kaufland-products-clean.pkl'),\n",
    "    'lidl': pd.read_pickle('data/products-clean/lidl-products-clean.pkl'),\n",
    "    'rewe': pd.read_pickle('data/products-clean/rewe-products-clean.pkl')\n",
    "}"
   ]
  },
  {
   "cell_type": "markdown",
   "metadata": {},
   "source": [
    "### 0.2 Define Functions\n",
    "\n",
    "#### 04_supermarkets-modeling"
   ]
  },
  {
   "cell_type": "code",
   "execution_count": 4,
   "metadata": {},
   "outputs": [],
   "source": [
    "def get_products(ingredients:list):\n",
    "    \n",
    "    # Create an empty list per each supermarket\n",
    "    supermarkets_lists = {\n",
    "            'aldinorth': [],\n",
    "            'aldisouth': [],\n",
    "            'edeka': [],\n",
    "            'kaufland': [],\n",
    "            'lidl': [],\n",
    "            'rewe': []\n",
    "        }\n",
    "    \n",
    "    for market in supermarkets:\n",
    "\n",
    "        for ing in ingredients:\n",
    "            \n",
    "            # Empty dictionary where we will store the matching products\n",
    "            matches = []   \n",
    "        \n",
    "            # For each product, iterate through each supermarket and generate a list\n",
    "            for product in supermarkets[market]['Name']:\n",
    "                ratio = fuzz.ratio(product.lower(), ing.lower())\n",
    "\n",
    "                if ratio > 50:\n",
    "                    matches.append((product, ratio))\n",
    "                    matches = sorted(matches, key=lambda x: x[1], reverse=True)\n",
    "                \n",
    "            # If matches list is not empty\n",
    "            if matches:\n",
    "                supermarkets_lists[market].append(matches[0][0])\n",
    "            else: \n",
    "                supermarkets_lists[market].append(np.nan)\n",
    "\n",
    "    return supermarkets_lists"
   ]
  },
  {
   "cell_type": "code",
   "execution_count": 5,
   "metadata": {},
   "outputs": [],
   "source": [
    "def get_list_products_price(ingredients:list):\n",
    "    \n",
    "    # Create a dictionary with the supermarkets and a list with the products\n",
    "    supermarkets_p = {\n",
    "        'aldinorth': get_products(ingredients)['aldinorth'],\n",
    "        'aldisouth': get_products(ingredients)['aldisouth'],\n",
    "        'edeka': get_products(ingredients)['edeka'],\n",
    "        'kaufland': get_products(ingredients)['kaufland'],\n",
    "        'lidl': get_products(ingredients)['lidl'],\n",
    "        'rewe': get_products(ingredients)['rewe']\n",
    "    }\n",
    "    \n",
    "    # New empty df\n",
    "    result = pd.DataFrame(columns=['Ingredient', 'Supermarket', 'Product', 'Price', 'Coverage'])\n",
    "\n",
    "    # Iterate and populate a df with the final result\n",
    "    for market in supermarkets_p:\n",
    "        \n",
    "        # Iterate per each product in each supermarket\n",
    "        s = supermarkets[market] # Dictionary which contains the detailed info of all products per supermarket\n",
    "        \n",
    "        ### NEW TO FIND HOW TO ADD THE NAN with THE COVERAGE 0.\n",
    "        for prod, ing in zip(supermarkets_p[market], ingredients):    \n",
    "            try:\n",
    "                price = s[s['Name'] == prod]['Price'].values[0]\n",
    "                df2 = {'Ingredient': ing, 'Supermarket': market, 'Product': prod, 'Price': price, 'Coverage': 1}\n",
    "                result = result.append(df2, ignore_index=True)\n",
    "            except:\n",
    "                result = result.append({'Ingredient': ing, 'Supermarket': market, 'Product': np.nan, 'Price': np.nan, 'Coverage': 0}, ignore_index=True)\n",
    "    \n",
    "    # 'result' contains detailed information about product and price per each supermarket\n",
    "    \n",
    "    # Change to numeric\n",
    "    result['Price'] = pd.to_numeric(result['Price'], errors='coerce')\n",
    "    result['Coverage'] = pd.to_numeric(result['Coverage'], errors='coerce')\n",
    "    \n",
    "    return result"
   ]
  },
  {
   "cell_type": "code",
   "execution_count": 6,
   "metadata": {},
   "outputs": [],
   "source": [
    "def get_supermarket_choice(ingredients:list):\n",
    "    \n",
    "    result = get_list_products_price(ingredients) \n",
    "    \n",
    "    # Group by 'Supermarket'\n",
    "    results = result.groupby('Supermarket').agg({'Price':'sum', 'Coverage': 'mean'}).reset_index()\n",
    "    results = results.sort_values('Price').reset_index(drop=True)\n",
    "    \n",
    "    return results"
   ]
  },
  {
   "cell_type": "code",
   "execution_count": 7,
   "metadata": {},
   "outputs": [],
   "source": [
    "def get_shopping_list(ingredients:list):\n",
    "    \n",
    "    result = get_list_products_price(ingredients) \n",
    "    results = get_supermarket_choice(ingredients)\n",
    "    \n",
    "    # Ask the user where they would like to do the grocery shopping\n",
    "    user_input = input('Where would you like to go shopping?\\n')\n",
    "    \n",
    "    return result[result['Supermarket'] == user_input]"
   ]
  },
  {
   "cell_type": "code",
   "execution_count": 36,
   "metadata": {},
   "outputs": [],
   "source": [
    "def get_translation(ingredients:list):\n",
    "    \n",
    "    clean_list = []\n",
    "    \n",
    "    # ...\n",
    "    for ingredient in ingredients:\n",
    "\n",
    "        matches = []\n",
    "\n",
    "        for ing in unique_ingredients['ingredients']:\n",
    "            ratio = fuzz.ratio(ing.lower(), ingredient.lower())\n",
    "\n",
    "            if ratio > 50:\n",
    "                matches.append((ing, ratio))\n",
    "                matches = sorted(matches, key=lambda x: x[1], reverse=True)\n",
    "                \n",
    "        if matches:\n",
    "            clean_list.append(matches[0][0])\n",
    "        else: \n",
    "            clean_list.append(np.nan)\n",
    "            \n",
    "    return clean_list"
   ]
  },
  {
   "cell_type": "code",
   "execution_count": 45,
   "metadata": {},
   "outputs": [],
   "source": [
    "def get_top10_recommendations(ingredients:list):\n",
    "    \n",
    "    ingredients = get_translation(ingredients)\n",
    "    \n",
    "    input_arr = np.array(ingredients)\n",
    "    \n",
    "    # Create empty DataFrame\n",
    "    model = pd.DataFrame(columns=('Ingredient Position', 'Distance'))\n",
    "    \n",
    "    # Generate the model\n",
    "    knn = model_knn.kneighbors(ingredient_features.loc[input_arr].values, n_neighbors=10)\n",
    "    \n",
    "    for i, ing in enumerate(ingredients):\n",
    "        \n",
    "        # Zip the ingredients position with the distance to the input 'ingredient'\n",
    "        z = zip(knn[1][i].tolist(), knn[0][i].tolist())\n",
    "        \n",
    "        # Formate it as a list\n",
    "        z_list = [(x, y) for x, y in z]\n",
    "    \n",
    "        # Create the DataFrame\n",
    "        temp = pd.DataFrame(z_list, columns=('Ingredient Position', 'Distance'))\n",
    "        \n",
    "        # Drop the rows of the ingredients that are already in our list\n",
    "        temp = temp.drop(temp[temp['Distance'] <= 0.001].index)\n",
    "\n",
    "        # Concat the new list of (Position, Distance) with the final df\n",
    "        model = pd.concat([model, temp])\n",
    "        \n",
    "    # Group by ingredient position and sort by distance\n",
    "    model = model.groupby('Ingredient Position').agg({'Distance': 'mean'})\n",
    "    model = model.sort_values(by='Distance', ascending=True).reset_index()\n",
    "    \n",
    "    # Print output header\n",
    "    print(f'If you are buying {ingredients} you may also want to buy:')\n",
    "    print(f'---------------------------------------------------------\\n')\n",
    "    \n",
    "    for x in range(0, 9):\n",
    "        # Print a list with the top 10 recommendations\n",
    "        print(f'{x + 1}.{ingredient_features.iloc[model[\"Ingredient Position\"][x]].name}')\n",
    "    \n",
    "    return"
   ]
  },
  {
   "cell_type": "code",
   "execution_count": 10,
   "metadata": {},
   "outputs": [],
   "source": [
    "def demo(ingredients:list):\n",
    "    \n",
    "    # 1. Convert the ingredient list to product lists per each supermarket\n",
    "    result = get_list_products_price(ingredients)\n",
    "    \n",
    "    # 2. Show an overview of their shopping list grouped by supermarket\n",
    "    results = get_supermarket_choice(ingredients)\n",
    "    \n",
    "    print(results) # display as dataframe with print method..\n",
    "    \n",
    "    # 3. Ask the user where they would like to do the grocery shopping\n",
    "    user_input = input('Where would you like to go shopping?\\n')\n",
    "    \n",
    "    # 4. Show the user theis shopping list\n",
    "    return result[result['Supermarket'] == user_input]\n",
    "    \n",
    "    # 5. Show products that they may be interested in buy\n",
    "\n",
    "## HOW CAN I MAKE IT INTERACTIVE?\n",
    "## Display -- > https://stackoverflow.com/questions/26873127/show-dataframe-as-table-in-ipython-notebook"
   ]
  },
  {
   "cell_type": "markdown",
   "metadata": {},
   "source": [
    "## 0.3 Train KNN model"
   ]
  },
  {
   "cell_type": "code",
   "execution_count": 20,
   "metadata": {},
   "outputs": [
    {
     "data": {
      "text/plain": [
       "NearestNeighbors(algorithm='brute', leaf_size=30, metric='cosine',\n",
       "                 metric_params=None, n_jobs=-1, n_neighbors=5, p=2, radius=1.0)"
      ]
     },
     "execution_count": 20,
     "metadata": {},
     "output_type": "execute_result"
    }
   ],
   "source": [
    "from scipy.sparse import csr_matrix\n",
    "from sklearn.neighbors import NearestNeighbors\n",
    "\n",
    "mat_ingredient_features = csr_matrix(ingredient_features)\n",
    "\n",
    "model_knn = NearestNeighbors(metric=\"cosine\",\n",
    "                             algorithm=\"brute\",\n",
    "                             n_jobs=-1)\n",
    "\n",
    "model_knn.fit(mat_ingredient_features)"
   ]
  },
  {
   "cell_type": "markdown",
   "metadata": {},
   "source": [
    "## 1. Ingredient list"
   ]
  },
  {
   "cell_type": "code",
   "execution_count": 47,
   "metadata": {},
   "outputs": [],
   "source": [
    "ingredients = ['dijon mustard', 'dill weed']\n",
    "\n",
    "# ['tofu', 'black pepper', \n",
    "#               'lemon', 'meatballs', \n",
    "#               'Coce', 'Sunflower oil', \n",
    "#               'Onion', 'Basmati rice', \n",
    "#               'Spaghetti', 'Miso soup', \n",
    "#               'Tempeh', 'Soya Sauce']"
   ]
  },
  {
   "cell_type": "markdown",
   "metadata": {},
   "source": [
    "## 2. Which supermarket should we choose?"
   ]
  },
  {
   "cell_type": "code",
   "execution_count": 12,
   "metadata": {},
   "outputs": [
    {
     "data": {
      "text/html": [
       "<div>\n",
       "<style scoped>\n",
       "    .dataframe tbody tr th:only-of-type {\n",
       "        vertical-align: middle;\n",
       "    }\n",
       "\n",
       "    .dataframe tbody tr th {\n",
       "        vertical-align: top;\n",
       "    }\n",
       "\n",
       "    .dataframe thead th {\n",
       "        text-align: right;\n",
       "    }\n",
       "</style>\n",
       "<table border=\"1\" class=\"dataframe\">\n",
       "  <thead>\n",
       "    <tr style=\"text-align: right;\">\n",
       "      <th></th>\n",
       "      <th>Supermarket</th>\n",
       "      <th>Price</th>\n",
       "      <th>Coverage</th>\n",
       "    </tr>\n",
       "  </thead>\n",
       "  <tbody>\n",
       "    <tr>\n",
       "      <th>0</th>\n",
       "      <td>aldinorth</td>\n",
       "      <td>9.45</td>\n",
       "      <td>0.818182</td>\n",
       "    </tr>\n",
       "    <tr>\n",
       "      <th>1</th>\n",
       "      <td>aldisouth</td>\n",
       "      <td>13.37</td>\n",
       "      <td>0.818182</td>\n",
       "    </tr>\n",
       "    <tr>\n",
       "      <th>2</th>\n",
       "      <td>lidl</td>\n",
       "      <td>13.41</td>\n",
       "      <td>0.818182</td>\n",
       "    </tr>\n",
       "    <tr>\n",
       "      <th>3</th>\n",
       "      <td>rewe</td>\n",
       "      <td>14.22</td>\n",
       "      <td>0.909091</td>\n",
       "    </tr>\n",
       "    <tr>\n",
       "      <th>4</th>\n",
       "      <td>edeka</td>\n",
       "      <td>16.42</td>\n",
       "      <td>0.727273</td>\n",
       "    </tr>\n",
       "    <tr>\n",
       "      <th>5</th>\n",
       "      <td>kaufland</td>\n",
       "      <td>22.24</td>\n",
       "      <td>0.818182</td>\n",
       "    </tr>\n",
       "  </tbody>\n",
       "</table>\n",
       "</div>"
      ],
      "text/plain": [
       "  Supermarket  Price  Coverage\n",
       "0   aldinorth   9.45  0.818182\n",
       "1   aldisouth  13.37  0.818182\n",
       "2        lidl  13.41  0.818182\n",
       "3        rewe  14.22  0.909091\n",
       "4       edeka  16.42  0.727273\n",
       "5    kaufland  22.24  0.818182"
      ]
     },
     "execution_count": 12,
     "metadata": {},
     "output_type": "execute_result"
    }
   ],
   "source": [
    "get_supermarket_choice(ingredients)"
   ]
  },
  {
   "cell_type": "markdown",
   "metadata": {},
   "source": [
    "## 3. Can we get the Shopping List with the exact products?"
   ]
  },
  {
   "cell_type": "code",
   "execution_count": 50,
   "metadata": {},
   "outputs": [
    {
     "name": "stdout",
     "output_type": "stream",
     "text": [
      "Where would you like to go shopping?\n",
      "rewe\n"
     ]
    },
    {
     "data": {
      "text/html": [
       "<div>\n",
       "<style scoped>\n",
       "    .dataframe tbody tr th:only-of-type {\n",
       "        vertical-align: middle;\n",
       "    }\n",
       "\n",
       "    .dataframe tbody tr th {\n",
       "        vertical-align: top;\n",
       "    }\n",
       "\n",
       "    .dataframe thead th {\n",
       "        text-align: right;\n",
       "    }\n",
       "</style>\n",
       "<table border=\"1\" class=\"dataframe\">\n",
       "  <thead>\n",
       "    <tr style=\"text-align: right;\">\n",
       "      <th></th>\n",
       "      <th>Ingredient</th>\n",
       "      <th>Supermarket</th>\n",
       "      <th>Product</th>\n",
       "      <th>Price</th>\n",
       "      <th>Coverage</th>\n",
       "    </tr>\n",
       "  </thead>\n",
       "  <tbody>\n",
       "    <tr>\n",
       "      <th>10</th>\n",
       "      <td>dijon mustard</td>\n",
       "      <td>rewe</td>\n",
       "      <td>Lion mustard extra</td>\n",
       "      <td>1.49</td>\n",
       "      <td>1</td>\n",
       "    </tr>\n",
       "    <tr>\n",
       "      <th>11</th>\n",
       "      <td>dill weed</td>\n",
       "      <td>rewe</td>\n",
       "      <td>NaN</td>\n",
       "      <td>NaN</td>\n",
       "      <td>0</td>\n",
       "    </tr>\n",
       "  </tbody>\n",
       "</table>\n",
       "</div>"
      ],
      "text/plain": [
       "       Ingredient Supermarket             Product  Price  Coverage\n",
       "10  dijon mustard        rewe  Lion mustard extra   1.49         1\n",
       "11      dill weed        rewe                 NaN    NaN         0"
      ]
     },
     "execution_count": 50,
     "metadata": {},
     "output_type": "execute_result"
    }
   ],
   "source": [
    "get_shopping_list(ingredients)"
   ]
  },
  {
   "cell_type": "markdown",
   "metadata": {},
   "source": [
    "## 4. Customers that bought those items, also bought:"
   ]
  },
  {
   "cell_type": "code",
   "execution_count": 48,
   "metadata": {},
   "outputs": [
    {
     "name": "stdout",
     "output_type": "stream",
     "text": [
      "If you are buying ['Dijon mustard', 'dill weed'] you may also want to buy:\n",
      "---------------------------------------------------------\n",
      "\n",
      "1.sun-dried tomatoes chopped\n",
      "2.zucchini cut in half lengthwise then sliced diagonally\n",
      "3.fat-free chicken broth\n",
      "4.fat-free sour cream\n",
      "5.dry white wine\n",
      "6.boneless skinless chicken breast halves\n",
      "7.Dijon mustard\n",
      "8.dill weed\n",
      "9.oil\n"
     ]
    }
   ],
   "source": [
    "get_top10_recommendations(ingredients)"
   ]
  }
 ],
 "metadata": {
  "kernelspec": {
   "display_name": "Python 3",
   "language": "python",
   "name": "python3"
  },
  "language_info": {
   "codemirror_mode": {
    "name": "ipython",
    "version": 3
   },
   "file_extension": ".py",
   "mimetype": "text/x-python",
   "name": "python",
   "nbconvert_exporter": "python",
   "pygments_lexer": "ipython3",
   "version": "3.8.3"
  }
 },
 "nbformat": 4,
 "nbformat_minor": 4
}
