{
 "cells": [
  {
   "cell_type": "markdown",
   "metadata": {},
   "source": [
    "# Data cleaning"
   ]
  },
  {
   "cell_type": "code",
   "execution_count": 1,
   "metadata": {},
   "outputs": [],
   "source": [
    "import pandas as pd\n",
    "import seaborn as sns\n",
    "import matplotlib.pyplot as plt"
   ]
  },
  {
   "cell_type": "code",
   "execution_count": 2,
   "metadata": {},
   "outputs": [],
   "source": [
    "recipes_raw = pd.read_csv('../final-project/data/allrecipes-raw-data/raw-data_recipe.csv')\n",
    "interactions_raw = pd.read_csv('../final-project/data/allrecipes-raw-data/raw-data_interaction.csv')"
   ]
  },
  {
   "cell_type": "markdown",
   "metadata": {},
   "source": [
    "## 1. Recipes data"
   ]
  },
  {
   "cell_type": "markdown",
   "metadata": {},
   "source": [
    "### 1.1 Data exploration"
   ]
  },
  {
   "cell_type": "code",
   "execution_count": 3,
   "metadata": {},
   "outputs": [
    {
     "data": {
      "text/html": [
       "<div>\n",
       "<style scoped>\n",
       "    .dataframe tbody tr th:only-of-type {\n",
       "        vertical-align: middle;\n",
       "    }\n",
       "\n",
       "    .dataframe tbody tr th {\n",
       "        vertical-align: top;\n",
       "    }\n",
       "\n",
       "    .dataframe thead th {\n",
       "        text-align: right;\n",
       "    }\n",
       "</style>\n",
       "<table border=\"1\" class=\"dataframe\">\n",
       "  <thead>\n",
       "    <tr style=\"text-align: right;\">\n",
       "      <th></th>\n",
       "      <th>recipe_id</th>\n",
       "      <th>recipe_name</th>\n",
       "      <th>aver_rate</th>\n",
       "      <th>image_url</th>\n",
       "      <th>review_nums</th>\n",
       "      <th>ingredients</th>\n",
       "      <th>cooking_directions</th>\n",
       "      <th>nutritions</th>\n",
       "      <th>reviews</th>\n",
       "    </tr>\n",
       "  </thead>\n",
       "  <tbody>\n",
       "    <tr>\n",
       "      <th>0</th>\n",
       "      <td>222388</td>\n",
       "      <td>Homemade Bacon</td>\n",
       "      <td>5.000000</td>\n",
       "      <td>https://images.media-allrecipes.com/userphotos...</td>\n",
       "      <td>3</td>\n",
       "      <td>pork belly^smoked paprika^kosher salt^ground b...</td>\n",
       "      <td>{'directions': u'Prep\\n5 m\\nCook\\n2 h 45 m\\nRe...</td>\n",
       "      <td>{u'niacin': {u'hasCompleteData': False, u'name...</td>\n",
       "      <td>{8542392: {'rating': 5, 'followersCount': 11, ...</td>\n",
       "    </tr>\n",
       "    <tr>\n",
       "      <th>1</th>\n",
       "      <td>240488</td>\n",
       "      <td>Pork Loin, Apples, and Sauerkraut</td>\n",
       "      <td>4.764706</td>\n",
       "      <td>https://images.media-allrecipes.com/userphotos...</td>\n",
       "      <td>29</td>\n",
       "      <td>sauerkraut drained^Granny Smith apples sliced^...</td>\n",
       "      <td>{'directions': u'Prep\\n15 m\\nCook\\n2 h 30 m\\nR...</td>\n",
       "      <td>{u'niacin': {u'hasCompleteData': False, u'name...</td>\n",
       "      <td>{3574785: {'rating': 5, 'followersCount': 0, '...</td>\n",
       "    </tr>\n",
       "    <tr>\n",
       "      <th>2</th>\n",
       "      <td>218939</td>\n",
       "      <td>Foolproof Rosemary Chicken Wings</td>\n",
       "      <td>4.571429</td>\n",
       "      <td>https://images.media-allrecipes.com/userphotos...</td>\n",
       "      <td>12</td>\n",
       "      <td>chicken wings^sprigs rosemary^head garlic^oliv...</td>\n",
       "      <td>{'directions': u\"Prep\\n20 m\\nCook\\n40 m\\nReady...</td>\n",
       "      <td>{u'niacin': {u'hasCompleteData': True, u'name'...</td>\n",
       "      <td>{13774946: {'rating': 5, 'followersCount': 0, ...</td>\n",
       "    </tr>\n",
       "    <tr>\n",
       "      <th>3</th>\n",
       "      <td>87211</td>\n",
       "      <td>Chicken Pesto Paninis</td>\n",
       "      <td>4.625000</td>\n",
       "      <td>https://images.media-allrecipes.com/userphotos...</td>\n",
       "      <td>163</td>\n",
       "      <td>focaccia bread quartered^prepared basil pesto^...</td>\n",
       "      <td>{'directions': u'Prep\\n15 m\\nCook\\n5 m\\nReady ...</td>\n",
       "      <td>{u'niacin': {u'hasCompleteData': True, u'name'...</td>\n",
       "      <td>{1563136: {'rating': 5, 'followersCount': 0, '...</td>\n",
       "    </tr>\n",
       "    <tr>\n",
       "      <th>4</th>\n",
       "      <td>245714</td>\n",
       "      <td>Potato Bacon Pizza</td>\n",
       "      <td>4.500000</td>\n",
       "      <td>https://images.media-allrecipes.com/userphotos...</td>\n",
       "      <td>2</td>\n",
       "      <td>red potatoes^strips bacon^Sauce:^heavy whippin...</td>\n",
       "      <td>{'directions': u'Prep\\n20 m\\nCook\\n45 m\\nReady...</td>\n",
       "      <td>{u'niacin': {u'hasCompleteData': True, u'name'...</td>\n",
       "      <td>{2945555: {'rating': 5, 'followersCount': 6690...</td>\n",
       "    </tr>\n",
       "  </tbody>\n",
       "</table>\n",
       "</div>"
      ],
      "text/plain": [
       "   recipe_id                        recipe_name  aver_rate  \\\n",
       "0     222388                     Homemade Bacon   5.000000   \n",
       "1     240488  Pork Loin, Apples, and Sauerkraut   4.764706   \n",
       "2     218939   Foolproof Rosemary Chicken Wings   4.571429   \n",
       "3      87211              Chicken Pesto Paninis   4.625000   \n",
       "4     245714                 Potato Bacon Pizza   4.500000   \n",
       "\n",
       "                                           image_url  review_nums  \\\n",
       "0  https://images.media-allrecipes.com/userphotos...            3   \n",
       "1  https://images.media-allrecipes.com/userphotos...           29   \n",
       "2  https://images.media-allrecipes.com/userphotos...           12   \n",
       "3  https://images.media-allrecipes.com/userphotos...          163   \n",
       "4  https://images.media-allrecipes.com/userphotos...            2   \n",
       "\n",
       "                                         ingredients  \\\n",
       "0  pork belly^smoked paprika^kosher salt^ground b...   \n",
       "1  sauerkraut drained^Granny Smith apples sliced^...   \n",
       "2  chicken wings^sprigs rosemary^head garlic^oliv...   \n",
       "3  focaccia bread quartered^prepared basil pesto^...   \n",
       "4  red potatoes^strips bacon^Sauce:^heavy whippin...   \n",
       "\n",
       "                                  cooking_directions  \\\n",
       "0  {'directions': u'Prep\\n5 m\\nCook\\n2 h 45 m\\nRe...   \n",
       "1  {'directions': u'Prep\\n15 m\\nCook\\n2 h 30 m\\nR...   \n",
       "2  {'directions': u\"Prep\\n20 m\\nCook\\n40 m\\nReady...   \n",
       "3  {'directions': u'Prep\\n15 m\\nCook\\n5 m\\nReady ...   \n",
       "4  {'directions': u'Prep\\n20 m\\nCook\\n45 m\\nReady...   \n",
       "\n",
       "                                          nutritions  \\\n",
       "0  {u'niacin': {u'hasCompleteData': False, u'name...   \n",
       "1  {u'niacin': {u'hasCompleteData': False, u'name...   \n",
       "2  {u'niacin': {u'hasCompleteData': True, u'name'...   \n",
       "3  {u'niacin': {u'hasCompleteData': True, u'name'...   \n",
       "4  {u'niacin': {u'hasCompleteData': True, u'name'...   \n",
       "\n",
       "                                             reviews  \n",
       "0  {8542392: {'rating': 5, 'followersCount': 11, ...  \n",
       "1  {3574785: {'rating': 5, 'followersCount': 0, '...  \n",
       "2  {13774946: {'rating': 5, 'followersCount': 0, ...  \n",
       "3  {1563136: {'rating': 5, 'followersCount': 0, '...  \n",
       "4  {2945555: {'rating': 5, 'followersCount': 6690...  "
      ]
     },
     "execution_count": 3,
     "metadata": {},
     "output_type": "execute_result"
    }
   ],
   "source": [
    "recipes_raw.head()"
   ]
  },
  {
   "cell_type": "code",
   "execution_count": 4,
   "metadata": {},
   "outputs": [
    {
     "data": {
      "text/plain": [
       "recipe_id               int64\n",
       "recipe_name            object\n",
       "aver_rate             float64\n",
       "image_url              object\n",
       "review_nums             int64\n",
       "ingredients            object\n",
       "cooking_directions     object\n",
       "nutritions             object\n",
       "reviews                object\n",
       "dtype: object"
      ]
     },
     "execution_count": 4,
     "metadata": {},
     "output_type": "execute_result"
    }
   ],
   "source": [
    "recipes_raw.dtypes"
   ]
  },
  {
   "cell_type": "code",
   "execution_count": 5,
   "metadata": {},
   "outputs": [
    {
     "data": {
      "text/html": [
       "<div>\n",
       "<style scoped>\n",
       "    .dataframe tbody tr th:only-of-type {\n",
       "        vertical-align: middle;\n",
       "    }\n",
       "\n",
       "    .dataframe tbody tr th {\n",
       "        vertical-align: top;\n",
       "    }\n",
       "\n",
       "    .dataframe thead th {\n",
       "        text-align: right;\n",
       "    }\n",
       "</style>\n",
       "<table border=\"1\" class=\"dataframe\">\n",
       "  <thead>\n",
       "    <tr style=\"text-align: right;\">\n",
       "      <th></th>\n",
       "      <th>recipe_id</th>\n",
       "      <th>aver_rate</th>\n",
       "      <th>review_nums</th>\n",
       "    </tr>\n",
       "  </thead>\n",
       "  <tbody>\n",
       "    <tr>\n",
       "      <th>count</th>\n",
       "      <td>49698.000000</td>\n",
       "      <td>49698.000000</td>\n",
       "      <td>49698.000000</td>\n",
       "    </tr>\n",
       "    <tr>\n",
       "      <th>mean</th>\n",
       "      <td>131092.695119</td>\n",
       "      <td>4.311699</td>\n",
       "      <td>76.342408</td>\n",
       "    </tr>\n",
       "    <tr>\n",
       "      <th>std</th>\n",
       "      <td>98230.166389</td>\n",
       "      <td>0.485282</td>\n",
       "      <td>282.160920</td>\n",
       "    </tr>\n",
       "    <tr>\n",
       "      <th>min</th>\n",
       "      <td>6663.000000</td>\n",
       "      <td>0.000000</td>\n",
       "      <td>1.000000</td>\n",
       "    </tr>\n",
       "    <tr>\n",
       "      <th>25%</th>\n",
       "      <td>22244.250000</td>\n",
       "      <td>4.081311</td>\n",
       "      <td>6.000000</td>\n",
       "    </tr>\n",
       "    <tr>\n",
       "      <th>50%</th>\n",
       "      <td>142057.500000</td>\n",
       "      <td>4.411765</td>\n",
       "      <td>17.000000</td>\n",
       "    </tr>\n",
       "    <tr>\n",
       "      <th>75%</th>\n",
       "      <td>231644.750000</td>\n",
       "      <td>4.622239</td>\n",
       "      <td>54.000000</td>\n",
       "    </tr>\n",
       "    <tr>\n",
       "      <th>max</th>\n",
       "      <td>262956.000000</td>\n",
       "      <td>5.000000</td>\n",
       "      <td>11191.000000</td>\n",
       "    </tr>\n",
       "  </tbody>\n",
       "</table>\n",
       "</div>"
      ],
      "text/plain": [
       "           recipe_id     aver_rate   review_nums\n",
       "count   49698.000000  49698.000000  49698.000000\n",
       "mean   131092.695119      4.311699     76.342408\n",
       "std     98230.166389      0.485282    282.160920\n",
       "min      6663.000000      0.000000      1.000000\n",
       "25%     22244.250000      4.081311      6.000000\n",
       "50%    142057.500000      4.411765     17.000000\n",
       "75%    231644.750000      4.622239     54.000000\n",
       "max    262956.000000      5.000000  11191.000000"
      ]
     },
     "execution_count": 5,
     "metadata": {},
     "output_type": "execute_result"
    }
   ],
   "source": [
    "recipes_raw.describe()"
   ]
  },
  {
   "cell_type": "markdown",
   "metadata": {},
   "source": [
    "The dataset has **49.698 recipes recipes**.\n",
    "\n",
    "Data cleaning / wrangling to do's:\n",
    "- Drop: 'image_url', 'cooking_directions', 'nutritions', 'reviews' \n",
    "- Transform 'ingredients': create a new row for each ingredient found in the recipe"
   ]
  },
  {
   "cell_type": "markdown",
   "metadata": {},
   "source": [
    "### 1.2 Data cleaning / wrangling"
   ]
  },
  {
   "cell_type": "code",
   "execution_count": 6,
   "metadata": {},
   "outputs": [
    {
     "data": {
      "text/html": [
       "<div>\n",
       "<style scoped>\n",
       "    .dataframe tbody tr th:only-of-type {\n",
       "        vertical-align: middle;\n",
       "    }\n",
       "\n",
       "    .dataframe tbody tr th {\n",
       "        vertical-align: top;\n",
       "    }\n",
       "\n",
       "    .dataframe thead th {\n",
       "        text-align: right;\n",
       "    }\n",
       "</style>\n",
       "<table border=\"1\" class=\"dataframe\">\n",
       "  <thead>\n",
       "    <tr style=\"text-align: right;\">\n",
       "      <th></th>\n",
       "      <th>recipe_id</th>\n",
       "      <th>recipe_name</th>\n",
       "      <th>aver_rate</th>\n",
       "      <th>review_nums</th>\n",
       "      <th>ingredients</th>\n",
       "    </tr>\n",
       "  </thead>\n",
       "  <tbody>\n",
       "    <tr>\n",
       "      <th>0</th>\n",
       "      <td>222388</td>\n",
       "      <td>Homemade Bacon</td>\n",
       "      <td>5.000000</td>\n",
       "      <td>3</td>\n",
       "      <td>pork belly^smoked paprika^kosher salt^ground b...</td>\n",
       "    </tr>\n",
       "    <tr>\n",
       "      <th>1</th>\n",
       "      <td>240488</td>\n",
       "      <td>Pork Loin, Apples, and Sauerkraut</td>\n",
       "      <td>4.764706</td>\n",
       "      <td>29</td>\n",
       "      <td>sauerkraut drained^Granny Smith apples sliced^...</td>\n",
       "    </tr>\n",
       "    <tr>\n",
       "      <th>2</th>\n",
       "      <td>218939</td>\n",
       "      <td>Foolproof Rosemary Chicken Wings</td>\n",
       "      <td>4.571429</td>\n",
       "      <td>12</td>\n",
       "      <td>chicken wings^sprigs rosemary^head garlic^oliv...</td>\n",
       "    </tr>\n",
       "    <tr>\n",
       "      <th>3</th>\n",
       "      <td>87211</td>\n",
       "      <td>Chicken Pesto Paninis</td>\n",
       "      <td>4.625000</td>\n",
       "      <td>163</td>\n",
       "      <td>focaccia bread quartered^prepared basil pesto^...</td>\n",
       "    </tr>\n",
       "    <tr>\n",
       "      <th>4</th>\n",
       "      <td>245714</td>\n",
       "      <td>Potato Bacon Pizza</td>\n",
       "      <td>4.500000</td>\n",
       "      <td>2</td>\n",
       "      <td>red potatoes^strips bacon^Sauce:^heavy whippin...</td>\n",
       "    </tr>\n",
       "  </tbody>\n",
       "</table>\n",
       "</div>"
      ],
      "text/plain": [
       "   recipe_id                        recipe_name  aver_rate  review_nums  \\\n",
       "0     222388                     Homemade Bacon   5.000000            3   \n",
       "1     240488  Pork Loin, Apples, and Sauerkraut   4.764706           29   \n",
       "2     218939   Foolproof Rosemary Chicken Wings   4.571429           12   \n",
       "3      87211              Chicken Pesto Paninis   4.625000          163   \n",
       "4     245714                 Potato Bacon Pizza   4.500000            2   \n",
       "\n",
       "                                         ingredients  \n",
       "0  pork belly^smoked paprika^kosher salt^ground b...  \n",
       "1  sauerkraut drained^Granny Smith apples sliced^...  \n",
       "2  chicken wings^sprigs rosemary^head garlic^oliv...  \n",
       "3  focaccia bread quartered^prepared basil pesto^...  \n",
       "4  red potatoes^strips bacon^Sauce:^heavy whippin...  "
      ]
     },
     "execution_count": 6,
     "metadata": {},
     "output_type": "execute_result"
    }
   ],
   "source": [
    "# Create a copy of the raw DataFrame\n",
    "recipes = recipes_raw.copy()\n",
    "\n",
    "# Drop columns\n",
    "recipes = recipes.drop(columns=['image_url', 'cooking_directions', 'nutritions', 'reviews'])\n",
    "\n",
    "recipes.head()"
   ]
  },
  {
   "cell_type": "code",
   "execution_count": 7,
   "metadata": {},
   "outputs": [],
   "source": [
    "# Convert 'ingredients' to list\n",
    "recipes['ingredients'] = recipes['ingredients'].str.split('^')"
   ]
  },
  {
   "cell_type": "code",
   "execution_count": 8,
   "metadata": {},
   "outputs": [
    {
     "data": {
      "text/html": [
       "<div>\n",
       "<style scoped>\n",
       "    .dataframe tbody tr th:only-of-type {\n",
       "        vertical-align: middle;\n",
       "    }\n",
       "\n",
       "    .dataframe tbody tr th {\n",
       "        vertical-align: top;\n",
       "    }\n",
       "\n",
       "    .dataframe thead th {\n",
       "        text-align: right;\n",
       "    }\n",
       "</style>\n",
       "<table border=\"1\" class=\"dataframe\">\n",
       "  <thead>\n",
       "    <tr style=\"text-align: right;\">\n",
       "      <th></th>\n",
       "      <th>recipe_id</th>\n",
       "      <th>recipe_name</th>\n",
       "      <th>aver_rate</th>\n",
       "      <th>review_nums</th>\n",
       "      <th>ingredients</th>\n",
       "    </tr>\n",
       "  </thead>\n",
       "  <tbody>\n",
       "    <tr>\n",
       "      <th>0</th>\n",
       "      <td>222388</td>\n",
       "      <td>Homemade Bacon</td>\n",
       "      <td>5.000000</td>\n",
       "      <td>3</td>\n",
       "      <td>[pork belly, smoked paprika, kosher salt, grou...</td>\n",
       "    </tr>\n",
       "    <tr>\n",
       "      <th>1</th>\n",
       "      <td>240488</td>\n",
       "      <td>Pork Loin, Apples, and Sauerkraut</td>\n",
       "      <td>4.764706</td>\n",
       "      <td>29</td>\n",
       "      <td>[sauerkraut drained, Granny Smith apples slice...</td>\n",
       "    </tr>\n",
       "    <tr>\n",
       "      <th>2</th>\n",
       "      <td>218939</td>\n",
       "      <td>Foolproof Rosemary Chicken Wings</td>\n",
       "      <td>4.571429</td>\n",
       "      <td>12</td>\n",
       "      <td>[chicken wings, sprigs rosemary, head garlic, ...</td>\n",
       "    </tr>\n",
       "    <tr>\n",
       "      <th>3</th>\n",
       "      <td>87211</td>\n",
       "      <td>Chicken Pesto Paninis</td>\n",
       "      <td>4.625000</td>\n",
       "      <td>163</td>\n",
       "      <td>[focaccia bread quartered, prepared basil pest...</td>\n",
       "    </tr>\n",
       "    <tr>\n",
       "      <th>4</th>\n",
       "      <td>245714</td>\n",
       "      <td>Potato Bacon Pizza</td>\n",
       "      <td>4.500000</td>\n",
       "      <td>2</td>\n",
       "      <td>[red potatoes, strips bacon, Sauce:, heavy whi...</td>\n",
       "    </tr>\n",
       "  </tbody>\n",
       "</table>\n",
       "</div>"
      ],
      "text/plain": [
       "   recipe_id                        recipe_name  aver_rate  review_nums  \\\n",
       "0     222388                     Homemade Bacon   5.000000            3   \n",
       "1     240488  Pork Loin, Apples, and Sauerkraut   4.764706           29   \n",
       "2     218939   Foolproof Rosemary Chicken Wings   4.571429           12   \n",
       "3      87211              Chicken Pesto Paninis   4.625000          163   \n",
       "4     245714                 Potato Bacon Pizza   4.500000            2   \n",
       "\n",
       "                                         ingredients  \n",
       "0  [pork belly, smoked paprika, kosher salt, grou...  \n",
       "1  [sauerkraut drained, Granny Smith apples slice...  \n",
       "2  [chicken wings, sprigs rosemary, head garlic, ...  \n",
       "3  [focaccia bread quartered, prepared basil pest...  \n",
       "4  [red potatoes, strips bacon, Sauce:, heavy whi...  "
      ]
     },
     "execution_count": 8,
     "metadata": {},
     "output_type": "execute_result"
    }
   ],
   "source": [
    "recipes.head()"
   ]
  },
  {
   "cell_type": "code",
   "execution_count": 9,
   "metadata": {},
   "outputs": [],
   "source": [
    "# Create a new row per each recipe ingredient\n",
    "recipes_ing = recipes.apply(lambda x: pd.Series(x['ingredients']),axis=1).stack().reset_index(level=1, drop=True)"
   ]
  },
  {
   "cell_type": "code",
   "execution_count": 10,
   "metadata": {},
   "outputs": [],
   "source": [
    "# name of the new column\n",
    "recipes_ing.name = 'ingredient'\n",
    "\n",
    "# drop column and join ingredients\n",
    "recipes_ingredients = recipes.drop('ingredients', axis=1, errors='ignore').join(recipes_ing)\n",
    "\n",
    "# reset_index\n",
    "recipes_ingredients = recipes_ingredients.reset_index(drop=True)"
   ]
  },
  {
   "cell_type": "code",
   "execution_count": 11,
   "metadata": {},
   "outputs": [
    {
     "data": {
      "text/html": [
       "<div>\n",
       "<style scoped>\n",
       "    .dataframe tbody tr th:only-of-type {\n",
       "        vertical-align: middle;\n",
       "    }\n",
       "\n",
       "    .dataframe tbody tr th {\n",
       "        vertical-align: top;\n",
       "    }\n",
       "\n",
       "    .dataframe thead th {\n",
       "        text-align: right;\n",
       "    }\n",
       "</style>\n",
       "<table border=\"1\" class=\"dataframe\">\n",
       "  <thead>\n",
       "    <tr style=\"text-align: right;\">\n",
       "      <th></th>\n",
       "      <th>recipe_id</th>\n",
       "      <th>recipe_name</th>\n",
       "      <th>aver_rate</th>\n",
       "      <th>review_nums</th>\n",
       "      <th>ingredient</th>\n",
       "    </tr>\n",
       "  </thead>\n",
       "  <tbody>\n",
       "    <tr>\n",
       "      <th>0</th>\n",
       "      <td>222388</td>\n",
       "      <td>Homemade Bacon</td>\n",
       "      <td>5.000000</td>\n",
       "      <td>3</td>\n",
       "      <td>pork belly</td>\n",
       "    </tr>\n",
       "    <tr>\n",
       "      <th>1</th>\n",
       "      <td>222388</td>\n",
       "      <td>Homemade Bacon</td>\n",
       "      <td>5.000000</td>\n",
       "      <td>3</td>\n",
       "      <td>smoked paprika</td>\n",
       "    </tr>\n",
       "    <tr>\n",
       "      <th>2</th>\n",
       "      <td>222388</td>\n",
       "      <td>Homemade Bacon</td>\n",
       "      <td>5.000000</td>\n",
       "      <td>3</td>\n",
       "      <td>kosher salt</td>\n",
       "    </tr>\n",
       "    <tr>\n",
       "      <th>3</th>\n",
       "      <td>222388</td>\n",
       "      <td>Homemade Bacon</td>\n",
       "      <td>5.000000</td>\n",
       "      <td>3</td>\n",
       "      <td>ground black pepper</td>\n",
       "    </tr>\n",
       "    <tr>\n",
       "      <th>4</th>\n",
       "      <td>240488</td>\n",
       "      <td>Pork Loin, Apples, and Sauerkraut</td>\n",
       "      <td>4.764706</td>\n",
       "      <td>29</td>\n",
       "      <td>sauerkraut drained</td>\n",
       "    </tr>\n",
       "  </tbody>\n",
       "</table>\n",
       "</div>"
      ],
      "text/plain": [
       "   recipe_id                        recipe_name  aver_rate  review_nums  \\\n",
       "0     222388                     Homemade Bacon   5.000000            3   \n",
       "1     222388                     Homemade Bacon   5.000000            3   \n",
       "2     222388                     Homemade Bacon   5.000000            3   \n",
       "3     222388                     Homemade Bacon   5.000000            3   \n",
       "4     240488  Pork Loin, Apples, and Sauerkraut   4.764706           29   \n",
       "\n",
       "            ingredient  \n",
       "0           pork belly  \n",
       "1       smoked paprika  \n",
       "2          kosher salt  \n",
       "3  ground black pepper  \n",
       "4   sauerkraut drained  "
      ]
     },
     "execution_count": 11,
     "metadata": {},
     "output_type": "execute_result"
    }
   ],
   "source": [
    "recipes_ingredients.head()"
   ]
  },
  {
   "cell_type": "code",
   "execution_count": 54,
   "metadata": {},
   "outputs": [],
   "source": [
    "# Export as .csv\n",
    "recipes.to_csv('data/to_sql/recipes.csv')\n",
    "recipes_ingredients.to_csv('data/to_sql/recipes_ingredients.csv')"
   ]
  },
  {
   "cell_type": "markdown",
   "metadata": {},
   "source": [
    "**Possible optimizations**: creating the relationship recipes-ingredients in a separate table"
   ]
  },
  {
   "cell_type": "markdown",
   "metadata": {},
   "source": [
    "## 2. Interactions data"
   ]
  },
  {
   "cell_type": "markdown",
   "metadata": {},
   "source": [
    "### 2.1 Data exploration"
   ]
  },
  {
   "cell_type": "code",
   "execution_count": 13,
   "metadata": {},
   "outputs": [
    {
     "data": {
      "text/html": [
       "<div>\n",
       "<style scoped>\n",
       "    .dataframe tbody tr th:only-of-type {\n",
       "        vertical-align: middle;\n",
       "    }\n",
       "\n",
       "    .dataframe tbody tr th {\n",
       "        vertical-align: top;\n",
       "    }\n",
       "\n",
       "    .dataframe thead th {\n",
       "        text-align: right;\n",
       "    }\n",
       "</style>\n",
       "<table border=\"1\" class=\"dataframe\">\n",
       "  <thead>\n",
       "    <tr style=\"text-align: right;\">\n",
       "      <th></th>\n",
       "      <th>user_id</th>\n",
       "      <th>recipe_id</th>\n",
       "      <th>rating</th>\n",
       "      <th>dateLastModified</th>\n",
       "    </tr>\n",
       "  </thead>\n",
       "  <tbody>\n",
       "    <tr>\n",
       "      <th>0</th>\n",
       "      <td>8542392</td>\n",
       "      <td>222388</td>\n",
       "      <td>5</td>\n",
       "      <td>2017-04-22T12:46:43.663\\n</td>\n",
       "    </tr>\n",
       "    <tr>\n",
       "      <th>1</th>\n",
       "      <td>11174581</td>\n",
       "      <td>222388</td>\n",
       "      <td>5</td>\n",
       "      <td>2013-06-20T15:50:25.96\\n</td>\n",
       "    </tr>\n",
       "    <tr>\n",
       "      <th>2</th>\n",
       "      <td>8262477</td>\n",
       "      <td>222388</td>\n",
       "      <td>5</td>\n",
       "      <td>2015-02-14T07:27:51.307\\n</td>\n",
       "    </tr>\n",
       "    <tr>\n",
       "      <th>3</th>\n",
       "      <td>3574785</td>\n",
       "      <td>240488</td>\n",
       "      <td>5</td>\n",
       "      <td>2017-10-07T18:20:08.973\\n</td>\n",
       "    </tr>\n",
       "    <tr>\n",
       "      <th>4</th>\n",
       "      <td>12145410</td>\n",
       "      <td>240488</td>\n",
       "      <td>2</td>\n",
       "      <td>2018-01-06T00:06:09.563\\n</td>\n",
       "    </tr>\n",
       "  </tbody>\n",
       "</table>\n",
       "</div>"
      ],
      "text/plain": [
       "    user_id  recipe_id  rating           dateLastModified\n",
       "0   8542392     222388       5  2017-04-22T12:46:43.663\\n\n",
       "1  11174581     222388       5   2013-06-20T15:50:25.96\\n\n",
       "2   8262477     222388       5  2015-02-14T07:27:51.307\\n\n",
       "3   3574785     240488       5  2017-10-07T18:20:08.973\\n\n",
       "4  12145410     240488       2  2018-01-06T00:06:09.563\\n"
      ]
     },
     "execution_count": 13,
     "metadata": {},
     "output_type": "execute_result"
    }
   ],
   "source": [
    "interactions_raw.head()"
   ]
  },
  {
   "cell_type": "code",
   "execution_count": 14,
   "metadata": {},
   "outputs": [
    {
     "data": {
      "text/plain": [
       "user_id              int64\n",
       "recipe_id            int64\n",
       "rating               int64\n",
       "dateLastModified    object\n",
       "dtype: object"
      ]
     },
     "execution_count": 14,
     "metadata": {},
     "output_type": "execute_result"
    }
   ],
   "source": [
    "interactions_raw.dtypes"
   ]
  },
  {
   "cell_type": "code",
   "execution_count": 15,
   "metadata": {},
   "outputs": [
    {
     "data": {
      "text/html": [
       "<div>\n",
       "<style scoped>\n",
       "    .dataframe tbody tr th:only-of-type {\n",
       "        vertical-align: middle;\n",
       "    }\n",
       "\n",
       "    .dataframe tbody tr th {\n",
       "        vertical-align: top;\n",
       "    }\n",
       "\n",
       "    .dataframe thead th {\n",
       "        text-align: right;\n",
       "    }\n",
       "</style>\n",
       "<table border=\"1\" class=\"dataframe\">\n",
       "  <thead>\n",
       "    <tr style=\"text-align: right;\">\n",
       "      <th></th>\n",
       "      <th>user_id</th>\n",
       "      <th>recipe_id</th>\n",
       "      <th>rating</th>\n",
       "    </tr>\n",
       "  </thead>\n",
       "  <tbody>\n",
       "    <tr>\n",
       "      <th>count</th>\n",
       "      <td>3.794003e+06</td>\n",
       "      <td>3.794003e+06</td>\n",
       "      <td>3.794003e+06</td>\n",
       "    </tr>\n",
       "    <tr>\n",
       "      <th>mean</th>\n",
       "      <td>4.860243e+06</td>\n",
       "      <td>6.112180e+04</td>\n",
       "      <td>4.513192e+00</td>\n",
       "    </tr>\n",
       "    <tr>\n",
       "      <th>std</th>\n",
       "      <td>5.010315e+06</td>\n",
       "      <td>7.178721e+04</td>\n",
       "      <td>8.754177e-01</td>\n",
       "    </tr>\n",
       "    <tr>\n",
       "      <th>min</th>\n",
       "      <td>1.600000e+01</td>\n",
       "      <td>6.663000e+03</td>\n",
       "      <td>1.000000e+00</td>\n",
       "    </tr>\n",
       "    <tr>\n",
       "      <th>25%</th>\n",
       "      <td>1.404674e+06</td>\n",
       "      <td>1.423500e+04</td>\n",
       "      <td>4.000000e+00</td>\n",
       "    </tr>\n",
       "    <tr>\n",
       "      <th>50%</th>\n",
       "      <td>2.954489e+06</td>\n",
       "      <td>2.339000e+04</td>\n",
       "      <td>5.000000e+00</td>\n",
       "    </tr>\n",
       "    <tr>\n",
       "      <th>75%</th>\n",
       "      <td>6.384689e+06</td>\n",
       "      <td>7.864900e+04</td>\n",
       "      <td>5.000000e+00</td>\n",
       "    </tr>\n",
       "    <tr>\n",
       "      <th>max</th>\n",
       "      <td>2.346374e+07</td>\n",
       "      <td>2.629560e+05</td>\n",
       "      <td>5.000000e+00</td>\n",
       "    </tr>\n",
       "  </tbody>\n",
       "</table>\n",
       "</div>"
      ],
      "text/plain": [
       "            user_id     recipe_id        rating\n",
       "count  3.794003e+06  3.794003e+06  3.794003e+06\n",
       "mean   4.860243e+06  6.112180e+04  4.513192e+00\n",
       "std    5.010315e+06  7.178721e+04  8.754177e-01\n",
       "min    1.600000e+01  6.663000e+03  1.000000e+00\n",
       "25%    1.404674e+06  1.423500e+04  4.000000e+00\n",
       "50%    2.954489e+06  2.339000e+04  5.000000e+00\n",
       "75%    6.384689e+06  7.864900e+04  5.000000e+00\n",
       "max    2.346374e+07  2.629560e+05  5.000000e+00"
      ]
     },
     "execution_count": 15,
     "metadata": {},
     "output_type": "execute_result"
    }
   ],
   "source": [
    "interactions_raw.describe()"
   ]
  },
  {
   "cell_type": "code",
   "execution_count": 16,
   "metadata": {},
   "outputs": [
    {
     "name": "stdout",
     "output_type": "stream",
     "text": [
      "Total reviews: 3794003\n",
      "Unique users: 1160267\n"
     ]
    }
   ],
   "source": [
    "print(f\"Total reviews: {len(interactions_raw)}\")\n",
    "print(f\"Unique users: {len(interactions_raw['user_id'].unique())}\")"
   ]
  },
  {
   "cell_type": "markdown",
   "metadata": {},
   "source": [
    "Data cleaning / wrangling to do's:\n",
    "- Drop: 'dateLastModified'"
   ]
  },
  {
   "cell_type": "markdown",
   "metadata": {},
   "source": [
    "### 2.2 Data cleaning / wrangling"
   ]
  },
  {
   "cell_type": "code",
   "execution_count": 17,
   "metadata": {},
   "outputs": [],
   "source": [
    "# Create a copy of the raw interactions DataFrame\n",
    "interactions = interactions_raw.copy()\n",
    "\n",
    "# Drop columns\n",
    "interactions = interactions.drop(columns=['dateLastModified'])"
   ]
  },
  {
   "cell_type": "code",
   "execution_count": 18,
   "metadata": {},
   "outputs": [
    {
     "data": {
      "text/html": [
       "<div>\n",
       "<style scoped>\n",
       "    .dataframe tbody tr th:only-of-type {\n",
       "        vertical-align: middle;\n",
       "    }\n",
       "\n",
       "    .dataframe tbody tr th {\n",
       "        vertical-align: top;\n",
       "    }\n",
       "\n",
       "    .dataframe thead th {\n",
       "        text-align: right;\n",
       "    }\n",
       "</style>\n",
       "<table border=\"1\" class=\"dataframe\">\n",
       "  <thead>\n",
       "    <tr style=\"text-align: right;\">\n",
       "      <th></th>\n",
       "      <th>user_id</th>\n",
       "      <th>recipe_id</th>\n",
       "      <th>rating</th>\n",
       "    </tr>\n",
       "  </thead>\n",
       "  <tbody>\n",
       "    <tr>\n",
       "      <th>0</th>\n",
       "      <td>8542392</td>\n",
       "      <td>222388</td>\n",
       "      <td>5</td>\n",
       "    </tr>\n",
       "    <tr>\n",
       "      <th>1</th>\n",
       "      <td>11174581</td>\n",
       "      <td>222388</td>\n",
       "      <td>5</td>\n",
       "    </tr>\n",
       "    <tr>\n",
       "      <th>2</th>\n",
       "      <td>8262477</td>\n",
       "      <td>222388</td>\n",
       "      <td>5</td>\n",
       "    </tr>\n",
       "    <tr>\n",
       "      <th>3</th>\n",
       "      <td>3574785</td>\n",
       "      <td>240488</td>\n",
       "      <td>5</td>\n",
       "    </tr>\n",
       "    <tr>\n",
       "      <th>4</th>\n",
       "      <td>12145410</td>\n",
       "      <td>240488</td>\n",
       "      <td>2</td>\n",
       "    </tr>\n",
       "  </tbody>\n",
       "</table>\n",
       "</div>"
      ],
      "text/plain": [
       "    user_id  recipe_id  rating\n",
       "0   8542392     222388       5\n",
       "1  11174581     222388       5\n",
       "2   8262477     222388       5\n",
       "3   3574785     240488       5\n",
       "4  12145410     240488       2"
      ]
     },
     "execution_count": 18,
     "metadata": {},
     "output_type": "execute_result"
    }
   ],
   "source": [
    "interactions.head()"
   ]
  },
  {
   "cell_type": "code",
   "execution_count": 19,
   "metadata": {},
   "outputs": [],
   "source": [
    "# Export as .csv\n",
    "interactions.to_csv('data/to_sql/interactions.csv')"
   ]
  },
  {
   "cell_type": "markdown",
   "metadata": {},
   "source": [
    "## 3. Ingredients data"
   ]
  },
  {
   "cell_type": "code",
   "execution_count": 20,
   "metadata": {},
   "outputs": [
    {
     "name": "stdout",
     "output_type": "stream",
     "text": [
      "Number of ingredients: 38131\n"
     ]
    }
   ],
   "source": [
    "print(f\"Number of ingredients: {recipes_ingredients['ingredient'].value_counts().count()}\")"
   ]
  },
  {
   "cell_type": "markdown",
   "metadata": {},
   "source": [
    "38,131 ingredients might seem a bit too much for the ingredient recommender that we want to find. So for the sake of simplifying I will explore the column and drop those ingredients without the enough amount of data to be significance. "
   ]
  },
  {
   "cell_type": "code",
   "execution_count": 21,
   "metadata": {},
   "outputs": [],
   "source": [
    "# Create a DataFrame with a list of dics\n",
    "ing = [(x, ((recipes_ingredients['ingredient'].value_counts()) > x).sum()) for x in range(1, 100)]"
   ]
  },
  {
   "cell_type": "code",
   "execution_count": 22,
   "metadata": {},
   "outputs": [],
   "source": [
    "ingredients_temp = pd.DataFrame(ing, columns=['count filter', 'unique ingredients'])"
   ]
  },
  {
   "cell_type": "code",
   "execution_count": 23,
   "metadata": {},
   "outputs": [
    {
     "data": {
      "text/html": [
       "<div>\n",
       "<style scoped>\n",
       "    .dataframe tbody tr th:only-of-type {\n",
       "        vertical-align: middle;\n",
       "    }\n",
       "\n",
       "    .dataframe tbody tr th {\n",
       "        vertical-align: top;\n",
       "    }\n",
       "\n",
       "    .dataframe thead th {\n",
       "        text-align: right;\n",
       "    }\n",
       "</style>\n",
       "<table border=\"1\" class=\"dataframe\">\n",
       "  <thead>\n",
       "    <tr style=\"text-align: right;\">\n",
       "      <th></th>\n",
       "      <th>count filter</th>\n",
       "      <th>unique ingredients</th>\n",
       "    </tr>\n",
       "  </thead>\n",
       "  <tbody>\n",
       "    <tr>\n",
       "      <th>0</th>\n",
       "      <td>1</td>\n",
       "      <td>14222</td>\n",
       "    </tr>\n",
       "    <tr>\n",
       "      <th>1</th>\n",
       "      <td>2</td>\n",
       "      <td>9324</td>\n",
       "    </tr>\n",
       "    <tr>\n",
       "      <th>2</th>\n",
       "      <td>3</td>\n",
       "      <td>7132</td>\n",
       "    </tr>\n",
       "    <tr>\n",
       "      <th>3</th>\n",
       "      <td>4</td>\n",
       "      <td>5911</td>\n",
       "    </tr>\n",
       "    <tr>\n",
       "      <th>4</th>\n",
       "      <td>5</td>\n",
       "      <td>5039</td>\n",
       "    </tr>\n",
       "    <tr>\n",
       "      <th>5</th>\n",
       "      <td>6</td>\n",
       "      <td>4446</td>\n",
       "    </tr>\n",
       "    <tr>\n",
       "      <th>6</th>\n",
       "      <td>7</td>\n",
       "      <td>3949</td>\n",
       "    </tr>\n",
       "    <tr>\n",
       "      <th>7</th>\n",
       "      <td>8</td>\n",
       "      <td>3572</td>\n",
       "    </tr>\n",
       "    <tr>\n",
       "      <th>8</th>\n",
       "      <td>9</td>\n",
       "      <td>3257</td>\n",
       "    </tr>\n",
       "    <tr>\n",
       "      <th>9</th>\n",
       "      <td>10</td>\n",
       "      <td>3011</td>\n",
       "    </tr>\n",
       "  </tbody>\n",
       "</table>\n",
       "</div>"
      ],
      "text/plain": [
       "   count filter  unique ingredients\n",
       "0             1               14222\n",
       "1             2                9324\n",
       "2             3                7132\n",
       "3             4                5911\n",
       "4             5                5039\n",
       "5             6                4446\n",
       "6             7                3949\n",
       "7             8                3572\n",
       "8             9                3257\n",
       "9            10                3011"
      ]
     },
     "execution_count": 23,
     "metadata": {},
     "output_type": "execute_result"
    }
   ],
   "source": [
    "ingredients_temp.head(10)"
   ]
  },
  {
   "cell_type": "code",
   "execution_count": 24,
   "metadata": {},
   "outputs": [
    {
     "data": {
      "image/png": "[encoded data removed]",
      "text/plain": [
       "<Figure size 1440x360 with 1 Axes>"
      ]
     },
     "metadata": {
      "needs_background": "light"
     },
     "output_type": "display_data"
    }
   ],
   "source": [
    "plt.figure(figsize=(20,5))\n",
    "\n",
    "ax = sns.barplot(data=ingredients_temp,\n",
    "            x='count filter',\n",
    "            y='unique ingredients')"
   ]
  },
  {
   "cell_type": "markdown",
   "metadata": {},
   "source": [
    "I will drop those ingredients that appear less than 10 times. "
   ]
  },
  {
   "cell_type": "code",
   "execution_count": 25,
   "metadata": {},
   "outputs": [],
   "source": [
    "ingredients = pd.DataFrame(recipes_ingredients['ingredient'].value_counts())"
   ]
  },
  {
   "cell_type": "code",
   "execution_count": 29,
   "metadata": {},
   "outputs": [],
   "source": [
    "ingredients = ingredients.reset_index()\n",
    "\n",
    "# Rename columns\n",
    "ingredients = ingredients.rename(columns={'index': 'ingredient', 'ingredient': 'Count', })\n",
    "\n",
    "# Filter only those ingredients that have >10 appearances\n",
    "threshold = ingredients['Count'] > 10\n",
    "\n",
    "# Subset our dataset\n",
    "ingredients = ingredients[threshold]"
   ]
  },
  {
   "cell_type": "code",
   "execution_count": 30,
   "metadata": {},
   "outputs": [
    {
     "data": {
      "text/html": [
       "<div>\n",
       "<style scoped>\n",
       "    .dataframe tbody tr th:only-of-type {\n",
       "        vertical-align: middle;\n",
       "    }\n",
       "\n",
       "    .dataframe tbody tr th {\n",
       "        vertical-align: top;\n",
       "    }\n",
       "\n",
       "    .dataframe thead th {\n",
       "        text-align: right;\n",
       "    }\n",
       "</style>\n",
       "<table border=\"1\" class=\"dataframe\">\n",
       "  <thead>\n",
       "    <tr style=\"text-align: right;\">\n",
       "      <th></th>\n",
       "      <th>ingredient</th>\n",
       "      <th>Count</th>\n",
       "      <th>count</th>\n",
       "      <th>count</th>\n",
       "      <th>count</th>\n",
       "    </tr>\n",
       "  </thead>\n",
       "  <tbody>\n",
       "    <tr>\n",
       "      <th>11</th>\n",
       "      <td>11</td>\n",
       "      <td>11</td>\n",
       "      <td>11</td>\n",
       "      <td>ground black pepper</td>\n",
       "      <td>4976</td>\n",
       "    </tr>\n",
       "    <tr>\n",
       "      <th>12</th>\n",
       "      <td>12</td>\n",
       "      <td>12</td>\n",
       "      <td>12</td>\n",
       "      <td>ground cinnamon</td>\n",
       "      <td>4462</td>\n",
       "    </tr>\n",
       "    <tr>\n",
       "      <th>13</th>\n",
       "      <td>13</td>\n",
       "      <td>13</td>\n",
       "      <td>13</td>\n",
       "      <td>baking powder</td>\n",
       "      <td>3905</td>\n",
       "    </tr>\n",
       "    <tr>\n",
       "      <th>14</th>\n",
       "      <td>14</td>\n",
       "      <td>14</td>\n",
       "      <td>14</td>\n",
       "      <td>onion</td>\n",
       "      <td>3844</td>\n",
       "    </tr>\n",
       "    <tr>\n",
       "      <th>15</th>\n",
       "      <td>15</td>\n",
       "      <td>15</td>\n",
       "      <td>15</td>\n",
       "      <td>baking soda</td>\n",
       "      <td>3609</td>\n",
       "    </tr>\n",
       "  </tbody>\n",
       "</table>\n",
       "</div>"
      ],
      "text/plain": [
       "    ingredient  Count  count                count  count\n",
       "11          11     11     11  ground black pepper   4976\n",
       "12          12     12     12      ground cinnamon   4462\n",
       "13          13     13     13        baking powder   3905\n",
       "14          14     14     14                onion   3844\n",
       "15          15     15     15          baking soda   3609"
      ]
     },
     "execution_count": 30,
     "metadata": {},
     "output_type": "execute_result"
    }
   ],
   "source": [
    "ingredients.head()"
   ]
  },
  {
   "cell_type": "code",
   "execution_count": 31,
   "metadata": {},
   "outputs": [
    {
     "data": {
      "text/plain": [
       "(38120, 5)"
      ]
     },
     "execution_count": 31,
     "metadata": {},
     "output_type": "execute_result"
    }
   ],
   "source": [
    "ingredients.shape"
   ]
  },
  {
   "cell_type": "code",
   "execution_count": null,
   "metadata": {},
   "outputs": [],
   "source": [
    "# Export as .csv\n",
    "ingredients.to_csv('data/to_sql/ingredients.csv')"
   ]
  },
  {
   "cell_type": "markdown",
   "metadata": {},
   "source": [
    "### 4. Reviews per ingredient\n",
    "\n",
    "The goal is to obtain a table with reviews per ingredients. Similar to:\n",
    "\n",
    "user_id | recipe_id | ingredients | review\n",
    "--------|--------|--------|--------|\n",
    "int64 | int64 | object | int64 |"
   ]
  },
  {
   "cell_type": "code",
   "execution_count": 40,
   "metadata": {},
   "outputs": [],
   "source": [
    "interactions_recipes_raw = pd.merge(interactions, recipes, how='left', on='recipe_id')\n",
    "\n",
    "interactions_recipes_raw = interactions_recipes_temp.drop(columns=['recipe_name', 'aver_rate', 'review_nums'], errors='ignore')"
   ]
  },
  {
   "cell_type": "code",
   "execution_count": 41,
   "metadata": {},
   "outputs": [
    {
     "data": {
      "text/html": [
       "<div>\n",
       "<style scoped>\n",
       "    .dataframe tbody tr th:only-of-type {\n",
       "        vertical-align: middle;\n",
       "    }\n",
       "\n",
       "    .dataframe tbody tr th {\n",
       "        vertical-align: top;\n",
       "    }\n",
       "\n",
       "    .dataframe thead th {\n",
       "        text-align: right;\n",
       "    }\n",
       "</style>\n",
       "<table border=\"1\" class=\"dataframe\">\n",
       "  <thead>\n",
       "    <tr style=\"text-align: right;\">\n",
       "      <th></th>\n",
       "      <th>user_id</th>\n",
       "      <th>recipe_id</th>\n",
       "      <th>rating</th>\n",
       "      <th>ingredients</th>\n",
       "    </tr>\n",
       "  </thead>\n",
       "  <tbody>\n",
       "    <tr>\n",
       "      <th>0</th>\n",
       "      <td>8542392</td>\n",
       "      <td>222388</td>\n",
       "      <td>5</td>\n",
       "      <td>[pork belly, smoked paprika, kosher salt, grou...</td>\n",
       "    </tr>\n",
       "    <tr>\n",
       "      <th>1</th>\n",
       "      <td>11174581</td>\n",
       "      <td>222388</td>\n",
       "      <td>5</td>\n",
       "      <td>[pork belly, smoked paprika, kosher salt, grou...</td>\n",
       "    </tr>\n",
       "    <tr>\n",
       "      <th>2</th>\n",
       "      <td>8262477</td>\n",
       "      <td>222388</td>\n",
       "      <td>5</td>\n",
       "      <td>[pork belly, smoked paprika, kosher salt, grou...</td>\n",
       "    </tr>\n",
       "    <tr>\n",
       "      <th>3</th>\n",
       "      <td>3574785</td>\n",
       "      <td>240488</td>\n",
       "      <td>5</td>\n",
       "      <td>[sauerkraut drained, Granny Smith apples slice...</td>\n",
       "    </tr>\n",
       "    <tr>\n",
       "      <th>4</th>\n",
       "      <td>12145410</td>\n",
       "      <td>240488</td>\n",
       "      <td>2</td>\n",
       "      <td>[sauerkraut drained, Granny Smith apples slice...</td>\n",
       "    </tr>\n",
       "  </tbody>\n",
       "</table>\n",
       "</div>"
      ],
      "text/plain": [
       "    user_id  recipe_id  rating  \\\n",
       "0   8542392     222388       5   \n",
       "1  11174581     222388       5   \n",
       "2   8262477     222388       5   \n",
       "3   3574785     240488       5   \n",
       "4  12145410     240488       2   \n",
       "\n",
       "                                         ingredients  \n",
       "0  [pork belly, smoked paprika, kosher salt, grou...  \n",
       "1  [pork belly, smoked paprika, kosher salt, grou...  \n",
       "2  [pork belly, smoked paprika, kosher salt, grou...  \n",
       "3  [sauerkraut drained, Granny Smith apples slice...  \n",
       "4  [sauerkraut drained, Granny Smith apples slice...  "
      ]
     },
     "execution_count": 41,
     "metadata": {},
     "output_type": "execute_result"
    }
   ],
   "source": [
    "interactions_recipes_raw.head()"
   ]
  },
  {
   "cell_type": "code",
   "execution_count": 53,
   "metadata": {},
   "outputs": [],
   "source": [
    "# Export pickle\n",
    "interactions_recipes_raw.to_pickle('data/to_sql/interactions_recipes_raw.pkl')"
   ]
  },
  {
   "cell_type": "markdown",
   "metadata": {},
   "source": [
    "----------------------------------"
   ]
  },
  {
   "cell_type": "markdown",
   "metadata": {},
   "source": [
    "(!) This process might take long... "
   ]
  },
  {
   "cell_type": "code",
   "execution_count": 43,
   "metadata": {},
   "outputs": [],
   "source": [
    "# Create a copy of the table\n",
    "interactions_ingredient_raw = interactions_recipes_raw.copy()"
   ]
  },
  {
   "cell_type": "code",
   "execution_count": 44,
   "metadata": {},
   "outputs": [
    {
     "ename": "KeyboardInterrupt",
     "evalue": "",
     "output_type": "error",
     "traceback": [
      "\u001b[0;31m---------------------------------------------------------------------------\u001b[0m",
      "\u001b[0;31mKeyboardInterrupt\u001b[0m                         Traceback (most recent call last)",
      "\u001b[0;32m<ipython-input-44-c5272ec1e266>\u001b[0m in \u001b[0;36m<module>\u001b[0;34m\u001b[0m\n\u001b[1;32m      1\u001b[0m \u001b[0;31m# Create a new row per each recipe ingredient\u001b[0m\u001b[0;34m\u001b[0m\u001b[0;34m\u001b[0m\u001b[0;34m\u001b[0m\u001b[0m\n\u001b[0;32m----> 2\u001b[0;31m \u001b[0minteractions_ingredient_raw\u001b[0m \u001b[0;34m=\u001b[0m \u001b[0minteractions_ingredient_raw\u001b[0m\u001b[0;34m.\u001b[0m\u001b[0mapply\u001b[0m\u001b[0;34m(\u001b[0m\u001b[0;32mlambda\u001b[0m \u001b[0mx\u001b[0m\u001b[0;34m:\u001b[0m \u001b[0mpd\u001b[0m\u001b[0;34m.\u001b[0m\u001b[0mSeries\u001b[0m\u001b[0;34m(\u001b[0m\u001b[0mx\u001b[0m\u001b[0;34m[\u001b[0m\u001b[0;34m'ingredients'\u001b[0m\u001b[0;34m]\u001b[0m\u001b[0;34m)\u001b[0m\u001b[0;34m,\u001b[0m\u001b[0maxis\u001b[0m\u001b[0;34m=\u001b[0m\u001b[0;36m1\u001b[0m\u001b[0;34m)\u001b[0m\u001b[0;34m.\u001b[0m\u001b[0mstack\u001b[0m\u001b[0;34m(\u001b[0m\u001b[0;34m)\u001b[0m\u001b[0;34m.\u001b[0m\u001b[0mreset_index\u001b[0m\u001b[0;34m(\u001b[0m\u001b[0mlevel\u001b[0m\u001b[0;34m=\u001b[0m\u001b[0;36m1\u001b[0m\u001b[0;34m,\u001b[0m \u001b[0mdrop\u001b[0m\u001b[0;34m=\u001b[0m\u001b[0;32mTrue\u001b[0m\u001b[0;34m)\u001b[0m\u001b[0;34m\u001b[0m\u001b[0;34m\u001b[0m\u001b[0m\n\u001b[0m",
      "\u001b[0;32m/opt/miniconda3/envs/boogie_woogie/lib/python3.8/site-packages/pandas/core/frame.py\u001b[0m in \u001b[0;36mapply\u001b[0;34m(self, func, axis, raw, result_type, args, **kwds)\u001b[0m\n\u001b[1;32m   6876\u001b[0m             \u001b[0mkwds\u001b[0m\u001b[0;34m=\u001b[0m\u001b[0mkwds\u001b[0m\u001b[0;34m,\u001b[0m\u001b[0;34m\u001b[0m\u001b[0;34m\u001b[0m\u001b[0m\n\u001b[1;32m   6877\u001b[0m         )\n\u001b[0;32m-> 6878\u001b[0;31m         \u001b[0;32mreturn\u001b[0m \u001b[0mop\u001b[0m\u001b[0;34m.\u001b[0m\u001b[0mget_result\u001b[0m\u001b[0;34m(\u001b[0m\u001b[0;34m)\u001b[0m\u001b[0;34m\u001b[0m\u001b[0;34m\u001b[0m\u001b[0m\n\u001b[0m\u001b[1;32m   6879\u001b[0m \u001b[0;34m\u001b[0m\u001b[0m\n\u001b[1;32m   6880\u001b[0m     \u001b[0;32mdef\u001b[0m \u001b[0mapplymap\u001b[0m\u001b[0;34m(\u001b[0m\u001b[0mself\u001b[0m\u001b[0;34m,\u001b[0m \u001b[0mfunc\u001b[0m\u001b[0;34m)\u001b[0m \u001b[0;34m->\u001b[0m \u001b[0;34m\"DataFrame\"\u001b[0m\u001b[0;34m:\u001b[0m\u001b[0;34m\u001b[0m\u001b[0;34m\u001b[0m\u001b[0m\n",
      "\u001b[0;32m/opt/miniconda3/envs/boogie_woogie/lib/python3.8/site-packages/pandas/core/apply.py\u001b[0m in \u001b[0;36mget_result\u001b[0;34m(self)\u001b[0m\n\u001b[1;32m    184\u001b[0m             \u001b[0;32mreturn\u001b[0m \u001b[0mself\u001b[0m\u001b[0;34m.\u001b[0m\u001b[0mapply_raw\u001b[0m\u001b[0;34m(\u001b[0m\u001b[0;34m)\u001b[0m\u001b[0;34m\u001b[0m\u001b[0;34m\u001b[0m\u001b[0m\n\u001b[1;32m    185\u001b[0m \u001b[0;34m\u001b[0m\u001b[0m\n\u001b[0;32m--> 186\u001b[0;31m         \u001b[0;32mreturn\u001b[0m \u001b[0mself\u001b[0m\u001b[0;34m.\u001b[0m\u001b[0mapply_standard\u001b[0m\u001b[0;34m(\u001b[0m\u001b[0;34m)\u001b[0m\u001b[0;34m\u001b[0m\u001b[0;34m\u001b[0m\u001b[0m\n\u001b[0m\u001b[1;32m    187\u001b[0m \u001b[0;34m\u001b[0m\u001b[0m\n\u001b[1;32m    188\u001b[0m     \u001b[0;32mdef\u001b[0m \u001b[0mapply_empty_result\u001b[0m\u001b[0;34m(\u001b[0m\u001b[0mself\u001b[0m\u001b[0;34m)\u001b[0m\u001b[0;34m:\u001b[0m\u001b[0;34m\u001b[0m\u001b[0;34m\u001b[0m\u001b[0m\n",
      "\u001b[0;32m/opt/miniconda3/envs/boogie_woogie/lib/python3.8/site-packages/pandas/core/apply.py\u001b[0m in \u001b[0;36mapply_standard\u001b[0;34m(self)\u001b[0m\n\u001b[1;32m    311\u001b[0m \u001b[0;34m\u001b[0m\u001b[0m\n\u001b[1;32m    312\u001b[0m         \u001b[0;31m# compute the result using the series generator\u001b[0m\u001b[0;34m\u001b[0m\u001b[0;34m\u001b[0m\u001b[0;34m\u001b[0m\u001b[0m\n\u001b[0;32m--> 313\u001b[0;31m         \u001b[0mresults\u001b[0m\u001b[0;34m,\u001b[0m \u001b[0mres_index\u001b[0m \u001b[0;34m=\u001b[0m \u001b[0mself\u001b[0m\u001b[0;34m.\u001b[0m\u001b[0mapply_series_generator\u001b[0m\u001b[0;34m(\u001b[0m\u001b[0;34m)\u001b[0m\u001b[0;34m\u001b[0m\u001b[0;34m\u001b[0m\u001b[0m\n\u001b[0m\u001b[1;32m    314\u001b[0m \u001b[0;34m\u001b[0m\u001b[0m\n\u001b[1;32m    315\u001b[0m         \u001b[0;31m# wrap results\u001b[0m\u001b[0;34m\u001b[0m\u001b[0;34m\u001b[0m\u001b[0;34m\u001b[0m\u001b[0m\n",
      "\u001b[0;32m/opt/miniconda3/envs/boogie_woogie/lib/python3.8/site-packages/pandas/core/apply.py\u001b[0m in \u001b[0;36mapply_series_generator\u001b[0;34m(self)\u001b[0m\n\u001b[1;32m    339\u001b[0m         \u001b[0;32melse\u001b[0m\u001b[0;34m:\u001b[0m\u001b[0;34m\u001b[0m\u001b[0;34m\u001b[0m\u001b[0m\n\u001b[1;32m    340\u001b[0m             \u001b[0;32mfor\u001b[0m \u001b[0mi\u001b[0m\u001b[0;34m,\u001b[0m \u001b[0mv\u001b[0m \u001b[0;32min\u001b[0m \u001b[0menumerate\u001b[0m\u001b[0;34m(\u001b[0m\u001b[0mseries_gen\u001b[0m\u001b[0;34m)\u001b[0m\u001b[0;34m:\u001b[0m\u001b[0;34m\u001b[0m\u001b[0;34m\u001b[0m\u001b[0m\n\u001b[0;32m--> 341\u001b[0;31m                 \u001b[0mresults\u001b[0m\u001b[0;34m[\u001b[0m\u001b[0mi\u001b[0m\u001b[0;34m]\u001b[0m \u001b[0;34m=\u001b[0m \u001b[0mself\u001b[0m\u001b[0;34m.\u001b[0m\u001b[0mf\u001b[0m\u001b[0;34m(\u001b[0m\u001b[0mv\u001b[0m\u001b[0;34m)\u001b[0m\u001b[0;34m\u001b[0m\u001b[0;34m\u001b[0m\u001b[0m\n\u001b[0m\u001b[1;32m    342\u001b[0m                 \u001b[0mkeys\u001b[0m\u001b[0;34m.\u001b[0m\u001b[0mappend\u001b[0m\u001b[0;34m(\u001b[0m\u001b[0mv\u001b[0m\u001b[0;34m.\u001b[0m\u001b[0mname\u001b[0m\u001b[0;34m)\u001b[0m\u001b[0;34m\u001b[0m\u001b[0;34m\u001b[0m\u001b[0m\n\u001b[1;32m    343\u001b[0m \u001b[0;34m\u001b[0m\u001b[0m\n",
      "\u001b[0;32m<ipython-input-44-c5272ec1e266>\u001b[0m in \u001b[0;36m<lambda>\u001b[0;34m(x)\u001b[0m\n\u001b[1;32m      1\u001b[0m \u001b[0;31m# Create a new row per each recipe ingredient\u001b[0m\u001b[0;34m\u001b[0m\u001b[0;34m\u001b[0m\u001b[0;34m\u001b[0m\u001b[0m\n\u001b[0;32m----> 2\u001b[0;31m \u001b[0minteractions_ingredient_raw\u001b[0m \u001b[0;34m=\u001b[0m \u001b[0minteractions_ingredient_raw\u001b[0m\u001b[0;34m.\u001b[0m\u001b[0mapply\u001b[0m\u001b[0;34m(\u001b[0m\u001b[0;32mlambda\u001b[0m \u001b[0mx\u001b[0m\u001b[0;34m:\u001b[0m \u001b[0mpd\u001b[0m\u001b[0;34m.\u001b[0m\u001b[0mSeries\u001b[0m\u001b[0;34m(\u001b[0m\u001b[0mx\u001b[0m\u001b[0;34m[\u001b[0m\u001b[0;34m'ingredients'\u001b[0m\u001b[0;34m]\u001b[0m\u001b[0;34m)\u001b[0m\u001b[0;34m,\u001b[0m\u001b[0maxis\u001b[0m\u001b[0;34m=\u001b[0m\u001b[0;36m1\u001b[0m\u001b[0;34m)\u001b[0m\u001b[0;34m.\u001b[0m\u001b[0mstack\u001b[0m\u001b[0;34m(\u001b[0m\u001b[0;34m)\u001b[0m\u001b[0;34m.\u001b[0m\u001b[0mreset_index\u001b[0m\u001b[0;34m(\u001b[0m\u001b[0mlevel\u001b[0m\u001b[0;34m=\u001b[0m\u001b[0;36m1\u001b[0m\u001b[0;34m,\u001b[0m \u001b[0mdrop\u001b[0m\u001b[0;34m=\u001b[0m\u001b[0;32mTrue\u001b[0m\u001b[0;34m)\u001b[0m\u001b[0;34m\u001b[0m\u001b[0;34m\u001b[0m\u001b[0m\n\u001b[0m",
      "\u001b[0;32m/opt/miniconda3/envs/boogie_woogie/lib/python3.8/site-packages/pandas/core/series.py\u001b[0m in \u001b[0;36m__getitem__\u001b[0;34m(self, key)\u001b[0m\n\u001b[1;32m    869\u001b[0m         \u001b[0mkey\u001b[0m \u001b[0;34m=\u001b[0m \u001b[0mcom\u001b[0m\u001b[0;34m.\u001b[0m\u001b[0mapply_if_callable\u001b[0m\u001b[0;34m(\u001b[0m\u001b[0mkey\u001b[0m\u001b[0;34m,\u001b[0m \u001b[0mself\u001b[0m\u001b[0;34m)\u001b[0m\u001b[0;34m\u001b[0m\u001b[0;34m\u001b[0m\u001b[0m\n\u001b[1;32m    870\u001b[0m         \u001b[0;32mtry\u001b[0m\u001b[0;34m:\u001b[0m\u001b[0;34m\u001b[0m\u001b[0;34m\u001b[0m\u001b[0m\n\u001b[0;32m--> 871\u001b[0;31m             \u001b[0mresult\u001b[0m \u001b[0;34m=\u001b[0m \u001b[0mself\u001b[0m\u001b[0;34m.\u001b[0m\u001b[0mindex\u001b[0m\u001b[0;34m.\u001b[0m\u001b[0mget_value\u001b[0m\u001b[0;34m(\u001b[0m\u001b[0mself\u001b[0m\u001b[0;34m,\u001b[0m \u001b[0mkey\u001b[0m\u001b[0;34m)\u001b[0m\u001b[0;34m\u001b[0m\u001b[0;34m\u001b[0m\u001b[0m\n\u001b[0m\u001b[1;32m    872\u001b[0m \u001b[0;34m\u001b[0m\u001b[0m\n\u001b[1;32m    873\u001b[0m             \u001b[0;32mif\u001b[0m \u001b[0;32mnot\u001b[0m \u001b[0mis_scalar\u001b[0m\u001b[0;34m(\u001b[0m\u001b[0mresult\u001b[0m\u001b[0;34m)\u001b[0m\u001b[0;34m:\u001b[0m\u001b[0;34m\u001b[0m\u001b[0;34m\u001b[0m\u001b[0m\n",
      "\u001b[0;32m/opt/miniconda3/envs/boogie_woogie/lib/python3.8/site-packages/pandas/core/indexes/base.py\u001b[0m in \u001b[0;36mget_value\u001b[0;34m(self, series, key)\u001b[0m\n\u001b[1;32m   4400\u001b[0m         \u001b[0mk\u001b[0m \u001b[0;34m=\u001b[0m \u001b[0mcom\u001b[0m\u001b[0;34m.\u001b[0m\u001b[0mvalues_from_object\u001b[0m\u001b[0;34m(\u001b[0m\u001b[0mkey\u001b[0m\u001b[0;34m)\u001b[0m\u001b[0;34m\u001b[0m\u001b[0;34m\u001b[0m\u001b[0m\n\u001b[1;32m   4401\u001b[0m \u001b[0;34m\u001b[0m\u001b[0m\n\u001b[0;32m-> 4402\u001b[0;31m         \u001b[0mk\u001b[0m \u001b[0;34m=\u001b[0m \u001b[0mself\u001b[0m\u001b[0;34m.\u001b[0m\u001b[0m_convert_scalar_indexer\u001b[0m\u001b[0;34m(\u001b[0m\u001b[0mk\u001b[0m\u001b[0;34m,\u001b[0m \u001b[0mkind\u001b[0m\u001b[0;34m=\u001b[0m\u001b[0;34m\"getitem\"\u001b[0m\u001b[0;34m)\u001b[0m\u001b[0;34m\u001b[0m\u001b[0;34m\u001b[0m\u001b[0m\n\u001b[0m\u001b[1;32m   4403\u001b[0m         \u001b[0;32mtry\u001b[0m\u001b[0;34m:\u001b[0m\u001b[0;34m\u001b[0m\u001b[0;34m\u001b[0m\u001b[0m\n\u001b[1;32m   4404\u001b[0m             \u001b[0;32mreturn\u001b[0m \u001b[0mself\u001b[0m\u001b[0;34m.\u001b[0m\u001b[0m_engine\u001b[0m\u001b[0;34m.\u001b[0m\u001b[0mget_value\u001b[0m\u001b[0;34m(\u001b[0m\u001b[0ms\u001b[0m\u001b[0;34m,\u001b[0m \u001b[0mk\u001b[0m\u001b[0;34m,\u001b[0m \u001b[0mtz\u001b[0m\u001b[0;34m=\u001b[0m\u001b[0mgetattr\u001b[0m\u001b[0;34m(\u001b[0m\u001b[0mseries\u001b[0m\u001b[0;34m.\u001b[0m\u001b[0mdtype\u001b[0m\u001b[0;34m,\u001b[0m \u001b[0;34m\"tz\"\u001b[0m\u001b[0;34m,\u001b[0m \u001b[0;32mNone\u001b[0m\u001b[0;34m)\u001b[0m\u001b[0;34m)\u001b[0m\u001b[0;34m\u001b[0m\u001b[0;34m\u001b[0m\u001b[0m\n",
      "\u001b[0;32m/opt/miniconda3/envs/boogie_woogie/lib/python3.8/site-packages/pandas/core/indexes/base.py\u001b[0m in \u001b[0;36m_convert_scalar_indexer\u001b[0;34m(self, key, kind)\u001b[0m\n\u001b[1;32m   2857\u001b[0m             \u001b[0;32mreturn\u001b[0m \u001b[0mself\u001b[0m\u001b[0;34m.\u001b[0m\u001b[0m_validate_indexer\u001b[0m\u001b[0;34m(\u001b[0m\u001b[0;34m\"positional\"\u001b[0m\u001b[0;34m,\u001b[0m \u001b[0mkey\u001b[0m\u001b[0;34m,\u001b[0m \u001b[0mkind\u001b[0m\u001b[0;34m)\u001b[0m\u001b[0;34m\u001b[0m\u001b[0;34m\u001b[0m\u001b[0m\n\u001b[1;32m   2858\u001b[0m \u001b[0;34m\u001b[0m\u001b[0m\n\u001b[0;32m-> 2859\u001b[0;31m         \u001b[0;32mif\u001b[0m \u001b[0mlen\u001b[0m\u001b[0;34m(\u001b[0m\u001b[0mself\u001b[0m\u001b[0;34m)\u001b[0m \u001b[0;32mand\u001b[0m \u001b[0;32mnot\u001b[0m \u001b[0misinstance\u001b[0m\u001b[0;34m(\u001b[0m\u001b[0mself\u001b[0m\u001b[0;34m,\u001b[0m \u001b[0mABCMultiIndex\u001b[0m\u001b[0;34m)\u001b[0m\u001b[0;34m:\u001b[0m\u001b[0;34m\u001b[0m\u001b[0;34m\u001b[0m\u001b[0m\n\u001b[0m\u001b[1;32m   2860\u001b[0m \u001b[0;34m\u001b[0m\u001b[0m\n\u001b[1;32m   2861\u001b[0m             \u001b[0;31m# we can raise here if we are definitive that this\u001b[0m\u001b[0;34m\u001b[0m\u001b[0;34m\u001b[0m\u001b[0;34m\u001b[0m\u001b[0m\n",
      "\u001b[0;31mKeyboardInterrupt\u001b[0m: "
     ]
    }
   ],
   "source": [
    "# Create a new row per each recipe ingredient\n",
    "interactions_ingredient_raw = interactions_ingredient_raw.apply(lambda x: pd.Series(x['ingredients']),axis=1).stack().reset_index(level=1, drop=True)"
   ]
  },
  {
   "cell_type": "code",
   "execution_count": null,
   "metadata": {},
   "outputs": [],
   "source": [
    "# name of the new column\n",
    "interactions_ingredient_raw.name = 'ingredient'\n",
    "\n",
    "# drop column and join ingredients\n",
    "interactions_ingredient = interactions_ingredient_raw.drop('ingredients', axis=1, errors='ignore').join(interactions_ingredient_raw)\n",
    "\n",
    "# reset_index\n",
    "interactions_ingredient = interactions_ingredient.reset_index(drop=True)"
   ]
  },
  {
   "cell_type": "code",
   "execution_count": null,
   "metadata": {},
   "outputs": [],
   "source": [
    "# Export as .csv\n",
    "interactions_ingredient.to_csv('data/to_sql/interactions_ingredient.csv')"
   ]
  }
 ],
 "metadata": {
  "kernelspec": {
   "display_name": "Python 3",
   "language": "python",
   "name": "python3"
  },
  "language_info": {
   "codemirror_mode": {
    "name": "ipython",
    "version": 3
   },
   "file_extension": ".py",
   "mimetype": "text/x-python",
   "name": "python",
   "nbconvert_exporter": "python",
   "pygments_lexer": "ipython3",
   "version": "3.8.3"
  }
 },
 "nbformat": 4,
 "nbformat_minor": 4
}
