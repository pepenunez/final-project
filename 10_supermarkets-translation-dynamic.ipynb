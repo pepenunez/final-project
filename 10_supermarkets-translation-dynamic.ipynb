{
 "cells": [
  {
   "cell_type": "markdown",
   "metadata": {},
   "source": [
    "# Supermarkets translation\n",
    "\n",
    "This notebook it's just a draft that we are keeping in case that we want to implement dynamic translation in the future.\n",
    "\n",
    "We decided not to implement for time constrais and also because the IBM Watson was not as accurate as Google Translator."
   ]
  },
  {
   "cell_type": "code",
   "execution_count": null,
   "metadata": {},
   "outputs": [],
   "source": [
    "import pandas as pd\n",
    "import numpy as np\n",
    "\n",
    "# Import for the Translation with IBM Watson\n",
    "import requests\n",
    "import os\n",
    "import json\n",
    "import getpass\n",
    "import ast # convert str to dic\n",
    "\n",
    "# Imports the Google Cloud client library\n",
    "# from googletrans import Translator"
   ]
  },
  {
   "cell_type": "code",
   "execution_count": null,
   "metadata": {},
   "outputs": [],
   "source": [
    "#supermarkets_en = {\n",
    "    #'aldi_north': pd.read_csv('data/products-en/aldinorth-products-en.csv'),\n",
    "    #'aldi_south': pd.read_csv('data/products-en/aldisouth_products-en.csv'),\n",
    "    #'edeka': pd.read_csv('data/products-en/edeka-products-en.csv'),\n",
    "    #'kaufland': pd.read_csv('data/products-en/kaufland-products-en.csv'),\n",
    "    #'lidl': pd.read_csv('data/products-en/lidl-products-en.csv'),\n",
    "    #'rewe': pd.read_csv('data/products-en/rewe-product-en.csv')\n",
    "#}"
   ]
  },
  {
   "cell_type": "markdown",
   "metadata": {},
   "source": [
    "## 1. Translate\n",
    "We have 2 options for dynamic translation (googletrans or IBM Watson) and 1 option for static translation (Google Translator)\n",
    "\n",
    "We have decided to use google translate since the output was more accurate than what I got from IBM Watson. However, this is part of the code. In the case that in the future we need to do the translation dynamically. \n",
    "\n",
    "### 1.1 IBM Watson Translate API"
   ]
  },
  {
   "cell_type": "code",
   "execution_count": null,
   "metadata": {},
   "outputs": [],
   "source": [
    "# Get the api key\n",
    "api_key = getpass.getpass(prompt='IBM API key: ')"
   ]
  },
  {
   "cell_type": "code",
   "execution_count": null,
   "metadata": {},
   "outputs": [],
   "source": [
    "url = \"https://api.eu-de.language-translator.watson.cloud.ibm.com/instances/8218aa64-0979-48a3-9395-cefb38349b8e/v3/translate?version=2018-05-01\"\n",
    "headers = {\"Content-Type\": \"application/json\"}\n",
    "auth = (\"apikey\", api_key)"
   ]
  },
  {
   "cell_type": "code",
   "execution_count": null,
   "metadata": {},
   "outputs": [],
   "source": [
    "test = 'Pfanner Mango Fair 100%  Fair'\n",
    "data = {\"text\":test,\"model_id\":\"de-en\"}"
   ]
  },
  {
   "cell_type": "code",
   "execution_count": null,
   "metadata": {},
   "outputs": [],
   "source": [
    "json.dumps(data)"
   ]
  },
  {
   "cell_type": "code",
   "execution_count": null,
   "metadata": {},
   "outputs": [],
   "source": [
    "# Request to the IBM Watson API\n",
    "r = requests.post(headers=headers, auth=auth, url=url, data=json.dumps(data))"
   ]
  },
  {
   "cell_type": "code",
   "execution_count": null,
   "metadata": {},
   "outputs": [],
   "source": [
    "r.json()"
   ]
  },
  {
   "cell_type": "code",
   "execution_count": null,
   "metadata": {},
   "outputs": [],
   "source": [
    "r.json()['translations'][0]['translation']"
   ]
  },
  {
   "cell_type": "code",
   "execution_count": null,
   "metadata": {},
   "outputs": [],
   "source": [
    "ast.literal_eval(json.dumps(data))['text']"
   ]
  },
  {
   "cell_type": "markdown",
   "metadata": {},
   "source": [
    "IBM has a limitation of 'Exceeded max content length for translate request, max allowed is 50 KiB.'\n",
    "So, in order to translate the whole csv file, we will have to go through each cell and translate it. We only need to translate 'Name', 'Unit' and 'Packet Size'."
   ]
  },
  {
   "cell_type": "code",
   "execution_count": null,
   "metadata": {},
   "outputs": [],
   "source": [
    "# Create an empty DataFrame for the tranlated ingredients with the 'Name' as key\n",
    "supermarkets_example = {}\n",
    "supermarkets_example['rewe-en'] = pd.DataFrame(columns=('Name', 'Name-en'))"
   ]
  },
  {
   "cell_type": "code",
   "execution_count": null,
   "metadata": {},
   "outputs": [],
   "source": [
    "supermarkets_example['rewe-en']"
   ]
  },
  {
   "cell_type": "code",
   "execution_count": null,
   "metadata": {},
   "outputs": [],
   "source": [
    "data = {\"text\":['Wasser'],\"model_id\":\"de-en\"}\n",
    "\n",
    "json.dumps(data)\n",
    "\n",
    "r = requests.post(headers=headers, auth=auth, url=url, data=json.dumps(data))\n",
    "           \n",
    "new_row = {'Name': ast.literal_eval(json.dumps(data))['text'][0], 'Name-en': r.json()['translations'][0]['translation']}"
   ]
  },
  {
   "cell_type": "code",
   "execution_count": null,
   "metadata": {},
   "outputs": [],
   "source": [
    "new_row"
   ]
  },
  {
   "cell_type": "code",
   "execution_count": null,
   "metadata": {},
   "outputs": [],
   "source": [
    "supermarkets_example['rewe-en'] = supermarkets_example['rewe-en'].append(new_row, ignore_index=True)"
   ]
  },
  {
   "cell_type": "code",
   "execution_count": null,
   "metadata": {},
   "outputs": [],
   "source": [
    "supermarkets_example['rewe-en']"
   ]
  },
  {
   "cell_type": "code",
   "execution_count": null,
   "metadata": {},
   "outputs": [],
   "source": [
    "[supermarkets['rewe']['Name'][1]]"
   ]
  },
  {
   "cell_type": "code",
   "execution_count": null,
   "metadata": {},
   "outputs": [],
   "source": [
    "src = 'de' # Source language\n",
    "dest = 'en' # Destiny language\n",
    "\n",
    "supermarkets_en = {\n",
    "    'aldi_north': pd.DataFrame(columns=('Name', 'Name-en')),\n",
    "    'aldi_south': pd.DataFrame(columns=('Name', 'Name-en')),\n",
    "    'edeka': pd.DataFrame(columns=('Name', 'Name-en')),\n",
    "    'kaufland': pd.DataFrame(columns=('Name', 'Name-en')),\n",
    "    'lidl': pd.DataFrame(columns=('Name', 'Name-en')),\n",
    "    'rewe': pd.DataFrame(columns=('Name', 'Name-en'))\n",
    "}"
   ]
  },
  {
   "cell_type": "code",
   "execution_count": null,
   "metadata": {},
   "outputs": [],
   "source": [
    "for market in supermarkets:\n",
    "    # Create new dataframe for the english version\n",
    "    # supermarkets[f'{market}-en'] = supermarkets[market].copy()\n",
    "\n",
    "    # Loop through each row\n",
    "    for row in range(0,5):# range(len(supermarkets[market])):\n",
    "        try:\n",
    "            data = {\"text\":[supermarkets[market]['Name'][row]], \"model_id\":\"de-en\"}\n",
    "            r = requests.post(headers=headers, auth=auth, url=url, data=json.dumps(data))\n",
    "            # Create a new row with the word in 'de' and in 'en'\n",
    "            new_row = {'Name': ast.literal_eval(json.dumps(data))['text'][0], 'Name-en': r.json()['translations'][0]['translation']}\n",
    "            supermarkets_en[market] = supermarkets[market].append(new_row, ignore_index=True)\n",
    "\n",
    "        except:\n",
    "            print(supermarkets[market]['Name'][row])"
   ]
  },
  {
   "cell_type": "code",
   "execution_count": null,
   "metadata": {},
   "outputs": [],
   "source": [
    "supermarkets_en['rewe']"
   ]
  },
  {
   "cell_type": "code",
   "execution_count": null,
   "metadata": {},
   "outputs": [],
   "source": [
    "data = {\"text\":test,\"model_id\":\"de-en\"}\n",
    "json.dumps(data)\n",
    "\n",
    "# Request to the IBM Watson API\n",
    "r = requests.post(headers=headers, auth=auth, url=url, data=json.dumps(data))\n",
    "\n",
    "r.json()\n",
    "\n",
    "r.json()['translations'][0]['translation']"
   ]
  },
  {
   "cell_type": "code",
   "execution_count": null,
   "metadata": {},
   "outputs": [],
   "source": [
    "The method accepts lists as input as well. So we are going to loop per each row in order to catch the rows that raise errors"
   ]
  },
  {
   "cell_type": "markdown",
   "metadata": {},
   "source": [
    "### 1.2 Googletrans"
   ]
  },
  {
   "cell_type": "code",
   "execution_count": null,
   "metadata": {},
   "outputs": [],
   "source": [
    "# Instantiates a client\n",
    "translator = Translator()"
   ]
  },
  {
   "cell_type": "code",
   "execution_count": null,
   "metadata": {},
   "outputs": [],
   "source": [
    "# Example to see how it works\n",
    "# 1 - translator.translate('Hello').text"
   ]
  },
  {
   "cell_type": "code",
   "execution_count": null,
   "metadata": {},
   "outputs": [],
   "source": [
    "# 1 - word.origin # .origin -> prints the original word"
   ]
  },
  {
   "cell_type": "code",
   "execution_count": null,
   "metadata": {},
   "outputs": [],
   "source": [
    "# 1 - word[0].text # .text -> prints the translated word"
   ]
  },
  {
   "cell_type": "code",
   "execution_count": null,
   "metadata": {},
   "outputs": [],
   "source": [
    "# Undertand how the method works\n",
    "# 1 - translator.translate(supermarkets['rewe']['Name'][1], dest='en').text"
   ]
  }
 ],
 "metadata": {
  "kernelspec": {
   "display_name": "Python 3",
   "language": "python",
   "name": "python3"
  },
  "language_info": {
   "codemirror_mode": {
    "name": "ipython",
    "version": 3
   },
   "file_extension": ".py",
   "mimetype": "text/x-python",
   "name": "python",
   "nbconvert_exporter": "python",
   "pygments_lexer": "ipython3",
   "version": "3.8.3"
  }
 },
 "nbformat": 4,
 "nbformat_minor": 4
}
