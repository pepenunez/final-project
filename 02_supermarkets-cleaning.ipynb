{
 "cells": [
  {
   "cell_type": "markdown",
   "metadata": {},
   "source": [
    "# Supermarkets data cleaning\n",
    "\n",
    "We are importing the data from ... . An Ironhack graduate who scraped data from the main 6 supermarkets in Berlin. The goal of this document is to import the data and clean it for our model. "
   ]
  },
  {
   "cell_type": "code",
   "execution_count": 1,
   "metadata": {},
   "outputs": [],
   "source": [
    "import pandas as pd\n",
    "import numpy as np"
   ]
  },
  {
   "cell_type": "markdown",
   "metadata": {},
   "source": [
    "## Clean data\n",
    "\n",
    "- Translate data to english\n",
    "- Isolate the package size\n",
    "- Check values\n",
    "- Normalize Unit\n",
    "\n",
    "- Create a unique list with unique products of all different markets\n",
    "- Analyse it\n",
    "- Conclude how to approach the solution"
   ]
  },
  {
   "cell_type": "markdown",
   "metadata": {},
   "source": [
    "### 1. Import data and explore"
   ]
  },
  {
   "cell_type": "code",
   "execution_count": 2,
   "metadata": {},
   "outputs": [],
   "source": [
    "# Importing the data from excel\n",
    "supermarkets_en = {\n",
    "    'aldinorth': pd.read_excel('data/products-en/aldinorth-products-en.xls', index_col=0),\n",
    "    'aldisouth': pd.read_excel('data/products-en/aldisouth-products-en.xls', index_col=0),\n",
    "    'edeka': pd.read_excel('data/products-en/edeka-products-en.xls', index_col=0),\n",
    "    #'kaufland': pd.read_csv('data/products-en/kaufland-products-en.csv', index_col=0),\n",
    "    #'lidl': pd.read_csv('data/products-en/lidl-products-en.csv', index_col=0),\n",
    "    #'rewe': pd.read_csv('data/products-en/rewe-product-en.csv', index_col=0)\n",
    "}"
   ]
  },
  {
   "cell_type": "code",
   "execution_count": 3,
   "metadata": {},
   "outputs": [
    {
     "data": {
      "text/html": [
       "<div>\n",
       "<style scoped>\n",
       "    .dataframe tbody tr th:only-of-type {\n",
       "        vertical-align: middle;\n",
       "    }\n",
       "\n",
       "    .dataframe tbody tr th {\n",
       "        vertical-align: top;\n",
       "    }\n",
       "\n",
       "    .dataframe thead th {\n",
       "        text-align: right;\n",
       "    }\n",
       "</style>\n",
       "<table border=\"1\" class=\"dataframe\">\n",
       "  <thead>\n",
       "    <tr style=\"text-align: right;\">\n",
       "      <th></th>\n",
       "      <th>Name</th>\n",
       "      <th>Price</th>\n",
       "      <th>Unit</th>\n",
       "      <th>Pack Size</th>\n",
       "      <th>Supermarket</th>\n",
       "      <th>Comparable Price</th>\n",
       "    </tr>\n",
       "  </thead>\n",
       "  <tbody>\n",
       "    <tr>\n",
       "      <th>0</th>\n",
       "      <td>Coke</td>\n",
       "      <td>1.39</td>\n",
       "      <td>100 ml</td>\n",
       "      <td>Pet bottle 1.5 L</td>\n",
       "      <td>edeka</td>\n",
       "      <td>0.093</td>\n",
       "    </tr>\n",
       "    <tr>\n",
       "      <th>1</th>\n",
       "      <td>Nutella</td>\n",
       "      <td>1.77</td>\n",
       "      <td>100 gram</td>\n",
       "      <td>\"Glass 500 grams</td>\n",
       "      <td>edeka</td>\n",
       "      <td>0.354</td>\n",
       "    </tr>\n",
       "    <tr>\n",
       "      <th>2</th>\n",
       "      <td>Becel Gold 70% fat</td>\n",
       "      <td>1.49</td>\n",
       "      <td>100 gram</td>\n",
       "      <td>Cup 250 grams</td>\n",
       "      <td>edeka</td>\n",
       "      <td>0.6</td>\n",
       "    </tr>\n",
       "    <tr>\n",
       "      <th>3</th>\n",
       "      <td>Iglo fish fingers</td>\n",
       "      <td>2.99</td>\n",
       "      <td>100 gram</td>\n",
       "      <td>\"15-pack 450 grams\"</td>\n",
       "      <td>edeka</td>\n",
       "      <td>0.6639999999999999</td>\n",
       "    </tr>\n",
       "    <tr>\n",
       "      <th>4</th>\n",
       "      <td>Good &amp; Cheap Landgasthof Goulash Pan</td>\n",
       "      <td>1.99</td>\n",
       "      <td>100 gram</td>\n",
       "      <td>edeka</td>\n",
       "      <td>0.398</td>\n",
       "      <td>NaN</td>\n",
       "    </tr>\n",
       "    <tr>\n",
       "      <th>...</th>\n",
       "      <td>...</td>\n",
       "      <td>...</td>\n",
       "      <td>...</td>\n",
       "      <td>...</td>\n",
       "      <td>...</td>\n",
       "      <td>...</td>\n",
       "    </tr>\n",
       "    <tr>\n",
       "      <th>5043</th>\n",
       "      <td>Nivea Extreme Stay Lipstick 17 Extrem Pinkini</td>\n",
       "      <td>11.49</td>\n",
       "      <td>Price per piece</td>\n",
       "      <td>Pack of 1</td>\n",
       "      <td>edeka</td>\n",
       "      <td>11.49</td>\n",
       "    </tr>\n",
       "    <tr>\n",
       "      <th>5044</th>\n",
       "      <td>Nivea Extreme Stay Lipstick 21 Extreme Cinnam</td>\n",
       "      <td>11.49</td>\n",
       "      <td>Price per piece</td>\n",
       "      <td>Pack of 1</td>\n",
       "      <td>edeka</td>\n",
       "      <td>11.49</td>\n",
       "    </tr>\n",
       "    <tr>\n",
       "      <th>5045</th>\n",
       "      <td>Nivea Extreme Stay Lipstick 11 Extremely Beige</td>\n",
       "      <td>11.49</td>\n",
       "      <td>Price per piece</td>\n",
       "      <td>Pack of 1</td>\n",
       "      <td>edeka</td>\n",
       "      <td>11.49</td>\n",
       "    </tr>\n",
       "    <tr>\n",
       "      <th>5046</th>\n",
       "      <td>Nivea Turbo Color Nail Polish 12 Turbo Red</td>\n",
       "      <td>7.89</td>\n",
       "      <td>Price per piece</td>\n",
       "      <td>Bottle glass 1 piece</td>\n",
       "      <td>edeka</td>\n",
       "      <td>7.89</td>\n",
       "    </tr>\n",
       "    <tr>\n",
       "      <th>5047</th>\n",
       "      <td>Nivea Turbo Color Nail Polish 6 Turbo Goldpi</td>\n",
       "      <td>7.89</td>\n",
       "      <td>Price per piece</td>\n",
       "      <td>Bottle glass 1 piece</td>\n",
       "      <td>edeka</td>\n",
       "      <td>NaN</td>\n",
       "    </tr>\n",
       "  </tbody>\n",
       "</table>\n",
       "<p>5048 rows × 6 columns</p>\n",
       "</div>"
      ],
      "text/plain": [
       "                                                Name  Price             Unit  \\\n",
       "0                                               Coke   1.39           100 ml   \n",
       "1                                            Nutella   1.77         100 gram   \n",
       "2                                 Becel Gold 70% fat   1.49         100 gram   \n",
       "3                                  Iglo fish fingers   2.99         100 gram   \n",
       "4               Good & Cheap Landgasthof Goulash Pan   1.99         100 gram   \n",
       "...                                              ...    ...              ...   \n",
       "5043   Nivea Extreme Stay Lipstick 17 Extrem Pinkini  11.49  Price per piece   \n",
       "5044   Nivea Extreme Stay Lipstick 21 Extreme Cinnam  11.49  Price per piece   \n",
       "5045  Nivea Extreme Stay Lipstick 11 Extremely Beige  11.49  Price per piece   \n",
       "5046      Nivea Turbo Color Nail Polish 12 Turbo Red   7.89  Price per piece   \n",
       "5047    Nivea Turbo Color Nail Polish 6 Turbo Goldpi   7.89  Price per piece   \n",
       "\n",
       "                 Pack Size Supermarket    Comparable Price  \n",
       "0         Pet bottle 1.5 L       edeka               0.093  \n",
       "1         \"Glass 500 grams       edeka               0.354  \n",
       "2            Cup 250 grams       edeka                 0.6  \n",
       "3      \"15-pack 450 grams\"       edeka  0.6639999999999999  \n",
       "4                    edeka       0.398                 NaN  \n",
       "...                    ...         ...                 ...  \n",
       "5043             Pack of 1       edeka               11.49  \n",
       "5044             Pack of 1       edeka               11.49  \n",
       "5045             Pack of 1       edeka               11.49  \n",
       "5046  Bottle glass 1 piece       edeka                7.89  \n",
       "5047  Bottle glass 1 piece       edeka                 NaN  \n",
       "\n",
       "[5048 rows x 6 columns]"
      ]
     },
     "execution_count": 3,
     "metadata": {},
     "output_type": "execute_result"
    }
   ],
   "source": [
    "supermarkets_en['edeka']"
   ]
  },
  {
   "cell_type": "code",
   "execution_count": 4,
   "metadata": {},
   "outputs": [
    {
     "data": {
      "text/plain": [
       "Name                object\n",
       "Price               object\n",
       "Unit                object\n",
       "Pack Size           object\n",
       "Supermarket         object\n",
       "Comparable Price    object\n",
       "dtype: object"
      ]
     },
     "execution_count": 4,
     "metadata": {},
     "output_type": "execute_result"
    }
   ],
   "source": [
    "supermarkets_en['edeka'].dtypes"
   ]
  },
  {
   "cell_type": "markdown",
   "metadata": {},
   "source": [
    "For the moment, we are going to focus in the columns 'Name' and 'Price'"
   ]
  },
  {
   "cell_type": "code",
   "execution_count": 5,
   "metadata": {},
   "outputs": [
    {
     "data": {
      "text/plain": [
       "Zentis breakfast jam extra raspberry, with 50% fruit content      2\n",
       "MM extra dry                                                      2\n",
       "Kühne Salatfix Creme Fraiche                                      2\n",
       "Knorr Schlemmersauce Garlic Sauce                                 2\n",
       "Thomy mustard sweeter                                             2\n",
       "                                                                 ..\n",
       "Danone Orchard Vanilla Peach Passion Fruit, 4 x 125 g             1\n",
       "EDEKA Natural California almonds, whole kernels                   1\n",
       "good & cheap fish salmon salmon                                   1\n",
       "Hengstenberg 13 herb vinegar 5% acid                              1\n",
       "Kelloggs Smacks Choco Tresor cereal cushion with choco filling    1\n",
       "Name: Name, Length: 5014, dtype: int64"
      ]
     },
     "execution_count": 5,
     "metadata": {},
     "output_type": "execute_result"
    }
   ],
   "source": [
    "supermarkets_en['edeka']['Name'].value_counts()"
   ]
  },
  {
   "cell_type": "markdown",
   "metadata": {},
   "source": [
    "### 2. Clean data\n",
    "#### 2.1 Remove duplicates"
   ]
  },
  {
   "cell_type": "code",
   "execution_count": 6,
   "metadata": {},
   "outputs": [],
   "source": [
    "# Removing duplicate products\n",
    "supermarkets_en['edeka'] = supermarkets_en['edeka'].drop_duplicates('Name')"
   ]
  },
  {
   "cell_type": "code",
   "execution_count": 7,
   "metadata": {},
   "outputs": [
    {
     "data": {
      "text/plain": [
       "Seven star tomato ketchup                                         1\n",
       "Feldmann naturally cloudy apple cider vinegar                     1\n",
       "Rügenwalder Pomeranian Gutsleberwurst roughly                     1\n",
       "Weiss witch house                                                 1\n",
       "Knorr Sauce Pur Fine sauce, 4 x 0.25 L                            1\n",
       "                                                                 ..\n",
       "Iglo Asia sweet and sour chicken                                  1\n",
       "Homann Dips & Creams Garlic Dip                                   1\n",
       "Appel sugar color                                                 1\n",
       "Tekrum nut corners                                                1\n",
       "Kelloggs Smacks Choco Tresor cereal cushion with choco filling    1\n",
       "Name: Name, Length: 5014, dtype: int64"
      ]
     },
     "execution_count": 7,
     "metadata": {},
     "output_type": "execute_result"
    }
   ],
   "source": [
    "supermarkets_en['edeka']['Name'].value_counts()"
   ]
  },
  {
   "cell_type": "code",
   "execution_count": 8,
   "metadata": {},
   "outputs": [],
   "source": [
    "# Removing duplicate products for each DataFrame\n",
    "for market in supermarkets_en:\n",
    "    supermarkets_en[market] = supermarkets_en[market].drop_duplicates('Name')"
   ]
  },
  {
   "cell_type": "markdown",
   "metadata": {},
   "source": [
    "#### 2.2 Price to numeric"
   ]
  },
  {
   "cell_type": "code",
   "execution_count": 9,
   "metadata": {},
   "outputs": [
    {
     "data": {
      "text/plain": [
       "0.99     376\n",
       "1.99     354\n",
       "2.99     202\n",
       "1.49     198\n",
       "1.29     179\n",
       "        ... \n",
       "2.48       1\n",
       "12.45      1\n",
       "1.7        1\n",
       "3.88       1\n",
       "3.7        1\n",
       "Name: Price, Length: 241, dtype: int64"
      ]
     },
     "execution_count": 9,
     "metadata": {},
     "output_type": "execute_result"
    }
   ],
   "source": [
    "# Price to numeric\n",
    "supermarkets_en['edeka']['Price'].value_counts()"
   ]
  },
  {
   "cell_type": "code",
   "execution_count": 10,
   "metadata": {},
   "outputs": [
    {
     "data": {
      "text/plain": [
       "0"
      ]
     },
     "execution_count": 10,
     "metadata": {},
     "output_type": "execute_result"
    }
   ],
   "source": [
    "# Let's check if there are null values\n",
    "supermarkets_en['edeka']['Price'].isna().sum()"
   ]
  },
  {
   "cell_type": "code",
   "execution_count": 11,
   "metadata": {},
   "outputs": [
    {
     "data": {
      "text/plain": [
       "0         1.39\n",
       "1         1.77\n",
       "2         1.49\n",
       "3         2.99\n",
       "4         1.99\n",
       "5         2.29\n",
       "6          0.3\n",
       "7         2.29\n",
       "8         0.99\n",
       "9         3.79\n",
       "10        1.15\n",
       "11        3.29\n",
       "12        1.77\n",
       "13        0.99\n",
       "14        3.29\n",
       "15        1.29\n",
       "16        1.29\n",
       "17        2.99\n",
       "18        0.95\n",
       "19        2.19\n",
       "20        3.49\n",
       "21        2.69\n",
       "22        1.59\n",
       "23        2.29\n",
       "24        0.69\n",
       "25        0.89\n",
       "26        1.69\n",
       "27        1.99\n",
       "28        0.85\n",
       "29        0.99\n",
       "30        0.77\n",
       "31        1.59\n",
       "32        2.79\n",
       "33        0.89\n",
       "34        2.19\n",
       "35        0.66\n",
       "36        1.29\n",
       "37        2.99\n",
       "38    100 gram\n",
       "39      100 ml\n",
       "40    100 gram\n",
       "41        2.49\n",
       "42    100 gram\n",
       "43    100 gram\n",
       "44      100 ml\n",
       "45        0.87\n",
       "46       14.79\n",
       "47        0.85\n",
       "48        2.69\n",
       "49        1.99\n",
       "Name: Price, dtype: object"
      ]
     },
     "execution_count": 11,
     "metadata": {},
     "output_type": "execute_result"
    }
   ],
   "source": [
    "supermarkets_en['edeka']['Price'].head(50)"
   ]
  },
  {
   "cell_type": "code",
   "execution_count": 12,
   "metadata": {},
   "outputs": [
    {
     "data": {
      "text/plain": [
       "82"
      ]
     },
     "execution_count": 12,
     "metadata": {},
     "output_type": "execute_result"
    }
   ],
   "source": [
    "# count how many values contain 'grams'\n",
    "supermarkets_en['edeka']['Price'].str.contains('gram').sum()"
   ]
  },
  {
   "cell_type": "code",
   "execution_count": 13,
   "metadata": {},
   "outputs": [],
   "source": [
    "# Drop those rows with wrong values within the 'Price' column\n",
    "supermarkets_en['edeka'] = supermarkets_en['edeka'][~supermarkets_en['edeka']['Price'].str.contains('gram')]"
   ]
  },
  {
   "cell_type": "code",
   "execution_count": 14,
   "metadata": {},
   "outputs": [],
   "source": [
    "# To numeric\n",
    "supermarkets_en['edeka']['Price'] = pd.to_numeric(supermarkets_en['edeka']['Price'], errors='coerce')"
   ]
  },
  {
   "cell_type": "code",
   "execution_count": 15,
   "metadata": {},
   "outputs": [
    {
     "data": {
      "text/plain": [
       "0.99    376\n",
       "1.99    354\n",
       "2.99    202\n",
       "1.49    198\n",
       "1.29    179\n",
       "       ... \n",
       "8.75      1\n",
       "3.77      1\n",
       "8.90      1\n",
       "4.44      1\n",
       "5.98      1\n",
       "Name: Price, Length: 239, dtype: int64"
      ]
     },
     "execution_count": 15,
     "metadata": {},
     "output_type": "execute_result"
    }
   ],
   "source": [
    "supermarkets_en['edeka']['Price'].value_counts()"
   ]
  },
  {
   "cell_type": "code",
   "execution_count": 16,
   "metadata": {},
   "outputs": [],
   "source": [
    "# To numeric for each DataFrame\n",
    "for market in supermarkets_en:\n",
    "    supermarkets_en[market]['Price'] = pd.to_numeric(supermarkets_en[market]['Price'], errors='coerce')"
   ]
  },
  {
   "cell_type": "code",
   "execution_count": 17,
   "metadata": {},
   "outputs": [
    {
     "data": {
      "text/plain": [
       "Name                 object\n",
       "Price               float64\n",
       "Unit                 object\n",
       "Pack Size            object\n",
       "Supermarket          object\n",
       "Comparable Price     object\n",
       "dtype: object"
      ]
     },
     "execution_count": 17,
     "metadata": {},
     "output_type": "execute_result"
    }
   ],
   "source": [
    "supermarkets_en['edeka'].dtypes"
   ]
  },
  {
   "cell_type": "markdown",
   "metadata": {},
   "source": [
    "#### 2.3 Drop columns that we do not need"
   ]
  },
  {
   "cell_type": "code",
   "execution_count": 18,
   "metadata": {},
   "outputs": [
    {
     "data": {
      "text/html": [
       "<div>\n",
       "<style scoped>\n",
       "    .dataframe tbody tr th:only-of-type {\n",
       "        vertical-align: middle;\n",
       "    }\n",
       "\n",
       "    .dataframe tbody tr th {\n",
       "        vertical-align: top;\n",
       "    }\n",
       "\n",
       "    .dataframe thead th {\n",
       "        text-align: right;\n",
       "    }\n",
       "</style>\n",
       "<table border=\"1\" class=\"dataframe\">\n",
       "  <thead>\n",
       "    <tr style=\"text-align: right;\">\n",
       "      <th></th>\n",
       "      <th>Name</th>\n",
       "      <th>Price</th>\n",
       "      <th>Unit</th>\n",
       "      <th>Pack Size</th>\n",
       "      <th>Supermarket</th>\n",
       "      <th>Comparable Price</th>\n",
       "    </tr>\n",
       "  </thead>\n",
       "  <tbody>\n",
       "    <tr>\n",
       "      <th>0</th>\n",
       "      <td>Coke</td>\n",
       "      <td>1.39</td>\n",
       "      <td>100 ml</td>\n",
       "      <td>Pet bottle 1.5 L</td>\n",
       "      <td>edeka</td>\n",
       "      <td>0.093</td>\n",
       "    </tr>\n",
       "    <tr>\n",
       "      <th>1</th>\n",
       "      <td>Nutella</td>\n",
       "      <td>1.77</td>\n",
       "      <td>100 gram</td>\n",
       "      <td>\"Glass 500 grams</td>\n",
       "      <td>edeka</td>\n",
       "      <td>0.354</td>\n",
       "    </tr>\n",
       "    <tr>\n",
       "      <th>2</th>\n",
       "      <td>Becel Gold 70% fat</td>\n",
       "      <td>1.49</td>\n",
       "      <td>100 gram</td>\n",
       "      <td>Cup 250 grams</td>\n",
       "      <td>edeka</td>\n",
       "      <td>0.6</td>\n",
       "    </tr>\n",
       "    <tr>\n",
       "      <th>3</th>\n",
       "      <td>Iglo fish fingers</td>\n",
       "      <td>2.99</td>\n",
       "      <td>100 gram</td>\n",
       "      <td>\"15-pack 450 grams\"</td>\n",
       "      <td>edeka</td>\n",
       "      <td>0.6639999999999999</td>\n",
       "    </tr>\n",
       "    <tr>\n",
       "      <th>4</th>\n",
       "      <td>Good &amp; Cheap Landgasthof Goulash Pan</td>\n",
       "      <td>1.99</td>\n",
       "      <td>100 gram</td>\n",
       "      <td>edeka</td>\n",
       "      <td>0.398</td>\n",
       "      <td>NaN</td>\n",
       "    </tr>\n",
       "  </tbody>\n",
       "</table>\n",
       "</div>"
      ],
      "text/plain": [
       "                                   Name  Price      Unit            Pack Size  \\\n",
       "0                                  Coke   1.39    100 ml     Pet bottle 1.5 L   \n",
       "1                               Nutella   1.77  100 gram     \"Glass 500 grams   \n",
       "2                    Becel Gold 70% fat   1.49  100 gram        Cup 250 grams   \n",
       "3                     Iglo fish fingers   2.99  100 gram  \"15-pack 450 grams\"   \n",
       "4  Good & Cheap Landgasthof Goulash Pan   1.99  100 gram                edeka   \n",
       "\n",
       "  Supermarket    Comparable Price  \n",
       "0       edeka               0.093  \n",
       "1       edeka               0.354  \n",
       "2       edeka                 0.6  \n",
       "3       edeka  0.6639999999999999  \n",
       "4       0.398                 NaN  "
      ]
     },
     "execution_count": 18,
     "metadata": {},
     "output_type": "execute_result"
    }
   ],
   "source": [
    "supermarkets_en['edeka'].head()"
   ]
  },
  {
   "cell_type": "code",
   "execution_count": 19,
   "metadata": {},
   "outputs": [],
   "source": [
    "supermarkets_en['edeka'].drop(columns=['Supermarket', 'Comparable Price', 'Unit', 'Pack Size'], inplace=True)"
   ]
  },
  {
   "cell_type": "code",
   "execution_count": 20,
   "metadata": {},
   "outputs": [],
   "source": [
    "# To numeric for each DataFrame\n",
    "for market in supermarkets_en:\n",
    "    supermarkets_en[market].drop(columns=['Supermarket', 'Comparable Price', 'Unit', 'Pack Size', 'Pack size', 'Comparable price'], inplace=True, errors='ignore')"
   ]
  },
  {
   "cell_type": "code",
   "execution_count": 21,
   "metadata": {},
   "outputs": [
    {
     "data": {
      "text/html": [
       "<div>\n",
       "<style scoped>\n",
       "    .dataframe tbody tr th:only-of-type {\n",
       "        vertical-align: middle;\n",
       "    }\n",
       "\n",
       "    .dataframe tbody tr th {\n",
       "        vertical-align: top;\n",
       "    }\n",
       "\n",
       "    .dataframe thead th {\n",
       "        text-align: right;\n",
       "    }\n",
       "</style>\n",
       "<table border=\"1\" class=\"dataframe\">\n",
       "  <thead>\n",
       "    <tr style=\"text-align: right;\">\n",
       "      <th></th>\n",
       "      <th>Name</th>\n",
       "      <th>Price</th>\n",
       "    </tr>\n",
       "  </thead>\n",
       "  <tbody>\n",
       "    <tr>\n",
       "      <th>0</th>\n",
       "      <td>Coke</td>\n",
       "      <td>1.39</td>\n",
       "    </tr>\n",
       "    <tr>\n",
       "      <th>1</th>\n",
       "      <td>Nutella</td>\n",
       "      <td>1.77</td>\n",
       "    </tr>\n",
       "    <tr>\n",
       "      <th>2</th>\n",
       "      <td>Becel Gold 70% fat</td>\n",
       "      <td>1.49</td>\n",
       "    </tr>\n",
       "    <tr>\n",
       "      <th>3</th>\n",
       "      <td>Iglo fish fingers</td>\n",
       "      <td>2.99</td>\n",
       "    </tr>\n",
       "    <tr>\n",
       "      <th>4</th>\n",
       "      <td>Good &amp; Cheap Landgasthof Goulash Pan</td>\n",
       "      <td>1.99</td>\n",
       "    </tr>\n",
       "  </tbody>\n",
       "</table>\n",
       "</div>"
      ],
      "text/plain": [
       "                                   Name  Price\n",
       "0                                  Coke   1.39\n",
       "1                               Nutella   1.77\n",
       "2                    Becel Gold 70% fat   1.49\n",
       "3                     Iglo fish fingers   2.99\n",
       "4  Good & Cheap Landgasthof Goulash Pan   1.99"
      ]
     },
     "execution_count": 21,
     "metadata": {},
     "output_type": "execute_result"
    }
   ],
   "source": [
    "supermarkets_en['edeka'].head()"
   ]
  },
  {
   "cell_type": "markdown",
   "metadata": {},
   "source": [
    "For now, we are going to proceed with this data. Possible improvements for the future can be:\n",
    "    - Normalize the sizes of the products\n",
    "    - Add the rest of the supermarkets\n",
    "    - Add more columns"
   ]
  },
  {
   "cell_type": "markdown",
   "metadata": {},
   "source": [
    "### 3. Export data"
   ]
  },
  {
   "cell_type": "code",
   "execution_count": 22,
   "metadata": {},
   "outputs": [],
   "source": [
    "for market in supermarkets_en:\n",
    "        supermarkets_en[market].to_pickle(f'data/products-clean/{market}-products-clean.pkl')"
   ]
  }
 ],
 "metadata": {
  "kernelspec": {
   "display_name": "Python 3",
   "language": "python",
   "name": "python3"
  },
  "language_info": {
   "codemirror_mode": {
    "name": "ipython",
    "version": 3
   },
   "file_extension": ".py",
   "mimetype": "text/x-python",
   "name": "python",
   "nbconvert_exporter": "python",
   "pygments_lexer": "ipython3",
   "version": "3.8.3"
  }
 },
 "nbformat": 4,
 "nbformat_minor": 4
}
