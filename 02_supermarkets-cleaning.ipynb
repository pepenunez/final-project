{
 "cells": [
  {
   "cell_type": "markdown",
   "metadata": {},
   "source": [
    "# Supermarkets data cleaning\n",
    "\n",
    "We are importing the data from https://github.com/kklichowski/Third-Project. An Ironhack graduate who scraped data from the main 6 supermarkets in Berlin. The goal of this document is to import the data and clean it for our model. "
   ]
  },
  {
   "cell_type": "code",
   "execution_count": 1,
   "metadata": {},
   "outputs": [],
   "source": [
    "import pandas as pd\n",
    "import numpy as np\n",
    "import pickle"
   ]
  },
  {
   "cell_type": "markdown",
   "metadata": {},
   "source": [
    "## Clean data\n",
    "\n",
    "- Translate data to english\n",
    "- Isolate the package size\n",
    "- Check values\n",
    "- Normalize Unit\n",
    "\n",
    "- Create a unique list with unique products of all different markets\n",
    "- Analyse it\n",
    "- Conclude how to approach the solution"
   ]
  },
  {
   "cell_type": "markdown",
   "metadata": {},
   "source": [
    "### 1. Import data and explore"
   ]
  },
  {
   "cell_type": "code",
   "execution_count": 2,
   "metadata": {},
   "outputs": [],
   "source": [
    "# Importing the data from excel\n",
    "supermarkets_en = {\n",
    "    'aldinorth': pd.read_excel('data/products-en/aldinorth-products-en.xls', index_col=0),\n",
    "    'aldisouth': pd.read_excel('data/products-en/aldisouth-products-en.xls', index_col=0),\n",
    "    'edeka': pd.read_excel('data/products-en/edeka-products-en.xls', index_col=0),\n",
    "    'kaufland': pd.read_excel('data/products-en/kaufland-products-en.xls', index_col=0),\n",
    "    'lidl': pd.read_excel('data/products-en/lidl-products-en.xls', index_col=0),\n",
    "    'rewe': pd.read_excel('data/products-en/rewe-products-en.xls', index_col=0)\n",
    "}"
   ]
  },
  {
   "cell_type": "code",
   "execution_count": 3,
   "metadata": {},
   "outputs": [
    {
     "data": {
      "text/html": [
       "<div>\n",
       "<style scoped>\n",
       "    .dataframe tbody tr th:only-of-type {\n",
       "        vertical-align: middle;\n",
       "    }\n",
       "\n",
       "    .dataframe tbody tr th {\n",
       "        vertical-align: top;\n",
       "    }\n",
       "\n",
       "    .dataframe thead th {\n",
       "        text-align: right;\n",
       "    }\n",
       "</style>\n",
       "<table border=\"1\" class=\"dataframe\">\n",
       "  <thead>\n",
       "    <tr style=\"text-align: right;\">\n",
       "      <th></th>\n",
       "      <th>Name</th>\n",
       "      <th>Price</th>\n",
       "      <th>Unit</th>\n",
       "      <th>Pack size</th>\n",
       "      <th>Supermarket</th>\n",
       "      <th>Comparable Price</th>\n",
       "      <th>Unnamed: 7</th>\n",
       "    </tr>\n",
       "  </thead>\n",
       "  <tbody>\n",
       "    <tr>\n",
       "      <th>0</th>\n",
       "      <td>Almare cream herring fillets and cream sauce</td>\n",
       "      <td>1.35</td>\n",
       "      <td>100 gram</td>\n",
       "      <td>Bowl 400 grams</td>\n",
       "      <td>Aldi south</td>\n",
       "      <td>0.33799999999999997</td>\n",
       "      <td>NaN</td>\n",
       "    </tr>\n",
       "    <tr>\n",
       "      <th>1</th>\n",
       "      <td>Coke</td>\n",
       "      <td>0.99</td>\n",
       "      <td>100 ml</td>\n",
       "      <td>Pet bottle 1.25 L</td>\n",
       "      <td>demandado aldi</td>\n",
       "      <td>0.079</td>\n",
       "      <td>NaN</td>\n",
       "    </tr>\n",
       "    <tr>\n",
       "      <th>2</th>\n",
       "      <td>Puré de pudín Desira semolina</td>\n",
       "      <td>0.35</td>\n",
       "      <td>100 gram</td>\n",
       "      <td>Cup 175 grams</td>\n",
       "      <td>Aldi south</td>\n",
       "      <td>0.2</td>\n",
       "      <td>NaN</td>\n",
       "    </tr>\n",
       "    <tr>\n",
       "      <th>3</th>\n",
       "      <td>Nutella</td>\n",
       "      <td>3.89</td>\n",
       "      <td>100 gram</td>\n",
       "      <td>\"Glass 880 grams + 80 g free\"</td>\n",
       "      <td>Aldi south</td>\n",
       "      <td>0.442</td>\n",
       "      <td>NaN</td>\n",
       "    </tr>\n",
       "    <tr>\n",
       "      <th>4</th>\n",
       "      <td>Landvogt Original Schwäbische Maultaschen with...</td>\n",
       "      <td>1.29</td>\n",
       "      <td>100 gram</td>\n",
       "      <td>Pack of 360 grams</td>\n",
       "      <td>Aldi south</td>\n",
       "      <td>0.36</td>\n",
       "      <td>NaN</td>\n",
       "    </tr>\n",
       "    <tr>\n",
       "      <th>...</th>\n",
       "      <td>...</td>\n",
       "      <td>...</td>\n",
       "      <td>...</td>\n",
       "      <td>...</td>\n",
       "      <td>...</td>\n",
       "      <td>...</td>\n",
       "      <td>...</td>\n",
       "    </tr>\n",
       "    <tr>\n",
       "      <th>3579</th>\n",
       "      <td>Obersteirische Molkerei / Aldi Nord Austrian m...</td>\n",
       "      <td>0.89</td>\n",
       "      <td>100 gram</td>\n",
       "      <td>Cup 400 grams</td>\n",
       "      <td>Aldi south</td>\n",
       "      <td>0.22</td>\n",
       "      <td>NaN</td>\n",
       "    </tr>\n",
       "    <tr>\n",
       "      <th>3580</th>\n",
       "      <td>Ofterdinger Aldi Nord carrot salad</td>\n",
       "      <td>6.99</td>\n",
       "      <td>100 ml</td>\n",
       "      <td>Bottle of glass 0.7 L</td>\n",
       "      <td>Aldi south</td>\n",
       "      <td>0.999</td>\n",
       "      <td>NaN</td>\n",
       "    </tr>\n",
       "    <tr>\n",
       "      <th>3581</th>\n",
       "      <td>Mümmelmann Jagdbitter herbal liqueur</td>\n",
       "      <td>4.99</td>\n",
       "      <td>100 ml</td>\n",
       "      <td>Bottle of glass 0.7 L</td>\n",
       "      <td>Aldi south</td>\n",
       "      <td>0.713</td>\n",
       "      <td>NaN</td>\n",
       "    </tr>\n",
       "    <tr>\n",
       "      <th>3582</th>\n",
       "      <td>KÜR Basic Shampoo Walnut</td>\n",
       "      <td>0.65</td>\n",
       "      <td>100 ml</td>\n",
       "      <td>Bottle of plastic 500 ml</td>\n",
       "      <td>Aldi south</td>\n",
       "      <td>0.13</td>\n",
       "      <td>NaN</td>\n",
       "    </tr>\n",
       "    <tr>\n",
       "      <th>3583</th>\n",
       "      <td>Be Light candies 2-pack mild mint, 2 x 44 g</td>\n",
       "      <td>0.99</td>\n",
       "      <td>100 gram</td>\n",
       "      <td>Pack of 88 grams</td>\n",
       "      <td>Aldi south</td>\n",
       "      <td>1.13</td>\n",
       "      <td>NaN</td>\n",
       "    </tr>\n",
       "  </tbody>\n",
       "</table>\n",
       "<p>3584 rows × 7 columns</p>\n",
       "</div>"
      ],
      "text/plain": [
       "                                                   Name Price      Unit  \\\n",
       "0          Almare cream herring fillets and cream sauce  1.35  100 gram   \n",
       "1                                                  Coke  0.99    100 ml   \n",
       "2                         Puré de pudín Desira semolina  0.35  100 gram   \n",
       "3                                               Nutella  3.89  100 gram   \n",
       "4     Landvogt Original Schwäbische Maultaschen with...  1.29  100 gram   \n",
       "...                                                 ...   ...       ...   \n",
       "3579  Obersteirische Molkerei / Aldi Nord Austrian m...  0.89  100 gram   \n",
       "3580                 Ofterdinger Aldi Nord carrot salad  6.99    100 ml   \n",
       "3581               Mümmelmann Jagdbitter herbal liqueur  4.99    100 ml   \n",
       "3582                           KÜR Basic Shampoo Walnut  0.65    100 ml   \n",
       "3583        Be Light candies 2-pack mild mint, 2 x 44 g  0.99  100 gram   \n",
       "\n",
       "                          Pack size     Supermarket     Comparable Price  \\\n",
       "0                    Bowl 400 grams      Aldi south  0.33799999999999997   \n",
       "1                 Pet bottle 1.25 L  demandado aldi                0.079   \n",
       "2                     Cup 175 grams      Aldi south                  0.2   \n",
       "3     \"Glass 880 grams + 80 g free\"      Aldi south                0.442   \n",
       "4                 Pack of 360 grams      Aldi south                 0.36   \n",
       "...                             ...             ...                  ...   \n",
       "3579                  Cup 400 grams      Aldi south                 0.22   \n",
       "3580          Bottle of glass 0.7 L      Aldi south                0.999   \n",
       "3581          Bottle of glass 0.7 L      Aldi south                0.713   \n",
       "3582       Bottle of plastic 500 ml      Aldi south                 0.13   \n",
       "3583               Pack of 88 grams      Aldi south                 1.13   \n",
       "\n",
       "      Unnamed: 7  \n",
       "0            NaN  \n",
       "1            NaN  \n",
       "2            NaN  \n",
       "3            NaN  \n",
       "4            NaN  \n",
       "...          ...  \n",
       "3579         NaN  \n",
       "3580         NaN  \n",
       "3581         NaN  \n",
       "3582         NaN  \n",
       "3583         NaN  \n",
       "\n",
       "[3584 rows x 7 columns]"
      ]
     },
     "execution_count": 3,
     "metadata": {},
     "output_type": "execute_result"
    }
   ],
   "source": [
    "supermarkets_en['aldisouth']"
   ]
  },
  {
   "cell_type": "code",
   "execution_count": 4,
   "metadata": {},
   "outputs": [
    {
     "data": {
      "text/plain": [
       "Name                object\n",
       "Price               object\n",
       "Unit                object\n",
       "Pack Size           object\n",
       "Supermarket         object\n",
       "Comparable Price    object\n",
       "dtype: object"
      ]
     },
     "execution_count": 4,
     "metadata": {},
     "output_type": "execute_result"
    }
   ],
   "source": [
    "supermarkets_en['edeka'].dtypes"
   ]
  },
  {
   "cell_type": "markdown",
   "metadata": {},
   "source": [
    "For the moment, we are going to focus in the columns 'Name' and 'Price'"
   ]
  },
  {
   "cell_type": "code",
   "execution_count": 5,
   "metadata": {},
   "outputs": [
    {
     "data": {
      "text/plain": [
       "Danone orchard peach passion fruit                                                   2\n",
       "Alete Milder Apple Juice after the 4th month                                         2\n",
       "Thomy mustard sweeter                                                                2\n",
       "Dr. Oetker Vitalis Yofibra Classic, 2 x 135 g                                        2\n",
       "Maggi Meisterklasse mushroom sauce low in fat                                        2\n",
       "                                                                                    ..\n",
       "Minus L Choco Cappuccino                                                             1\n",
       "Pepsi Cola Classic contains caffeine                                                 1\n",
       "Milka Amavel Mousse au Praline                                                       1\n",
       "Bols Peppermint Green Liqueur 24% Vol.                                               1\n",
       "Hipp 3 follow-on milk organic double economy pack after the 10th month, 2 x 500 g    1\n",
       "Name: Name, Length: 5014, dtype: int64"
      ]
     },
     "execution_count": 5,
     "metadata": {},
     "output_type": "execute_result"
    }
   ],
   "source": [
    "supermarkets_en['edeka']['Name'].value_counts()"
   ]
  },
  {
   "cell_type": "markdown",
   "metadata": {},
   "source": [
    "### 2. Clean data\n",
    "#### 2.1 Remove duplicates"
   ]
  },
  {
   "cell_type": "code",
   "execution_count": 6,
   "metadata": {},
   "outputs": [],
   "source": [
    "# Removing duplicate products\n",
    "supermarkets_en['edeka'] = supermarkets_en['edeka'].drop_duplicates('Name')"
   ]
  },
  {
   "cell_type": "code",
   "execution_count": 7,
   "metadata": {},
   "outputs": [
    {
     "data": {
      "text/plain": [
       "Danone Family Yogurt Cherry, 4 x 125 g                                               1\n",
       "Children Bueno                                                                       1\n",
       "Escal Flammkuchen Original Alsatian                                                  1\n",
       "Libby's Peaches Half Fruit                                                           1\n",
       "Landliebe yogurt with exquisite strawberries, 3.8% fat                               1\n",
       "                                                                                    ..\n",
       "Schwartau Extra Pineapple                                                            1\n",
       "Seitenbacher Muesli 311 special mix                                                  1\n",
       "Dr. Oetker Brandteig Garant                                                          1\n",
       "Campari Bitter Aperitif, 25% vol.                                                    1\n",
       "Hipp 3 follow-on milk organic double economy pack after the 10th month, 2 x 500 g    1\n",
       "Name: Name, Length: 5014, dtype: int64"
      ]
     },
     "execution_count": 7,
     "metadata": {},
     "output_type": "execute_result"
    }
   ],
   "source": [
    "supermarkets_en['edeka']['Name'].value_counts()"
   ]
  },
  {
   "cell_type": "code",
   "execution_count": 8,
   "metadata": {},
   "outputs": [],
   "source": [
    "# Removing duplicate products for each DataFrame\n",
    "for market in supermarkets_en:\n",
    "    supermarkets_en[market] = supermarkets_en[market].drop_duplicates('Name')"
   ]
  },
  {
   "cell_type": "code",
   "execution_count": 9,
   "metadata": {},
   "outputs": [
    {
     "data": {
      "text/plain": [
       "Iglo Vegetable Ideas Pan-Vegetable Italian Pan    1\n",
       "Zimbo Thuringian grilled sausage                  1\n",
       "Dr. Oetker cake glaze light                       1\n",
       "Funny fresh crisp Hungarian                       1\n",
       "Heinersdorfer cake plum crumble                   1\n",
       "                                                 ..\n",
       "Grafschafter Goldsaft Beet Syrup                  1\n",
       "Tekrum Decor on Ice Premium ice cream cones       1\n",
       "REWE Best choice Mousse au chocolat               1\n",
       "Yes! Quark 40% fat                                1\n",
       "Haribo fruit snails                               1\n",
       "Name: Name, Length: 5049, dtype: int64"
      ]
     },
     "execution_count": 9,
     "metadata": {},
     "output_type": "execute_result"
    }
   ],
   "source": [
    "supermarkets_en['rewe']['Name'].value_counts()"
   ]
  },
  {
   "cell_type": "markdown",
   "metadata": {},
   "source": [
    "#### 2.2 Price to numeric"
   ]
  },
  {
   "cell_type": "code",
   "execution_count": 10,
   "metadata": {},
   "outputs": [
    {
     "data": {
      "text/plain": [
       "0.99     376\n",
       "1.99     354\n",
       "2.99     202\n",
       "1.49     198\n",
       "1.29     179\n",
       "        ... \n",
       "4.98       1\n",
       "0.57       1\n",
       "7.98       1\n",
       "0.58       1\n",
       "27.95      1\n",
       "Name: Price, Length: 241, dtype: int64"
      ]
     },
     "execution_count": 10,
     "metadata": {},
     "output_type": "execute_result"
    }
   ],
   "source": [
    "# Price to numeric\n",
    "supermarkets_en['edeka']['Price'].value_counts()"
   ]
  },
  {
   "cell_type": "code",
   "execution_count": 11,
   "metadata": {},
   "outputs": [
    {
     "data": {
      "text/plain": [
       "0"
      ]
     },
     "execution_count": 11,
     "metadata": {},
     "output_type": "execute_result"
    }
   ],
   "source": [
    "# Let's check if there are null values\n",
    "supermarkets_en['edeka']['Price'].isna().sum()"
   ]
  },
  {
   "cell_type": "code",
   "execution_count": 12,
   "metadata": {},
   "outputs": [
    {
     "data": {
      "text/plain": [
       "0         1.35\n",
       "1         0.99\n",
       "2         0.35\n",
       "3         3.89\n",
       "4         1.29\n",
       "5         1.69\n",
       "6         2.99\n",
       "7         3.55\n",
       "8         1.29\n",
       "9         3.59\n",
       "10        2.69\n",
       "11        0.53\n",
       "12        4.49\n",
       "13        2.29\n",
       "14        1.79\n",
       "15        0.35\n",
       "16        1.89\n",
       "17        0.59\n",
       "18        2.99\n",
       "19        0.79\n",
       "20        1.59\n",
       "21        0.79\n",
       "22        1.39\n",
       "23        1.49\n",
       "24        1.99\n",
       "25        1.39\n",
       "26        1.99\n",
       "27         1.9\n",
       "28        1.99\n",
       "29        0.49\n",
       "30        0.59\n",
       "31        1.99\n",
       "32        1.79\n",
       "33        0.49\n",
       "34       12.99\n",
       "35        1.69\n",
       "36        1.49\n",
       "37        2.95\n",
       "38        1.35\n",
       "39        3.79\n",
       "40        1.29\n",
       "41        1.39\n",
       "42        2.29\n",
       "43        6.49\n",
       "44        0.95\n",
       "45    100 gram\n",
       "46    100 gram\n",
       "47    100 gram\n",
       "48    100 gram\n",
       "49        0.85\n",
       "Name: Price, dtype: object"
      ]
     },
     "execution_count": 12,
     "metadata": {},
     "output_type": "execute_result"
    }
   ],
   "source": [
    "supermarkets_en['aldisouth']['Price'].head(50)"
   ]
  },
  {
   "cell_type": "code",
   "execution_count": 13,
   "metadata": {},
   "outputs": [
    {
     "data": {
      "text/plain": [
       "82"
      ]
     },
     "execution_count": 13,
     "metadata": {},
     "output_type": "execute_result"
    }
   ],
   "source": [
    "# count how many values contain 'grams'\n",
    "supermarkets_en['edeka']['Price'].str.contains('gram').sum()"
   ]
  },
  {
   "cell_type": "code",
   "execution_count": 14,
   "metadata": {},
   "outputs": [],
   "source": [
    "supermarkets_en['rewe']['Price'].dropna(inplace=True)"
   ]
  },
  {
   "cell_type": "code",
   "execution_count": 15,
   "metadata": {},
   "outputs": [
    {
     "name": "stderr",
     "output_type": "stream",
     "text": [
      "/opt/miniconda3/envs/boogie_woogie/lib/python3.8/site-packages/pandas/core/frame.py:3990: SettingWithCopyWarning: \n",
      "A value is trying to be set on a copy of a slice from a DataFrame\n",
      "\n",
      "See the caveats in the documentation: https://pandas.pydata.org/pandas-docs/stable/user_guide/indexing.html#returning-a-view-versus-a-copy\n",
      "  return super().drop(\n",
      "<ipython-input-15-34048422fbe1>:11: SettingWithCopyWarning: \n",
      "A value is trying to be set on a copy of a slice from a DataFrame.\n",
      "Try using .loc[row_indexer,col_indexer] = value instead\n",
      "\n",
      "See the caveats in the documentation: https://pandas.pydata.org/pandas-docs/stable/user_guide/indexing.html#returning-a-view-versus-a-copy\n",
      "  supermarkets_en[market]['Price'] = pd.to_numeric(supermarkets_en[market]['Price'], errors='coerce')\n",
      "<ipython-input-15-34048422fbe1>:14: SettingWithCopyWarning: \n",
      "A value is trying to be set on a copy of a slice from a DataFrame\n",
      "\n",
      "See the caveats in the documentation: https://pandas.pydata.org/pandas-docs/stable/user_guide/indexing.html#returning-a-view-versus-a-copy\n",
      "  supermarkets_en[market].dropna(inplace=True)\n"
     ]
    }
   ],
   "source": [
    "# To numeric for each DataFrame\n",
    "for market in supermarkets_en:\n",
    "    \n",
    "    # Drop those rows with wrong values within the 'Price' column\n",
    "    # supermarkets_en[market] = supermarkets_en[market][~supermarkets_en[market]['Price'].str.contains('gram')]\n",
    "    \n",
    "    #Drop columns that we do not use\n",
    "    supermarkets_en[market].drop(columns=['Supermarket', 'Comparable Price', 'Unit', 'Pack Size', 'Pack size', 'Comparable price', 'Unnamed: 7'], inplace=True, errors='ignore')\n",
    "    \n",
    "    # Price to numeric\n",
    "    supermarkets_en[market]['Price'] = pd.to_numeric(supermarkets_en[market]['Price'], errors='coerce')\n",
    "    \n",
    "    # Drop those rows with NaN values within the 'Price' column\n",
    "    supermarkets_en[market].dropna(inplace=True)"
   ]
  },
  {
   "cell_type": "code",
   "execution_count": 16,
   "metadata": {},
   "outputs": [
    {
     "data": {
      "text/plain": [
       "Name      object\n",
       "Price    float64\n",
       "dtype: object"
      ]
     },
     "execution_count": 16,
     "metadata": {},
     "output_type": "execute_result"
    }
   ],
   "source": [
    "supermarkets_en['rewe'].dtypes"
   ]
  },
  {
   "cell_type": "markdown",
   "metadata": {},
   "source": [
    "#### 2.3 Drop columns that we do not need"
   ]
  },
  {
   "cell_type": "code",
   "execution_count": 17,
   "metadata": {},
   "outputs": [
    {
     "data": {
      "text/html": [
       "<div>\n",
       "<style scoped>\n",
       "    .dataframe tbody tr th:only-of-type {\n",
       "        vertical-align: middle;\n",
       "    }\n",
       "\n",
       "    .dataframe tbody tr th {\n",
       "        vertical-align: top;\n",
       "    }\n",
       "\n",
       "    .dataframe thead th {\n",
       "        text-align: right;\n",
       "    }\n",
       "</style>\n",
       "<table border=\"1\" class=\"dataframe\">\n",
       "  <thead>\n",
       "    <tr style=\"text-align: right;\">\n",
       "      <th></th>\n",
       "      <th>Name</th>\n",
       "      <th>Price</th>\n",
       "    </tr>\n",
       "  </thead>\n",
       "  <tbody>\n",
       "    <tr>\n",
       "      <th>0</th>\n",
       "      <td>Coke</td>\n",
       "      <td>1.39</td>\n",
       "    </tr>\n",
       "    <tr>\n",
       "      <th>1</th>\n",
       "      <td>Nutella</td>\n",
       "      <td>1.77</td>\n",
       "    </tr>\n",
       "    <tr>\n",
       "      <th>2</th>\n",
       "      <td>Becel Gold 70% fat</td>\n",
       "      <td>1.49</td>\n",
       "    </tr>\n",
       "    <tr>\n",
       "      <th>3</th>\n",
       "      <td>Iglo fish fingers</td>\n",
       "      <td>2.99</td>\n",
       "    </tr>\n",
       "    <tr>\n",
       "      <th>4</th>\n",
       "      <td>Good &amp; Cheap Landgasthof Goulash Pan</td>\n",
       "      <td>1.99</td>\n",
       "    </tr>\n",
       "  </tbody>\n",
       "</table>\n",
       "</div>"
      ],
      "text/plain": [
       "                                   Name  Price\n",
       "0                                  Coke   1.39\n",
       "1                               Nutella   1.77\n",
       "2                    Becel Gold 70% fat   1.49\n",
       "3                     Iglo fish fingers   2.99\n",
       "4  Good & Cheap Landgasthof Goulash Pan   1.99"
      ]
     },
     "execution_count": 17,
     "metadata": {},
     "output_type": "execute_result"
    }
   ],
   "source": [
    "supermarkets_en['edeka'].head()"
   ]
  },
  {
   "cell_type": "code",
   "execution_count": 18,
   "metadata": {},
   "outputs": [
    {
     "data": {
      "text/html": [
       "<div>\n",
       "<style scoped>\n",
       "    .dataframe tbody tr th:only-of-type {\n",
       "        vertical-align: middle;\n",
       "    }\n",
       "\n",
       "    .dataframe tbody tr th {\n",
       "        vertical-align: top;\n",
       "    }\n",
       "\n",
       "    .dataframe thead th {\n",
       "        text-align: right;\n",
       "    }\n",
       "</style>\n",
       "<table border=\"1\" class=\"dataframe\">\n",
       "  <thead>\n",
       "    <tr style=\"text-align: right;\">\n",
       "      <th></th>\n",
       "      <th>Name</th>\n",
       "      <th>Price</th>\n",
       "    </tr>\n",
       "  </thead>\n",
       "  <tbody>\n",
       "    <tr>\n",
       "      <th>0</th>\n",
       "      <td>Yes! Bread tip 60% fat</td>\n",
       "      <td>1.19</td>\n",
       "    </tr>\n",
       "    <tr>\n",
       "      <th>1</th>\n",
       "      <td>REWE Best Choice Brie 45% fat</td>\n",
       "      <td>0.69</td>\n",
       "    </tr>\n",
       "    <tr>\n",
       "      <th>2</th>\n",
       "      <td>REWE Best Choice Goat Cream Cheese Mousse 73%</td>\n",
       "      <td>1.99</td>\n",
       "    </tr>\n",
       "    <tr>\n",
       "      <th>3</th>\n",
       "      <td>Rewe Brie 45% fat</td>\n",
       "      <td>0.79</td>\n",
       "    </tr>\n",
       "    <tr>\n",
       "      <th>4</th>\n",
       "      <td>Nutella</td>\n",
       "      <td>3.79</td>\n",
       "    </tr>\n",
       "  </tbody>\n",
       "</table>\n",
       "</div>"
      ],
      "text/plain": [
       "                                            Name  Price\n",
       "0                         Yes! Bread tip 60% fat   1.19\n",
       "1                  REWE Best Choice Brie 45% fat   0.69\n",
       "2  REWE Best Choice Goat Cream Cheese Mousse 73%   1.99\n",
       "3                              Rewe Brie 45% fat   0.79\n",
       "4                                        Nutella   3.79"
      ]
     },
     "execution_count": 18,
     "metadata": {},
     "output_type": "execute_result"
    }
   ],
   "source": [
    "supermarkets_en['rewe'].head()"
   ]
  },
  {
   "cell_type": "code",
   "execution_count": 19,
   "metadata": {},
   "outputs": [
    {
     "data": {
      "text/plain": [
       "Name      object\n",
       "Price    float64\n",
       "dtype: object"
      ]
     },
     "execution_count": 19,
     "metadata": {},
     "output_type": "execute_result"
    }
   ],
   "source": [
    "supermarkets_en['rewe'].dtypes"
   ]
  },
  {
   "cell_type": "code",
   "execution_count": 20,
   "metadata": {},
   "outputs": [
    {
     "data": {
      "text/plain": [
       "Name     0\n",
       "Price    0\n",
       "dtype: int64"
      ]
     },
     "execution_count": 20,
     "metadata": {},
     "output_type": "execute_result"
    }
   ],
   "source": [
    "supermarkets_en['rewe'].isna().sum()"
   ]
  },
  {
   "cell_type": "code",
   "execution_count": 21,
   "metadata": {},
   "outputs": [
    {
     "data": {
      "text/html": [
       "<div>\n",
       "<style scoped>\n",
       "    .dataframe tbody tr th:only-of-type {\n",
       "        vertical-align: middle;\n",
       "    }\n",
       "\n",
       "    .dataframe tbody tr th {\n",
       "        vertical-align: top;\n",
       "    }\n",
       "\n",
       "    .dataframe thead th {\n",
       "        text-align: right;\n",
       "    }\n",
       "</style>\n",
       "<table border=\"1\" class=\"dataframe\">\n",
       "  <thead>\n",
       "    <tr style=\"text-align: right;\">\n",
       "      <th></th>\n",
       "      <th>Name</th>\n",
       "      <th>Price</th>\n",
       "    </tr>\n",
       "  </thead>\n",
       "  <tbody>\n",
       "    <tr>\n",
       "      <th>0</th>\n",
       "      <td>Almare cream herring fillets and cream sauce</td>\n",
       "      <td>1.35</td>\n",
       "    </tr>\n",
       "    <tr>\n",
       "      <th>1</th>\n",
       "      <td>Coke</td>\n",
       "      <td>0.99</td>\n",
       "    </tr>\n",
       "    <tr>\n",
       "      <th>2</th>\n",
       "      <td>Puré de pudín Desira semolina</td>\n",
       "      <td>0.35</td>\n",
       "    </tr>\n",
       "    <tr>\n",
       "      <th>3</th>\n",
       "      <td>Nutella</td>\n",
       "      <td>3.89</td>\n",
       "    </tr>\n",
       "    <tr>\n",
       "      <th>4</th>\n",
       "      <td>Landvogt Original Schwäbische Maultaschen with...</td>\n",
       "      <td>1.29</td>\n",
       "    </tr>\n",
       "    <tr>\n",
       "      <th>...</th>\n",
       "      <td>...</td>\n",
       "      <td>...</td>\n",
       "    </tr>\n",
       "    <tr>\n",
       "      <th>3579</th>\n",
       "      <td>Obersteirische Molkerei / Aldi Nord Austrian m...</td>\n",
       "      <td>0.89</td>\n",
       "    </tr>\n",
       "    <tr>\n",
       "      <th>3580</th>\n",
       "      <td>Ofterdinger Aldi Nord carrot salad</td>\n",
       "      <td>6.99</td>\n",
       "    </tr>\n",
       "    <tr>\n",
       "      <th>3581</th>\n",
       "      <td>Mümmelmann Jagdbitter herbal liqueur</td>\n",
       "      <td>4.99</td>\n",
       "    </tr>\n",
       "    <tr>\n",
       "      <th>3582</th>\n",
       "      <td>KÜR Basic Shampoo Walnut</td>\n",
       "      <td>0.65</td>\n",
       "    </tr>\n",
       "    <tr>\n",
       "      <th>3583</th>\n",
       "      <td>Be Light candies 2-pack mild mint, 2 x 44 g</td>\n",
       "      <td>0.99</td>\n",
       "    </tr>\n",
       "  </tbody>\n",
       "</table>\n",
       "<p>3371 rows × 2 columns</p>\n",
       "</div>"
      ],
      "text/plain": [
       "                                                   Name  Price\n",
       "0          Almare cream herring fillets and cream sauce   1.35\n",
       "1                                                  Coke   0.99\n",
       "2                         Puré de pudín Desira semolina   0.35\n",
       "3                                               Nutella   3.89\n",
       "4     Landvogt Original Schwäbische Maultaschen with...   1.29\n",
       "...                                                 ...    ...\n",
       "3579  Obersteirische Molkerei / Aldi Nord Austrian m...   0.89\n",
       "3580                 Ofterdinger Aldi Nord carrot salad   6.99\n",
       "3581               Mümmelmann Jagdbitter herbal liqueur   4.99\n",
       "3582                           KÜR Basic Shampoo Walnut   0.65\n",
       "3583        Be Light candies 2-pack mild mint, 2 x 44 g   0.99\n",
       "\n",
       "[3371 rows x 2 columns]"
      ]
     },
     "execution_count": 21,
     "metadata": {},
     "output_type": "execute_result"
    }
   ],
   "source": [
    "supermarkets_en['aldisouth']"
   ]
  },
  {
   "cell_type": "markdown",
   "metadata": {},
   "source": [
    "For now, we are going to proceed with this data. Possible improvements for the future can be:\n",
    "    - Normalize the sizes of the products\n",
    "    - Add the rest of the supermarkets\n",
    "    - Add more columns"
   ]
  },
  {
   "cell_type": "markdown",
   "metadata": {},
   "source": [
    "### 3. Export data"
   ]
  },
  {
   "cell_type": "code",
   "execution_count": 22,
   "metadata": {},
   "outputs": [],
   "source": [
    "for market in supermarkets_en:\n",
    "        supermarkets_en[market].to_pickle(f'data/products-clean/{market}-products-clean.pkl')"
   ]
  }
 ],
 "metadata": {
  "kernelspec": {
   "display_name": "Python 3",
   "language": "python",
   "name": "python3"
  },
  "language_info": {
   "codemirror_mode": {
    "name": "ipython",
    "version": 3
   },
   "file_extension": ".py",
   "mimetype": "text/x-python",
   "name": "python",
   "nbconvert_exporter": "python",
   "pygments_lexer": "ipython3",
   "version": "3.8.3"
  }
 },
 "nbformat": 4,
 "nbformat_minor": 4
}
