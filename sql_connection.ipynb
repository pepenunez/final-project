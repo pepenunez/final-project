{
 "cells": [
  {
   "cell_type": "markdown",
   "metadata": {},
   "source": [
    "# Modeling ingredients recommender"
   ]
  },
  {
   "cell_type": "markdown",
   "metadata": {},
   "source": [
    "The goal of this notebook is to prepare the datasets that we will use to train the Machine Learning Model"
   ]
  },
  {
   "cell_type": "code",
   "execution_count": 2,
   "metadata": {},
   "outputs": [],
   "source": [
    "import pandas as pd\n",
    "import pymysql\n",
    "import getpass\n",
    "\n",
    "# Function that creates a mysql connection\n",
    "def connect(user=\"root\", db=\"final-project\"):\n",
    "    return pymysql.connect(host=\"localhost\",\n",
    "                           port=3306,\n",
    "                           user=user,\n",
    "                           passwd=getpass.getpass(\"Please provide your password\"),\n",
    "                           db=db)"
   ]
  },
  {
   "cell_type": "code",
   "execution_count": 3,
   "metadata": {},
   "outputs": [
    {
     "name": "stdout",
     "output_type": "stream",
     "text": [
      "Please provide your password········\n"
     ]
    }
   ],
   "source": [
    "# create a variable that contains the function\n",
    "conn = connect()"
   ]
  },
  {
   "cell_type": "code",
   "execution_count": 6,
   "metadata": {},
   "outputs": [],
   "source": [
    "# Test if the connection works well\n",
    "query0 = \"\"\"\n",
    "SELECT\n",
    "    *\n",
    "FROM ingredients\n",
    "LIMIT 5;\n",
    "    \"\"\"\n",
    "\n",
    "top5 = pd.read_sql(query0, conn)"
   ]
  },
  {
   "cell_type": "code",
   "execution_count": 7,
   "metadata": {},
   "outputs": [
    {
     "data": {
      "text/html": [
       "<div>\n",
       "<style scoped>\n",
       "    .dataframe tbody tr th:only-of-type {\n",
       "        vertical-align: middle;\n",
       "    }\n",
       "\n",
       "    .dataframe tbody tr th {\n",
       "        vertical-align: top;\n",
       "    }\n",
       "\n",
       "    .dataframe thead th {\n",
       "        text-align: right;\n",
       "    }\n",
       "</style>\n",
       "<table border=\"1\" class=\"dataframe\">\n",
       "  <thead>\n",
       "    <tr style=\"text-align: right;\">\n",
       "      <th></th>\n",
       "      <th>Id</th>\n",
       "      <th>Ingredient</th>\n",
       "      <th>Count</th>\n",
       "    </tr>\n",
       "  </thead>\n",
       "  <tbody>\n",
       "    <tr>\n",
       "      <th>0</th>\n",
       "      <td>0</td>\n",
       "      <td>salt</td>\n",
       "      <td>15070</td>\n",
       "    </tr>\n",
       "    <tr>\n",
       "      <th>1</th>\n",
       "      <td>1</td>\n",
       "      <td>butter</td>\n",
       "      <td>13263</td>\n",
       "    </tr>\n",
       "    <tr>\n",
       "      <th>2</th>\n",
       "      <td>2</td>\n",
       "      <td>white sugar</td>\n",
       "      <td>13032</td>\n",
       "    </tr>\n",
       "    <tr>\n",
       "      <th>3</th>\n",
       "      <td>3</td>\n",
       "      <td>all-purpose flour</td>\n",
       "      <td>10257</td>\n",
       "    </tr>\n",
       "    <tr>\n",
       "      <th>4</th>\n",
       "      <td>4</td>\n",
       "      <td>garlic</td>\n",
       "      <td>8113</td>\n",
       "    </tr>\n",
       "  </tbody>\n",
       "</table>\n",
       "</div>"
      ],
      "text/plain": [
       "   Id         Ingredient  Count\n",
       "0   0               salt  15070\n",
       "1   1             butter  13263\n",
       "2   2        white sugar  13032\n",
       "3   3  all-purpose flour  10257\n",
       "4   4             garlic   8113"
      ]
     },
     "execution_count": 7,
     "metadata": {},
     "output_type": "execute_result"
    }
   ],
   "source": [
    "top5.head()"
   ]
  },
  {
   "cell_type": "markdown",
   "metadata": {},
   "source": [
    "## 1. Reviews per ingredient\n",
    "The goal is to obtain a table with reviews per ingredients. Similar to:\n",
    "\n",
    "user_id | recipe_id | ingredients | review\n",
    "--------|--------|--------|--------|\n",
    "int64 | int64 | object | int64 |"
   ]
  },
  {
   "cell_type": "markdown",
   "metadata": {},
   "source": [
    "### 1.1 Import and clean dataset"
   ]
  },
  {
   "cell_type": "code",
   "execution_count": null,
   "metadata": {},
   "outputs": [],
   "source": [
    "reviews_ingredient_temp.head()"
   ]
  },
  {
   "cell_type": "code",
   "execution_count": null,
   "metadata": {},
   "outputs": [],
   "source": [
    "reviews_ingredient_temp.shape"
   ]
  },
  {
   "cell_type": "markdown",
   "metadata": {},
   "source": [
    "### 1.2 Create a subset with function"
   ]
  },
  {
   "cell_type": "markdown",
   "metadata": {},
   "source": [
    "### 1.2 Drop the columns"
   ]
  },
  {
   "cell_type": "markdown",
   "metadata": {},
   "source": [
    "## 2. Create feature set\n",
    "based on user ratings for recipes that we are using to ingredients as well\n",
    "\n",
    "Dataset design:\n",
    "\n",
    "| ingredient | user1 | user2 | ... | userN |\n",
    "|---------|-------|-------|-----|-------|\n",
    "| pork belly | NA | 1 | ... | 5 |\n",
    "| smoked paprika | 3 | NA | ... | 2 |\n",
    "\n",
    "### First, however, we need to (i) filter ingredients with almost no ratings and (ii) reduce the list of ingredients. Those may not yield meaningful recommendations.\n",
    "\n",
    "1. Drop ingredients with less than 10 appearances\n",
    "2. Count ratings for each ingredient\n",
    "3. Join ratings on count from previous step\n",
    "4. Fitler"
   ]
  },
  {
   "cell_type": "code",
   "execution_count": null,
   "metadata": {},
   "outputs": [],
   "source": [
    "# Count number of ratings\n",
    "no_of_ratings = (ratings\n",
    "                 .groupby(\"ingredient\", as_index=False)\n",
    "                 .agg({\"user_id\": \"count\"})\n",
    "                 .rename(columns={\"user_id\": \"no_of_ratings\"}))"
   ]
  },
  {
   "cell_type": "code",
   "execution_count": null,
   "metadata": {},
   "outputs": [],
   "source": [
    "# Create a dataframe with unique ingredients\n",
    "ingredients_ml_temp = interactions_ingredient.groupby "
   ]
  },
  {
   "cell_type": "markdown",
   "metadata": {},
   "source": [
    "### 2.2 Create feature set\n"
   ]
  },
  {
   "cell_type": "code",
   "execution_count": null,
   "metadata": {},
   "outputs": [],
   "source": [
    "# Pivot tables\n",
    "ingredient_features = final_movies.pivot_table(index=\"ingredient\",\n",
    "                                          columns=\"user_id\",\n",
    "                                          values=\"rating\").fillna(0)"
   ]
  },
  {
   "cell_type": "code",
   "execution_count": null,
   "metadata": {},
   "outputs": [],
   "source": [
    "ingredient_features.head()"
   ]
  },
  {
   "cell_type": "code",
   "execution_count": null,
   "metadata": {},
   "outputs": [],
   "source": [
    "#with open(\"movie_recommender/movie_features.pkl\", \"wb\") as mf:\n",
    "#    pickle.dump(movie_features, mf, protocol=pickle.HIGHEST_PROTOCOL)"
   ]
  },
  {
   "cell_type": "markdown",
   "metadata": {},
   "source": [
    "## 3. Modelling"
   ]
  },
  {
   "cell_type": "code",
   "execution_count": null,
   "metadata": {},
   "outputs": [],
   "source": [
    "from scipy.sparse import csr_matrix"
   ]
  },
  {
   "cell_type": "code",
   "execution_count": null,
   "metadata": {},
   "outputs": [],
   "source": [
    "mat_ingredient_features = csr_matrix(ingredient_features)"
   ]
  },
  {
   "cell_type": "code",
   "execution_count": null,
   "metadata": {},
   "outputs": [],
   "source": []
  },
  {
   "cell_type": "code",
   "execution_count": 14,
   "metadata": {},
   "outputs": [],
   "source": [
    "recipes = pd.read_csv('data/to_sql/recipes.csv')"
   ]
  },
  {
   "cell_type": "code",
   "execution_count": 20,
   "metadata": {},
   "outputs": [
    {
     "data": {
      "text/plain": [
       "pandas.core.frame.DataFrame"
      ]
     },
     "execution_count": 20,
     "metadata": {},
     "output_type": "execute_result"
    }
   ],
   "source": [
    "type(recipes)"
   ]
  },
  {
   "cell_type": "code",
   "execution_count": 21,
   "metadata": {},
   "outputs": [
    {
     "data": {
      "text/html": [
       "<div>\n",
       "<style scoped>\n",
       "    .dataframe tbody tr th:only-of-type {\n",
       "        vertical-align: middle;\n",
       "    }\n",
       "\n",
       "    .dataframe tbody tr th {\n",
       "        vertical-align: top;\n",
       "    }\n",
       "\n",
       "    .dataframe thead th {\n",
       "        text-align: right;\n",
       "    }\n",
       "</style>\n",
       "<table border=\"1\" class=\"dataframe\">\n",
       "  <thead>\n",
       "    <tr style=\"text-align: right;\">\n",
       "      <th></th>\n",
       "      <th>Unnamed: 0</th>\n",
       "      <th>recipe_id</th>\n",
       "      <th>recipe_name</th>\n",
       "      <th>aver_rate</th>\n",
       "      <th>review_nums</th>\n",
       "      <th>ingredients</th>\n",
       "    </tr>\n",
       "  </thead>\n",
       "  <tbody>\n",
       "    <tr>\n",
       "      <th>0</th>\n",
       "      <td>0</td>\n",
       "      <td>222388</td>\n",
       "      <td>Homemade Bacon</td>\n",
       "      <td>5.000000</td>\n",
       "      <td>3</td>\n",
       "      <td>['pork belly', 'smoked paprika', 'kosher salt'...</td>\n",
       "    </tr>\n",
       "    <tr>\n",
       "      <th>1</th>\n",
       "      <td>1</td>\n",
       "      <td>240488</td>\n",
       "      <td>Pork Loin, Apples, and Sauerkraut</td>\n",
       "      <td>4.764706</td>\n",
       "      <td>29</td>\n",
       "      <td>['sauerkraut drained', 'Granny Smith apples sl...</td>\n",
       "    </tr>\n",
       "    <tr>\n",
       "      <th>2</th>\n",
       "      <td>2</td>\n",
       "      <td>218939</td>\n",
       "      <td>Foolproof Rosemary Chicken Wings</td>\n",
       "      <td>4.571429</td>\n",
       "      <td>12</td>\n",
       "      <td>['chicken wings', 'sprigs rosemary', 'head gar...</td>\n",
       "    </tr>\n",
       "    <tr>\n",
       "      <th>3</th>\n",
       "      <td>3</td>\n",
       "      <td>87211</td>\n",
       "      <td>Chicken Pesto Paninis</td>\n",
       "      <td>4.625000</td>\n",
       "      <td>163</td>\n",
       "      <td>['focaccia bread quartered', 'prepared basil p...</td>\n",
       "    </tr>\n",
       "    <tr>\n",
       "      <th>4</th>\n",
       "      <td>4</td>\n",
       "      <td>245714</td>\n",
       "      <td>Potato Bacon Pizza</td>\n",
       "      <td>4.500000</td>\n",
       "      <td>2</td>\n",
       "      <td>['red potatoes', 'strips bacon', 'Sauce:', 'he...</td>\n",
       "    </tr>\n",
       "    <tr>\n",
       "      <th>...</th>\n",
       "      <td>...</td>\n",
       "      <td>...</td>\n",
       "      <td>...</td>\n",
       "      <td>...</td>\n",
       "      <td>...</td>\n",
       "      <td>...</td>\n",
       "    </tr>\n",
       "    <tr>\n",
       "      <th>49693</th>\n",
       "      <td>49693</td>\n",
       "      <td>222886</td>\n",
       "      <td>Grateful Dead Cocktail</td>\n",
       "      <td>3.500000</td>\n",
       "      <td>4</td>\n",
       "      <td>['fluid ounce tequila', 'fluid ounce vodka', '...</td>\n",
       "    </tr>\n",
       "    <tr>\n",
       "      <th>49694</th>\n",
       "      <td>49694</td>\n",
       "      <td>25650</td>\n",
       "      <td>Cheese Filling For Pastries</td>\n",
       "      <td>4.333333</td>\n",
       "      <td>3</td>\n",
       "      <td>['raisins', 'brandy', 'cream cheese', 'white s...</td>\n",
       "    </tr>\n",
       "    <tr>\n",
       "      <th>49695</th>\n",
       "      <td>49695</td>\n",
       "      <td>23544</td>\n",
       "      <td>Peach Smoothie</td>\n",
       "      <td>3.615385</td>\n",
       "      <td>21</td>\n",
       "      <td>['sliced peaches drained', 'scoops vanilla ice...</td>\n",
       "    </tr>\n",
       "    <tr>\n",
       "      <th>49696</th>\n",
       "      <td>49696</td>\n",
       "      <td>170710</td>\n",
       "      <td>Double Dare Peaches</td>\n",
       "      <td>4.714286</td>\n",
       "      <td>19</td>\n",
       "      <td>['butter', 'habanero peppers', 'fresh peaches'...</td>\n",
       "    </tr>\n",
       "    <tr>\n",
       "      <th>49697</th>\n",
       "      <td>49697</td>\n",
       "      <td>79774</td>\n",
       "      <td>All-Purpose Marinara Sauce</td>\n",
       "      <td>4.500000</td>\n",
       "      <td>2</td>\n",
       "      <td>['olive oil', 'bulb garlic', 'tomatoes chopped...</td>\n",
       "    </tr>\n",
       "  </tbody>\n",
       "</table>\n",
       "<p>49698 rows × 6 columns</p>\n",
       "</div>"
      ],
      "text/plain": [
       "       Unnamed: 0  recipe_id                        recipe_name  aver_rate  \\\n",
       "0               0     222388                     Homemade Bacon   5.000000   \n",
       "1               1     240488  Pork Loin, Apples, and Sauerkraut   4.764706   \n",
       "2               2     218939   Foolproof Rosemary Chicken Wings   4.571429   \n",
       "3               3      87211              Chicken Pesto Paninis   4.625000   \n",
       "4               4     245714                 Potato Bacon Pizza   4.500000   \n",
       "...           ...        ...                                ...        ...   \n",
       "49693       49693     222886             Grateful Dead Cocktail   3.500000   \n",
       "49694       49694      25650        Cheese Filling For Pastries   4.333333   \n",
       "49695       49695      23544                     Peach Smoothie   3.615385   \n",
       "49696       49696     170710                Double Dare Peaches   4.714286   \n",
       "49697       49697      79774         All-Purpose Marinara Sauce   4.500000   \n",
       "\n",
       "       review_nums                                        ingredients  \n",
       "0                3  ['pork belly', 'smoked paprika', 'kosher salt'...  \n",
       "1               29  ['sauerkraut drained', 'Granny Smith apples sl...  \n",
       "2               12  ['chicken wings', 'sprigs rosemary', 'head gar...  \n",
       "3              163  ['focaccia bread quartered', 'prepared basil p...  \n",
       "4                2  ['red potatoes', 'strips bacon', 'Sauce:', 'he...  \n",
       "...            ...                                                ...  \n",
       "49693            4  ['fluid ounce tequila', 'fluid ounce vodka', '...  \n",
       "49694            3  ['raisins', 'brandy', 'cream cheese', 'white s...  \n",
       "49695           21  ['sliced peaches drained', 'scoops vanilla ice...  \n",
       "49696           19  ['butter', 'habanero peppers', 'fresh peaches'...  \n",
       "49697            2  ['olive oil', 'bulb garlic', 'tomatoes chopped...  \n",
       "\n",
       "[49698 rows x 6 columns]"
      ]
     },
     "execution_count": 21,
     "metadata": {},
     "output_type": "execute_result"
    }
   ],
   "source": [
    "recipes.explode('ingredients')"
   ]
  },
  {
   "cell_type": "code",
   "execution_count": 17,
   "metadata": {},
   "outputs": [
    {
     "data": {
      "text/html": [
       "<div>\n",
       "<style scoped>\n",
       "    .dataframe tbody tr th:only-of-type {\n",
       "        vertical-align: middle;\n",
       "    }\n",
       "\n",
       "    .dataframe tbody tr th {\n",
       "        vertical-align: top;\n",
       "    }\n",
       "\n",
       "    .dataframe thead th {\n",
       "        text-align: right;\n",
       "    }\n",
       "</style>\n",
       "<table border=\"1\" class=\"dataframe\">\n",
       "  <thead>\n",
       "    <tr style=\"text-align: right;\">\n",
       "      <th></th>\n",
       "      <th>Unnamed: 0</th>\n",
       "      <th>recipe_id</th>\n",
       "      <th>recipe_name</th>\n",
       "      <th>aver_rate</th>\n",
       "      <th>review_nums</th>\n",
       "      <th>ingredients</th>\n",
       "    </tr>\n",
       "  </thead>\n",
       "  <tbody>\n",
       "    <tr>\n",
       "      <th>0</th>\n",
       "      <td>0</td>\n",
       "      <td>222388</td>\n",
       "      <td>Homemade Bacon</td>\n",
       "      <td>5.000000</td>\n",
       "      <td>3</td>\n",
       "      <td>['pork belly', 'smoked paprika', 'kosher salt'...</td>\n",
       "    </tr>\n",
       "    <tr>\n",
       "      <th>1</th>\n",
       "      <td>1</td>\n",
       "      <td>240488</td>\n",
       "      <td>Pork Loin, Apples, and Sauerkraut</td>\n",
       "      <td>4.764706</td>\n",
       "      <td>29</td>\n",
       "      <td>['sauerkraut drained', 'Granny Smith apples sl...</td>\n",
       "    </tr>\n",
       "    <tr>\n",
       "      <th>2</th>\n",
       "      <td>2</td>\n",
       "      <td>218939</td>\n",
       "      <td>Foolproof Rosemary Chicken Wings</td>\n",
       "      <td>4.571429</td>\n",
       "      <td>12</td>\n",
       "      <td>['chicken wings', 'sprigs rosemary', 'head gar...</td>\n",
       "    </tr>\n",
       "    <tr>\n",
       "      <th>3</th>\n",
       "      <td>3</td>\n",
       "      <td>87211</td>\n",
       "      <td>Chicken Pesto Paninis</td>\n",
       "      <td>4.625000</td>\n",
       "      <td>163</td>\n",
       "      <td>['focaccia bread quartered', 'prepared basil p...</td>\n",
       "    </tr>\n",
       "    <tr>\n",
       "      <th>4</th>\n",
       "      <td>4</td>\n",
       "      <td>245714</td>\n",
       "      <td>Potato Bacon Pizza</td>\n",
       "      <td>4.500000</td>\n",
       "      <td>2</td>\n",
       "      <td>['red potatoes', 'strips bacon', 'Sauce:', 'he...</td>\n",
       "    </tr>\n",
       "  </tbody>\n",
       "</table>\n",
       "</div>"
      ],
      "text/plain": [
       "   Unnamed: 0  recipe_id                        recipe_name  aver_rate  \\\n",
       "0           0     222388                     Homemade Bacon   5.000000   \n",
       "1           1     240488  Pork Loin, Apples, and Sauerkraut   4.764706   \n",
       "2           2     218939   Foolproof Rosemary Chicken Wings   4.571429   \n",
       "3           3      87211              Chicken Pesto Paninis   4.625000   \n",
       "4           4     245714                 Potato Bacon Pizza   4.500000   \n",
       "\n",
       "   review_nums                                        ingredients  \n",
       "0            3  ['pork belly', 'smoked paprika', 'kosher salt'...  \n",
       "1           29  ['sauerkraut drained', 'Granny Smith apples sl...  \n",
       "2           12  ['chicken wings', 'sprigs rosemary', 'head gar...  \n",
       "3          163  ['focaccia bread quartered', 'prepared basil p...  \n",
       "4            2  ['red potatoes', 'strips bacon', 'Sauce:', 'he...  "
      ]
     },
     "execution_count": 17,
     "metadata": {},
     "output_type": "execute_result"
    }
   ],
   "source": [
    "recipes1.head()"
   ]
  },
  {
   "cell_type": "markdown",
   "metadata": {},
   "source": [
    "### #. Possible analysis\n",
    "- Which are the 25 recipes with more reviews\n",
    "- Is there a correlation between number of reviews and score. Hyphotesis, the higher the number of reviews the higher the score?\n",
    "- Is there any correlation between the number of ingredients of a recipe and the rating/number of reciews?"
   ]
  }
 ],
 "metadata": {
  "kernelspec": {
   "display_name": "Python 3",
   "language": "python",
   "name": "python3"
  }
 },
 "nbformat": 4,
 "nbformat_minor": 4
}
