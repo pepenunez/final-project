{
 "cells": [
  {
   "cell_type": "markdown",
   "metadata": {},
   "source": [
    "# Modeling ingredients recommender"
   ]
  },
  {
   "cell_type": "markdown",
   "metadata": {},
   "source": [
    "The goal of this notebook is to prepare the datasets that we will use to train the Machine Learning Model"
   ]
  },
  {
   "cell_type": "code",
   "execution_count": 228,
   "metadata": {},
   "outputs": [],
   "source": [
    "import pandas as pd\n",
    "import numpy as np\n",
    "import matplotlib.pyplot as plt\n",
    "import seaborn as sns\n",
    "import pickle\n",
    "\n",
    "%matplotlib inline\n",
    "\n",
    "pd.set_option('display.float_format', lambda x: '%.3f' % x)"
   ]
  },
  {
   "cell_type": "markdown",
   "metadata": {},
   "source": [
    "### 1.1 Import and subset"
   ]
  },
  {
   "cell_type": "code",
   "execution_count": 2,
   "metadata": {},
   "outputs": [],
   "source": [
    "reviews_ingredient = pd.read_pickle('data/to_sql/interactions_recipes_raw.pkl')"
   ]
  },
  {
   "cell_type": "code",
   "execution_count": 3,
   "metadata": {},
   "outputs": [
    {
     "data": {
      "text/plain": [
       "(3794003, 4)"
      ]
     },
     "execution_count": 3,
     "metadata": {},
     "output_type": "execute_result"
    }
   ],
   "source": [
    "reviews_ingredient.shape"
   ]
  },
  {
   "cell_type": "code",
   "execution_count": 4,
   "metadata": {},
   "outputs": [],
   "source": [
    "subset = reviews_ingredient[:50000].drop('Unnamed: 0', errors='ignore')"
   ]
  },
  {
   "cell_type": "code",
   "execution_count": 5,
   "metadata": {},
   "outputs": [
    {
     "data": {
      "text/html": [
       "<div>\n",
       "<style scoped>\n",
       "    .dataframe tbody tr th:only-of-type {\n",
       "        vertical-align: middle;\n",
       "    }\n",
       "\n",
       "    .dataframe tbody tr th {\n",
       "        vertical-align: top;\n",
       "    }\n",
       "\n",
       "    .dataframe thead th {\n",
       "        text-align: right;\n",
       "    }\n",
       "</style>\n",
       "<table border=\"1\" class=\"dataframe\">\n",
       "  <thead>\n",
       "    <tr style=\"text-align: right;\">\n",
       "      <th></th>\n",
       "      <th>user_id</th>\n",
       "      <th>recipe_id</th>\n",
       "      <th>rating</th>\n",
       "      <th>ingredients</th>\n",
       "    </tr>\n",
       "  </thead>\n",
       "  <tbody>\n",
       "    <tr>\n",
       "      <th>0</th>\n",
       "      <td>8542392</td>\n",
       "      <td>222388</td>\n",
       "      <td>5</td>\n",
       "      <td>[pork belly, smoked paprika, kosher salt, grou...</td>\n",
       "    </tr>\n",
       "    <tr>\n",
       "      <th>1</th>\n",
       "      <td>11174581</td>\n",
       "      <td>222388</td>\n",
       "      <td>5</td>\n",
       "      <td>[pork belly, smoked paprika, kosher salt, grou...</td>\n",
       "    </tr>\n",
       "    <tr>\n",
       "      <th>2</th>\n",
       "      <td>8262477</td>\n",
       "      <td>222388</td>\n",
       "      <td>5</td>\n",
       "      <td>[pork belly, smoked paprika, kosher salt, grou...</td>\n",
       "    </tr>\n",
       "    <tr>\n",
       "      <th>3</th>\n",
       "      <td>3574785</td>\n",
       "      <td>240488</td>\n",
       "      <td>5</td>\n",
       "      <td>[sauerkraut drained, Granny Smith apples slice...</td>\n",
       "    </tr>\n",
       "    <tr>\n",
       "      <th>4</th>\n",
       "      <td>12145410</td>\n",
       "      <td>240488</td>\n",
       "      <td>2</td>\n",
       "      <td>[sauerkraut drained, Granny Smith apples slice...</td>\n",
       "    </tr>\n",
       "  </tbody>\n",
       "</table>\n",
       "</div>"
      ],
      "text/plain": [
       "    user_id  recipe_id  rating  \\\n",
       "0   8542392     222388       5   \n",
       "1  11174581     222388       5   \n",
       "2   8262477     222388       5   \n",
       "3   3574785     240488       5   \n",
       "4  12145410     240488       2   \n",
       "\n",
       "                                         ingredients  \n",
       "0  [pork belly, smoked paprika, kosher salt, grou...  \n",
       "1  [pork belly, smoked paprika, kosher salt, grou...  \n",
       "2  [pork belly, smoked paprika, kosher salt, grou...  \n",
       "3  [sauerkraut drained, Granny Smith apples slice...  \n",
       "4  [sauerkraut drained, Granny Smith apples slice...  "
      ]
     },
     "execution_count": 5,
     "metadata": {},
     "output_type": "execute_result"
    }
   ],
   "source": [
    "subset.head()"
   ]
  },
  {
   "cell_type": "markdown",
   "metadata": {},
   "source": [
    "### 1.2. Reviews per ingredient\n",
    "\n",
    "The goal is to obtain a table with reviews per ingredients. Similar to:\n",
    "\n",
    "user_id | recipe_id | rating | ingredients\n",
    "--------|--------|--------|--------|\n",
    "int64 | int64 | int64 | object |"
   ]
  },
  {
   "cell_type": "code",
   "execution_count": 6,
   "metadata": {},
   "outputs": [],
   "source": [
    "# Convert ingredients column to list type\n",
    "subset = subset.explode('ingredients')"
   ]
  },
  {
   "cell_type": "code",
   "execution_count": 7,
   "metadata": {},
   "outputs": [
    {
     "data": {
      "text/html": [
       "<div>\n",
       "<style scoped>\n",
       "    .dataframe tbody tr th:only-of-type {\n",
       "        vertical-align: middle;\n",
       "    }\n",
       "\n",
       "    .dataframe tbody tr th {\n",
       "        vertical-align: top;\n",
       "    }\n",
       "\n",
       "    .dataframe thead th {\n",
       "        text-align: right;\n",
       "    }\n",
       "</style>\n",
       "<table border=\"1\" class=\"dataframe\">\n",
       "  <thead>\n",
       "    <tr style=\"text-align: right;\">\n",
       "      <th></th>\n",
       "      <th>user_id</th>\n",
       "      <th>recipe_id</th>\n",
       "      <th>rating</th>\n",
       "      <th>ingredients</th>\n",
       "    </tr>\n",
       "  </thead>\n",
       "  <tbody>\n",
       "    <tr>\n",
       "      <th>0</th>\n",
       "      <td>8542392</td>\n",
       "      <td>222388</td>\n",
       "      <td>5</td>\n",
       "      <td>pork belly</td>\n",
       "    </tr>\n",
       "    <tr>\n",
       "      <th>0</th>\n",
       "      <td>8542392</td>\n",
       "      <td>222388</td>\n",
       "      <td>5</td>\n",
       "      <td>smoked paprika</td>\n",
       "    </tr>\n",
       "    <tr>\n",
       "      <th>0</th>\n",
       "      <td>8542392</td>\n",
       "      <td>222388</td>\n",
       "      <td>5</td>\n",
       "      <td>kosher salt</td>\n",
       "    </tr>\n",
       "    <tr>\n",
       "      <th>0</th>\n",
       "      <td>8542392</td>\n",
       "      <td>222388</td>\n",
       "      <td>5</td>\n",
       "      <td>ground black pepper</td>\n",
       "    </tr>\n",
       "    <tr>\n",
       "      <th>1</th>\n",
       "      <td>11174581</td>\n",
       "      <td>222388</td>\n",
       "      <td>5</td>\n",
       "      <td>pork belly</td>\n",
       "    </tr>\n",
       "    <tr>\n",
       "      <th>1</th>\n",
       "      <td>11174581</td>\n",
       "      <td>222388</td>\n",
       "      <td>5</td>\n",
       "      <td>smoked paprika</td>\n",
       "    </tr>\n",
       "    <tr>\n",
       "      <th>1</th>\n",
       "      <td>11174581</td>\n",
       "      <td>222388</td>\n",
       "      <td>5</td>\n",
       "      <td>kosher salt</td>\n",
       "    </tr>\n",
       "    <tr>\n",
       "      <th>1</th>\n",
       "      <td>11174581</td>\n",
       "      <td>222388</td>\n",
       "      <td>5</td>\n",
       "      <td>ground black pepper</td>\n",
       "    </tr>\n",
       "    <tr>\n",
       "      <th>2</th>\n",
       "      <td>8262477</td>\n",
       "      <td>222388</td>\n",
       "      <td>5</td>\n",
       "      <td>pork belly</td>\n",
       "    </tr>\n",
       "    <tr>\n",
       "      <th>2</th>\n",
       "      <td>8262477</td>\n",
       "      <td>222388</td>\n",
       "      <td>5</td>\n",
       "      <td>smoked paprika</td>\n",
       "    </tr>\n",
       "  </tbody>\n",
       "</table>\n",
       "</div>"
      ],
      "text/plain": [
       "    user_id  recipe_id  rating          ingredients\n",
       "0   8542392     222388       5           pork belly\n",
       "0   8542392     222388       5       smoked paprika\n",
       "0   8542392     222388       5          kosher salt\n",
       "0   8542392     222388       5  ground black pepper\n",
       "1  11174581     222388       5           pork belly\n",
       "1  11174581     222388       5       smoked paprika\n",
       "1  11174581     222388       5          kosher salt\n",
       "1  11174581     222388       5  ground black pepper\n",
       "2   8262477     222388       5           pork belly\n",
       "2   8262477     222388       5       smoked paprika"
      ]
     },
     "execution_count": 7,
     "metadata": {},
     "output_type": "execute_result"
    }
   ],
   "source": [
    "subset.head(10)"
   ]
  },
  {
   "cell_type": "code",
   "execution_count": 8,
   "metadata": {},
   "outputs": [],
   "source": [
    "# Drop 'recipe_id' rating\n",
    "subset.drop('recipe_id', axis=1, inplace=True, errors='ignore')"
   ]
  },
  {
   "cell_type": "markdown",
   "metadata": {},
   "source": [
    "## 2. Create feature set\n",
    "based on user ratings for recipes that we are using to ingredients as well\n",
    "\n",
    "Dataset design:\n",
    "\n",
    "| ingredient | user1 | user2 | ... | userN |\n",
    "|---------|-------|-------|-----|-------|\n",
    "| pork belly | NA | 1 | ... | 5 |\n",
    "| smoked paprika | 3 | NA | ... | 2 |\n",
    "\n",
    "### 2.1 Filter ingredients with almost no ratings.\n",
    "\n",
    "2. Count ratings for each ingredient\n",
    "3. Join ratings on count from previous step\n",
    "4. Fitler"
   ]
  },
  {
   "cell_type": "code",
   "execution_count": 9,
   "metadata": {},
   "outputs": [],
   "source": [
    "# Count number of ratings\n",
    "no_of_ratings_ingredient = (subset\n",
    "                            .groupby(\"ingredients\", as_index=True)\n",
    "                            .agg({\"user_id\": \"count\"})\n",
    "                            .rename(columns={\"user_id\": \"no_of_ratings_ingredient\"}))"
   ]
  },
  {
   "cell_type": "code",
   "execution_count": 10,
   "metadata": {},
   "outputs": [
    {
     "data": {
      "text/html": [
       "<div>\n",
       "<style scoped>\n",
       "    .dataframe tbody tr th:only-of-type {\n",
       "        vertical-align: middle;\n",
       "    }\n",
       "\n",
       "    .dataframe tbody tr th {\n",
       "        vertical-align: top;\n",
       "    }\n",
       "\n",
       "    .dataframe thead th {\n",
       "        text-align: right;\n",
       "    }\n",
       "</style>\n",
       "<table border=\"1\" class=\"dataframe\">\n",
       "  <thead>\n",
       "    <tr style=\"text-align: right;\">\n",
       "      <th></th>\n",
       "      <th>no_of_ratings_ingredient</th>\n",
       "    </tr>\n",
       "    <tr>\n",
       "      <th>ingredients</th>\n",
       "      <th></th>\n",
       "    </tr>\n",
       "  </thead>\n",
       "  <tbody>\n",
       "    <tr>\n",
       "      <th>2-inch thick porterhouse steak at room temperature</th>\n",
       "      <td>2</td>\n",
       "    </tr>\n",
       "    <tr>\n",
       "      <th>99% fat-free chicken broth</th>\n",
       "      <td>1</td>\n",
       "    </tr>\n",
       "    <tr>\n",
       "      <th>Alfredo sauce</th>\n",
       "      <td>453</td>\n",
       "    </tr>\n",
       "    <tr>\n",
       "      <th>American cheese</th>\n",
       "      <td>160</td>\n",
       "    </tr>\n",
       "    <tr>\n",
       "      <th>Asian (toasted) sesame oil</th>\n",
       "      <td>32</td>\n",
       "    </tr>\n",
       "    <tr>\n",
       "      <th>...</th>\n",
       "      <td>...</td>\n",
       "    </tr>\n",
       "    <tr>\n",
       "      <th>zucchini cut into spirals using a spiral slicer</th>\n",
       "      <td>2</td>\n",
       "    </tr>\n",
       "    <tr>\n",
       "      <th>zucchini diced</th>\n",
       "      <td>1</td>\n",
       "    </tr>\n",
       "    <tr>\n",
       "      <th>zucchini thickly sliced</th>\n",
       "      <td>98</td>\n",
       "    </tr>\n",
       "    <tr>\n",
       "      <th>zucchinis cubed</th>\n",
       "      <td>44</td>\n",
       "    </tr>\n",
       "    <tr>\n",
       "      <th>zucchinis sliced</th>\n",
       "      <td>87</td>\n",
       "    </tr>\n",
       "  </tbody>\n",
       "</table>\n",
       "<p>1674 rows × 1 columns</p>\n",
       "</div>"
      ],
      "text/plain": [
       "                                                    no_of_ratings_ingredient\n",
       "ingredients                                                                 \n",
       "2-inch thick porterhouse steak at room temperature                         2\n",
       "99% fat-free chicken broth                                                 1\n",
       "Alfredo sauce                                                            453\n",
       "American cheese                                                          160\n",
       "Asian (toasted) sesame oil                                                32\n",
       "...                                                                      ...\n",
       "zucchini cut into spirals using a spiral slicer                            2\n",
       "zucchini diced                                                             1\n",
       "zucchini thickly sliced                                                   98\n",
       "zucchinis cubed                                                           44\n",
       "zucchinis sliced                                                          87\n",
       "\n",
       "[1674 rows x 1 columns]"
      ]
     },
     "execution_count": 10,
     "metadata": {},
     "output_type": "execute_result"
    }
   ],
   "source": [
    "no_of_ratings_ingredient"
   ]
  },
  {
   "cell_type": "code",
   "execution_count": 11,
   "metadata": {},
   "outputs": [
    {
     "data": {
      "image/png": "[encoded data removed]",
      "text/plain": [
       "<Figure size 720x432 with 1 Axes>"
      ]
     },
     "metadata": {
      "needs_background": "light"
     },
     "output_type": "display_data"
    }
   ],
   "source": [
    "plt.figure(figsize=(10,6))\n",
    "\n",
    "sns.distplot(no_of_ratings_ingredient);"
   ]
  },
  {
   "cell_type": "code",
   "execution_count": 12,
   "metadata": {},
   "outputs": [
    {
     "data": {
      "text/html": [
       "<div>\n",
       "<style scoped>\n",
       "    .dataframe tbody tr th:only-of-type {\n",
       "        vertical-align: middle;\n",
       "    }\n",
       "\n",
       "    .dataframe tbody tr th {\n",
       "        vertical-align: top;\n",
       "    }\n",
       "\n",
       "    .dataframe thead th {\n",
       "        text-align: right;\n",
       "    }\n",
       "</style>\n",
       "<table border=\"1\" class=\"dataframe\">\n",
       "  <thead>\n",
       "    <tr style=\"text-align: right;\">\n",
       "      <th></th>\n",
       "      <th>no_of_ratings_ingredient</th>\n",
       "    </tr>\n",
       "  </thead>\n",
       "  <tbody>\n",
       "    <tr>\n",
       "      <th>count</th>\n",
       "      <td>1674.00000</td>\n",
       "    </tr>\n",
       "    <tr>\n",
       "      <th>mean</th>\n",
       "      <td>343.64994</td>\n",
       "    </tr>\n",
       "    <tr>\n",
       "      <th>std</th>\n",
       "      <td>1253.72954</td>\n",
       "    </tr>\n",
       "    <tr>\n",
       "      <th>min</th>\n",
       "      <td>1.00000</td>\n",
       "    </tr>\n",
       "    <tr>\n",
       "      <th>25%</th>\n",
       "      <td>7.00000</td>\n",
       "    </tr>\n",
       "    <tr>\n",
       "      <th>50%</th>\n",
       "      <td>26.00000</td>\n",
       "    </tr>\n",
       "    <tr>\n",
       "      <th>75%</th>\n",
       "      <td>108.00000</td>\n",
       "    </tr>\n",
       "    <tr>\n",
       "      <th>max</th>\n",
       "      <td>20716.00000</td>\n",
       "    </tr>\n",
       "  </tbody>\n",
       "</table>\n",
       "</div>"
      ],
      "text/plain": [
       "       no_of_ratings_ingredient\n",
       "count                1674.00000\n",
       "mean                  343.64994\n",
       "std                  1253.72954\n",
       "min                     1.00000\n",
       "25%                     7.00000\n",
       "50%                    26.00000\n",
       "75%                   108.00000\n",
       "max                 20716.00000"
      ]
     },
     "execution_count": 12,
     "metadata": {},
     "output_type": "execute_result"
    }
   ],
   "source": [
    "no_of_ratings_ingredient.describe()"
   ]
  },
  {
   "cell_type": "markdown",
   "metadata": {},
   "source": [
    "We can see that there are many ingredients that have very few reviews while there is an ingredient that has 20.716 reviews. In the following graph we'll try to decide thich is the minimum reviews that an ingredient should have to continue with the model. We will try to build the model with a **min_threshold of 100**."
   ]
  },
  {
   "cell_type": "code",
   "execution_count": 16,
   "metadata": {},
   "outputs": [],
   "source": [
    "min_threshold_ingredient = 100\n",
    "\n",
    "no_of_ratings_ingredient_subset = no_of_ratings_ingredient[no_of_ratings_ingredient['no_of_ratings_ingredient'] > min_threshold_ingredient]"
   ]
  },
  {
   "cell_type": "code",
   "execution_count": 17,
   "metadata": {},
   "outputs": [
    {
     "data": {
      "image/png": "[encoded data removed]",
      "text/plain": [
       "<Figure size 720x432 with 1 Axes>"
      ]
     },
     "metadata": {
      "needs_background": "light"
     },
     "output_type": "display_data"
    }
   ],
   "source": [
    "plt.figure(figsize=(10,6))\n",
    "\n",
    "sns.distplot(no_of_ratings_ingredient_subset);"
   ]
  },
  {
   "cell_type": "markdown",
   "metadata": {},
   "source": [
    "### 2.2 Filter ingredients with almost no ratings.\n",
    "\n",
    "1. Count ratings per each user_id\n",
    "2. Fitler"
   ]
  },
  {
   "cell_type": "markdown",
   "metadata": {},
   "source": [
    "#### 2..2.1 Counting ratings per each user_id\n",
    "We are going to identify which are the users that does not have enough ratings to be meaningful for our model"
   ]
  },
  {
   "cell_type": "code",
   "execution_count": 18,
   "metadata": {},
   "outputs": [],
   "source": [
    "no_of_ratings_user = (subset\n",
    "                      .groupby(\"user_id\", as_index=True)\n",
    "                      .agg({\"rating\": \"count\"})\n",
    "                      .rename(columns={\"rating\": \"no_of_ratings_user\"}))"
   ]
  },
  {
   "cell_type": "code",
   "execution_count": 20,
   "metadata": {},
   "outputs": [
    {
     "data": {
      "text/html": [
       "<div>\n",
       "<style scoped>\n",
       "    .dataframe tbody tr th:only-of-type {\n",
       "        vertical-align: middle;\n",
       "    }\n",
       "\n",
       "    .dataframe tbody tr th {\n",
       "        vertical-align: top;\n",
       "    }\n",
       "\n",
       "    .dataframe thead th {\n",
       "        text-align: right;\n",
       "    }\n",
       "</style>\n",
       "<table border=\"1\" class=\"dataframe\">\n",
       "  <thead>\n",
       "    <tr style=\"text-align: right;\">\n",
       "      <th></th>\n",
       "      <th>no_of_ratings_user</th>\n",
       "    </tr>\n",
       "    <tr>\n",
       "      <th>user_id</th>\n",
       "      <th></th>\n",
       "    </tr>\n",
       "  </thead>\n",
       "  <tbody>\n",
       "    <tr>\n",
       "      <th>39</th>\n",
       "      <td>43</td>\n",
       "    </tr>\n",
       "    <tr>\n",
       "      <th>148</th>\n",
       "      <td>9</td>\n",
       "    </tr>\n",
       "    <tr>\n",
       "      <th>240</th>\n",
       "      <td>38</td>\n",
       "    </tr>\n",
       "    <tr>\n",
       "      <th>338</th>\n",
       "      <td>36</td>\n",
       "    </tr>\n",
       "    <tr>\n",
       "      <th>424</th>\n",
       "      <td>10</td>\n",
       "    </tr>\n",
       "  </tbody>\n",
       "</table>\n",
       "</div>"
      ],
      "text/plain": [
       "         no_of_ratings_user\n",
       "user_id                    \n",
       "39                       43\n",
       "148                       9\n",
       "240                      38\n",
       "338                      36\n",
       "424                      10"
      ]
     },
     "execution_count": 20,
     "metadata": {},
     "output_type": "execute_result"
    }
   ],
   "source": [
    "no_of_ratings_user.head()"
   ]
  },
  {
   "cell_type": "code",
   "execution_count": 21,
   "metadata": {},
   "outputs": [
    {
     "data": {
      "image/png": "[encoded data removed]",
      "text/plain": [
       "<Figure size 720x432 with 1 Axes>"
      ]
     },
     "metadata": {
      "needs_background": "light"
     },
     "output_type": "display_data"
    }
   ],
   "source": [
    "plt.figure(figsize=(10,6))\n",
    "\n",
    "sns.distplot(no_of_ratings_user);"
   ]
  },
  {
   "cell_type": "code",
   "execution_count": 22,
   "metadata": {},
   "outputs": [
    {
     "data": {
      "text/html": [
       "<div>\n",
       "<style scoped>\n",
       "    .dataframe tbody tr th:only-of-type {\n",
       "        vertical-align: middle;\n",
       "    }\n",
       "\n",
       "    .dataframe tbody tr th {\n",
       "        vertical-align: top;\n",
       "    }\n",
       "\n",
       "    .dataframe thead th {\n",
       "        text-align: right;\n",
       "    }\n",
       "</style>\n",
       "<table border=\"1\" class=\"dataframe\">\n",
       "  <thead>\n",
       "    <tr style=\"text-align: right;\">\n",
       "      <th></th>\n",
       "      <th>no_of_ratings_user</th>\n",
       "    </tr>\n",
       "  </thead>\n",
       "  <tbody>\n",
       "    <tr>\n",
       "      <th>count</th>\n",
       "      <td>42509.000000</td>\n",
       "    </tr>\n",
       "    <tr>\n",
       "      <th>mean</th>\n",
       "      <td>13.532899</td>\n",
       "    </tr>\n",
       "    <tr>\n",
       "      <th>std</th>\n",
       "      <td>10.507781</td>\n",
       "    </tr>\n",
       "    <tr>\n",
       "      <th>min</th>\n",
       "      <td>2.000000</td>\n",
       "    </tr>\n",
       "    <tr>\n",
       "      <th>25%</th>\n",
       "      <td>8.000000</td>\n",
       "    </tr>\n",
       "    <tr>\n",
       "      <th>50%</th>\n",
       "      <td>11.000000</td>\n",
       "    </tr>\n",
       "    <tr>\n",
       "      <th>75%</th>\n",
       "      <td>15.000000</td>\n",
       "    </tr>\n",
       "    <tr>\n",
       "      <th>max</th>\n",
       "      <td>295.000000</td>\n",
       "    </tr>\n",
       "  </tbody>\n",
       "</table>\n",
       "</div>"
      ],
      "text/plain": [
       "       no_of_ratings_user\n",
       "count        42509.000000\n",
       "mean            13.532899\n",
       "std             10.507781\n",
       "min              2.000000\n",
       "25%              8.000000\n",
       "50%             11.000000\n",
       "75%             15.000000\n",
       "max            295.000000"
      ]
     },
     "execution_count": 22,
     "metadata": {},
     "output_type": "execute_result"
    }
   ],
   "source": [
    "no_of_ratings_user.describe()"
   ]
  },
  {
   "cell_type": "markdown",
   "metadata": {},
   "source": [
    "We can see that there are some users that have very few ratings while there are others with 295. In the following graph we'll try to decide thich is the minimum ratings that a user should have done in order to continue with the model. We will try to build the model with a **min_threshold of 10**.\n",
    "\n",
    "### 2.2.2 Filter"
   ]
  },
  {
   "cell_type": "code",
   "execution_count": 25,
   "metadata": {},
   "outputs": [],
   "source": [
    "min_threshold_user = 10\n",
    "\n",
    "no_of_ratings_user_subset = no_of_ratings_user[no_of_ratings_user['no_of_ratings_user'] > min_threshold_user]"
   ]
  },
  {
   "cell_type": "code",
   "execution_count": 26,
   "metadata": {},
   "outputs": [
    {
     "data": {
      "image/png": "[encoded data removed]",
      "text/plain": [
       "<Figure size 720x432 with 1 Axes>"
      ]
     },
     "metadata": {
      "needs_background": "light"
     },
     "output_type": "display_data"
    }
   ],
   "source": [
    "plt.figure(figsize=(10,6))\n",
    "\n",
    "sns.distplot(no_of_ratings_user_subset);"
   ]
  },
  {
   "cell_type": "code",
   "execution_count": 27,
   "metadata": {},
   "outputs": [
    {
     "data": {
      "text/plain": [
       "(21854, 1)"
      ]
     },
     "execution_count": 27,
     "metadata": {},
     "output_type": "execute_result"
    }
   ],
   "source": [
    "no_of_ratings_user_subset.shape"
   ]
  },
  {
   "cell_type": "markdown",
   "metadata": {},
   "source": [
    "### 3.2 Prepare the subset for the model\n",
    "Now that we know with the ingredients and the users that we will keep for the model, we can prepare the dataset for the model. "
   ]
  },
  {
   "cell_type": "code",
   "execution_count": 28,
   "metadata": {},
   "outputs": [],
   "source": [
    "# Group subset by ingredient and avegage in case that a user rated an ingredient more than once\n",
    "# subset = subset.groupby('ingredients').agg({'mean'})\n",
    "# subset.reset_index(inplace=True)"
   ]
  },
  {
   "cell_type": "code",
   "execution_count": 29,
   "metadata": {},
   "outputs": [
    {
     "data": {
      "text/html": [
       "<div>\n",
       "<style scoped>\n",
       "    .dataframe tbody tr th:only-of-type {\n",
       "        vertical-align: middle;\n",
       "    }\n",
       "\n",
       "    .dataframe tbody tr th {\n",
       "        vertical-align: top;\n",
       "    }\n",
       "\n",
       "    .dataframe thead th {\n",
       "        text-align: right;\n",
       "    }\n",
       "</style>\n",
       "<table border=\"1\" class=\"dataframe\">\n",
       "  <thead>\n",
       "    <tr style=\"text-align: right;\">\n",
       "      <th></th>\n",
       "      <th>user_id</th>\n",
       "      <th>rating</th>\n",
       "      <th>ingredients</th>\n",
       "    </tr>\n",
       "  </thead>\n",
       "  <tbody>\n",
       "    <tr>\n",
       "      <th>0</th>\n",
       "      <td>8542392</td>\n",
       "      <td>5</td>\n",
       "      <td>pork belly</td>\n",
       "    </tr>\n",
       "    <tr>\n",
       "      <th>0</th>\n",
       "      <td>8542392</td>\n",
       "      <td>5</td>\n",
       "      <td>smoked paprika</td>\n",
       "    </tr>\n",
       "    <tr>\n",
       "      <th>0</th>\n",
       "      <td>8542392</td>\n",
       "      <td>5</td>\n",
       "      <td>kosher salt</td>\n",
       "    </tr>\n",
       "    <tr>\n",
       "      <th>0</th>\n",
       "      <td>8542392</td>\n",
       "      <td>5</td>\n",
       "      <td>ground black pepper</td>\n",
       "    </tr>\n",
       "    <tr>\n",
       "      <th>1</th>\n",
       "      <td>11174581</td>\n",
       "      <td>5</td>\n",
       "      <td>pork belly</td>\n",
       "    </tr>\n",
       "  </tbody>\n",
       "</table>\n",
       "</div>"
      ],
      "text/plain": [
       "    user_id  rating          ingredients\n",
       "0   8542392       5           pork belly\n",
       "0   8542392       5       smoked paprika\n",
       "0   8542392       5          kosher salt\n",
       "0   8542392       5  ground black pepper\n",
       "1  11174581       5           pork belly"
      ]
     },
     "execution_count": 29,
     "metadata": {},
     "output_type": "execute_result"
    }
   ],
   "source": [
    "subset.head()"
   ]
  },
  {
   "cell_type": "code",
   "execution_count": 30,
   "metadata": {},
   "outputs": [],
   "source": [
    "# Merge with number of ratings\n",
    "subset_ml = (subset\n",
    "             .merge(no_of_ratings_ingredient, how='left', on='ingredients')\n",
    "             .merge(no_of_ratings_user, how='left', on='user_id'))\n",
    "\n",
    "subset_ml.reset_index(drop=True, inplace=True)"
   ]
  },
  {
   "cell_type": "code",
   "execution_count": 31,
   "metadata": {},
   "outputs": [
    {
     "data": {
      "text/html": [
       "<div>\n",
       "<style scoped>\n",
       "    .dataframe tbody tr th:only-of-type {\n",
       "        vertical-align: middle;\n",
       "    }\n",
       "\n",
       "    .dataframe tbody tr th {\n",
       "        vertical-align: top;\n",
       "    }\n",
       "\n",
       "    .dataframe thead th {\n",
       "        text-align: right;\n",
       "    }\n",
       "</style>\n",
       "<table border=\"1\" class=\"dataframe\">\n",
       "  <thead>\n",
       "    <tr style=\"text-align: right;\">\n",
       "      <th></th>\n",
       "      <th>user_id</th>\n",
       "      <th>rating</th>\n",
       "      <th>ingredients</th>\n",
       "      <th>no_of_ratings_ingredient</th>\n",
       "      <th>no_of_ratings_user</th>\n",
       "    </tr>\n",
       "  </thead>\n",
       "  <tbody>\n",
       "    <tr>\n",
       "      <th>0</th>\n",
       "      <td>8542392</td>\n",
       "      <td>5</td>\n",
       "      <td>pork belly</td>\n",
       "      <td>3</td>\n",
       "      <td>11</td>\n",
       "    </tr>\n",
       "    <tr>\n",
       "      <th>1</th>\n",
       "      <td>8542392</td>\n",
       "      <td>5</td>\n",
       "      <td>smoked paprika</td>\n",
       "      <td>8</td>\n",
       "      <td>11</td>\n",
       "    </tr>\n",
       "    <tr>\n",
       "      <th>2</th>\n",
       "      <td>8542392</td>\n",
       "      <td>5</td>\n",
       "      <td>kosher salt</td>\n",
       "      <td>234</td>\n",
       "      <td>11</td>\n",
       "    </tr>\n",
       "    <tr>\n",
       "      <th>3</th>\n",
       "      <td>8542392</td>\n",
       "      <td>5</td>\n",
       "      <td>ground black pepper</td>\n",
       "      <td>13456</td>\n",
       "      <td>11</td>\n",
       "    </tr>\n",
       "    <tr>\n",
       "      <th>4</th>\n",
       "      <td>11174581</td>\n",
       "      <td>5</td>\n",
       "      <td>pork belly</td>\n",
       "      <td>3</td>\n",
       "      <td>4</td>\n",
       "    </tr>\n",
       "  </tbody>\n",
       "</table>\n",
       "</div>"
      ],
      "text/plain": [
       "    user_id  rating          ingredients  no_of_ratings_ingredient  \\\n",
       "0   8542392       5           pork belly                         3   \n",
       "1   8542392       5       smoked paprika                         8   \n",
       "2   8542392       5          kosher salt                       234   \n",
       "3   8542392       5  ground black pepper                     13456   \n",
       "4  11174581       5           pork belly                         3   \n",
       "\n",
       "   no_of_ratings_user  \n",
       "0                  11  \n",
       "1                  11  \n",
       "2                  11  \n",
       "3                  11  \n",
       "4                   4  "
      ]
     },
     "execution_count": 31,
     "metadata": {},
     "output_type": "execute_result"
    }
   ],
   "source": [
    "subset_ml.head()"
   ]
  },
  {
   "cell_type": "code",
   "execution_count": 32,
   "metadata": {},
   "outputs": [],
   "source": [
    "# Drop ingredients with less than min_threshold_ingredient\n",
    "final_ingredients = subset_ml[subset_ml['no_of_ratings_ingredient'] >= min_threshold_ingredient]\n",
    "\n",
    "# Drop users with less than the min_threshols_user\n",
    "final_ingredients = final_ingredients[final_ingredients['no_of_ratings_user'] >= min_threshold_user]\n",
    "\n",
    "# Reset index\n",
    "final_ingredients.reset_index(drop=True, inplace=True)"
   ]
  },
  {
   "cell_type": "code",
   "execution_count": 33,
   "metadata": {},
   "outputs": [
    {
     "data": {
      "text/plain": [
       "(453764, 5)"
      ]
     },
     "execution_count": 33,
     "metadata": {},
     "output_type": "execute_result"
    }
   ],
   "source": [
    "final_ingredients.shape"
   ]
  },
  {
   "cell_type": "code",
   "execution_count": 34,
   "metadata": {},
   "outputs": [
    {
     "data": {
      "text/html": [
       "<div>\n",
       "<style scoped>\n",
       "    .dataframe tbody tr th:only-of-type {\n",
       "        vertical-align: middle;\n",
       "    }\n",
       "\n",
       "    .dataframe tbody tr th {\n",
       "        vertical-align: top;\n",
       "    }\n",
       "\n",
       "    .dataframe thead th {\n",
       "        text-align: right;\n",
       "    }\n",
       "</style>\n",
       "<table border=\"1\" class=\"dataframe\">\n",
       "  <thead>\n",
       "    <tr style=\"text-align: right;\">\n",
       "      <th></th>\n",
       "      <th>user_id</th>\n",
       "      <th>rating</th>\n",
       "      <th>ingredients</th>\n",
       "      <th>no_of_ratings_ingredient</th>\n",
       "      <th>no_of_ratings_user</th>\n",
       "    </tr>\n",
       "  </thead>\n",
       "  <tbody>\n",
       "    <tr>\n",
       "      <th>0</th>\n",
       "      <td>8542392</td>\n",
       "      <td>5</td>\n",
       "      <td>kosher salt</td>\n",
       "      <td>234</td>\n",
       "      <td>11</td>\n",
       "    </tr>\n",
       "    <tr>\n",
       "      <th>1</th>\n",
       "      <td>8542392</td>\n",
       "      <td>5</td>\n",
       "      <td>ground black pepper</td>\n",
       "      <td>13456</td>\n",
       "      <td>11</td>\n",
       "    </tr>\n",
       "    <tr>\n",
       "      <th>2</th>\n",
       "      <td>3574785</td>\n",
       "      <td>5</td>\n",
       "      <td>large onion</td>\n",
       "      <td>1138</td>\n",
       "      <td>12</td>\n",
       "    </tr>\n",
       "    <tr>\n",
       "      <th>3</th>\n",
       "      <td>3574785</td>\n",
       "      <td>5</td>\n",
       "      <td>brown sugar</td>\n",
       "      <td>2970</td>\n",
       "      <td>12</td>\n",
       "    </tr>\n",
       "    <tr>\n",
       "      <th>4</th>\n",
       "      <td>3574785</td>\n",
       "      <td>5</td>\n",
       "      <td>salt</td>\n",
       "      <td>20716</td>\n",
       "      <td>12</td>\n",
       "    </tr>\n",
       "  </tbody>\n",
       "</table>\n",
       "</div>"
      ],
      "text/plain": [
       "   user_id  rating          ingredients  no_of_ratings_ingredient  \\\n",
       "0  8542392       5          kosher salt                       234   \n",
       "1  8542392       5  ground black pepper                     13456   \n",
       "2  3574785       5          large onion                      1138   \n",
       "3  3574785       5          brown sugar                      2970   \n",
       "4  3574785       5                 salt                     20716   \n",
       "\n",
       "   no_of_ratings_user  \n",
       "0                  11  \n",
       "1                  11  \n",
       "2                  12  \n",
       "3                  12  \n",
       "4                  12  "
      ]
     },
     "execution_count": 34,
     "metadata": {},
     "output_type": "execute_result"
    }
   ],
   "source": [
    "final_ingredients.head()"
   ]
  },
  {
   "cell_type": "markdown",
   "metadata": {},
   "source": [
    "### 2.3 Create feature set\n"
   ]
  },
  {
   "cell_type": "code",
   "execution_count": 61,
   "metadata": {},
   "outputs": [],
   "source": [
    "# Pivot tables\n",
    "ingredient_features = final_ingredients.pivot_table(index=\"ingredients\",\n",
    "                                          columns=\"user_id\",\n",
    "                                          values=\"rating\").fillna(0)"
   ]
  },
  {
   "cell_type": "code",
   "execution_count": 62,
   "metadata": {},
   "outputs": [
    {
     "name": "stdout",
     "output_type": "stream",
     "text": [
      "Number of users: 439\n",
      "Number of ingredients: 26584\n"
     ]
    }
   ],
   "source": [
    "print(f\"Number of users: {ingredient_features.shape[0]}\")\n",
    "print(f\"Number of ingredients: {ingredient_features.shape[1]}\")"
   ]
  },
  {
   "cell_type": "code",
   "execution_count": 63,
   "metadata": {},
   "outputs": [
    {
     "data": {
      "text/html": [
       "<div>\n",
       "<style scoped>\n",
       "    .dataframe tbody tr th:only-of-type {\n",
       "        vertical-align: middle;\n",
       "    }\n",
       "\n",
       "    .dataframe tbody tr th {\n",
       "        vertical-align: top;\n",
       "    }\n",
       "\n",
       "    .dataframe thead th {\n",
       "        text-align: right;\n",
       "    }\n",
       "</style>\n",
       "<table border=\"1\" class=\"dataframe\">\n",
       "  <thead>\n",
       "    <tr style=\"text-align: right;\">\n",
       "      <th>user_id</th>\n",
       "      <th>39</th>\n",
       "      <th>240</th>\n",
       "      <th>338</th>\n",
       "      <th>424</th>\n",
       "      <th>521</th>\n",
       "      <th>650</th>\n",
       "      <th>1034</th>\n",
       "      <th>1552</th>\n",
       "      <th>1702</th>\n",
       "      <th>2079</th>\n",
       "      <th>...</th>\n",
       "      <th>23278229</th>\n",
       "      <th>23282556</th>\n",
       "      <th>23288084</th>\n",
       "      <th>23313487</th>\n",
       "      <th>23321072</th>\n",
       "      <th>23338764</th>\n",
       "      <th>23357046</th>\n",
       "      <th>23375614</th>\n",
       "      <th>23389673</th>\n",
       "      <th>23412582</th>\n",
       "    </tr>\n",
       "    <tr>\n",
       "      <th>ingredients</th>\n",
       "      <th></th>\n",
       "      <th></th>\n",
       "      <th></th>\n",
       "      <th></th>\n",
       "      <th></th>\n",
       "      <th></th>\n",
       "      <th></th>\n",
       "      <th></th>\n",
       "      <th></th>\n",
       "      <th></th>\n",
       "      <th></th>\n",
       "      <th></th>\n",
       "      <th></th>\n",
       "      <th></th>\n",
       "      <th></th>\n",
       "      <th></th>\n",
       "      <th></th>\n",
       "      <th></th>\n",
       "      <th></th>\n",
       "      <th></th>\n",
       "      <th></th>\n",
       "    </tr>\n",
       "  </thead>\n",
       "  <tbody>\n",
       "    <tr>\n",
       "      <th>Alfredo sauce</th>\n",
       "      <td>0.0</td>\n",
       "      <td>0.0</td>\n",
       "      <td>0.0</td>\n",
       "      <td>0.0</td>\n",
       "      <td>0.0</td>\n",
       "      <td>0.0</td>\n",
       "      <td>0.0</td>\n",
       "      <td>0.0</td>\n",
       "      <td>0.0</td>\n",
       "      <td>0.0</td>\n",
       "      <td>...</td>\n",
       "      <td>0.0</td>\n",
       "      <td>0.0</td>\n",
       "      <td>0.0</td>\n",
       "      <td>0.0</td>\n",
       "      <td>0.0</td>\n",
       "      <td>0.0</td>\n",
       "      <td>0.0</td>\n",
       "      <td>0.0</td>\n",
       "      <td>0.0</td>\n",
       "      <td>0.0</td>\n",
       "    </tr>\n",
       "    <tr>\n",
       "      <th>American cheese</th>\n",
       "      <td>0.0</td>\n",
       "      <td>0.0</td>\n",
       "      <td>0.0</td>\n",
       "      <td>0.0</td>\n",
       "      <td>0.0</td>\n",
       "      <td>0.0</td>\n",
       "      <td>0.0</td>\n",
       "      <td>0.0</td>\n",
       "      <td>0.0</td>\n",
       "      <td>0.0</td>\n",
       "      <td>...</td>\n",
       "      <td>0.0</td>\n",
       "      <td>0.0</td>\n",
       "      <td>0.0</td>\n",
       "      <td>0.0</td>\n",
       "      <td>0.0</td>\n",
       "      <td>0.0</td>\n",
       "      <td>0.0</td>\n",
       "      <td>0.0</td>\n",
       "      <td>0.0</td>\n",
       "      <td>0.0</td>\n",
       "    </tr>\n",
       "    <tr>\n",
       "      <th>Asian chile pepper sauce</th>\n",
       "      <td>0.0</td>\n",
       "      <td>0.0</td>\n",
       "      <td>0.0</td>\n",
       "      <td>0.0</td>\n",
       "      <td>0.0</td>\n",
       "      <td>0.0</td>\n",
       "      <td>0.0</td>\n",
       "      <td>0.0</td>\n",
       "      <td>0.0</td>\n",
       "      <td>0.0</td>\n",
       "      <td>...</td>\n",
       "      <td>0.0</td>\n",
       "      <td>0.0</td>\n",
       "      <td>0.0</td>\n",
       "      <td>0.0</td>\n",
       "      <td>0.0</td>\n",
       "      <td>0.0</td>\n",
       "      <td>0.0</td>\n",
       "      <td>0.0</td>\n",
       "      <td>0.0</td>\n",
       "      <td>0.0</td>\n",
       "    </tr>\n",
       "    <tr>\n",
       "      <th>Cajun seasoning</th>\n",
       "      <td>0.0</td>\n",
       "      <td>0.0</td>\n",
       "      <td>0.0</td>\n",
       "      <td>0.0</td>\n",
       "      <td>0.0</td>\n",
       "      <td>0.0</td>\n",
       "      <td>0.0</td>\n",
       "      <td>0.0</td>\n",
       "      <td>0.0</td>\n",
       "      <td>0.0</td>\n",
       "      <td>...</td>\n",
       "      <td>0.0</td>\n",
       "      <td>0.0</td>\n",
       "      <td>0.0</td>\n",
       "      <td>5.0</td>\n",
       "      <td>0.0</td>\n",
       "      <td>0.0</td>\n",
       "      <td>0.0</td>\n",
       "      <td>0.0</td>\n",
       "      <td>0.0</td>\n",
       "      <td>0.0</td>\n",
       "    </tr>\n",
       "    <tr>\n",
       "      <th>Chinese five-spice powder</th>\n",
       "      <td>0.0</td>\n",
       "      <td>0.0</td>\n",
       "      <td>0.0</td>\n",
       "      <td>0.0</td>\n",
       "      <td>0.0</td>\n",
       "      <td>0.0</td>\n",
       "      <td>0.0</td>\n",
       "      <td>0.0</td>\n",
       "      <td>0.0</td>\n",
       "      <td>0.0</td>\n",
       "      <td>...</td>\n",
       "      <td>0.0</td>\n",
       "      <td>0.0</td>\n",
       "      <td>3.0</td>\n",
       "      <td>0.0</td>\n",
       "      <td>5.0</td>\n",
       "      <td>5.0</td>\n",
       "      <td>0.0</td>\n",
       "      <td>0.0</td>\n",
       "      <td>0.0</td>\n",
       "      <td>0.0</td>\n",
       "    </tr>\n",
       "    <tr>\n",
       "      <th>Delmonico (rib-eye) steaks</th>\n",
       "      <td>0.0</td>\n",
       "      <td>0.0</td>\n",
       "      <td>0.0</td>\n",
       "      <td>0.0</td>\n",
       "      <td>0.0</td>\n",
       "      <td>0.0</td>\n",
       "      <td>0.0</td>\n",
       "      <td>0.0</td>\n",
       "      <td>0.0</td>\n",
       "      <td>0.0</td>\n",
       "      <td>...</td>\n",
       "      <td>0.0</td>\n",
       "      <td>0.0</td>\n",
       "      <td>0.0</td>\n",
       "      <td>0.0</td>\n",
       "      <td>0.0</td>\n",
       "      <td>0.0</td>\n",
       "      <td>0.0</td>\n",
       "      <td>0.0</td>\n",
       "      <td>0.0</td>\n",
       "      <td>0.0</td>\n",
       "    </tr>\n",
       "    <tr>\n",
       "      <th>Dijon mustard</th>\n",
       "      <td>0.0</td>\n",
       "      <td>0.0</td>\n",
       "      <td>0.0</td>\n",
       "      <td>0.0</td>\n",
       "      <td>0.0</td>\n",
       "      <td>0.0</td>\n",
       "      <td>0.0</td>\n",
       "      <td>5.0</td>\n",
       "      <td>0.0</td>\n",
       "      <td>3.0</td>\n",
       "      <td>...</td>\n",
       "      <td>0.0</td>\n",
       "      <td>0.0</td>\n",
       "      <td>0.0</td>\n",
       "      <td>0.0</td>\n",
       "      <td>0.0</td>\n",
       "      <td>0.0</td>\n",
       "      <td>0.0</td>\n",
       "      <td>0.0</td>\n",
       "      <td>5.0</td>\n",
       "      <td>0.0</td>\n",
       "    </tr>\n",
       "    <tr>\n",
       "      <th>For the glaze:</th>\n",
       "      <td>0.0</td>\n",
       "      <td>0.0</td>\n",
       "      <td>0.0</td>\n",
       "      <td>0.0</td>\n",
       "      <td>0.0</td>\n",
       "      <td>0.0</td>\n",
       "      <td>0.0</td>\n",
       "      <td>0.0</td>\n",
       "      <td>0.0</td>\n",
       "      <td>0.0</td>\n",
       "      <td>...</td>\n",
       "      <td>0.0</td>\n",
       "      <td>0.0</td>\n",
       "      <td>0.0</td>\n",
       "      <td>0.0</td>\n",
       "      <td>0.0</td>\n",
       "      <td>0.0</td>\n",
       "      <td>0.0</td>\n",
       "      <td>0.0</td>\n",
       "      <td>0.0</td>\n",
       "      <td>0.0</td>\n",
       "    </tr>\n",
       "    <tr>\n",
       "      <th>French style green beans</th>\n",
       "      <td>0.0</td>\n",
       "      <td>0.0</td>\n",
       "      <td>0.0</td>\n",
       "      <td>0.0</td>\n",
       "      <td>0.0</td>\n",
       "      <td>0.0</td>\n",
       "      <td>0.0</td>\n",
       "      <td>0.0</td>\n",
       "      <td>0.0</td>\n",
       "      <td>0.0</td>\n",
       "      <td>...</td>\n",
       "      <td>0.0</td>\n",
       "      <td>0.0</td>\n",
       "      <td>0.0</td>\n",
       "      <td>0.0</td>\n",
       "      <td>0.0</td>\n",
       "      <td>0.0</td>\n",
       "      <td>0.0</td>\n",
       "      <td>0.0</td>\n",
       "      <td>0.0</td>\n",
       "      <td>0.0</td>\n",
       "    </tr>\n",
       "    <tr>\n",
       "      <th>Hellmann's® Real Mayonnaise</th>\n",
       "      <td>0.0</td>\n",
       "      <td>0.0</td>\n",
       "      <td>0.0</td>\n",
       "      <td>0.0</td>\n",
       "      <td>0.0</td>\n",
       "      <td>0.0</td>\n",
       "      <td>0.0</td>\n",
       "      <td>0.0</td>\n",
       "      <td>0.0</td>\n",
       "      <td>0.0</td>\n",
       "      <td>...</td>\n",
       "      <td>0.0</td>\n",
       "      <td>0.0</td>\n",
       "      <td>0.0</td>\n",
       "      <td>0.0</td>\n",
       "      <td>0.0</td>\n",
       "      <td>0.0</td>\n",
       "      <td>0.0</td>\n",
       "      <td>0.0</td>\n",
       "      <td>0.0</td>\n",
       "      <td>0.0</td>\n",
       "    </tr>\n",
       "  </tbody>\n",
       "</table>\n",
       "<p>10 rows × 26584 columns</p>\n",
       "</div>"
      ],
      "text/plain": [
       "user_id                      39        240       338       424       521       \\\n",
       "ingredients                                                                     \n",
       "Alfredo sauce                     0.0       0.0       0.0       0.0       0.0   \n",
       "American cheese                   0.0       0.0       0.0       0.0       0.0   \n",
       "Asian chile pepper sauce          0.0       0.0       0.0       0.0       0.0   \n",
       "Cajun seasoning                   0.0       0.0       0.0       0.0       0.0   \n",
       "Chinese five-spice powder         0.0       0.0       0.0       0.0       0.0   \n",
       "Delmonico (rib-eye) steaks        0.0       0.0       0.0       0.0       0.0   \n",
       "Dijon mustard                     0.0       0.0       0.0       0.0       0.0   \n",
       "For the glaze:                    0.0       0.0       0.0       0.0       0.0   \n",
       "French style green beans          0.0       0.0       0.0       0.0       0.0   \n",
       "Hellmann's® Real Mayonnaise       0.0       0.0       0.0       0.0       0.0   \n",
       "\n",
       "user_id                      650       1034      1552      1702      2079      \\\n",
       "ingredients                                                                     \n",
       "Alfredo sauce                     0.0       0.0       0.0       0.0       0.0   \n",
       "American cheese                   0.0       0.0       0.0       0.0       0.0   \n",
       "Asian chile pepper sauce          0.0       0.0       0.0       0.0       0.0   \n",
       "Cajun seasoning                   0.0       0.0       0.0       0.0       0.0   \n",
       "Chinese five-spice powder         0.0       0.0       0.0       0.0       0.0   \n",
       "Delmonico (rib-eye) steaks        0.0       0.0       0.0       0.0       0.0   \n",
       "Dijon mustard                     0.0       0.0       5.0       0.0       3.0   \n",
       "For the glaze:                    0.0       0.0       0.0       0.0       0.0   \n",
       "French style green beans          0.0       0.0       0.0       0.0       0.0   \n",
       "Hellmann's® Real Mayonnaise       0.0       0.0       0.0       0.0       0.0   \n",
       "\n",
       "user_id                      ...  23278229  23282556  23288084  23313487  \\\n",
       "ingredients                  ...                                           \n",
       "Alfredo sauce                ...       0.0       0.0       0.0       0.0   \n",
       "American cheese              ...       0.0       0.0       0.0       0.0   \n",
       "Asian chile pepper sauce     ...       0.0       0.0       0.0       0.0   \n",
       "Cajun seasoning              ...       0.0       0.0       0.0       5.0   \n",
       "Chinese five-spice powder    ...       0.0       0.0       3.0       0.0   \n",
       "Delmonico (rib-eye) steaks   ...       0.0       0.0       0.0       0.0   \n",
       "Dijon mustard                ...       0.0       0.0       0.0       0.0   \n",
       "For the glaze:               ...       0.0       0.0       0.0       0.0   \n",
       "French style green beans     ...       0.0       0.0       0.0       0.0   \n",
       "Hellmann's® Real Mayonnaise  ...       0.0       0.0       0.0       0.0   \n",
       "\n",
       "user_id                      23321072  23338764  23357046  23375614  23389673  \\\n",
       "ingredients                                                                     \n",
       "Alfredo sauce                     0.0       0.0       0.0       0.0       0.0   \n",
       "American cheese                   0.0       0.0       0.0       0.0       0.0   \n",
       "Asian chile pepper sauce          0.0       0.0       0.0       0.0       0.0   \n",
       "Cajun seasoning                   0.0       0.0       0.0       0.0       0.0   \n",
       "Chinese five-spice powder         5.0       5.0       0.0       0.0       0.0   \n",
       "Delmonico (rib-eye) steaks        0.0       0.0       0.0       0.0       0.0   \n",
       "Dijon mustard                     0.0       0.0       0.0       0.0       5.0   \n",
       "For the glaze:                    0.0       0.0       0.0       0.0       0.0   \n",
       "French style green beans          0.0       0.0       0.0       0.0       0.0   \n",
       "Hellmann's® Real Mayonnaise       0.0       0.0       0.0       0.0       0.0   \n",
       "\n",
       "user_id                      23412582  \n",
       "ingredients                            \n",
       "Alfredo sauce                     0.0  \n",
       "American cheese                   0.0  \n",
       "Asian chile pepper sauce          0.0  \n",
       "Cajun seasoning                   0.0  \n",
       "Chinese five-spice powder         0.0  \n",
       "Delmonico (rib-eye) steaks        0.0  \n",
       "Dijon mustard                     0.0  \n",
       "For the glaze:                    0.0  \n",
       "French style green beans          0.0  \n",
       "Hellmann's® Real Mayonnaise       0.0  \n",
       "\n",
       "[10 rows x 26584 columns]"
      ]
     },
     "execution_count": 63,
     "metadata": {},
     "output_type": "execute_result"
    }
   ],
   "source": [
    "ingredient_features.head(10)"
   ]
  },
  {
   "cell_type": "markdown",
   "metadata": {},
   "source": [
    "## 3. Modelling\n",
    "### 3.1 Unsupervised ML model 1.0\n",
    "\n",
    "This model will take as an input and ingredient and return a list of 10 ingredients that users from allrecipes have also rated positively. "
   ]
  },
  {
   "cell_type": "code",
   "execution_count": 64,
   "metadata": {},
   "outputs": [],
   "source": [
    "from scipy.sparse import csr_matrix"
   ]
  },
  {
   "cell_type": "code",
   "execution_count": 65,
   "metadata": {},
   "outputs": [],
   "source": [
    "mat_ingredient_features = csr_matrix(ingredient_features)"
   ]
  },
  {
   "cell_type": "markdown",
   "metadata": {},
   "source": [
    "#### 3.1.1 Train KNN (K-Nearest-Neighbors)"
   ]
  },
  {
   "cell_type": "code",
   "execution_count": 66,
   "metadata": {},
   "outputs": [],
   "source": [
    "from sklearn.neighbors import NearestNeighbors"
   ]
  },
  {
   "cell_type": "code",
   "execution_count": 67,
   "metadata": {},
   "outputs": [
    {
     "data": {
      "text/plain": [
       "NearestNeighbors(algorithm='brute', leaf_size=30, metric='cosine',\n",
       "                 metric_params=None, n_jobs=-1, n_neighbors=5, p=2, radius=1.0)"
      ]
     },
     "execution_count": 67,
     "metadata": {},
     "output_type": "execute_result"
    }
   ],
   "source": [
    "model_knn = NearestNeighbors(metric=\"cosine\",\n",
    "                             algorithm=\"brute\",\n",
    "                             n_jobs=-1)\n",
    "\n",
    "model_knn.fit(mat_ingredient_features)"
   ]
  },
  {
   "cell_type": "code",
   "execution_count": 68,
   "metadata": {},
   "outputs": [],
   "source": [
    "# In order to be able to start the program from here, I can export and import as a pickle\n",
    "#with open(\"final-project/model_knn.pkl\", \"wb\") as mk:\n",
    "#    pickle.dump(model_knn, mk, protocol=pickle.HIGHEST_PROTOCOL)"
   ]
  },
  {
   "cell_type": "code",
   "execution_count": 69,
   "metadata": {},
   "outputs": [
    {
     "data": {
      "text/html": [
       "<div>\n",
       "<style scoped>\n",
       "    .dataframe tbody tr th:only-of-type {\n",
       "        vertical-align: middle;\n",
       "    }\n",
       "\n",
       "    .dataframe tbody tr th {\n",
       "        vertical-align: top;\n",
       "    }\n",
       "\n",
       "    .dataframe thead th {\n",
       "        text-align: right;\n",
       "    }\n",
       "</style>\n",
       "<table border=\"1\" class=\"dataframe\">\n",
       "  <thead>\n",
       "    <tr style=\"text-align: right;\">\n",
       "      <th>user_id</th>\n",
       "      <th>39</th>\n",
       "      <th>240</th>\n",
       "      <th>338</th>\n",
       "      <th>424</th>\n",
       "      <th>521</th>\n",
       "      <th>650</th>\n",
       "      <th>1034</th>\n",
       "      <th>1552</th>\n",
       "      <th>1702</th>\n",
       "      <th>2079</th>\n",
       "      <th>...</th>\n",
       "      <th>23278229</th>\n",
       "      <th>23282556</th>\n",
       "      <th>23288084</th>\n",
       "      <th>23313487</th>\n",
       "      <th>23321072</th>\n",
       "      <th>23338764</th>\n",
       "      <th>23357046</th>\n",
       "      <th>23375614</th>\n",
       "      <th>23389673</th>\n",
       "      <th>23412582</th>\n",
       "    </tr>\n",
       "    <tr>\n",
       "      <th>ingredients</th>\n",
       "      <th></th>\n",
       "      <th></th>\n",
       "      <th></th>\n",
       "      <th></th>\n",
       "      <th></th>\n",
       "      <th></th>\n",
       "      <th></th>\n",
       "      <th></th>\n",
       "      <th></th>\n",
       "      <th></th>\n",
       "      <th></th>\n",
       "      <th></th>\n",
       "      <th></th>\n",
       "      <th></th>\n",
       "      <th></th>\n",
       "      <th></th>\n",
       "      <th></th>\n",
       "      <th></th>\n",
       "      <th></th>\n",
       "      <th></th>\n",
       "      <th></th>\n",
       "    </tr>\n",
       "  </thead>\n",
       "  <tbody>\n",
       "    <tr>\n",
       "      <th>Alfredo sauce</th>\n",
       "      <td>0.0</td>\n",
       "      <td>0.0</td>\n",
       "      <td>0.0</td>\n",
       "      <td>0.0</td>\n",
       "      <td>0.0</td>\n",
       "      <td>0.0</td>\n",
       "      <td>0.0</td>\n",
       "      <td>0.0</td>\n",
       "      <td>0.0</td>\n",
       "      <td>0.0</td>\n",
       "      <td>...</td>\n",
       "      <td>0.0</td>\n",
       "      <td>0.0</td>\n",
       "      <td>0.0</td>\n",
       "      <td>0.0</td>\n",
       "      <td>0.0</td>\n",
       "      <td>0.0</td>\n",
       "      <td>0.0</td>\n",
       "      <td>0.0</td>\n",
       "      <td>0.0</td>\n",
       "      <td>0.0</td>\n",
       "    </tr>\n",
       "    <tr>\n",
       "      <th>American cheese</th>\n",
       "      <td>0.0</td>\n",
       "      <td>0.0</td>\n",
       "      <td>0.0</td>\n",
       "      <td>0.0</td>\n",
       "      <td>0.0</td>\n",
       "      <td>0.0</td>\n",
       "      <td>0.0</td>\n",
       "      <td>0.0</td>\n",
       "      <td>0.0</td>\n",
       "      <td>0.0</td>\n",
       "      <td>...</td>\n",
       "      <td>0.0</td>\n",
       "      <td>0.0</td>\n",
       "      <td>0.0</td>\n",
       "      <td>0.0</td>\n",
       "      <td>0.0</td>\n",
       "      <td>0.0</td>\n",
       "      <td>0.0</td>\n",
       "      <td>0.0</td>\n",
       "      <td>0.0</td>\n",
       "      <td>0.0</td>\n",
       "    </tr>\n",
       "    <tr>\n",
       "      <th>Asian chile pepper sauce</th>\n",
       "      <td>0.0</td>\n",
       "      <td>0.0</td>\n",
       "      <td>0.0</td>\n",
       "      <td>0.0</td>\n",
       "      <td>0.0</td>\n",
       "      <td>0.0</td>\n",
       "      <td>0.0</td>\n",
       "      <td>0.0</td>\n",
       "      <td>0.0</td>\n",
       "      <td>0.0</td>\n",
       "      <td>...</td>\n",
       "      <td>0.0</td>\n",
       "      <td>0.0</td>\n",
       "      <td>0.0</td>\n",
       "      <td>0.0</td>\n",
       "      <td>0.0</td>\n",
       "      <td>0.0</td>\n",
       "      <td>0.0</td>\n",
       "      <td>0.0</td>\n",
       "      <td>0.0</td>\n",
       "      <td>0.0</td>\n",
       "    </tr>\n",
       "    <tr>\n",
       "      <th>Cajun seasoning</th>\n",
       "      <td>0.0</td>\n",
       "      <td>0.0</td>\n",
       "      <td>0.0</td>\n",
       "      <td>0.0</td>\n",
       "      <td>0.0</td>\n",
       "      <td>0.0</td>\n",
       "      <td>0.0</td>\n",
       "      <td>0.0</td>\n",
       "      <td>0.0</td>\n",
       "      <td>0.0</td>\n",
       "      <td>...</td>\n",
       "      <td>0.0</td>\n",
       "      <td>0.0</td>\n",
       "      <td>0.0</td>\n",
       "      <td>5.0</td>\n",
       "      <td>0.0</td>\n",
       "      <td>0.0</td>\n",
       "      <td>0.0</td>\n",
       "      <td>0.0</td>\n",
       "      <td>0.0</td>\n",
       "      <td>0.0</td>\n",
       "    </tr>\n",
       "    <tr>\n",
       "      <th>Chinese five-spice powder</th>\n",
       "      <td>0.0</td>\n",
       "      <td>0.0</td>\n",
       "      <td>0.0</td>\n",
       "      <td>0.0</td>\n",
       "      <td>0.0</td>\n",
       "      <td>0.0</td>\n",
       "      <td>0.0</td>\n",
       "      <td>0.0</td>\n",
       "      <td>0.0</td>\n",
       "      <td>0.0</td>\n",
       "      <td>...</td>\n",
       "      <td>0.0</td>\n",
       "      <td>0.0</td>\n",
       "      <td>3.0</td>\n",
       "      <td>0.0</td>\n",
       "      <td>5.0</td>\n",
       "      <td>5.0</td>\n",
       "      <td>0.0</td>\n",
       "      <td>0.0</td>\n",
       "      <td>0.0</td>\n",
       "      <td>0.0</td>\n",
       "    </tr>\n",
       "  </tbody>\n",
       "</table>\n",
       "<p>5 rows × 26584 columns</p>\n",
       "</div>"
      ],
      "text/plain": [
       "user_id                    39        240       338       424       521       \\\n",
       "ingredients                                                                   \n",
       "Alfredo sauce                   0.0       0.0       0.0       0.0       0.0   \n",
       "American cheese                 0.0       0.0       0.0       0.0       0.0   \n",
       "Asian chile pepper sauce        0.0       0.0       0.0       0.0       0.0   \n",
       "Cajun seasoning                 0.0       0.0       0.0       0.0       0.0   \n",
       "Chinese five-spice powder       0.0       0.0       0.0       0.0       0.0   \n",
       "\n",
       "user_id                    650       1034      1552      1702      2079      \\\n",
       "ingredients                                                                   \n",
       "Alfredo sauce                   0.0       0.0       0.0       0.0       0.0   \n",
       "American cheese                 0.0       0.0       0.0       0.0       0.0   \n",
       "Asian chile pepper sauce        0.0       0.0       0.0       0.0       0.0   \n",
       "Cajun seasoning                 0.0       0.0       0.0       0.0       0.0   \n",
       "Chinese five-spice powder       0.0       0.0       0.0       0.0       0.0   \n",
       "\n",
       "user_id                    ...  23278229  23282556  23288084  23313487  \\\n",
       "ingredients                ...                                           \n",
       "Alfredo sauce              ...       0.0       0.0       0.0       0.0   \n",
       "American cheese            ...       0.0       0.0       0.0       0.0   \n",
       "Asian chile pepper sauce   ...       0.0       0.0       0.0       0.0   \n",
       "Cajun seasoning            ...       0.0       0.0       0.0       5.0   \n",
       "Chinese five-spice powder  ...       0.0       0.0       3.0       0.0   \n",
       "\n",
       "user_id                    23321072  23338764  23357046  23375614  23389673  \\\n",
       "ingredients                                                                   \n",
       "Alfredo sauce                   0.0       0.0       0.0       0.0       0.0   \n",
       "American cheese                 0.0       0.0       0.0       0.0       0.0   \n",
       "Asian chile pepper sauce        0.0       0.0       0.0       0.0       0.0   \n",
       "Cajun seasoning                 0.0       0.0       0.0       0.0       0.0   \n",
       "Chinese five-spice powder       5.0       5.0       0.0       0.0       0.0   \n",
       "\n",
       "user_id                    23412582  \n",
       "ingredients                          \n",
       "Alfredo sauce                   0.0  \n",
       "American cheese                 0.0  \n",
       "Asian chile pepper sauce        0.0  \n",
       "Cajun seasoning                 0.0  \n",
       "Chinese five-spice powder       0.0  \n",
       "\n",
       "[5 rows x 26584 columns]"
      ]
     },
     "execution_count": 69,
     "metadata": {},
     "output_type": "execute_result"
    }
   ],
   "source": [
    "ingredient_features.head()"
   ]
  },
  {
   "cell_type": "code",
   "execution_count": 73,
   "metadata": {},
   "outputs": [
    {
     "data": {
      "text/plain": [
       "array([[0., 0., 0., ..., 0., 0., 0.]])"
      ]
     },
     "execution_count": 73,
     "metadata": {},
     "output_type": "execute_result"
    }
   ],
   "source": [
    "ingredient_features.loc['Alfredo sauce'].values.reshape(1, -1)"
   ]
  },
  {
   "cell_type": "code",
   "execution_count": 75,
   "metadata": {},
   "outputs": [],
   "source": [
    "input_ = 'Alfredo sauce'"
   ]
  },
  {
   "cell_type": "code",
   "execution_count": 76,
   "metadata": {},
   "outputs": [
    {
     "data": {
      "text/plain": [
       "(array([[5.77315973e-15, 5.77315973e-15, 5.77315973e-15, 5.77315973e-15,\n",
       "         7.93414385e-03]]),\n",
       " array([[322,   0, 200,  66, 137]]))"
      ]
     },
     "execution_count": 76,
     "metadata": {},
     "output_type": "execute_result"
    }
   ],
   "source": [
    "model_knn.kneighbors(ingredient_features.loc[input_].values.reshape(1, -1), n_neighbors=5)\n",
    "# print(f'Array with the distance of the ingredients: {model_knn.kneighbors(ingredient_features.loc['Dijon mustard'].values.reshape(1, -1), n_neighbors=5)[0]}')\n",
    "# print(f'Array with the id of the ingredients: {model_knn.kneighbors(ingredient_features.loc['Dijon mustard'].values.reshape(1, -1), n_neighbors=5)[1]}')"
   ]
  },
  {
   "cell_type": "markdown",
   "metadata": {},
   "source": [
    "Our kNN model returns a tuple of two 2d-arrays, containing distances and indeces of the nearest neighbors of the vector passed. In order for us to match the results with 'ingredients', we need to translate the output."
   ]
  },
  {
   "cell_type": "code",
   "execution_count": 101,
   "metadata": {},
   "outputs": [],
   "source": [
    "result = model_knn.kneighbors(ingredient_features.loc[input_].values.reshape(1, -1), n_neighbors=10)"
   ]
  },
  {
   "cell_type": "code",
   "execution_count": 102,
   "metadata": {},
   "outputs": [
    {
     "data": {
      "text/plain": [
       "200"
      ]
     },
     "execution_count": 102,
     "metadata": {},
     "output_type": "execute_result"
    }
   ],
   "source": [
    "result[1][0][2]"
   ]
  },
  {
   "cell_type": "code",
   "execution_count": 103,
   "metadata": {},
   "outputs": [
    {
     "data": {
      "text/plain": [
       "'fresh baby spinach'"
      ]
     },
     "execution_count": 103,
     "metadata": {},
     "output_type": "execute_result"
    }
   ],
   "source": [
    "ingredient_features.iloc[result[1][0][2]].name"
   ]
  },
  {
   "cell_type": "code",
   "execution_count": 104,
   "metadata": {},
   "outputs": [
    {
     "name": "stdout",
     "output_type": "stream",
     "text": [
      "If you are buying Alfredo sauce you may also want to buy:\n",
      "---------------------------------------------------------\n",
      "1. pesto sauce\n",
      "2. Alfredo sauce\n",
      "3. fresh baby spinach\n",
      "4. box penne pasta\n",
      "5. cubed cooked chicken\n",
      "5. shredded Italian cheese blend\n",
      "5. seasoned bread crumbs\n",
      "5. crushed tomatoes\n",
      "5. milk\n",
      "5. grated Parmesan cheese\n"
     ]
    }
   ],
   "source": [
    "print(f'If you are buying {input_} you may also want to buy:')\n",
    "print(f'---------------------------------------------------------')\n",
    "\n",
    "print(f'1. {ingredient_features.iloc[result[1][0][0]].name}')\n",
    "print(f'2. {ingredient_features.iloc[result[1][0][1]].name}')\n",
    "print(f'3. {ingredient_features.iloc[result[1][0][2]].name}')\n",
    "print(f'4. {ingredient_features.iloc[result[1][0][3]].name}')\n",
    "print(f'5. {ingredient_features.iloc[result[1][0][4]].name}')\n",
    "print(f'5. {ingredient_features.iloc[result[1][0][5]].name}')\n",
    "print(f'5. {ingredient_features.iloc[result[1][0][6]].name}')\n",
    "print(f'5. {ingredient_features.iloc[result[1][0][7]].name}')\n",
    "print(f'5. {ingredient_features.iloc[result[1][0][8]].name}')\n",
    "print(f'5. {ingredient_features.iloc[result[1][0][9]].name}')"
   ]
  },
  {
   "cell_type": "markdown",
   "metadata": {},
   "source": [
    "The model works with 1 ingredient as an input, however, we would like to be able to give multiple ingredients as arguments. To do so, we are going to try to create a numpy array and pass it as the input."
   ]
  },
  {
   "cell_type": "markdown",
   "metadata": {},
   "source": [
    "### 3.2 Unsupervised ML model 2.0\n",
    "\n",
    "This model will take as an input a LIST of ingredients and return a list of 10 ingredients that users from allrecipes have also rated positively. "
   ]
  },
  {
   "cell_type": "code",
   "execution_count": 122,
   "metadata": {},
   "outputs": [
    {
     "data": {
      "text/plain": [
       "array(['American cheese', 'Dijon mustard'], dtype='<U15')"
      ]
     },
     "execution_count": 122,
     "metadata": {},
     "output_type": "execute_result"
    }
   ],
   "source": [
    "input_list = ['American cheese', 'Dijon mustard']\n",
    "input_arr = np.array(input_list) \n",
    "input_arr"
   ]
  },
  {
   "cell_type": "code",
   "execution_count": 126,
   "metadata": {},
   "outputs": [
    {
     "data": {
      "text/html": [
       "<div>\n",
       "<style scoped>\n",
       "    .dataframe tbody tr th:only-of-type {\n",
       "        vertical-align: middle;\n",
       "    }\n",
       "\n",
       "    .dataframe tbody tr th {\n",
       "        vertical-align: top;\n",
       "    }\n",
       "\n",
       "    .dataframe thead th {\n",
       "        text-align: right;\n",
       "    }\n",
       "</style>\n",
       "<table border=\"1\" class=\"dataframe\">\n",
       "  <thead>\n",
       "    <tr style=\"text-align: right;\">\n",
       "      <th>user_id</th>\n",
       "      <th>39</th>\n",
       "      <th>240</th>\n",
       "      <th>338</th>\n",
       "      <th>424</th>\n",
       "      <th>521</th>\n",
       "      <th>650</th>\n",
       "      <th>1034</th>\n",
       "      <th>1552</th>\n",
       "      <th>1702</th>\n",
       "      <th>2079</th>\n",
       "      <th>...</th>\n",
       "      <th>23278229</th>\n",
       "      <th>23282556</th>\n",
       "      <th>23288084</th>\n",
       "      <th>23313487</th>\n",
       "      <th>23321072</th>\n",
       "      <th>23338764</th>\n",
       "      <th>23357046</th>\n",
       "      <th>23375614</th>\n",
       "      <th>23389673</th>\n",
       "      <th>23412582</th>\n",
       "    </tr>\n",
       "    <tr>\n",
       "      <th>ingredients</th>\n",
       "      <th></th>\n",
       "      <th></th>\n",
       "      <th></th>\n",
       "      <th></th>\n",
       "      <th></th>\n",
       "      <th></th>\n",
       "      <th></th>\n",
       "      <th></th>\n",
       "      <th></th>\n",
       "      <th></th>\n",
       "      <th></th>\n",
       "      <th></th>\n",
       "      <th></th>\n",
       "      <th></th>\n",
       "      <th></th>\n",
       "      <th></th>\n",
       "      <th></th>\n",
       "      <th></th>\n",
       "      <th></th>\n",
       "      <th></th>\n",
       "      <th></th>\n",
       "    </tr>\n",
       "  </thead>\n",
       "  <tbody>\n",
       "    <tr>\n",
       "      <th>American cheese</th>\n",
       "      <td>0.0</td>\n",
       "      <td>0.0</td>\n",
       "      <td>0.0</td>\n",
       "      <td>0.0</td>\n",
       "      <td>0.0</td>\n",
       "      <td>0.0</td>\n",
       "      <td>0.0</td>\n",
       "      <td>0.0</td>\n",
       "      <td>0.0</td>\n",
       "      <td>0.0</td>\n",
       "      <td>...</td>\n",
       "      <td>0.0</td>\n",
       "      <td>0.0</td>\n",
       "      <td>0.0</td>\n",
       "      <td>0.0</td>\n",
       "      <td>0.0</td>\n",
       "      <td>0.0</td>\n",
       "      <td>0.0</td>\n",
       "      <td>0.0</td>\n",
       "      <td>0.0</td>\n",
       "      <td>0.0</td>\n",
       "    </tr>\n",
       "    <tr>\n",
       "      <th>Dijon mustard</th>\n",
       "      <td>0.0</td>\n",
       "      <td>0.0</td>\n",
       "      <td>0.0</td>\n",
       "      <td>0.0</td>\n",
       "      <td>0.0</td>\n",
       "      <td>0.0</td>\n",
       "      <td>0.0</td>\n",
       "      <td>5.0</td>\n",
       "      <td>0.0</td>\n",
       "      <td>3.0</td>\n",
       "      <td>...</td>\n",
       "      <td>0.0</td>\n",
       "      <td>0.0</td>\n",
       "      <td>0.0</td>\n",
       "      <td>0.0</td>\n",
       "      <td>0.0</td>\n",
       "      <td>0.0</td>\n",
       "      <td>0.0</td>\n",
       "      <td>0.0</td>\n",
       "      <td>5.0</td>\n",
       "      <td>0.0</td>\n",
       "    </tr>\n",
       "  </tbody>\n",
       "</table>\n",
       "<p>2 rows × 26584 columns</p>\n",
       "</div>"
      ],
      "text/plain": [
       "user_id          39        240       338       424       521       650       \\\n",
       "ingredients                                                                   \n",
       "American cheese       0.0       0.0       0.0       0.0       0.0       0.0   \n",
       "Dijon mustard         0.0       0.0       0.0       0.0       0.0       0.0   \n",
       "\n",
       "user_id          1034      1552      1702      2079      ...  23278229  \\\n",
       "ingredients                                              ...             \n",
       "American cheese       0.0       0.0       0.0       0.0  ...       0.0   \n",
       "Dijon mustard         0.0       5.0       0.0       3.0  ...       0.0   \n",
       "\n",
       "user_id          23282556  23288084  23313487  23321072  23338764  23357046  \\\n",
       "ingredients                                                                   \n",
       "American cheese       0.0       0.0       0.0       0.0       0.0       0.0   \n",
       "Dijon mustard         0.0       0.0       0.0       0.0       0.0       0.0   \n",
       "\n",
       "user_id          23375614  23389673  23412582  \n",
       "ingredients                                    \n",
       "American cheese       0.0       0.0       0.0  \n",
       "Dijon mustard         0.0       5.0       0.0  \n",
       "\n",
       "[2 rows x 26584 columns]"
      ]
     },
     "execution_count": 126,
     "metadata": {},
     "output_type": "execute_result"
    }
   ],
   "source": [
    "ingredient_features.loc[['American cheese', 'Dijon mustard']]"
   ]
  },
  {
   "cell_type": "code",
   "execution_count": 127,
   "metadata": {},
   "outputs": [
    {
     "data": {
      "text/plain": [
       "array([[0., 0., 0., ..., 0., 0., 0.],\n",
       "       [0., 0., 0., ..., 0., 5., 0.]])"
      ]
     },
     "execution_count": 127,
     "metadata": {},
     "output_type": "execute_result"
    }
   ],
   "source": [
    "ingredient_features.loc[['American cheese', 'Dijon mustard']].values"
   ]
  },
  {
   "cell_type": "code",
   "execution_count": 128,
   "metadata": {},
   "outputs": [
    {
     "data": {
      "text/plain": [
       "array([[0., 0., 0., ..., 0., 0., 0.],\n",
       "       [0., 0., 0., ..., 0., 5., 0.]])"
      ]
     },
     "execution_count": 128,
     "metadata": {},
     "output_type": "execute_result"
    }
   ],
   "source": [
    "ingredient_features.loc[['American cheese', 'Dijon mustard']].values#.reshape(1, -1)"
   ]
  },
  {
   "cell_type": "markdown",
   "metadata": {},
   "source": [
    "#### 3.2.1 Finding top 10 recommendations\n",
    "In order to find the closest recommendations od a list of ingredients we are going to create a dataframe that will look like the following: \n",
    "\n",
    "|Ingredient Position|Distance|\n",
    "|----|----|\n",
    "|202|0.84|\n",
    "|...|...|\n",
    "\n",
    "We will append the output from the KNN model for each ingredient and then group them by ingredient to obtain the mean 'Distance'. With that we will be able to sort by distance in a Descending order and obtain the Top10 recommended ingredients."
   ]
  },
  {
   "cell_type": "code",
   "execution_count": 180,
   "metadata": {},
   "outputs": [
    {
     "data": {
      "text/plain": [
       "(array([[0.00000000e+00, 6.51015629e-02, 3.59549100e-01, 4.79292402e-01,\n",
       "         8.35601644e-01, 8.52459011e-01, 8.54745352e-01, 8.75340102e-01,\n",
       "         8.84598073e-01, 9.07546181e-01],\n",
       "        [8.99280650e-15, 4.34876184e-01, 4.34876184e-01, 4.34876184e-01,\n",
       "         4.34876184e-01, 4.34876184e-01, 4.85608695e-01, 4.85608695e-01,\n",
       "         4.85608695e-01, 4.90243531e-01]]),\n",
       " array([[  1, 310,  11, 411, 218, 227, 308, 180, 156, 229],\n",
       "        [  6, 403, 185, 437, 153, 183,  79, 181, 224, 172]]))"
      ]
     },
     "execution_count": 180,
     "metadata": {},
     "output_type": "execute_result"
    }
   ],
   "source": [
    "model_knn.kneighbors(ingredient_features.loc[input_arr].values, n_neighbors=10)\n"
   ]
  },
  {
   "cell_type": "code",
   "execution_count": 183,
   "metadata": {},
   "outputs": [
    {
     "data": {
      "text/plain": [
       "'evaporated milk'"
      ]
     },
     "execution_count": 183,
     "metadata": {},
     "output_type": "execute_result"
    }
   ],
   "source": [
    "ingredient_features.iloc[180].name"
   ]
  },
  {
   "cell_type": "code",
   "execution_count": 133,
   "metadata": {},
   "outputs": [],
   "source": [
    "knn = model_knn.kneighbors(ingredient_features.loc[input_arr].values, n_neighbors=10)"
   ]
  },
  {
   "cell_type": "code",
   "execution_count": 174,
   "metadata": {},
   "outputs": [],
   "source": [
    "# Zip the ingredients position with the distance to the input 'ingredient'\n",
    "z = zip(knn[1][0].tolist(), knn[0][0].tolist())"
   ]
  },
  {
   "cell_type": "code",
   "execution_count": 175,
   "metadata": {},
   "outputs": [
    {
     "data": {
      "text/plain": [
       "[(1, 0.0),\n",
       " (310, 0.06510156288541236),\n",
       " (11, 0.3595490997765878),\n",
       " (411, 0.4792924019455831),\n",
       " (218, 0.8356016435665717),\n",
       " (227, 0.8524590105736074),\n",
       " (308, 0.8547453523168156),\n",
       " (180, 0.87534010234885),\n",
       " (156, 0.8845980732450233),\n",
       " (229, 0.907546180868204)]"
      ]
     },
     "execution_count": 175,
     "metadata": {},
     "output_type": "execute_result"
    }
   ],
   "source": [
    "# Formate it as a list\n",
    "z_list = [(x, y) for x, y in z]\n",
    "\n",
    "z_list\n",
    "\n",
    "# I have to drop the first row"
   ]
  },
  {
   "cell_type": "code",
   "execution_count": 190,
   "metadata": {},
   "outputs": [],
   "source": [
    "model = pd.DataFrame(z_list, columns=('Ingredient Position', 'Distance'))"
   ]
  },
  {
   "cell_type": "code",
   "execution_count": 191,
   "metadata": {},
   "outputs": [
    {
     "data": {
      "text/html": [
       "<div>\n",
       "<style scoped>\n",
       "    .dataframe tbody tr th:only-of-type {\n",
       "        vertical-align: middle;\n",
       "    }\n",
       "\n",
       "    .dataframe tbody tr th {\n",
       "        vertical-align: top;\n",
       "    }\n",
       "\n",
       "    .dataframe thead th {\n",
       "        text-align: right;\n",
       "    }\n",
       "</style>\n",
       "<table border=\"1\" class=\"dataframe\">\n",
       "  <thead>\n",
       "    <tr style=\"text-align: right;\">\n",
       "      <th></th>\n",
       "      <th>Ingredient Position</th>\n",
       "      <th>Distance</th>\n",
       "    </tr>\n",
       "  </thead>\n",
       "  <tbody>\n",
       "    <tr>\n",
       "      <th>0</th>\n",
       "      <td>1</td>\n",
       "      <td>0.000000</td>\n",
       "    </tr>\n",
       "    <tr>\n",
       "      <th>1</th>\n",
       "      <td>310</td>\n",
       "      <td>0.065102</td>\n",
       "    </tr>\n",
       "    <tr>\n",
       "      <th>2</th>\n",
       "      <td>11</td>\n",
       "      <td>0.359549</td>\n",
       "    </tr>\n",
       "    <tr>\n",
       "      <th>3</th>\n",
       "      <td>411</td>\n",
       "      <td>0.479292</td>\n",
       "    </tr>\n",
       "    <tr>\n",
       "      <th>4</th>\n",
       "      <td>218</td>\n",
       "      <td>0.835602</td>\n",
       "    </tr>\n",
       "    <tr>\n",
       "      <th>5</th>\n",
       "      <td>227</td>\n",
       "      <td>0.852459</td>\n",
       "    </tr>\n",
       "    <tr>\n",
       "      <th>6</th>\n",
       "      <td>308</td>\n",
       "      <td>0.854745</td>\n",
       "    </tr>\n",
       "    <tr>\n",
       "      <th>7</th>\n",
       "      <td>180</td>\n",
       "      <td>0.875340</td>\n",
       "    </tr>\n",
       "    <tr>\n",
       "      <th>8</th>\n",
       "      <td>156</td>\n",
       "      <td>0.884598</td>\n",
       "    </tr>\n",
       "    <tr>\n",
       "      <th>9</th>\n",
       "      <td>229</td>\n",
       "      <td>0.907546</td>\n",
       "    </tr>\n",
       "  </tbody>\n",
       "</table>\n",
       "</div>"
      ],
      "text/plain": [
       "   Ingredient Position  Distance\n",
       "0                    1  0.000000\n",
       "1                  310  0.065102\n",
       "2                   11  0.359549\n",
       "3                  411  0.479292\n",
       "4                  218  0.835602\n",
       "5                  227  0.852459\n",
       "6                  308  0.854745\n",
       "7                  180  0.875340\n",
       "8                  156  0.884598\n",
       "9                  229  0.907546"
      ]
     },
     "execution_count": 191,
     "metadata": {},
     "output_type": "execute_result"
    }
   ],
   "source": [
    "model"
   ]
  },
  {
   "cell_type": "code",
   "execution_count": 194,
   "metadata": {},
   "outputs": [],
   "source": [
    "model = model.drop(model[model['Distance'] == 0].index).reset_index(drop=True)"
   ]
  },
  {
   "cell_type": "code",
   "execution_count": 195,
   "metadata": {},
   "outputs": [
    {
     "data": {
      "text/html": [
       "<div>\n",
       "<style scoped>\n",
       "    .dataframe tbody tr th:only-of-type {\n",
       "        vertical-align: middle;\n",
       "    }\n",
       "\n",
       "    .dataframe tbody tr th {\n",
       "        vertical-align: top;\n",
       "    }\n",
       "\n",
       "    .dataframe thead th {\n",
       "        text-align: right;\n",
       "    }\n",
       "</style>\n",
       "<table border=\"1\" class=\"dataframe\">\n",
       "  <thead>\n",
       "    <tr style=\"text-align: right;\">\n",
       "      <th></th>\n",
       "      <th>Ingredient Position</th>\n",
       "      <th>Distance</th>\n",
       "    </tr>\n",
       "  </thead>\n",
       "  <tbody>\n",
       "    <tr>\n",
       "      <th>0</th>\n",
       "      <td>310</td>\n",
       "      <td>0.065102</td>\n",
       "    </tr>\n",
       "    <tr>\n",
       "      <th>1</th>\n",
       "      <td>11</td>\n",
       "      <td>0.359549</td>\n",
       "    </tr>\n",
       "    <tr>\n",
       "      <th>2</th>\n",
       "      <td>411</td>\n",
       "      <td>0.479292</td>\n",
       "    </tr>\n",
       "    <tr>\n",
       "      <th>3</th>\n",
       "      <td>218</td>\n",
       "      <td>0.835602</td>\n",
       "    </tr>\n",
       "    <tr>\n",
       "      <th>4</th>\n",
       "      <td>227</td>\n",
       "      <td>0.852459</td>\n",
       "    </tr>\n",
       "    <tr>\n",
       "      <th>5</th>\n",
       "      <td>308</td>\n",
       "      <td>0.854745</td>\n",
       "    </tr>\n",
       "    <tr>\n",
       "      <th>6</th>\n",
       "      <td>180</td>\n",
       "      <td>0.875340</td>\n",
       "    </tr>\n",
       "    <tr>\n",
       "      <th>7</th>\n",
       "      <td>156</td>\n",
       "      <td>0.884598</td>\n",
       "    </tr>\n",
       "    <tr>\n",
       "      <th>8</th>\n",
       "      <td>229</td>\n",
       "      <td>0.907546</td>\n",
       "    </tr>\n",
       "  </tbody>\n",
       "</table>\n",
       "</div>"
      ],
      "text/plain": [
       "   Ingredient Position  Distance\n",
       "0                  310  0.065102\n",
       "1                   11  0.359549\n",
       "2                  411  0.479292\n",
       "3                  218  0.835602\n",
       "4                  227  0.852459\n",
       "5                  308  0.854745\n",
       "6                  180  0.875340\n",
       "7                  156  0.884598\n",
       "8                  229  0.907546"
      ]
     },
     "execution_count": 195,
     "metadata": {},
     "output_type": "execute_result"
    }
   ],
   "source": [
    "model"
   ]
  },
  {
   "cell_type": "markdown",
   "metadata": {},
   "source": [
    "Once understood how to create the DataFrame that we are looking for, lets create a for loop that creates it for the whole list of ingredients"
   ]
  },
  {
   "cell_type": "code",
   "execution_count": 291,
   "metadata": {},
   "outputs": [],
   "source": [
    "def get_top10_recommendations(ingredients:list):\n",
    "\n",
    "    input_arr = np.array(ingredients)\n",
    "    \n",
    "    # Create empty DataFrame\n",
    "    model = pd.DataFrame(columns=('Ingredient Position', 'Distance'))\n",
    "    \n",
    "    # Generate the model\n",
    "    knn = model_knn.kneighbors(ingredient_features.loc[input_arr].values, n_neighbors=10)\n",
    "    \n",
    "    for i, ing in enumerate(ingredients):\n",
    "        \n",
    "        # Zip the ingredients position with the distance to the input 'ingredient'\n",
    "        z = zip(knn[1][i].tolist(), knn[0][i].tolist())\n",
    "        \n",
    "        # Formate it as a list\n",
    "        z_list = [(x, y) for x, y in z]\n",
    "    \n",
    "        # Create the DataFrame\n",
    "        temp = pd.DataFrame(z_list, columns=('Ingredient Position', 'Distance'))\n",
    "        \n",
    "        # Drop the rows of the ingredients that are already in our list\n",
    "        temp = temp.drop(temp[temp['Distance'] <= 0.001].index)\n",
    "\n",
    "        # Concat the new list of (Position, Distance) with the final df\n",
    "        model = pd.concat([model, temp])\n",
    "        \n",
    "    # Group by ingredient position and sort by distance\n",
    "    model = model.groupby('Ingredient Position').agg({'Distance': 'mean'})\n",
    "    model = model.sort_values(by='Distance', ascending=True).reset_index()\n",
    "    \n",
    "    # Print output header\n",
    "    print(f'If you are buying {input_list} you may also want to buy:')\n",
    "    print(f'---------------------------------------------------------')\n",
    "    \n",
    "    for x in range(0, 10):\n",
    "        # Print a list with the top 10 recommendations\n",
    "        print(f'{x}.{ingredient_features.iloc[model[\"Ingredient Position\"][x]].name}')\n",
    "    \n",
    "    return model.head(10)\n",
    "        "
   ]
  },
  {
   "cell_type": "code",
   "execution_count": 292,
   "metadata": {},
   "outputs": [
    {
     "data": {
      "text/plain": [
       "'teriyaki sauce'"
      ]
     },
     "execution_count": 292,
     "metadata": {},
     "output_type": "execute_result"
    }
   ],
   "source": [
    "ingredient_features.iloc[model['Ingredient Position'][2]].name"
   ]
  },
  {
   "cell_type": "code",
   "execution_count": 293,
   "metadata": {},
   "outputs": [
    {
     "name": "stdout",
     "output_type": "stream",
     "text": [
      "If you are buying ['American cheese', 'Dijon mustard'] you may also want to buy:\n",
      "---------------------------------------------------------\n",
      "0.onion rolls\n",
      "1.fresh mushrooms sliced\n",
      "2.Cajun seasoning\n",
      "3.linguine pasta\n",
      "4.lemon pepper\n",
      "5.Italian seasoned bread crumbs\n",
      "6.green onion\n",
      "7.heavy cream\n",
      "8.garlic powder\n",
      "9.sun-dried tomatoes chopped\n"
     ]
    },
    {
     "data": {
      "text/html": [
       "<div>\n",
       "<style scoped>\n",
       "    .dataframe tbody tr th:only-of-type {\n",
       "        vertical-align: middle;\n",
       "    }\n",
       "\n",
       "    .dataframe tbody tr th {\n",
       "        vertical-align: top;\n",
       "    }\n",
       "\n",
       "    .dataframe thead th {\n",
       "        text-align: right;\n",
       "    }\n",
       "</style>\n",
       "<table border=\"1\" class=\"dataframe\">\n",
       "  <thead>\n",
       "    <tr style=\"text-align: right;\">\n",
       "      <th></th>\n",
       "      <th>Ingredient Position</th>\n",
       "      <th>Distance</th>\n",
       "    </tr>\n",
       "  </thead>\n",
       "  <tbody>\n",
       "    <tr>\n",
       "      <th>0</th>\n",
       "      <td>310</td>\n",
       "      <td>0.065</td>\n",
       "    </tr>\n",
       "    <tr>\n",
       "      <th>1</th>\n",
       "      <td>201</td>\n",
       "      <td>0.299</td>\n",
       "    </tr>\n",
       "    <tr>\n",
       "      <th>2</th>\n",
       "      <td>3</td>\n",
       "      <td>0.341</td>\n",
       "    </tr>\n",
       "    <tr>\n",
       "      <th>3</th>\n",
       "      <td>285</td>\n",
       "      <td>0.341</td>\n",
       "    </tr>\n",
       "    <tr>\n",
       "      <th>4</th>\n",
       "      <td>280</td>\n",
       "      <td>0.341</td>\n",
       "    </tr>\n",
       "    <tr>\n",
       "      <th>5</th>\n",
       "      <td>11</td>\n",
       "      <td>0.360</td>\n",
       "    </tr>\n",
       "    <tr>\n",
       "      <th>6</th>\n",
       "      <td>222</td>\n",
       "      <td>0.361</td>\n",
       "    </tr>\n",
       "    <tr>\n",
       "      <th>7</th>\n",
       "      <td>246</td>\n",
       "      <td>0.372</td>\n",
       "    </tr>\n",
       "    <tr>\n",
       "      <th>8</th>\n",
       "      <td>213</td>\n",
       "      <td>0.428</td>\n",
       "    </tr>\n",
       "    <tr>\n",
       "      <th>9</th>\n",
       "      <td>403</td>\n",
       "      <td>0.435</td>\n",
       "    </tr>\n",
       "  </tbody>\n",
       "</table>\n",
       "</div>"
      ],
      "text/plain": [
       "   Ingredient Position  Distance\n",
       "0                  310     0.065\n",
       "1                  201     0.299\n",
       "2                    3     0.341\n",
       "3                  285     0.341\n",
       "4                  280     0.341\n",
       "5                   11     0.360\n",
       "6                  222     0.361\n",
       "7                  246     0.372\n",
       "8                  213     0.428\n",
       "9                  403     0.435"
      ]
     },
     "execution_count": 293,
     "metadata": {},
     "output_type": "execute_result"
    }
   ],
   "source": [
    "get_top10_recommendations(['American cheese', 'Dijon mustard', 'grated Parmesan cheese'])"
   ]
  },
  {
   "cell_type": "markdown",
   "metadata": {},
   "source": [
    "---\n",
    "\n",
    "Once we have our first version of the recommender we conclude that: \n",
    "- We can see that the recommender is not very useful since the ingredients that is recommending are very specific (e.g. 'Asian chile pepper sauce').\n",
    "- There are so many ingredients and won't be very user friendly"
   ]
  },
  {
   "cell_type": "code",
   "execution_count": null,
   "metadata": {},
   "outputs": [],
   "source": []
  },
  {
   "cell_type": "markdown",
   "metadata": {},
   "source": [
    "-----------------\n",
    "### Next Steps\n",
    "\n",
    "## Make recommender more user friendly"
   ]
  },
  {
   "cell_type": "code",
   "execution_count": null,
   "metadata": {},
   "outputs": [],
   "source": []
  },
  {
   "cell_type": "markdown",
   "metadata": {},
   "source": [
    "### #. Possible analysis\n",
    "- Which are the 25 recipes with more reviews\n",
    "- Is there a correlation between number of reviews and score. Hyphotesis, the higher the number of reviews the higher the score?\n",
    "- Is there any correlation between the number of ingredients of a recipe and the rating/number of reciews?"
   ]
  }
 ],
 "metadata": {
  "kernelspec": {
   "display_name": "Python 3",
   "language": "python",
   "name": "python3"
  },
  "language_info": {
   "codemirror_mode": {
    "name": "ipython",
    "version": 3
   },
   "file_extension": ".py",
   "mimetype": "text/x-python",
   "name": "python",
   "nbconvert_exporter": "python",
   "pygments_lexer": "ipython3",
   "version": "3.8.3"
  }
 },
 "nbformat": 4,
 "nbformat_minor": 4
}
