{
 "cells": [
  {
   "cell_type": "markdown",
   "metadata": {},
   "source": [
    "# Modeling ingredients recommender"
   ]
  },
  {
   "cell_type": "markdown",
   "metadata": {},
   "source": [
    "The goal of this notebook is to prepare the datasets that we will use to train the Machine Learning Model"
   ]
  },
  {
   "cell_type": "code",
   "execution_count": 2,
   "metadata": {},
   "outputs": [],
   "source": [
    "import pandas as pd\n",
    "import numpy as np\n",
    "import matplotlib.pyplot as plt\n",
    "import seaborn as sns\n",
    "import pickle\n",
    "\n",
    "%matplotlib inline\n",
    "\n",
    "pd.set_option('display.float_format', lambda x: '%.3f' % x)"
   ]
  },
  {
   "cell_type": "markdown",
   "metadata": {},
   "source": [
    "### 1.1 Import and subset"
   ]
  },
  {
   "cell_type": "code",
   "execution_count": 3,
   "metadata": {},
   "outputs": [],
   "source": [
    "reviews_ingredient = pd.read_pickle('data/to_sql/interactions_recipes_raw.pkl')"
   ]
  },
  {
   "cell_type": "code",
   "execution_count": 4,
   "metadata": {},
   "outputs": [
    {
     "data": {
      "text/plain": [
       "(3794003, 4)"
      ]
     },
     "execution_count": 4,
     "metadata": {},
     "output_type": "execute_result"
    }
   ],
   "source": [
    "reviews_ingredient.shape"
   ]
  },
  {
   "cell_type": "markdown",
   "metadata": {},
   "source": [
    "For the sake of the project, we are going to proceed with the first 250000 rows"
   ]
  },
  {
   "cell_type": "code",
   "execution_count": 5,
   "metadata": {},
   "outputs": [],
   "source": [
    "subset = reviews_ingredient[:250000].drop('Unnamed: 0', errors='ignore')"
   ]
  },
  {
   "cell_type": "code",
   "execution_count": 6,
   "metadata": {},
   "outputs": [
    {
     "data": {
      "text/html": [
       "<div>\n",
       "<style scoped>\n",
       "    .dataframe tbody tr th:only-of-type {\n",
       "        vertical-align: middle;\n",
       "    }\n",
       "\n",
       "    .dataframe tbody tr th {\n",
       "        vertical-align: top;\n",
       "    }\n",
       "\n",
       "    .dataframe thead th {\n",
       "        text-align: right;\n",
       "    }\n",
       "</style>\n",
       "<table border=\"1\" class=\"dataframe\">\n",
       "  <thead>\n",
       "    <tr style=\"text-align: right;\">\n",
       "      <th></th>\n",
       "      <th>user_id</th>\n",
       "      <th>recipe_id</th>\n",
       "      <th>rating</th>\n",
       "      <th>ingredients</th>\n",
       "    </tr>\n",
       "  </thead>\n",
       "  <tbody>\n",
       "    <tr>\n",
       "      <th>0</th>\n",
       "      <td>8542392</td>\n",
       "      <td>222388</td>\n",
       "      <td>5</td>\n",
       "      <td>[pork belly, smoked paprika, kosher salt, grou...</td>\n",
       "    </tr>\n",
       "    <tr>\n",
       "      <th>1</th>\n",
       "      <td>11174581</td>\n",
       "      <td>222388</td>\n",
       "      <td>5</td>\n",
       "      <td>[pork belly, smoked paprika, kosher salt, grou...</td>\n",
       "    </tr>\n",
       "    <tr>\n",
       "      <th>2</th>\n",
       "      <td>8262477</td>\n",
       "      <td>222388</td>\n",
       "      <td>5</td>\n",
       "      <td>[pork belly, smoked paprika, kosher salt, grou...</td>\n",
       "    </tr>\n",
       "    <tr>\n",
       "      <th>3</th>\n",
       "      <td>3574785</td>\n",
       "      <td>240488</td>\n",
       "      <td>5</td>\n",
       "      <td>[sauerkraut drained, Granny Smith apples slice...</td>\n",
       "    </tr>\n",
       "    <tr>\n",
       "      <th>4</th>\n",
       "      <td>12145410</td>\n",
       "      <td>240488</td>\n",
       "      <td>2</td>\n",
       "      <td>[sauerkraut drained, Granny Smith apples slice...</td>\n",
       "    </tr>\n",
       "  </tbody>\n",
       "</table>\n",
       "</div>"
      ],
      "text/plain": [
       "    user_id  recipe_id  rating  \\\n",
       "0   8542392     222388       5   \n",
       "1  11174581     222388       5   \n",
       "2   8262477     222388       5   \n",
       "3   3574785     240488       5   \n",
       "4  12145410     240488       2   \n",
       "\n",
       "                                         ingredients  \n",
       "0  [pork belly, smoked paprika, kosher salt, grou...  \n",
       "1  [pork belly, smoked paprika, kosher salt, grou...  \n",
       "2  [pork belly, smoked paprika, kosher salt, grou...  \n",
       "3  [sauerkraut drained, Granny Smith apples slice...  \n",
       "4  [sauerkraut drained, Granny Smith apples slice...  "
      ]
     },
     "execution_count": 6,
     "metadata": {},
     "output_type": "execute_result"
    }
   ],
   "source": [
    "subset.head()"
   ]
  },
  {
   "cell_type": "markdown",
   "metadata": {},
   "source": [
    "### 1.2. Reviews per ingredient\n",
    "\n",
    "The goal is to obtain a table with reviews per ingredients. Similar to:\n",
    "\n",
    "user_id | recipe_id | rating | ingredients\n",
    "--------|--------|--------|--------|\n",
    "int64 | int64 | int64 | object |"
   ]
  },
  {
   "cell_type": "code",
   "execution_count": 7,
   "metadata": {},
   "outputs": [],
   "source": [
    "# Convert ingredients column to list type\n",
    "subset = subset.explode('ingredients')"
   ]
  },
  {
   "cell_type": "code",
   "execution_count": 8,
   "metadata": {},
   "outputs": [
    {
     "data": {
      "text/html": [
       "<div>\n",
       "<style scoped>\n",
       "    .dataframe tbody tr th:only-of-type {\n",
       "        vertical-align: middle;\n",
       "    }\n",
       "\n",
       "    .dataframe tbody tr th {\n",
       "        vertical-align: top;\n",
       "    }\n",
       "\n",
       "    .dataframe thead th {\n",
       "        text-align: right;\n",
       "    }\n",
       "</style>\n",
       "<table border=\"1\" class=\"dataframe\">\n",
       "  <thead>\n",
       "    <tr style=\"text-align: right;\">\n",
       "      <th></th>\n",
       "      <th>user_id</th>\n",
       "      <th>recipe_id</th>\n",
       "      <th>rating</th>\n",
       "      <th>ingredients</th>\n",
       "    </tr>\n",
       "  </thead>\n",
       "  <tbody>\n",
       "    <tr>\n",
       "      <th>0</th>\n",
       "      <td>8542392</td>\n",
       "      <td>222388</td>\n",
       "      <td>5</td>\n",
       "      <td>pork belly</td>\n",
       "    </tr>\n",
       "    <tr>\n",
       "      <th>0</th>\n",
       "      <td>8542392</td>\n",
       "      <td>222388</td>\n",
       "      <td>5</td>\n",
       "      <td>smoked paprika</td>\n",
       "    </tr>\n",
       "    <tr>\n",
       "      <th>0</th>\n",
       "      <td>8542392</td>\n",
       "      <td>222388</td>\n",
       "      <td>5</td>\n",
       "      <td>kosher salt</td>\n",
       "    </tr>\n",
       "    <tr>\n",
       "      <th>0</th>\n",
       "      <td>8542392</td>\n",
       "      <td>222388</td>\n",
       "      <td>5</td>\n",
       "      <td>ground black pepper</td>\n",
       "    </tr>\n",
       "    <tr>\n",
       "      <th>1</th>\n",
       "      <td>11174581</td>\n",
       "      <td>222388</td>\n",
       "      <td>5</td>\n",
       "      <td>pork belly</td>\n",
       "    </tr>\n",
       "    <tr>\n",
       "      <th>1</th>\n",
       "      <td>11174581</td>\n",
       "      <td>222388</td>\n",
       "      <td>5</td>\n",
       "      <td>smoked paprika</td>\n",
       "    </tr>\n",
       "    <tr>\n",
       "      <th>1</th>\n",
       "      <td>11174581</td>\n",
       "      <td>222388</td>\n",
       "      <td>5</td>\n",
       "      <td>kosher salt</td>\n",
       "    </tr>\n",
       "    <tr>\n",
       "      <th>1</th>\n",
       "      <td>11174581</td>\n",
       "      <td>222388</td>\n",
       "      <td>5</td>\n",
       "      <td>ground black pepper</td>\n",
       "    </tr>\n",
       "    <tr>\n",
       "      <th>2</th>\n",
       "      <td>8262477</td>\n",
       "      <td>222388</td>\n",
       "      <td>5</td>\n",
       "      <td>pork belly</td>\n",
       "    </tr>\n",
       "    <tr>\n",
       "      <th>2</th>\n",
       "      <td>8262477</td>\n",
       "      <td>222388</td>\n",
       "      <td>5</td>\n",
       "      <td>smoked paprika</td>\n",
       "    </tr>\n",
       "  </tbody>\n",
       "</table>\n",
       "</div>"
      ],
      "text/plain": [
       "    user_id  recipe_id  rating          ingredients\n",
       "0   8542392     222388       5           pork belly\n",
       "0   8542392     222388       5       smoked paprika\n",
       "0   8542392     222388       5          kosher salt\n",
       "0   8542392     222388       5  ground black pepper\n",
       "1  11174581     222388       5           pork belly\n",
       "1  11174581     222388       5       smoked paprika\n",
       "1  11174581     222388       5          kosher salt\n",
       "1  11174581     222388       5  ground black pepper\n",
       "2   8262477     222388       5           pork belly\n",
       "2   8262477     222388       5       smoked paprika"
      ]
     },
     "execution_count": 8,
     "metadata": {},
     "output_type": "execute_result"
    }
   ],
   "source": [
    "subset.head(10)"
   ]
  },
  {
   "cell_type": "code",
   "execution_count": 9,
   "metadata": {},
   "outputs": [],
   "source": [
    "# Drop 'recipe_id' rating\n",
    "subset.drop('recipe_id', axis=1, inplace=True, errors='ignore')"
   ]
  },
  {
   "cell_type": "markdown",
   "metadata": {},
   "source": [
    "## 2. Create feature set\n",
    "based on user ratings for recipes that we are using to ingredients as well\n",
    "\n",
    "Dataset design:\n",
    "\n",
    "| ingredient | user1 | user2 | ... | userN |\n",
    "|---------|-------|-------|-----|-------|\n",
    "| pork belly | NA | 1 | ... | 5 |\n",
    "| smoked paprika | 3 | NA | ... | 2 |\n",
    "\n",
    "### 2.1 Filter ingredients with almost no ratings.\n",
    "\n",
    "2. Count ratings for each ingredient\n",
    "3. Join ratings on count from previous step\n",
    "4. Fitler"
   ]
  },
  {
   "cell_type": "code",
   "execution_count": 10,
   "metadata": {},
   "outputs": [],
   "source": [
    "# Count number of ratings\n",
    "no_of_ratings_ingredient = (subset\n",
    "                            .groupby(\"ingredients\", as_index=True)\n",
    "                            .agg({\"user_id\": \"count\"})\n",
    "                            .rename(columns={\"user_id\": \"no_of_ratings_ingredient\"}))"
   ]
  },
  {
   "cell_type": "code",
   "execution_count": 18,
   "metadata": {},
   "outputs": [
    {
     "data": {
      "text/html": [
       "<div>\n",
       "<style scoped>\n",
       "    .dataframe tbody tr th:only-of-type {\n",
       "        vertical-align: middle;\n",
       "    }\n",
       "\n",
       "    .dataframe tbody tr th {\n",
       "        vertical-align: top;\n",
       "    }\n",
       "\n",
       "    .dataframe thead th {\n",
       "        text-align: right;\n",
       "    }\n",
       "</style>\n",
       "<table border=\"1\" class=\"dataframe\">\n",
       "  <thead>\n",
       "    <tr style=\"text-align: right;\">\n",
       "      <th></th>\n",
       "      <th>no_of_ratings_ingredient</th>\n",
       "    </tr>\n",
       "    <tr>\n",
       "      <th>ingredients</th>\n",
       "      <th></th>\n",
       "    </tr>\n",
       "  </thead>\n",
       "  <tbody>\n",
       "    <tr>\n",
       "      <th></th>\n",
       "      <td>172</td>\n",
       "    </tr>\n",
       "    <tr>\n",
       "      <th>'bouqet garni' spice balls</th>\n",
       "      <td>16</td>\n",
       "    </tr>\n",
       "    <tr>\n",
       "      <th>1 1/2 inch thick filet mignon steaks</th>\n",
       "      <td>91</td>\n",
       "    </tr>\n",
       "    <tr>\n",
       "      <th>1% milk</th>\n",
       "      <td>18</td>\n",
       "    </tr>\n",
       "    <tr>\n",
       "      <th>1-inch cut green beans</th>\n",
       "      <td>11</td>\n",
       "    </tr>\n",
       "    <tr>\n",
       "      <th>...</th>\n",
       "      <td>...</td>\n",
       "    </tr>\n",
       "    <tr>\n",
       "      <th>zucchini thickly sliced</th>\n",
       "      <td>140</td>\n",
       "    </tr>\n",
       "    <tr>\n",
       "      <th>zucchini thinly sliced</th>\n",
       "      <td>24</td>\n",
       "    </tr>\n",
       "    <tr>\n",
       "      <th>zucchinis cubed</th>\n",
       "      <td>44</td>\n",
       "    </tr>\n",
       "    <tr>\n",
       "      <th>zucchinis sliced</th>\n",
       "      <td>87</td>\n",
       "    </tr>\n",
       "    <tr>\n",
       "      <th>zucchinis thinly sliced</th>\n",
       "      <td>1</td>\n",
       "    </tr>\n",
       "  </tbody>\n",
       "</table>\n",
       "<p>5570 rows × 1 columns</p>\n",
       "</div>"
      ],
      "text/plain": [
       "                                      no_of_ratings_ingredient\n",
       "ingredients                                                   \n",
       "                                                           172\n",
       "'bouqet garni' spice balls                                  16\n",
       "1 1/2 inch thick filet mignon steaks                        91\n",
       "1% milk                                                     18\n",
       "1-inch cut green beans                                      11\n",
       "...                                                        ...\n",
       "zucchini thickly sliced                                    140\n",
       "zucchini thinly sliced                                      24\n",
       "zucchinis cubed                                             44\n",
       "zucchinis sliced                                            87\n",
       "zucchinis thinly sliced                                      1\n",
       "\n",
       "[5570 rows x 1 columns]"
      ]
     },
     "execution_count": 18,
     "metadata": {},
     "output_type": "execute_result"
    }
   ],
   "source": [
    "no_of_ratings_ingredient"
   ]
  },
  {
   "cell_type": "code",
   "execution_count": 19,
   "metadata": {},
   "outputs": [
    {
     "data": {
      "image/png": "[encoded data removed]",
      "text/plain": [
       "<Figure size 720x432 with 1 Axes>"
      ]
     },
     "metadata": {
      "needs_background": "light"
     },
     "output_type": "display_data"
    }
   ],
   "source": [
    "plt.figure(figsize=(10,6))\n",
    "\n",
    "sns.distplot(no_of_ratings_ingredient);"
   ]
  },
  {
   "cell_type": "code",
   "execution_count": 20,
   "metadata": {},
   "outputs": [
    {
     "data": {
      "text/html": [
       "<div>\n",
       "<style scoped>\n",
       "    .dataframe tbody tr th:only-of-type {\n",
       "        vertical-align: middle;\n",
       "    }\n",
       "\n",
       "    .dataframe tbody tr th {\n",
       "        vertical-align: top;\n",
       "    }\n",
       "\n",
       "    .dataframe thead th {\n",
       "        text-align: right;\n",
       "    }\n",
       "</style>\n",
       "<table border=\"1\" class=\"dataframe\">\n",
       "  <thead>\n",
       "    <tr style=\"text-align: right;\">\n",
       "      <th></th>\n",
       "      <th>no_of_ratings_ingredient</th>\n",
       "    </tr>\n",
       "  </thead>\n",
       "  <tbody>\n",
       "    <tr>\n",
       "      <th>count</th>\n",
       "      <td>5570.000</td>\n",
       "    </tr>\n",
       "    <tr>\n",
       "      <th>mean</th>\n",
       "      <td>452.697</td>\n",
       "    </tr>\n",
       "    <tr>\n",
       "      <th>std</th>\n",
       "      <td>2740.982</td>\n",
       "    </tr>\n",
       "    <tr>\n",
       "      <th>min</th>\n",
       "      <td>1.000</td>\n",
       "    </tr>\n",
       "    <tr>\n",
       "      <th>25%</th>\n",
       "      <td>7.000</td>\n",
       "    </tr>\n",
       "    <tr>\n",
       "      <th>50%</th>\n",
       "      <td>28.500</td>\n",
       "    </tr>\n",
       "    <tr>\n",
       "      <th>75%</th>\n",
       "      <td>112.000</td>\n",
       "    </tr>\n",
       "    <tr>\n",
       "      <th>max</th>\n",
       "      <td>80390.000</td>\n",
       "    </tr>\n",
       "  </tbody>\n",
       "</table>\n",
       "</div>"
      ],
      "text/plain": [
       "       no_of_ratings_ingredient\n",
       "count                  5570.000\n",
       "mean                    452.697\n",
       "std                    2740.982\n",
       "min                       1.000\n",
       "25%                       7.000\n",
       "50%                      28.500\n",
       "75%                     112.000\n",
       "max                   80390.000"
      ]
     },
     "execution_count": 20,
     "metadata": {},
     "output_type": "execute_result"
    }
   ],
   "source": [
    "no_of_ratings_ingredient.describe()"
   ]
  },
  {
   "cell_type": "markdown",
   "metadata": {},
   "source": [
    "We can see that there are many ingredients that have very few reviews while there is an ingredient that has 1.5M reviews. In the following graph we'll try to decide thich is the minimum reviews that an ingredient should have to continue with the model. We will try to build the model with a **min_threshold of 100** and **max_threshold of 10000**."
   ]
  },
  {
   "cell_type": "code",
   "execution_count": 21,
   "metadata": {},
   "outputs": [],
   "source": [
    "min_threshold_ingredient = 100\n",
    "max_threshold_ingredient = 10000\n",
    "\n",
    "no_of_ratings_ingredient_subset = no_of_ratings_ingredient[(no_of_ratings_ingredient['no_of_ratings_ingredient'] > min_threshold_ingredient) & (no_of_ratings_ingredient['no_of_ratings_ingredient'] < max_threshold_ingredient)]"
   ]
  },
  {
   "cell_type": "code",
   "execution_count": 22,
   "metadata": {},
   "outputs": [
    {
     "data": {
      "image/png": "[encoded data removed]",
      "text/plain": [
       "<Figure size 720x432 with 1 Axes>"
      ]
     },
     "metadata": {
      "needs_background": "light"
     },
     "output_type": "display_data"
    }
   ],
   "source": [
    "plt.figure(figsize=(10,6))\n",
    "\n",
    "sns.distplot(no_of_ratings_ingredient_subset);"
   ]
  },
  {
   "cell_type": "code",
   "execution_count": 23,
   "metadata": {},
   "outputs": [
    {
     "data": {
      "text/plain": [
       "(1420, 1)"
      ]
     },
     "execution_count": 23,
     "metadata": {},
     "output_type": "execute_result"
    }
   ],
   "source": [
    "no_of_ratings_ingredient_subset.shape"
   ]
  },
  {
   "cell_type": "code",
   "execution_count": 24,
   "metadata": {},
   "outputs": [
    {
     "name": "stdout",
     "output_type": "stream",
     "text": [
      "We are goin to carry on with our model with 1420 ingredients\n"
     ]
    }
   ],
   "source": [
    "print(f'We are goin to carry on with our model with {no_of_ratings_ingredient_subset.shape[0]} ingredients')"
   ]
  },
  {
   "cell_type": "markdown",
   "metadata": {},
   "source": [
    "### 2.2 Filter users with almost no ratings.\n",
    "\n",
    "1. Count ratings per each user_id\n",
    "2. Fitler"
   ]
  },
  {
   "cell_type": "markdown",
   "metadata": {},
   "source": [
    "#### 2..2.1 Counting ratings per each user_id\n",
    "We are going to identify which are the users that does not have enough ratings to be meaningful for our model"
   ]
  },
  {
   "cell_type": "code",
   "execution_count": 25,
   "metadata": {},
   "outputs": [],
   "source": [
    "no_of_ratings_user = (subset\n",
    "                      .groupby(\"user_id\", as_index=True)\n",
    "                      .agg({\"rating\": \"count\"})\n",
    "                      .rename(columns={\"rating\": \"no_of_ratings_user\"}))"
   ]
  },
  {
   "cell_type": "code",
   "execution_count": 26,
   "metadata": {},
   "outputs": [
    {
     "data": {
      "text/html": [
       "<div>\n",
       "<style scoped>\n",
       "    .dataframe tbody tr th:only-of-type {\n",
       "        vertical-align: middle;\n",
       "    }\n",
       "\n",
       "    .dataframe tbody tr th {\n",
       "        vertical-align: top;\n",
       "    }\n",
       "\n",
       "    .dataframe thead th {\n",
       "        text-align: right;\n",
       "    }\n",
       "</style>\n",
       "<table border=\"1\" class=\"dataframe\">\n",
       "  <thead>\n",
       "    <tr style=\"text-align: right;\">\n",
       "      <th></th>\n",
       "      <th>no_of_ratings_user</th>\n",
       "    </tr>\n",
       "    <tr>\n",
       "      <th>user_id</th>\n",
       "      <th></th>\n",
       "    </tr>\n",
       "  </thead>\n",
       "  <tbody>\n",
       "    <tr>\n",
       "      <th>32</th>\n",
       "      <td>27</td>\n",
       "    </tr>\n",
       "    <tr>\n",
       "      <th>39</th>\n",
       "      <td>228</td>\n",
       "    </tr>\n",
       "    <tr>\n",
       "      <th>64</th>\n",
       "      <td>22</td>\n",
       "    </tr>\n",
       "    <tr>\n",
       "      <th>71</th>\n",
       "      <td>58</td>\n",
       "    </tr>\n",
       "    <tr>\n",
       "      <th>81</th>\n",
       "      <td>13</td>\n",
       "    </tr>\n",
       "  </tbody>\n",
       "</table>\n",
       "</div>"
      ],
      "text/plain": [
       "         no_of_ratings_user\n",
       "user_id                    \n",
       "32                       27\n",
       "39                      228\n",
       "64                       22\n",
       "71                       58\n",
       "81                       13"
      ]
     },
     "execution_count": 26,
     "metadata": {},
     "output_type": "execute_result"
    }
   ],
   "source": [
    "no_of_ratings_user.head()"
   ]
  },
  {
   "cell_type": "code",
   "execution_count": 27,
   "metadata": {},
   "outputs": [
    {
     "data": {
      "image/png": "[encoded data removed]",
      "text/plain": [
       "<Figure size 720x432 with 1 Axes>"
      ]
     },
     "metadata": {
      "needs_background": "light"
     },
     "output_type": "display_data"
    }
   ],
   "source": [
    "plt.figure(figsize=(10,6))\n",
    "\n",
    "sns.distplot(no_of_ratings_user);"
   ]
  },
  {
   "cell_type": "code",
   "execution_count": 28,
   "metadata": {},
   "outputs": [
    {
     "data": {
      "text/html": [
       "<div>\n",
       "<style scoped>\n",
       "    .dataframe tbody tr th:only-of-type {\n",
       "        vertical-align: middle;\n",
       "    }\n",
       "\n",
       "    .dataframe tbody tr th {\n",
       "        vertical-align: top;\n",
       "    }\n",
       "\n",
       "    .dataframe thead th {\n",
       "        text-align: right;\n",
       "    }\n",
       "</style>\n",
       "<table border=\"1\" class=\"dataframe\">\n",
       "  <thead>\n",
       "    <tr style=\"text-align: right;\">\n",
       "      <th></th>\n",
       "      <th>no_of_ratings_user</th>\n",
       "    </tr>\n",
       "  </thead>\n",
       "  <tbody>\n",
       "    <tr>\n",
       "      <th>count</th>\n",
       "      <td>164044.000</td>\n",
       "    </tr>\n",
       "    <tr>\n",
       "      <th>mean</th>\n",
       "      <td>15.371</td>\n",
       "    </tr>\n",
       "    <tr>\n",
       "      <th>std</th>\n",
       "      <td>22.397</td>\n",
       "    </tr>\n",
       "    <tr>\n",
       "      <th>min</th>\n",
       "      <td>2.000</td>\n",
       "    </tr>\n",
       "    <tr>\n",
       "      <th>25%</th>\n",
       "      <td>8.000</td>\n",
       "    </tr>\n",
       "    <tr>\n",
       "      <th>50%</th>\n",
       "      <td>11.000</td>\n",
       "    </tr>\n",
       "    <tr>\n",
       "      <th>75%</th>\n",
       "      <td>16.000</td>\n",
       "    </tr>\n",
       "    <tr>\n",
       "      <th>max</th>\n",
       "      <td>1533.000</td>\n",
       "    </tr>\n",
       "  </tbody>\n",
       "</table>\n",
       "</div>"
      ],
      "text/plain": [
       "       no_of_ratings_user\n",
       "count          164044.000\n",
       "mean               15.371\n",
       "std                22.397\n",
       "min                 2.000\n",
       "25%                 8.000\n",
       "50%                11.000\n",
       "75%                16.000\n",
       "max              1533.000"
      ]
     },
     "execution_count": 28,
     "metadata": {},
     "output_type": "execute_result"
    }
   ],
   "source": [
    "no_of_ratings_user.describe()"
   ]
  },
  {
   "cell_type": "markdown",
   "metadata": {},
   "source": [
    "We can see that there are some users that have very few ratings while there are others with 295. In the following graph we'll try to decide thich is the minimum ratings that a user should have done in order to continue with the model. We will try to build the model with a **min_threshold of 10** and a **max_threshold of 1000**.\n",
    "\n",
    "### 2.2.2 Filter"
   ]
  },
  {
   "cell_type": "code",
   "execution_count": 29,
   "metadata": {},
   "outputs": [],
   "source": [
    "min_threshold_user = 10\n",
    "max_threshold_user = 1000\n",
    "\n",
    "no_of_ratings_user_subset = no_of_ratings_user[(no_of_ratings_user['no_of_ratings_user'] > min_threshold_user) & (no_of_ratings_user['no_of_ratings_user'] < max_threshold_user)]"
   ]
  },
  {
   "cell_type": "code",
   "execution_count": 30,
   "metadata": {},
   "outputs": [
    {
     "data": {
      "image/png": "[encoded data removed]",
      "text/plain": [
       "<Figure size 720x432 with 1 Axes>"
      ]
     },
     "metadata": {
      "needs_background": "light"
     },
     "output_type": "display_data"
    }
   ],
   "source": [
    "plt.figure(figsize=(10,6))\n",
    "\n",
    "sns.distplot(no_of_ratings_user_subset);"
   ]
  },
  {
   "cell_type": "code",
   "execution_count": 31,
   "metadata": {},
   "outputs": [
    {
     "name": "stdout",
     "output_type": "stream",
     "text": [
      "We are goin to carry on with our model with 87838 users\n"
     ]
    }
   ],
   "source": [
    "print(f'We are goin to carry on with our model with {no_of_ratings_user_subset.shape[0]} users')"
   ]
  },
  {
   "cell_type": "markdown",
   "metadata": {},
   "source": [
    "### 3.2 Prepare the subset for the model\n",
    "Now that we know with the ingredients and the users that we will keep for the model, we can prepare the dataset for the model. "
   ]
  },
  {
   "cell_type": "code",
   "execution_count": 32,
   "metadata": {},
   "outputs": [],
   "source": [
    "# Group subset by ingredient and avegage in case that a user rated an ingredient more than once\n",
    "# subset = subset.groupby('ingredients').agg({'mean'})\n",
    "# subset.reset_index(inplace=True)"
   ]
  },
  {
   "cell_type": "code",
   "execution_count": 33,
   "metadata": {},
   "outputs": [
    {
     "data": {
      "text/html": [
       "<div>\n",
       "<style scoped>\n",
       "    .dataframe tbody tr th:only-of-type {\n",
       "        vertical-align: middle;\n",
       "    }\n",
       "\n",
       "    .dataframe tbody tr th {\n",
       "        vertical-align: top;\n",
       "    }\n",
       "\n",
       "    .dataframe thead th {\n",
       "        text-align: right;\n",
       "    }\n",
       "</style>\n",
       "<table border=\"1\" class=\"dataframe\">\n",
       "  <thead>\n",
       "    <tr style=\"text-align: right;\">\n",
       "      <th></th>\n",
       "      <th>user_id</th>\n",
       "      <th>rating</th>\n",
       "      <th>ingredients</th>\n",
       "    </tr>\n",
       "  </thead>\n",
       "  <tbody>\n",
       "    <tr>\n",
       "      <th>0</th>\n",
       "      <td>8542392</td>\n",
       "      <td>5</td>\n",
       "      <td>pork belly</td>\n",
       "    </tr>\n",
       "    <tr>\n",
       "      <th>0</th>\n",
       "      <td>8542392</td>\n",
       "      <td>5</td>\n",
       "      <td>smoked paprika</td>\n",
       "    </tr>\n",
       "    <tr>\n",
       "      <th>0</th>\n",
       "      <td>8542392</td>\n",
       "      <td>5</td>\n",
       "      <td>kosher salt</td>\n",
       "    </tr>\n",
       "    <tr>\n",
       "      <th>0</th>\n",
       "      <td>8542392</td>\n",
       "      <td>5</td>\n",
       "      <td>ground black pepper</td>\n",
       "    </tr>\n",
       "    <tr>\n",
       "      <th>1</th>\n",
       "      <td>11174581</td>\n",
       "      <td>5</td>\n",
       "      <td>pork belly</td>\n",
       "    </tr>\n",
       "  </tbody>\n",
       "</table>\n",
       "</div>"
      ],
      "text/plain": [
       "    user_id  rating          ingredients\n",
       "0   8542392       5           pork belly\n",
       "0   8542392       5       smoked paprika\n",
       "0   8542392       5          kosher salt\n",
       "0   8542392       5  ground black pepper\n",
       "1  11174581       5           pork belly"
      ]
     },
     "execution_count": 33,
     "metadata": {},
     "output_type": "execute_result"
    }
   ],
   "source": [
    "subset.head()"
   ]
  },
  {
   "cell_type": "code",
   "execution_count": 34,
   "metadata": {},
   "outputs": [],
   "source": [
    "# Merge with number of ratings\n",
    "subset_ml = (subset\n",
    "             .merge(no_of_ratings_ingredient, how='left', on='ingredients')\n",
    "             .merge(no_of_ratings_user, how='left', on='user_id'))\n",
    "\n",
    "subset_ml.reset_index(drop=True, inplace=True)"
   ]
  },
  {
   "cell_type": "code",
   "execution_count": 35,
   "metadata": {},
   "outputs": [
    {
     "data": {
      "text/html": [
       "<div>\n",
       "<style scoped>\n",
       "    .dataframe tbody tr th:only-of-type {\n",
       "        vertical-align: middle;\n",
       "    }\n",
       "\n",
       "    .dataframe tbody tr th {\n",
       "        vertical-align: top;\n",
       "    }\n",
       "\n",
       "    .dataframe thead th {\n",
       "        text-align: right;\n",
       "    }\n",
       "</style>\n",
       "<table border=\"1\" class=\"dataframe\">\n",
       "  <thead>\n",
       "    <tr style=\"text-align: right;\">\n",
       "      <th></th>\n",
       "      <th>user_id</th>\n",
       "      <th>rating</th>\n",
       "      <th>ingredients</th>\n",
       "      <th>no_of_ratings_ingredient</th>\n",
       "      <th>no_of_ratings_user</th>\n",
       "    </tr>\n",
       "  </thead>\n",
       "  <tbody>\n",
       "    <tr>\n",
       "      <th>0</th>\n",
       "      <td>8542392</td>\n",
       "      <td>5</td>\n",
       "      <td>pork belly</td>\n",
       "      <td>9</td>\n",
       "      <td>11</td>\n",
       "    </tr>\n",
       "    <tr>\n",
       "      <th>1</th>\n",
       "      <td>8542392</td>\n",
       "      <td>5</td>\n",
       "      <td>smoked paprika</td>\n",
       "      <td>324</td>\n",
       "      <td>11</td>\n",
       "    </tr>\n",
       "    <tr>\n",
       "      <th>2</th>\n",
       "      <td>8542392</td>\n",
       "      <td>5</td>\n",
       "      <td>kosher salt</td>\n",
       "      <td>3685</td>\n",
       "      <td>11</td>\n",
       "    </tr>\n",
       "    <tr>\n",
       "      <th>3</th>\n",
       "      <td>8542392</td>\n",
       "      <td>5</td>\n",
       "      <td>ground black pepper</td>\n",
       "      <td>45869</td>\n",
       "      <td>11</td>\n",
       "    </tr>\n",
       "    <tr>\n",
       "      <th>4</th>\n",
       "      <td>11174581</td>\n",
       "      <td>5</td>\n",
       "      <td>pork belly</td>\n",
       "      <td>9</td>\n",
       "      <td>4</td>\n",
       "    </tr>\n",
       "  </tbody>\n",
       "</table>\n",
       "</div>"
      ],
      "text/plain": [
       "    user_id  rating          ingredients  no_of_ratings_ingredient  \\\n",
       "0   8542392       5           pork belly                         9   \n",
       "1   8542392       5       smoked paprika                       324   \n",
       "2   8542392       5          kosher salt                      3685   \n",
       "3   8542392       5  ground black pepper                     45869   \n",
       "4  11174581       5           pork belly                         9   \n",
       "\n",
       "   no_of_ratings_user  \n",
       "0                  11  \n",
       "1                  11  \n",
       "2                  11  \n",
       "3                  11  \n",
       "4                   4  "
      ]
     },
     "execution_count": 35,
     "metadata": {},
     "output_type": "execute_result"
    }
   ],
   "source": [
    "subset_ml.head()"
   ]
  },
  {
   "cell_type": "code",
   "execution_count": 36,
   "metadata": {},
   "outputs": [],
   "source": [
    "# Drop ingredients with less than min_threshold_ingredient\n",
    "final_ingredients = subset_ml[(subset_ml['no_of_ratings_ingredient'] >= min_threshold_ingredient) &\n",
    "                              (subset_ml['no_of_ratings_ingredient'] <= max_threshold_ingredient)]\n",
    "\n",
    "# Drop users with less than the min_threshols_user\n",
    "final_ingredients = final_ingredients[(final_ingredients['no_of_ratings_user'] >= min_threshold_user) &\n",
    "                                      (final_ingredients['no_of_ratings_user'] >= min_threshold_user)]\n",
    "\n",
    "# Reset index\n",
    "final_ingredients.reset_index(drop=True, inplace=True)"
   ]
  },
  {
   "cell_type": "code",
   "execution_count": 37,
   "metadata": {},
   "outputs": [
    {
     "data": {
      "text/plain": [
       "(1073218, 5)"
      ]
     },
     "execution_count": 37,
     "metadata": {},
     "output_type": "execute_result"
    }
   ],
   "source": [
    "final_ingredients.shape"
   ]
  },
  {
   "cell_type": "code",
   "execution_count": 38,
   "metadata": {},
   "outputs": [
    {
     "data": {
      "text/html": [
       "<div>\n",
       "<style scoped>\n",
       "    .dataframe tbody tr th:only-of-type {\n",
       "        vertical-align: middle;\n",
       "    }\n",
       "\n",
       "    .dataframe tbody tr th {\n",
       "        vertical-align: top;\n",
       "    }\n",
       "\n",
       "    .dataframe thead th {\n",
       "        text-align: right;\n",
       "    }\n",
       "</style>\n",
       "<table border=\"1\" class=\"dataframe\">\n",
       "  <thead>\n",
       "    <tr style=\"text-align: right;\">\n",
       "      <th></th>\n",
       "      <th>user_id</th>\n",
       "      <th>rating</th>\n",
       "      <th>ingredients</th>\n",
       "      <th>no_of_ratings_ingredient</th>\n",
       "      <th>no_of_ratings_user</th>\n",
       "    </tr>\n",
       "  </thead>\n",
       "  <tbody>\n",
       "    <tr>\n",
       "      <th>0</th>\n",
       "      <td>8542392</td>\n",
       "      <td>5</td>\n",
       "      <td>smoked paprika</td>\n",
       "      <td>324</td>\n",
       "      <td>11</td>\n",
       "    </tr>\n",
       "    <tr>\n",
       "      <th>1</th>\n",
       "      <td>8542392</td>\n",
       "      <td>5</td>\n",
       "      <td>kosher salt</td>\n",
       "      <td>3685</td>\n",
       "      <td>11</td>\n",
       "    </tr>\n",
       "    <tr>\n",
       "      <th>2</th>\n",
       "      <td>3574785</td>\n",
       "      <td>5</td>\n",
       "      <td>sauerkraut drained</td>\n",
       "      <td>169</td>\n",
       "      <td>21</td>\n",
       "    </tr>\n",
       "    <tr>\n",
       "      <th>3</th>\n",
       "      <td>3574785</td>\n",
       "      <td>5</td>\n",
       "      <td>large onion</td>\n",
       "      <td>5439</td>\n",
       "      <td>21</td>\n",
       "    </tr>\n",
       "    <tr>\n",
       "      <th>4</th>\n",
       "      <td>3574785</td>\n",
       "      <td>5</td>\n",
       "      <td>caraway seeds</td>\n",
       "      <td>476</td>\n",
       "      <td>21</td>\n",
       "    </tr>\n",
       "  </tbody>\n",
       "</table>\n",
       "</div>"
      ],
      "text/plain": [
       "   user_id  rating         ingredients  no_of_ratings_ingredient  \\\n",
       "0  8542392       5      smoked paprika                       324   \n",
       "1  8542392       5         kosher salt                      3685   \n",
       "2  3574785       5  sauerkraut drained                       169   \n",
       "3  3574785       5         large onion                      5439   \n",
       "4  3574785       5       caraway seeds                       476   \n",
       "\n",
       "   no_of_ratings_user  \n",
       "0                  11  \n",
       "1                  11  \n",
       "2                  21  \n",
       "3                  21  \n",
       "4                  21  "
      ]
     },
     "execution_count": 38,
     "metadata": {},
     "output_type": "execute_result"
    }
   ],
   "source": [
    "final_ingredients.head()"
   ]
  },
  {
   "cell_type": "markdown",
   "metadata": {},
   "source": [
    "### 2.3 Create feature set\n"
   ]
  },
  {
   "cell_type": "code",
   "execution_count": 39,
   "metadata": {},
   "outputs": [],
   "source": [
    "# Pivot tables\n",
    "ingredient_features = final_ingredients.pivot_table(index=\"ingredients\",\n",
    "                                          columns=\"user_id\",\n",
    "                                          values=\"rating\").fillna(0)"
   ]
  },
  {
   "cell_type": "code",
   "execution_count": 40,
   "metadata": {},
   "outputs": [
    {
     "name": "stdout",
     "output_type": "stream",
     "text": [
      "Number of users: 1433\n",
      "Number of ingredients: 103492\n"
     ]
    }
   ],
   "source": [
    "print(f\"Number of users: {ingredient_features.shape[0]}\")\n",
    "print(f\"Number of ingredients: {ingredient_features.shape[1]}\")"
   ]
  },
  {
   "cell_type": "code",
   "execution_count": 41,
   "metadata": {},
   "outputs": [
    {
     "data": {
      "text/html": [
       "<div>\n",
       "<style scoped>\n",
       "    .dataframe tbody tr th:only-of-type {\n",
       "        vertical-align: middle;\n",
       "    }\n",
       "\n",
       "    .dataframe tbody tr th {\n",
       "        vertical-align: top;\n",
       "    }\n",
       "\n",
       "    .dataframe thead th {\n",
       "        text-align: right;\n",
       "    }\n",
       "</style>\n",
       "<table border=\"1\" class=\"dataframe\">\n",
       "  <thead>\n",
       "    <tr style=\"text-align: right;\">\n",
       "      <th>user_id</th>\n",
       "      <th>32</th>\n",
       "      <th>39</th>\n",
       "      <th>64</th>\n",
       "      <th>71</th>\n",
       "      <th>81</th>\n",
       "      <th>103</th>\n",
       "      <th>138</th>\n",
       "      <th>208</th>\n",
       "      <th>213</th>\n",
       "      <th>240</th>\n",
       "      <th>...</th>\n",
       "      <th>23368068</th>\n",
       "      <th>23370390</th>\n",
       "      <th>23370403</th>\n",
       "      <th>23374791</th>\n",
       "      <th>23375614</th>\n",
       "      <th>23384606</th>\n",
       "      <th>23389673</th>\n",
       "      <th>23397702</th>\n",
       "      <th>23412582</th>\n",
       "      <th>23417930</th>\n",
       "    </tr>\n",
       "    <tr>\n",
       "      <th>ingredients</th>\n",
       "      <th></th>\n",
       "      <th></th>\n",
       "      <th></th>\n",
       "      <th></th>\n",
       "      <th></th>\n",
       "      <th></th>\n",
       "      <th></th>\n",
       "      <th></th>\n",
       "      <th></th>\n",
       "      <th></th>\n",
       "      <th></th>\n",
       "      <th></th>\n",
       "      <th></th>\n",
       "      <th></th>\n",
       "      <th></th>\n",
       "      <th></th>\n",
       "      <th></th>\n",
       "      <th></th>\n",
       "      <th></th>\n",
       "      <th></th>\n",
       "      <th></th>\n",
       "    </tr>\n",
       "  </thead>\n",
       "  <tbody>\n",
       "    <tr>\n",
       "      <th></th>\n",
       "      <td>0.000</td>\n",
       "      <td>4.000</td>\n",
       "      <td>0.000</td>\n",
       "      <td>0.000</td>\n",
       "      <td>0.000</td>\n",
       "      <td>0.000</td>\n",
       "      <td>0.000</td>\n",
       "      <td>0.000</td>\n",
       "      <td>0.000</td>\n",
       "      <td>0.000</td>\n",
       "      <td>...</td>\n",
       "      <td>0.000</td>\n",
       "      <td>0.000</td>\n",
       "      <td>0.000</td>\n",
       "      <td>0.000</td>\n",
       "      <td>0.000</td>\n",
       "      <td>0.000</td>\n",
       "      <td>0.000</td>\n",
       "      <td>0.000</td>\n",
       "      <td>0.000</td>\n",
       "      <td>0.000</td>\n",
       "    </tr>\n",
       "    <tr>\n",
       "      <th>Alfredo sauce</th>\n",
       "      <td>0.000</td>\n",
       "      <td>0.000</td>\n",
       "      <td>0.000</td>\n",
       "      <td>0.000</td>\n",
       "      <td>0.000</td>\n",
       "      <td>0.000</td>\n",
       "      <td>0.000</td>\n",
       "      <td>0.000</td>\n",
       "      <td>0.000</td>\n",
       "      <td>0.000</td>\n",
       "      <td>...</td>\n",
       "      <td>0.000</td>\n",
       "      <td>0.000</td>\n",
       "      <td>0.000</td>\n",
       "      <td>0.000</td>\n",
       "      <td>0.000</td>\n",
       "      <td>0.000</td>\n",
       "      <td>0.000</td>\n",
       "      <td>0.000</td>\n",
       "      <td>0.000</td>\n",
       "      <td>0.000</td>\n",
       "    </tr>\n",
       "    <tr>\n",
       "      <th>American cheese</th>\n",
       "      <td>0.000</td>\n",
       "      <td>0.000</td>\n",
       "      <td>0.000</td>\n",
       "      <td>0.000</td>\n",
       "      <td>0.000</td>\n",
       "      <td>0.000</td>\n",
       "      <td>0.000</td>\n",
       "      <td>0.000</td>\n",
       "      <td>0.000</td>\n",
       "      <td>0.000</td>\n",
       "      <td>...</td>\n",
       "      <td>0.000</td>\n",
       "      <td>0.000</td>\n",
       "      <td>0.000</td>\n",
       "      <td>0.000</td>\n",
       "      <td>0.000</td>\n",
       "      <td>0.000</td>\n",
       "      <td>0.000</td>\n",
       "      <td>0.000</td>\n",
       "      <td>0.000</td>\n",
       "      <td>0.000</td>\n",
       "    </tr>\n",
       "    <tr>\n",
       "      <th>American processed cheese</th>\n",
       "      <td>0.000</td>\n",
       "      <td>0.000</td>\n",
       "      <td>0.000</td>\n",
       "      <td>0.000</td>\n",
       "      <td>0.000</td>\n",
       "      <td>0.000</td>\n",
       "      <td>0.000</td>\n",
       "      <td>0.000</td>\n",
       "      <td>0.000</td>\n",
       "      <td>0.000</td>\n",
       "      <td>...</td>\n",
       "      <td>0.000</td>\n",
       "      <td>0.000</td>\n",
       "      <td>0.000</td>\n",
       "      <td>0.000</td>\n",
       "      <td>0.000</td>\n",
       "      <td>0.000</td>\n",
       "      <td>0.000</td>\n",
       "      <td>0.000</td>\n",
       "      <td>0.000</td>\n",
       "      <td>0.000</td>\n",
       "    </tr>\n",
       "    <tr>\n",
       "      <th>Asian (toasted) sesame oil</th>\n",
       "      <td>0.000</td>\n",
       "      <td>0.000</td>\n",
       "      <td>0.000</td>\n",
       "      <td>0.000</td>\n",
       "      <td>0.000</td>\n",
       "      <td>0.000</td>\n",
       "      <td>0.000</td>\n",
       "      <td>0.000</td>\n",
       "      <td>0.000</td>\n",
       "      <td>0.000</td>\n",
       "      <td>...</td>\n",
       "      <td>0.000</td>\n",
       "      <td>0.000</td>\n",
       "      <td>0.000</td>\n",
       "      <td>0.000</td>\n",
       "      <td>0.000</td>\n",
       "      <td>0.000</td>\n",
       "      <td>0.000</td>\n",
       "      <td>0.000</td>\n",
       "      <td>0.000</td>\n",
       "      <td>0.000</td>\n",
       "    </tr>\n",
       "    <tr>\n",
       "      <th>Asian chile paste</th>\n",
       "      <td>0.000</td>\n",
       "      <td>0.000</td>\n",
       "      <td>0.000</td>\n",
       "      <td>0.000</td>\n",
       "      <td>0.000</td>\n",
       "      <td>0.000</td>\n",
       "      <td>0.000</td>\n",
       "      <td>0.000</td>\n",
       "      <td>0.000</td>\n",
       "      <td>0.000</td>\n",
       "      <td>...</td>\n",
       "      <td>0.000</td>\n",
       "      <td>0.000</td>\n",
       "      <td>0.000</td>\n",
       "      <td>0.000</td>\n",
       "      <td>0.000</td>\n",
       "      <td>0.000</td>\n",
       "      <td>0.000</td>\n",
       "      <td>0.000</td>\n",
       "      <td>0.000</td>\n",
       "      <td>0.000</td>\n",
       "    </tr>\n",
       "    <tr>\n",
       "      <th>Asian chile pepper sauce</th>\n",
       "      <td>0.000</td>\n",
       "      <td>0.000</td>\n",
       "      <td>0.000</td>\n",
       "      <td>0.000</td>\n",
       "      <td>0.000</td>\n",
       "      <td>0.000</td>\n",
       "      <td>0.000</td>\n",
       "      <td>0.000</td>\n",
       "      <td>0.000</td>\n",
       "      <td>0.000</td>\n",
       "      <td>...</td>\n",
       "      <td>0.000</td>\n",
       "      <td>0.000</td>\n",
       "      <td>0.000</td>\n",
       "      <td>0.000</td>\n",
       "      <td>0.000</td>\n",
       "      <td>0.000</td>\n",
       "      <td>0.000</td>\n",
       "      <td>0.000</td>\n",
       "      <td>0.000</td>\n",
       "      <td>0.000</td>\n",
       "    </tr>\n",
       "    <tr>\n",
       "      <th>Asian fish sauce</th>\n",
       "      <td>0.000</td>\n",
       "      <td>0.000</td>\n",
       "      <td>0.000</td>\n",
       "      <td>0.000</td>\n",
       "      <td>0.000</td>\n",
       "      <td>0.000</td>\n",
       "      <td>0.000</td>\n",
       "      <td>0.000</td>\n",
       "      <td>0.000</td>\n",
       "      <td>0.000</td>\n",
       "      <td>...</td>\n",
       "      <td>0.000</td>\n",
       "      <td>0.000</td>\n",
       "      <td>0.000</td>\n",
       "      <td>0.000</td>\n",
       "      <td>0.000</td>\n",
       "      <td>0.000</td>\n",
       "      <td>0.000</td>\n",
       "      <td>0.000</td>\n",
       "      <td>0.000</td>\n",
       "      <td>0.000</td>\n",
       "    </tr>\n",
       "    <tr>\n",
       "      <th>Bavarian-style sauerkraut undrained</th>\n",
       "      <td>0.000</td>\n",
       "      <td>0.000</td>\n",
       "      <td>0.000</td>\n",
       "      <td>0.000</td>\n",
       "      <td>0.000</td>\n",
       "      <td>0.000</td>\n",
       "      <td>0.000</td>\n",
       "      <td>0.000</td>\n",
       "      <td>0.000</td>\n",
       "      <td>0.000</td>\n",
       "      <td>...</td>\n",
       "      <td>0.000</td>\n",
       "      <td>0.000</td>\n",
       "      <td>0.000</td>\n",
       "      <td>0.000</td>\n",
       "      <td>0.000</td>\n",
       "      <td>0.000</td>\n",
       "      <td>0.000</td>\n",
       "      <td>0.000</td>\n",
       "      <td>0.000</td>\n",
       "      <td>0.000</td>\n",
       "    </tr>\n",
       "    <tr>\n",
       "      <th>Brussels sprouts cleaned and trimmed</th>\n",
       "      <td>0.000</td>\n",
       "      <td>0.000</td>\n",
       "      <td>0.000</td>\n",
       "      <td>0.000</td>\n",
       "      <td>0.000</td>\n",
       "      <td>0.000</td>\n",
       "      <td>0.000</td>\n",
       "      <td>0.000</td>\n",
       "      <td>0.000</td>\n",
       "      <td>0.000</td>\n",
       "      <td>...</td>\n",
       "      <td>0.000</td>\n",
       "      <td>0.000</td>\n",
       "      <td>0.000</td>\n",
       "      <td>0.000</td>\n",
       "      <td>0.000</td>\n",
       "      <td>0.000</td>\n",
       "      <td>0.000</td>\n",
       "      <td>0.000</td>\n",
       "      <td>0.000</td>\n",
       "      <td>0.000</td>\n",
       "    </tr>\n",
       "  </tbody>\n",
       "</table>\n",
       "<p>10 rows × 103492 columns</p>\n",
       "</div>"
      ],
      "text/plain": [
       "user_id                               32        39        64        71        \\\n",
       "ingredients                                                                    \n",
       "                                         0.000     4.000     0.000     0.000   \n",
       "Alfredo sauce                            0.000     0.000     0.000     0.000   \n",
       "American cheese                          0.000     0.000     0.000     0.000   \n",
       "American processed cheese                0.000     0.000     0.000     0.000   \n",
       "Asian (toasted) sesame oil               0.000     0.000     0.000     0.000   \n",
       "Asian chile paste                        0.000     0.000     0.000     0.000   \n",
       "Asian chile pepper sauce                 0.000     0.000     0.000     0.000   \n",
       "Asian fish sauce                         0.000     0.000     0.000     0.000   \n",
       "Bavarian-style sauerkraut undrained      0.000     0.000     0.000     0.000   \n",
       "Brussels sprouts cleaned and trimmed     0.000     0.000     0.000     0.000   \n",
       "\n",
       "user_id                               81        103       138       208       \\\n",
       "ingredients                                                                    \n",
       "                                         0.000     0.000     0.000     0.000   \n",
       "Alfredo sauce                            0.000     0.000     0.000     0.000   \n",
       "American cheese                          0.000     0.000     0.000     0.000   \n",
       "American processed cheese                0.000     0.000     0.000     0.000   \n",
       "Asian (toasted) sesame oil               0.000     0.000     0.000     0.000   \n",
       "Asian chile paste                        0.000     0.000     0.000     0.000   \n",
       "Asian chile pepper sauce                 0.000     0.000     0.000     0.000   \n",
       "Asian fish sauce                         0.000     0.000     0.000     0.000   \n",
       "Bavarian-style sauerkraut undrained      0.000     0.000     0.000     0.000   \n",
       "Brussels sprouts cleaned and trimmed     0.000     0.000     0.000     0.000   \n",
       "\n",
       "user_id                               213       240       ...  23368068  \\\n",
       "ingredients                                               ...             \n",
       "                                         0.000     0.000  ...     0.000   \n",
       "Alfredo sauce                            0.000     0.000  ...     0.000   \n",
       "American cheese                          0.000     0.000  ...     0.000   \n",
       "American processed cheese                0.000     0.000  ...     0.000   \n",
       "Asian (toasted) sesame oil               0.000     0.000  ...     0.000   \n",
       "Asian chile paste                        0.000     0.000  ...     0.000   \n",
       "Asian chile pepper sauce                 0.000     0.000  ...     0.000   \n",
       "Asian fish sauce                         0.000     0.000  ...     0.000   \n",
       "Bavarian-style sauerkraut undrained      0.000     0.000  ...     0.000   \n",
       "Brussels sprouts cleaned and trimmed     0.000     0.000  ...     0.000   \n",
       "\n",
       "user_id                               23370390  23370403  23374791  23375614  \\\n",
       "ingredients                                                                    \n",
       "                                         0.000     0.000     0.000     0.000   \n",
       "Alfredo sauce                            0.000     0.000     0.000     0.000   \n",
       "American cheese                          0.000     0.000     0.000     0.000   \n",
       "American processed cheese                0.000     0.000     0.000     0.000   \n",
       "Asian (toasted) sesame oil               0.000     0.000     0.000     0.000   \n",
       "Asian chile paste                        0.000     0.000     0.000     0.000   \n",
       "Asian chile pepper sauce                 0.000     0.000     0.000     0.000   \n",
       "Asian fish sauce                         0.000     0.000     0.000     0.000   \n",
       "Bavarian-style sauerkraut undrained      0.000     0.000     0.000     0.000   \n",
       "Brussels sprouts cleaned and trimmed     0.000     0.000     0.000     0.000   \n",
       "\n",
       "user_id                               23384606  23389673  23397702  23412582  \\\n",
       "ingredients                                                                    \n",
       "                                         0.000     0.000     0.000     0.000   \n",
       "Alfredo sauce                            0.000     0.000     0.000     0.000   \n",
       "American cheese                          0.000     0.000     0.000     0.000   \n",
       "American processed cheese                0.000     0.000     0.000     0.000   \n",
       "Asian (toasted) sesame oil               0.000     0.000     0.000     0.000   \n",
       "Asian chile paste                        0.000     0.000     0.000     0.000   \n",
       "Asian chile pepper sauce                 0.000     0.000     0.000     0.000   \n",
       "Asian fish sauce                         0.000     0.000     0.000     0.000   \n",
       "Bavarian-style sauerkraut undrained      0.000     0.000     0.000     0.000   \n",
       "Brussels sprouts cleaned and trimmed     0.000     0.000     0.000     0.000   \n",
       "\n",
       "user_id                               23417930  \n",
       "ingredients                                     \n",
       "                                         0.000  \n",
       "Alfredo sauce                            0.000  \n",
       "American cheese                          0.000  \n",
       "American processed cheese                0.000  \n",
       "Asian (toasted) sesame oil               0.000  \n",
       "Asian chile paste                        0.000  \n",
       "Asian chile pepper sauce                 0.000  \n",
       "Asian fish sauce                         0.000  \n",
       "Bavarian-style sauerkraut undrained      0.000  \n",
       "Brussels sprouts cleaned and trimmed     0.000  \n",
       "\n",
       "[10 rows x 103492 columns]"
      ]
     },
     "execution_count": 41,
     "metadata": {},
     "output_type": "execute_result"
    }
   ],
   "source": [
    "ingredient_features.head(10)"
   ]
  },
  {
   "cell_type": "markdown",
   "metadata": {},
   "source": [
    "## 3. Modelling\n",
    "### 3.1 Unsupervised ML model 1.0\n",
    "\n",
    "This model will take as an input and ingredient and return a list of 10 ingredients that users from allrecipes have also rated positively. "
   ]
  },
  {
   "cell_type": "code",
   "execution_count": 42,
   "metadata": {},
   "outputs": [],
   "source": [
    "from scipy.sparse import csr_matrix"
   ]
  },
  {
   "cell_type": "code",
   "execution_count": 43,
   "metadata": {},
   "outputs": [],
   "source": [
    "mat_ingredient_features = csr_matrix(ingredient_features)"
   ]
  },
  {
   "cell_type": "markdown",
   "metadata": {},
   "source": [
    "#### 3.1.1 Train KNN (K-Nearest-Neighbors)"
   ]
  },
  {
   "cell_type": "code",
   "execution_count": 44,
   "metadata": {},
   "outputs": [],
   "source": [
    "from sklearn.neighbors import NearestNeighbors"
   ]
  },
  {
   "cell_type": "code",
   "execution_count": 45,
   "metadata": {},
   "outputs": [
    {
     "data": {
      "text/plain": [
       "NearestNeighbors(algorithm='brute', leaf_size=30, metric='cosine',\n",
       "                 metric_params=None, n_jobs=-1, n_neighbors=5, p=2, radius=1.0)"
      ]
     },
     "execution_count": 45,
     "metadata": {},
     "output_type": "execute_result"
    }
   ],
   "source": [
    "model_knn = NearestNeighbors(metric=\"cosine\",\n",
    "                             algorithm=\"brute\",\n",
    "                             n_jobs=-1)\n",
    "\n",
    "model_knn.fit(mat_ingredient_features)"
   ]
  },
  {
   "cell_type": "code",
   "execution_count": 46,
   "metadata": {},
   "outputs": [],
   "source": [
    "# In order to be able to start the program from here, I can export and import as a pickle\n",
    "#with open(\"final-project/model_knn.pkl\", \"wb\") as mk:\n",
    "#    pickle.dump(model_knn, mk, protocol=pickle.HIGHEST_PROTOCOL)"
   ]
  },
  {
   "cell_type": "code",
   "execution_count": 47,
   "metadata": {},
   "outputs": [
    {
     "data": {
      "text/html": [
       "<div>\n",
       "<style scoped>\n",
       "    .dataframe tbody tr th:only-of-type {\n",
       "        vertical-align: middle;\n",
       "    }\n",
       "\n",
       "    .dataframe tbody tr th {\n",
       "        vertical-align: top;\n",
       "    }\n",
       "\n",
       "    .dataframe thead th {\n",
       "        text-align: right;\n",
       "    }\n",
       "</style>\n",
       "<table border=\"1\" class=\"dataframe\">\n",
       "  <thead>\n",
       "    <tr style=\"text-align: right;\">\n",
       "      <th>user_id</th>\n",
       "      <th>32</th>\n",
       "      <th>39</th>\n",
       "      <th>64</th>\n",
       "      <th>71</th>\n",
       "      <th>81</th>\n",
       "      <th>103</th>\n",
       "      <th>138</th>\n",
       "      <th>208</th>\n",
       "      <th>213</th>\n",
       "      <th>240</th>\n",
       "      <th>...</th>\n",
       "      <th>23368068</th>\n",
       "      <th>23370390</th>\n",
       "      <th>23370403</th>\n",
       "      <th>23374791</th>\n",
       "      <th>23375614</th>\n",
       "      <th>23384606</th>\n",
       "      <th>23389673</th>\n",
       "      <th>23397702</th>\n",
       "      <th>23412582</th>\n",
       "      <th>23417930</th>\n",
       "    </tr>\n",
       "    <tr>\n",
       "      <th>ingredients</th>\n",
       "      <th></th>\n",
       "      <th></th>\n",
       "      <th></th>\n",
       "      <th></th>\n",
       "      <th></th>\n",
       "      <th></th>\n",
       "      <th></th>\n",
       "      <th></th>\n",
       "      <th></th>\n",
       "      <th></th>\n",
       "      <th></th>\n",
       "      <th></th>\n",
       "      <th></th>\n",
       "      <th></th>\n",
       "      <th></th>\n",
       "      <th></th>\n",
       "      <th></th>\n",
       "      <th></th>\n",
       "      <th></th>\n",
       "      <th></th>\n",
       "      <th></th>\n",
       "    </tr>\n",
       "  </thead>\n",
       "  <tbody>\n",
       "    <tr>\n",
       "      <th></th>\n",
       "      <td>0.000</td>\n",
       "      <td>4.000</td>\n",
       "      <td>0.000</td>\n",
       "      <td>0.000</td>\n",
       "      <td>0.000</td>\n",
       "      <td>0.000</td>\n",
       "      <td>0.000</td>\n",
       "      <td>0.000</td>\n",
       "      <td>0.000</td>\n",
       "      <td>0.000</td>\n",
       "      <td>...</td>\n",
       "      <td>0.000</td>\n",
       "      <td>0.000</td>\n",
       "      <td>0.000</td>\n",
       "      <td>0.000</td>\n",
       "      <td>0.000</td>\n",
       "      <td>0.000</td>\n",
       "      <td>0.000</td>\n",
       "      <td>0.000</td>\n",
       "      <td>0.000</td>\n",
       "      <td>0.000</td>\n",
       "    </tr>\n",
       "    <tr>\n",
       "      <th>Alfredo sauce</th>\n",
       "      <td>0.000</td>\n",
       "      <td>0.000</td>\n",
       "      <td>0.000</td>\n",
       "      <td>0.000</td>\n",
       "      <td>0.000</td>\n",
       "      <td>0.000</td>\n",
       "      <td>0.000</td>\n",
       "      <td>0.000</td>\n",
       "      <td>0.000</td>\n",
       "      <td>0.000</td>\n",
       "      <td>...</td>\n",
       "      <td>0.000</td>\n",
       "      <td>0.000</td>\n",
       "      <td>0.000</td>\n",
       "      <td>0.000</td>\n",
       "      <td>0.000</td>\n",
       "      <td>0.000</td>\n",
       "      <td>0.000</td>\n",
       "      <td>0.000</td>\n",
       "      <td>0.000</td>\n",
       "      <td>0.000</td>\n",
       "    </tr>\n",
       "    <tr>\n",
       "      <th>American cheese</th>\n",
       "      <td>0.000</td>\n",
       "      <td>0.000</td>\n",
       "      <td>0.000</td>\n",
       "      <td>0.000</td>\n",
       "      <td>0.000</td>\n",
       "      <td>0.000</td>\n",
       "      <td>0.000</td>\n",
       "      <td>0.000</td>\n",
       "      <td>0.000</td>\n",
       "      <td>0.000</td>\n",
       "      <td>...</td>\n",
       "      <td>0.000</td>\n",
       "      <td>0.000</td>\n",
       "      <td>0.000</td>\n",
       "      <td>0.000</td>\n",
       "      <td>0.000</td>\n",
       "      <td>0.000</td>\n",
       "      <td>0.000</td>\n",
       "      <td>0.000</td>\n",
       "      <td>0.000</td>\n",
       "      <td>0.000</td>\n",
       "    </tr>\n",
       "    <tr>\n",
       "      <th>American processed cheese</th>\n",
       "      <td>0.000</td>\n",
       "      <td>0.000</td>\n",
       "      <td>0.000</td>\n",
       "      <td>0.000</td>\n",
       "      <td>0.000</td>\n",
       "      <td>0.000</td>\n",
       "      <td>0.000</td>\n",
       "      <td>0.000</td>\n",
       "      <td>0.000</td>\n",
       "      <td>0.000</td>\n",
       "      <td>...</td>\n",
       "      <td>0.000</td>\n",
       "      <td>0.000</td>\n",
       "      <td>0.000</td>\n",
       "      <td>0.000</td>\n",
       "      <td>0.000</td>\n",
       "      <td>0.000</td>\n",
       "      <td>0.000</td>\n",
       "      <td>0.000</td>\n",
       "      <td>0.000</td>\n",
       "      <td>0.000</td>\n",
       "    </tr>\n",
       "    <tr>\n",
       "      <th>Asian (toasted) sesame oil</th>\n",
       "      <td>0.000</td>\n",
       "      <td>0.000</td>\n",
       "      <td>0.000</td>\n",
       "      <td>0.000</td>\n",
       "      <td>0.000</td>\n",
       "      <td>0.000</td>\n",
       "      <td>0.000</td>\n",
       "      <td>0.000</td>\n",
       "      <td>0.000</td>\n",
       "      <td>0.000</td>\n",
       "      <td>...</td>\n",
       "      <td>0.000</td>\n",
       "      <td>0.000</td>\n",
       "      <td>0.000</td>\n",
       "      <td>0.000</td>\n",
       "      <td>0.000</td>\n",
       "      <td>0.000</td>\n",
       "      <td>0.000</td>\n",
       "      <td>0.000</td>\n",
       "      <td>0.000</td>\n",
       "      <td>0.000</td>\n",
       "    </tr>\n",
       "  </tbody>\n",
       "</table>\n",
       "<p>5 rows × 103492 columns</p>\n",
       "</div>"
      ],
      "text/plain": [
       "user_id                     32        39        64        71        81        \\\n",
       "ingredients                                                                    \n",
       "                               0.000     4.000     0.000     0.000     0.000   \n",
       "Alfredo sauce                  0.000     0.000     0.000     0.000     0.000   \n",
       "American cheese                0.000     0.000     0.000     0.000     0.000   \n",
       "American processed cheese      0.000     0.000     0.000     0.000     0.000   \n",
       "Asian (toasted) sesame oil     0.000     0.000     0.000     0.000     0.000   \n",
       "\n",
       "user_id                     103       138       208       213       240       \\\n",
       "ingredients                                                                    \n",
       "                               0.000     0.000     0.000     0.000     0.000   \n",
       "Alfredo sauce                  0.000     0.000     0.000     0.000     0.000   \n",
       "American cheese                0.000     0.000     0.000     0.000     0.000   \n",
       "American processed cheese      0.000     0.000     0.000     0.000     0.000   \n",
       "Asian (toasted) sesame oil     0.000     0.000     0.000     0.000     0.000   \n",
       "\n",
       "user_id                     ...  23368068  23370390  23370403  23374791  \\\n",
       "ingredients                 ...                                           \n",
       "                            ...     0.000     0.000     0.000     0.000   \n",
       "Alfredo sauce               ...     0.000     0.000     0.000     0.000   \n",
       "American cheese             ...     0.000     0.000     0.000     0.000   \n",
       "American processed cheese   ...     0.000     0.000     0.000     0.000   \n",
       "Asian (toasted) sesame oil  ...     0.000     0.000     0.000     0.000   \n",
       "\n",
       "user_id                     23375614  23384606  23389673  23397702  23412582  \\\n",
       "ingredients                                                                    \n",
       "                               0.000     0.000     0.000     0.000     0.000   \n",
       "Alfredo sauce                  0.000     0.000     0.000     0.000     0.000   \n",
       "American cheese                0.000     0.000     0.000     0.000     0.000   \n",
       "American processed cheese      0.000     0.000     0.000     0.000     0.000   \n",
       "Asian (toasted) sesame oil     0.000     0.000     0.000     0.000     0.000   \n",
       "\n",
       "user_id                     23417930  \n",
       "ingredients                           \n",
       "                               0.000  \n",
       "Alfredo sauce                  0.000  \n",
       "American cheese                0.000  \n",
       "American processed cheese      0.000  \n",
       "Asian (toasted) sesame oil     0.000  \n",
       "\n",
       "[5 rows x 103492 columns]"
      ]
     },
     "execution_count": 47,
     "metadata": {},
     "output_type": "execute_result"
    }
   ],
   "source": [
    "ingredient_features.head()"
   ]
  },
  {
   "cell_type": "code",
   "execution_count": 48,
   "metadata": {},
   "outputs": [
    {
     "data": {
      "text/plain": [
       "array([[0., 0., 0., ..., 0., 0., 0.]])"
      ]
     },
     "execution_count": 48,
     "metadata": {},
     "output_type": "execute_result"
    }
   ],
   "source": [
    "ingredient_features.loc['Alfredo sauce'].values.reshape(1, -1)"
   ]
  },
  {
   "cell_type": "code",
   "execution_count": 49,
   "metadata": {},
   "outputs": [],
   "source": [
    "input_ = 'Alfredo sauce'"
   ]
  },
  {
   "cell_type": "code",
   "execution_count": 50,
   "metadata": {},
   "outputs": [
    {
     "data": {
      "text/plain": [
       "(array([[0.        , 0.07356679, 0.07356679, 0.11679654, 0.21458574]]),\n",
       " array([[   1, 1009,  617,  203, 1187]]))"
      ]
     },
     "execution_count": 50,
     "metadata": {},
     "output_type": "execute_result"
    }
   ],
   "source": [
    "model_knn.kneighbors(ingredient_features.loc[input_].values.reshape(1, -1), n_neighbors=5)\n",
    "# print(f'Array with the distance of the ingredients: {model_knn.kneighbors(ingredient_features.loc['Dijon mustard'].values.reshape(1, -1), n_neighbors=5)[0]}')\n",
    "# print(f'Array with the id of the ingredients: {model_knn.kneighbors(ingredient_features.loc['Dijon mustard'].values.reshape(1, -1), n_neighbors=5)[1]}')"
   ]
  },
  {
   "cell_type": "markdown",
   "metadata": {},
   "source": [
    "Our kNN model returns a tuple of two 2d-arrays, containing distances and indeces of the nearest neighbors of the vector passed. In order for us to match the results with 'ingredients', we need to translate the output."
   ]
  },
  {
   "cell_type": "code",
   "execution_count": 51,
   "metadata": {},
   "outputs": [],
   "source": [
    "result = model_knn.kneighbors(ingredient_features.loc[input_].values.reshape(1, -1), n_neighbors=10)"
   ]
  },
  {
   "cell_type": "code",
   "execution_count": 52,
   "metadata": {},
   "outputs": [
    {
     "data": {
      "text/plain": [
       "1009"
      ]
     },
     "execution_count": 52,
     "metadata": {},
     "output_type": "execute_result"
    }
   ],
   "source": [
    "result[1][0][2]"
   ]
  },
  {
   "cell_type": "code",
   "execution_count": 53,
   "metadata": {},
   "outputs": [
    {
     "data": {
      "text/plain": [
       "'pesto sauce'"
      ]
     },
     "execution_count": 53,
     "metadata": {},
     "output_type": "execute_result"
    }
   ],
   "source": [
    "ingredient_features.iloc[result[1][0][2]].name"
   ]
  },
  {
   "cell_type": "code",
   "execution_count": 54,
   "metadata": {},
   "outputs": [
    {
     "name": "stdout",
     "output_type": "stream",
     "text": [
      "If you are buying Alfredo sauce you may also want to buy:\n",
      "---------------------------------------------------------\n",
      "1. Alfredo sauce\n",
      "2. fresh baby spinach\n",
      "3. pesto sauce\n",
      "4. box penne pasta\n",
      "5. shredded Italian cheese blend\n",
      "5. cubed cooked chicken\n",
      "5. seasoned bread crumbs\n",
      "5. crushed tomatoes\n",
      "5. ricotta cheese\n",
      "5. frozen chopped spinach thawed and drained\n"
     ]
    }
   ],
   "source": [
    "print(f'If you are buying {input_} you may also want to buy:')\n",
    "print(f'---------------------------------------------------------')\n",
    "\n",
    "print(f'1. {ingredient_features.iloc[result[1][0][0]].name}')\n",
    "print(f'2. {ingredient_features.iloc[result[1][0][1]].name}')\n",
    "print(f'3. {ingredient_features.iloc[result[1][0][2]].name}')\n",
    "print(f'4. {ingredient_features.iloc[result[1][0][3]].name}')\n",
    "print(f'5. {ingredient_features.iloc[result[1][0][4]].name}')\n",
    "print(f'5. {ingredient_features.iloc[result[1][0][5]].name}')\n",
    "print(f'5. {ingredient_features.iloc[result[1][0][6]].name}')\n",
    "print(f'5. {ingredient_features.iloc[result[1][0][7]].name}')\n",
    "print(f'5. {ingredient_features.iloc[result[1][0][8]].name}')\n",
    "print(f'5. {ingredient_features.iloc[result[1][0][9]].name}')"
   ]
  },
  {
   "cell_type": "markdown",
   "metadata": {},
   "source": [
    "The model works with 1 ingredient as an input, however, we would like to be able to give multiple ingredients as arguments. To do so, we are going to try to create a numpy array and pass it as the input."
   ]
  },
  {
   "cell_type": "markdown",
   "metadata": {},
   "source": [
    "### 3.2 Unsupervised ML model 2.0\n",
    "\n",
    "This model will take as an input a LIST of ingredients and return a list of 10 ingredients that users from allrecipes have also rated positively. "
   ]
  },
  {
   "cell_type": "code",
   "execution_count": 55,
   "metadata": {},
   "outputs": [
    {
     "data": {
      "text/plain": [
       "array(['American cheese', 'Dijon mustard'], dtype='<U15')"
      ]
     },
     "execution_count": 55,
     "metadata": {},
     "output_type": "execute_result"
    }
   ],
   "source": [
    "input_list = ['American cheese', 'Dijon mustard']\n",
    "input_arr = np.array(input_list) \n",
    "input_arr"
   ]
  },
  {
   "cell_type": "code",
   "execution_count": 56,
   "metadata": {},
   "outputs": [
    {
     "data": {
      "text/html": [
       "<div>\n",
       "<style scoped>\n",
       "    .dataframe tbody tr th:only-of-type {\n",
       "        vertical-align: middle;\n",
       "    }\n",
       "\n",
       "    .dataframe tbody tr th {\n",
       "        vertical-align: top;\n",
       "    }\n",
       "\n",
       "    .dataframe thead th {\n",
       "        text-align: right;\n",
       "    }\n",
       "</style>\n",
       "<table border=\"1\" class=\"dataframe\">\n",
       "  <thead>\n",
       "    <tr style=\"text-align: right;\">\n",
       "      <th>user_id</th>\n",
       "      <th>32</th>\n",
       "      <th>39</th>\n",
       "      <th>64</th>\n",
       "      <th>71</th>\n",
       "      <th>81</th>\n",
       "      <th>103</th>\n",
       "      <th>138</th>\n",
       "      <th>208</th>\n",
       "      <th>213</th>\n",
       "      <th>240</th>\n",
       "      <th>...</th>\n",
       "      <th>23368068</th>\n",
       "      <th>23370390</th>\n",
       "      <th>23370403</th>\n",
       "      <th>23374791</th>\n",
       "      <th>23375614</th>\n",
       "      <th>23384606</th>\n",
       "      <th>23389673</th>\n",
       "      <th>23397702</th>\n",
       "      <th>23412582</th>\n",
       "      <th>23417930</th>\n",
       "    </tr>\n",
       "    <tr>\n",
       "      <th>ingredients</th>\n",
       "      <th></th>\n",
       "      <th></th>\n",
       "      <th></th>\n",
       "      <th></th>\n",
       "      <th></th>\n",
       "      <th></th>\n",
       "      <th></th>\n",
       "      <th></th>\n",
       "      <th></th>\n",
       "      <th></th>\n",
       "      <th></th>\n",
       "      <th></th>\n",
       "      <th></th>\n",
       "      <th></th>\n",
       "      <th></th>\n",
       "      <th></th>\n",
       "      <th></th>\n",
       "      <th></th>\n",
       "      <th></th>\n",
       "      <th></th>\n",
       "      <th></th>\n",
       "    </tr>\n",
       "  </thead>\n",
       "  <tbody>\n",
       "    <tr>\n",
       "      <th>American cheese</th>\n",
       "      <td>0.000</td>\n",
       "      <td>0.000</td>\n",
       "      <td>0.000</td>\n",
       "      <td>0.000</td>\n",
       "      <td>0.000</td>\n",
       "      <td>0.000</td>\n",
       "      <td>0.000</td>\n",
       "      <td>0.000</td>\n",
       "      <td>0.000</td>\n",
       "      <td>0.000</td>\n",
       "      <td>...</td>\n",
       "      <td>0.000</td>\n",
       "      <td>0.000</td>\n",
       "      <td>0.000</td>\n",
       "      <td>0.000</td>\n",
       "      <td>0.000</td>\n",
       "      <td>0.000</td>\n",
       "      <td>0.000</td>\n",
       "      <td>0.000</td>\n",
       "      <td>0.000</td>\n",
       "      <td>0.000</td>\n",
       "    </tr>\n",
       "    <tr>\n",
       "      <th>Dijon mustard</th>\n",
       "      <td>0.000</td>\n",
       "      <td>5.000</td>\n",
       "      <td>0.000</td>\n",
       "      <td>0.000</td>\n",
       "      <td>0.000</td>\n",
       "      <td>0.000</td>\n",
       "      <td>0.000</td>\n",
       "      <td>0.000</td>\n",
       "      <td>0.000</td>\n",
       "      <td>0.000</td>\n",
       "      <td>...</td>\n",
       "      <td>0.000</td>\n",
       "      <td>0.000</td>\n",
       "      <td>0.000</td>\n",
       "      <td>0.000</td>\n",
       "      <td>0.000</td>\n",
       "      <td>0.000</td>\n",
       "      <td>5.000</td>\n",
       "      <td>0.000</td>\n",
       "      <td>0.000</td>\n",
       "      <td>0.000</td>\n",
       "    </tr>\n",
       "  </tbody>\n",
       "</table>\n",
       "<p>2 rows × 103492 columns</p>\n",
       "</div>"
      ],
      "text/plain": [
       "user_id          32        39        64        71        81        103       \\\n",
       "ingredients                                                                   \n",
       "American cheese     0.000     0.000     0.000     0.000     0.000     0.000   \n",
       "Dijon mustard       0.000     5.000     0.000     0.000     0.000     0.000   \n",
       "\n",
       "user_id          138       208       213       240       ...  23368068  \\\n",
       "ingredients                                              ...             \n",
       "American cheese     0.000     0.000     0.000     0.000  ...     0.000   \n",
       "Dijon mustard       0.000     0.000     0.000     0.000  ...     0.000   \n",
       "\n",
       "user_id          23370390  23370403  23374791  23375614  23384606  23389673  \\\n",
       "ingredients                                                                   \n",
       "American cheese     0.000     0.000     0.000     0.000     0.000     0.000   \n",
       "Dijon mustard       0.000     0.000     0.000     0.000     0.000     5.000   \n",
       "\n",
       "user_id          23397702  23412582  23417930  \n",
       "ingredients                                    \n",
       "American cheese     0.000     0.000     0.000  \n",
       "Dijon mustard       0.000     0.000     0.000  \n",
       "\n",
       "[2 rows x 103492 columns]"
      ]
     },
     "execution_count": 56,
     "metadata": {},
     "output_type": "execute_result"
    }
   ],
   "source": [
    "ingredient_features.loc[['American cheese', 'Dijon mustard']]"
   ]
  },
  {
   "cell_type": "code",
   "execution_count": 57,
   "metadata": {},
   "outputs": [
    {
     "data": {
      "text/plain": [
       "array([[0., 0., 0., ..., 0., 0., 0.],\n",
       "       [0., 5., 0., ..., 0., 0., 0.]])"
      ]
     },
     "execution_count": 57,
     "metadata": {},
     "output_type": "execute_result"
    }
   ],
   "source": [
    "ingredient_features.loc[['American cheese', 'Dijon mustard']].values"
   ]
  },
  {
   "cell_type": "code",
   "execution_count": 58,
   "metadata": {},
   "outputs": [
    {
     "data": {
      "text/plain": [
       "array([[0., 0., 0., ..., 0., 0., 0.],\n",
       "       [0., 5., 0., ..., 0., 0., 0.]])"
      ]
     },
     "execution_count": 58,
     "metadata": {},
     "output_type": "execute_result"
    }
   ],
   "source": [
    "ingredient_features.loc[['American cheese', 'Dijon mustard']].values#.reshape(1, -1)"
   ]
  },
  {
   "cell_type": "markdown",
   "metadata": {},
   "source": [
    "#### 3.2.1 Finding top 10 recommendations\n",
    "In order to find the closest recommendations od a list of ingredients we are going to create a dataframe that will look like the following: \n",
    "\n",
    "|Ingredient Position|Distance|\n",
    "|----|----|\n",
    "|202|0.84|\n",
    "|...|...|\n",
    "\n",
    "We will append the output from the KNN model for each ingredient and then group them by ingredient to obtain the mean 'Distance'. With that we will be able to sort by distance in a Descending order and obtain the Top10 recommended ingredients."
   ]
  },
  {
   "cell_type": "code",
   "execution_count": 59,
   "metadata": {},
   "outputs": [
    {
     "data": {
      "text/plain": [
       "(array([[1.99840144e-15, 2.25790865e-01, 7.49995974e-01, 7.55860109e-01,\n",
       "         8.37839117e-01, 8.39149553e-01, 8.88327262e-01, 8.98369153e-01,\n",
       "         9.15283200e-01, 9.34938906e-01],\n",
       "        [2.10942375e-14, 6.76817516e-01, 6.76817516e-01, 6.79227439e-01,\n",
       "         6.83023355e-01, 6.91743388e-01, 6.93344566e-01, 6.95367944e-01,\n",
       "         7.00201186e-01, 7.06279795e-01]]),\n",
       " array([[   2,  970,   43, 1320, 1029,  899,  807, 1352, 1058, 1201],\n",
       "        [  26, 1428, 1304,  489,  966, 1177,  569,  571, 1041,  244]]))"
      ]
     },
     "execution_count": 59,
     "metadata": {},
     "output_type": "execute_result"
    }
   ],
   "source": [
    "model_knn.kneighbors(ingredient_features.loc[input_arr].values, n_neighbors=10)\n"
   ]
  },
  {
   "cell_type": "code",
   "execution_count": 60,
   "metadata": {},
   "outputs": [
    {
     "data": {
      "text/plain": [
       "'boneless pork loin'"
      ]
     },
     "execution_count": 60,
     "metadata": {},
     "output_type": "execute_result"
    }
   ],
   "source": [
    "ingredient_features.iloc[180].name"
   ]
  },
  {
   "cell_type": "code",
   "execution_count": 61,
   "metadata": {},
   "outputs": [],
   "source": [
    "knn = model_knn.kneighbors(ingredient_features.loc[input_arr].values, n_neighbors=10)"
   ]
  },
  {
   "cell_type": "code",
   "execution_count": 62,
   "metadata": {},
   "outputs": [],
   "source": [
    "# Zip the ingredients position with the distance to the input 'ingredient'\n",
    "z = zip(knn[1][0].tolist(), knn[0][0].tolist())"
   ]
  },
  {
   "cell_type": "code",
   "execution_count": 63,
   "metadata": {},
   "outputs": [
    {
     "data": {
      "text/plain": [
       "[(2, 1.9984014443252818e-15),\n",
       " (970, 0.22579086470607346),\n",
       " (43, 0.749995974041373),\n",
       " (1320, 0.7558601088833039),\n",
       " (1029, 0.837839117337836),\n",
       " (899, 0.8391495527857413),\n",
       " (807, 0.8883272615441179),\n",
       " (1352, 0.8983691529632095),\n",
       " (1058, 0.9152831997235281),\n",
       " (1201, 0.9349389061518224)]"
      ]
     },
     "execution_count": 63,
     "metadata": {},
     "output_type": "execute_result"
    }
   ],
   "source": [
    "# Formate it as a list\n",
    "z_list = [(x, y) for x, y in z]\n",
    "\n",
    "z_list\n",
    "\n",
    "# I have to drop the first row"
   ]
  },
  {
   "cell_type": "code",
   "execution_count": 64,
   "metadata": {},
   "outputs": [],
   "source": [
    "model = pd.DataFrame(z_list, columns=('Ingredient Position', 'Distance'))"
   ]
  },
  {
   "cell_type": "code",
   "execution_count": 65,
   "metadata": {},
   "outputs": [
    {
     "data": {
      "text/html": [
       "<div>\n",
       "<style scoped>\n",
       "    .dataframe tbody tr th:only-of-type {\n",
       "        vertical-align: middle;\n",
       "    }\n",
       "\n",
       "    .dataframe tbody tr th {\n",
       "        vertical-align: top;\n",
       "    }\n",
       "\n",
       "    .dataframe thead th {\n",
       "        text-align: right;\n",
       "    }\n",
       "</style>\n",
       "<table border=\"1\" class=\"dataframe\">\n",
       "  <thead>\n",
       "    <tr style=\"text-align: right;\">\n",
       "      <th></th>\n",
       "      <th>Ingredient Position</th>\n",
       "      <th>Distance</th>\n",
       "    </tr>\n",
       "  </thead>\n",
       "  <tbody>\n",
       "    <tr>\n",
       "      <th>0</th>\n",
       "      <td>2</td>\n",
       "      <td>0.000</td>\n",
       "    </tr>\n",
       "    <tr>\n",
       "      <th>1</th>\n",
       "      <td>970</td>\n",
       "      <td>0.226</td>\n",
       "    </tr>\n",
       "    <tr>\n",
       "      <th>2</th>\n",
       "      <td>43</td>\n",
       "      <td>0.750</td>\n",
       "    </tr>\n",
       "    <tr>\n",
       "      <th>3</th>\n",
       "      <td>1320</td>\n",
       "      <td>0.756</td>\n",
       "    </tr>\n",
       "    <tr>\n",
       "      <th>4</th>\n",
       "      <td>1029</td>\n",
       "      <td>0.838</td>\n",
       "    </tr>\n",
       "    <tr>\n",
       "      <th>5</th>\n",
       "      <td>899</td>\n",
       "      <td>0.839</td>\n",
       "    </tr>\n",
       "    <tr>\n",
       "      <th>6</th>\n",
       "      <td>807</td>\n",
       "      <td>0.888</td>\n",
       "    </tr>\n",
       "    <tr>\n",
       "      <th>7</th>\n",
       "      <td>1352</td>\n",
       "      <td>0.898</td>\n",
       "    </tr>\n",
       "    <tr>\n",
       "      <th>8</th>\n",
       "      <td>1058</td>\n",
       "      <td>0.915</td>\n",
       "    </tr>\n",
       "    <tr>\n",
       "      <th>9</th>\n",
       "      <td>1201</td>\n",
       "      <td>0.935</td>\n",
       "    </tr>\n",
       "  </tbody>\n",
       "</table>\n",
       "</div>"
      ],
      "text/plain": [
       "   Ingredient Position  Distance\n",
       "0                    2     0.000\n",
       "1                  970     0.226\n",
       "2                   43     0.750\n",
       "3                 1320     0.756\n",
       "4                 1029     0.838\n",
       "5                  899     0.839\n",
       "6                  807     0.888\n",
       "7                 1352     0.898\n",
       "8                 1058     0.915\n",
       "9                 1201     0.935"
      ]
     },
     "execution_count": 65,
     "metadata": {},
     "output_type": "execute_result"
    }
   ],
   "source": [
    "model"
   ]
  },
  {
   "cell_type": "code",
   "execution_count": 66,
   "metadata": {},
   "outputs": [],
   "source": [
    "model = model.drop(model[model['Distance'] == 0].index).reset_index(drop=True)"
   ]
  },
  {
   "cell_type": "code",
   "execution_count": 67,
   "metadata": {},
   "outputs": [
    {
     "data": {
      "text/html": [
       "<div>\n",
       "<style scoped>\n",
       "    .dataframe tbody tr th:only-of-type {\n",
       "        vertical-align: middle;\n",
       "    }\n",
       "\n",
       "    .dataframe tbody tr th {\n",
       "        vertical-align: top;\n",
       "    }\n",
       "\n",
       "    .dataframe thead th {\n",
       "        text-align: right;\n",
       "    }\n",
       "</style>\n",
       "<table border=\"1\" class=\"dataframe\">\n",
       "  <thead>\n",
       "    <tr style=\"text-align: right;\">\n",
       "      <th></th>\n",
       "      <th>Ingredient Position</th>\n",
       "      <th>Distance</th>\n",
       "    </tr>\n",
       "  </thead>\n",
       "  <tbody>\n",
       "    <tr>\n",
       "      <th>0</th>\n",
       "      <td>2</td>\n",
       "      <td>0.000</td>\n",
       "    </tr>\n",
       "    <tr>\n",
       "      <th>1</th>\n",
       "      <td>970</td>\n",
       "      <td>0.226</td>\n",
       "    </tr>\n",
       "    <tr>\n",
       "      <th>2</th>\n",
       "      <td>43</td>\n",
       "      <td>0.750</td>\n",
       "    </tr>\n",
       "    <tr>\n",
       "      <th>3</th>\n",
       "      <td>1320</td>\n",
       "      <td>0.756</td>\n",
       "    </tr>\n",
       "    <tr>\n",
       "      <th>4</th>\n",
       "      <td>1029</td>\n",
       "      <td>0.838</td>\n",
       "    </tr>\n",
       "    <tr>\n",
       "      <th>5</th>\n",
       "      <td>899</td>\n",
       "      <td>0.839</td>\n",
       "    </tr>\n",
       "    <tr>\n",
       "      <th>6</th>\n",
       "      <td>807</td>\n",
       "      <td>0.888</td>\n",
       "    </tr>\n",
       "    <tr>\n",
       "      <th>7</th>\n",
       "      <td>1352</td>\n",
       "      <td>0.898</td>\n",
       "    </tr>\n",
       "    <tr>\n",
       "      <th>8</th>\n",
       "      <td>1058</td>\n",
       "      <td>0.915</td>\n",
       "    </tr>\n",
       "    <tr>\n",
       "      <th>9</th>\n",
       "      <td>1201</td>\n",
       "      <td>0.935</td>\n",
       "    </tr>\n",
       "  </tbody>\n",
       "</table>\n",
       "</div>"
      ],
      "text/plain": [
       "   Ingredient Position  Distance\n",
       "0                    2     0.000\n",
       "1                  970     0.226\n",
       "2                   43     0.750\n",
       "3                 1320     0.756\n",
       "4                 1029     0.838\n",
       "5                  899     0.839\n",
       "6                  807     0.888\n",
       "7                 1352     0.898\n",
       "8                 1058     0.915\n",
       "9                 1201     0.935"
      ]
     },
     "execution_count": 67,
     "metadata": {},
     "output_type": "execute_result"
    }
   ],
   "source": [
    "model"
   ]
  },
  {
   "cell_type": "markdown",
   "metadata": {},
   "source": [
    "Once understood how to create the DataFrame that we are looking for, lets create a for loop that creates it for the whole list of ingredients"
   ]
  },
  {
   "cell_type": "code",
   "execution_count": 68,
   "metadata": {},
   "outputs": [],
   "source": [
    "def get_top10_recommendations(ingredients:list):\n",
    "\n",
    "    input_arr = np.array(ingredients)\n",
    "    \n",
    "    # Create empty DataFrame\n",
    "    model = pd.DataFrame(columns=('Ingredient Position', 'Distance'))\n",
    "    \n",
    "    # Generate the model\n",
    "    knn = model_knn.kneighbors(ingredient_features.loc[input_arr].values, n_neighbors=10)\n",
    "    \n",
    "    for i, ing in enumerate(ingredients):\n",
    "        \n",
    "        # Zip the ingredients position with the distance to the input 'ingredient'\n",
    "        z = zip(knn[1][i].tolist(), knn[0][i].tolist())\n",
    "        \n",
    "        # Formate it as a list\n",
    "        z_list = [(x, y) for x, y in z]\n",
    "    \n",
    "        # Create the DataFrame\n",
    "        temp = pd.DataFrame(z_list, columns=('Ingredient Position', 'Distance'))\n",
    "        \n",
    "        # Drop the rows of the ingredients that are already in our list\n",
    "        temp = temp.drop(temp[temp['Distance'] <= 0.001].index)\n",
    "\n",
    "        # Concat the new list of (Position, Distance) with the final df\n",
    "        model = pd.concat([model, temp])\n",
    "        \n",
    "    # Group by ingredient position and sort by distance\n",
    "    model = model.groupby('Ingredient Position').agg({'Distance': 'mean'})\n",
    "    model = model.sort_values(by='Distance', ascending=True).reset_index()\n",
    "    \n",
    "    # Print output header\n",
    "    print(f'If you are buying {ingredients} you may also want to buy:')\n",
    "    print(f'---------------------------------------------------------\\n')\n",
    "    \n",
    "    for x in range(0, 10):\n",
    "        # Print a list with the top 10 recommendations\n",
    "        print(f'{x + 1}.{ingredient_features.iloc[model[\"Ingredient Position\"][x]].name}')\n",
    "    \n",
    "    return model.head(10)\n",
    "        "
   ]
  },
  {
   "cell_type": "code",
   "execution_count": 74,
   "metadata": {},
   "outputs": [
    {
     "name": "stdout",
     "output_type": "stream",
     "text": [
      "If you are buying ['American cheese', 'Dijon mustard'] you may also want to buy:\n",
      "---------------------------------------------------------\n",
      "\n",
      "1.onion rolls\n",
      "2.sun-dried tomatoes chopped\n",
      "3.zucchini cut in half lengthwise then sliced diagonally\n",
      "4.dill weed\n",
      "5.oil\n",
      "6.shallots minced\n",
      "7.fat-free chicken broth\n",
      "8.fat-free sour cream\n",
      "9.pork tenderloins\n",
      "10.cayenne pepper to taste (optional)\n"
     ]
    },
    {
     "data": {
      "text/html": [
       "<div>\n",
       "<style scoped>\n",
       "    .dataframe tbody tr th:only-of-type {\n",
       "        vertical-align: middle;\n",
       "    }\n",
       "\n",
       "    .dataframe tbody tr th {\n",
       "        vertical-align: top;\n",
       "    }\n",
       "\n",
       "    .dataframe thead th {\n",
       "        text-align: right;\n",
       "    }\n",
       "</style>\n",
       "<table border=\"1\" class=\"dataframe\">\n",
       "  <thead>\n",
       "    <tr style=\"text-align: right;\">\n",
       "      <th></th>\n",
       "      <th>Ingredient Position</th>\n",
       "      <th>Distance</th>\n",
       "    </tr>\n",
       "  </thead>\n",
       "  <tbody>\n",
       "    <tr>\n",
       "      <th>0</th>\n",
       "      <td>970</td>\n",
       "      <td>0.226</td>\n",
       "    </tr>\n",
       "    <tr>\n",
       "      <th>1</th>\n",
       "      <td>1304</td>\n",
       "      <td>0.677</td>\n",
       "    </tr>\n",
       "    <tr>\n",
       "      <th>2</th>\n",
       "      <td>1428</td>\n",
       "      <td>0.677</td>\n",
       "    </tr>\n",
       "    <tr>\n",
       "      <th>3</th>\n",
       "      <td>489</td>\n",
       "      <td>0.679</td>\n",
       "    </tr>\n",
       "    <tr>\n",
       "      <th>4</th>\n",
       "      <td>966</td>\n",
       "      <td>0.683</td>\n",
       "    </tr>\n",
       "    <tr>\n",
       "      <th>5</th>\n",
       "      <td>1177</td>\n",
       "      <td>0.692</td>\n",
       "    </tr>\n",
       "    <tr>\n",
       "      <th>6</th>\n",
       "      <td>569</td>\n",
       "      <td>0.693</td>\n",
       "    </tr>\n",
       "    <tr>\n",
       "      <th>7</th>\n",
       "      <td>571</td>\n",
       "      <td>0.695</td>\n",
       "    </tr>\n",
       "    <tr>\n",
       "      <th>8</th>\n",
       "      <td>1041</td>\n",
       "      <td>0.700</td>\n",
       "    </tr>\n",
       "    <tr>\n",
       "      <th>9</th>\n",
       "      <td>244</td>\n",
       "      <td>0.706</td>\n",
       "    </tr>\n",
       "  </tbody>\n",
       "</table>\n",
       "</div>"
      ],
      "text/plain": [
       "   Ingredient Position  Distance\n",
       "0                  970     0.226\n",
       "1                 1304     0.677\n",
       "2                 1428     0.677\n",
       "3                  489     0.679\n",
       "4                  966     0.683\n",
       "5                 1177     0.692\n",
       "6                  569     0.693\n",
       "7                  571     0.695\n",
       "8                 1041     0.700\n",
       "9                  244     0.706"
      ]
     },
     "execution_count": 74,
     "metadata": {},
     "output_type": "execute_result"
    }
   ],
   "source": [
    "get_top10_recommendations(['American cheese', 'Dijon mustard'])"
   ]
  },
  {
   "cell_type": "markdown",
   "metadata": {},
   "source": [
    "Now we are able to recomend which are, on average, the ingredients that people that have rated the ingredients that we are giving as an input are also rating positively. \n",
    "\n",
    "To make it more user friendly, we will add the fuzzy wuzzy package"
   ]
  },
  {
   "cell_type": "markdown",
   "metadata": {},
   "source": [
    "### 3.3 Unsupervised ML model 3.0\n",
    "\n",
    "This model will take as an input a LIST of ingredients (without the necessity of being exactly as the ing on the database) and return a list of 10 ingredients that users from allrecipes have also rated positively. \n",
    "\n",
    "#### 3.3.1 Introducing fuzzywuzzy"
   ]
  },
  {
   "cell_type": "code",
   "execution_count": 75,
   "metadata": {},
   "outputs": [],
   "source": [
    "# Add the packages\n",
    "from fuzzywuzzy import fuzz"
   ]
  },
  {
   "cell_type": "code",
   "execution_count": 76,
   "metadata": {},
   "outputs": [
    {
     "data": {
      "text/plain": [
       "100"
      ]
     },
     "execution_count": 76,
     "metadata": {},
     "output_type": "execute_result"
    }
   ],
   "source": [
    "fuzz.ratio(\"Coca Cola\", \"Coca Cola\")"
   ]
  },
  {
   "cell_type": "code",
   "execution_count": 77,
   "metadata": {},
   "outputs": [],
   "source": [
    "input_ing = \"pasta\""
   ]
  },
  {
   "cell_type": "code",
   "execution_count": 78,
   "metadata": {},
   "outputs": [
    {
     "data": {
      "text/plain": [
       "peeled and diced potatoes                9938\n",
       "diced cooked ham                         9903\n",
       "ground white                             9829\n",
       "chili beans                              9618\n",
       "tomato paste                             9078\n",
       "                                         ... \n",
       "pineapple chunks with juice                40\n",
       "Hellmann's® Real Mayonnaise                40\n",
       "Salt and ground black pepper to taste      34\n",
       "margarine melted                           29\n",
       "hot pork sausage                           27\n",
       "Name: ingredients, Length: 1433, dtype: int64"
      ]
     },
     "execution_count": 78,
     "metadata": {},
     "output_type": "execute_result"
    }
   ],
   "source": [
    "final_ingredients['ingredients'].value_counts()"
   ]
  },
  {
   "cell_type": "code",
   "execution_count": 79,
   "metadata": {},
   "outputs": [],
   "source": [
    "# get unique list of ingredients that are being used for the model\n",
    "unique_ingredients = final_ingredients['ingredients'].unique().tolist()"
   ]
  },
  {
   "cell_type": "code",
   "execution_count": 80,
   "metadata": {},
   "outputs": [
    {
     "data": {
      "text/plain": [
       "1433"
      ]
     },
     "execution_count": 80,
     "metadata": {},
     "output_type": "execute_result"
    }
   ],
   "source": [
    "# Double check if it is the same number as before\n",
    "len(unique_ingredients)"
   ]
  },
  {
   "cell_type": "code",
   "execution_count": 81,
   "metadata": {},
   "outputs": [],
   "source": [
    "matches = []\n",
    "\n",
    "for ing in unique_ingredients:\n",
    "    ratio = fuzz.ratio(ing.lower(), input_ing.lower())\n",
    "\n",
    "    if ratio > 60:\n",
    "        matches.append((ing, ratio))\n",
    "        \n",
    "matches = sorted(matches, key=lambda x: x[1], reverse=True)"
   ]
  },
  {
   "cell_type": "code",
   "execution_count": 82,
   "metadata": {},
   "outputs": [
    {
     "data": {
      "text/plain": [
       "[('orzo pasta', 67),\n",
       " ('peas', 67),\n",
       " ('pasta sauce', 62),\n",
       " ('penne pasta', 62),\n",
       " ('pancetta', 62)]"
      ]
     },
     "execution_count": 82,
     "metadata": {},
     "output_type": "execute_result"
    }
   ],
   "source": [
    "matches"
   ]
  },
  {
   "cell_type": "code",
   "execution_count": 83,
   "metadata": {},
   "outputs": [],
   "source": [
    "# Add the best match to a list\n",
    "clean_list = []\n",
    "\n",
    "clean_list.append(matches[0][0])"
   ]
  },
  {
   "cell_type": "code",
   "execution_count": 84,
   "metadata": {},
   "outputs": [
    {
     "data": {
      "text/plain": [
       "['orzo pasta']"
      ]
     },
     "execution_count": 84,
     "metadata": {},
     "output_type": "execute_result"
    }
   ],
   "source": [
    "clean_list"
   ]
  },
  {
   "cell_type": "markdown",
   "metadata": {},
   "source": [
    "#### 3.3.2 Appling fuzzywuzzy to the model"
   ]
  },
  {
   "cell_type": "code",
   "execution_count": 85,
   "metadata": {},
   "outputs": [],
   "source": [
    "def get_translation(ingredients:list):\n",
    "    \n",
    "    clean_list = []\n",
    "    \n",
    "    # ...\n",
    "    for ingredient in ingredients:\n",
    "\n",
    "        matches = []\n",
    "\n",
    "        for ing in unique_ingredients:\n",
    "            ratio = fuzz.ratio(ing.lower(), ingredient.lower())\n",
    "\n",
    "            if ratio > 50:\n",
    "                matches.append((ing, ratio))\n",
    "                matches = sorted(matches, key=lambda x: x[1], reverse=True)\n",
    "                \n",
    "        if matches:\n",
    "            clean_list.append(matches[0][0])\n",
    "        else: \n",
    "            clean_list.append(np.nan)\n",
    "            \n",
    "    return clean_list"
   ]
  },
  {
   "cell_type": "code",
   "execution_count": 86,
   "metadata": {},
   "outputs": [
    {
     "data": {
      "text/plain": [
       "['blue cheese', 'dry mustard', 'Parmesan cheese']"
      ]
     },
     "execution_count": 86,
     "metadata": {},
     "output_type": "execute_result"
    }
   ],
   "source": [
    "get_translation(['Cheese', 'Mustard', 'Parmesan cheese'])"
   ]
  },
  {
   "cell_type": "markdown",
   "metadata": {},
   "source": [
    "Maybe we can try to add more than 437 ingredients. Or at least be able to understand why there is no rice"
   ]
  },
  {
   "cell_type": "code",
   "execution_count": 87,
   "metadata": {},
   "outputs": [],
   "source": [
    "# Add fuzzy function\n",
    "def get_top10_recommendations(ingredients:list):\n",
    "    \n",
    "    ingredients = get_translation(ingredients)\n",
    "    \n",
    "    input_arr = np.array(ingredients)\n",
    "    \n",
    "    # Create empty DataFrame\n",
    "    model = pd.DataFrame(columns=('Ingredient Position', 'Distance'))\n",
    "    \n",
    "    # Generate the model\n",
    "    knn = model_knn.kneighbors(ingredient_features.loc[input_arr].values, n_neighbors=10)\n",
    "    \n",
    "    for i, ing in enumerate(ingredients):\n",
    "        \n",
    "        # Zip the ingredients position with the distance to the input 'ingredient'\n",
    "        z = zip(knn[1][i].tolist(), knn[0][i].tolist())\n",
    "        \n",
    "        # Formate it as a list\n",
    "        z_list = [(x, y) for x, y in z]\n",
    "    \n",
    "        # Create the DataFrame\n",
    "        temp = pd.DataFrame(z_list, columns=('Ingredient Position', 'Distance'))\n",
    "        \n",
    "        # Drop the rows of the ingredients that are already in our list\n",
    "        temp = temp.drop(temp[temp['Distance'] <= 0.001].index)\n",
    "\n",
    "        # Concat the new list of (Position, Distance) with the final df\n",
    "        model = pd.concat([model, temp])\n",
    "        \n",
    "    # Group by ingredient position and sort by distance\n",
    "    model = model.groupby('Ingredient Position').agg({'Distance': 'mean'})\n",
    "    model = model.sort_values(by='Distance', ascending=True).reset_index()\n",
    "    \n",
    "    # Print output header\n",
    "    print(f'If you are buying {ingredients} you may also want to buy:')\n",
    "    print(f'---------------------------------------------------------\\n')\n",
    "    \n",
    "    for x in range(0, 10):\n",
    "        # Print a list with the top 10 recommendations\n",
    "        print(f'{x + 1}.{ingredient_features.iloc[model[\"Ingredient Position\"][x]].name}')\n",
    "    \n",
    "    return model.head(10)\n",
    "        "
   ]
  },
  {
   "cell_type": "code",
   "execution_count": 94,
   "metadata": {},
   "outputs": [
    {
     "name": "stdout",
     "output_type": "stream",
     "text": [
      "If you are buying ['blue cheese', 'red wine', 'water chestnuts', 'dry mustard', 'Parmesan cheese', 'rice wine', 'egg noodles', 'orzo pasta', 'fresh mushrooms'] you may also want to buy:\n",
      "---------------------------------------------------------\n",
      "\n",
      "1.fresh mushrooms finely diced\n",
      "2.finely diced smoked ham\n",
      "3.unbaked pie crusts\n",
      "4.frozen chopped spinach thawed\n",
      "5.thick sliced bacon\n",
      "6.snow peas\n",
      "7.sliced carrots\n",
      "8.beef round steak\n",
      "9.vegetable broth\n",
      "10.chopped cooked chicken breast\n"
     ]
    },
    {
     "data": {
      "text/html": [
       "<div>\n",
       "<style scoped>\n",
       "    .dataframe tbody tr th:only-of-type {\n",
       "        vertical-align: middle;\n",
       "    }\n",
       "\n",
       "    .dataframe tbody tr th {\n",
       "        vertical-align: top;\n",
       "    }\n",
       "\n",
       "    .dataframe thead th {\n",
       "        text-align: right;\n",
       "    }\n",
       "</style>\n",
       "<table border=\"1\" class=\"dataframe\">\n",
       "  <thead>\n",
       "    <tr style=\"text-align: right;\">\n",
       "      <th></th>\n",
       "      <th>Ingredient Position</th>\n",
       "      <th>Distance</th>\n",
       "    </tr>\n",
       "  </thead>\n",
       "  <tbody>\n",
       "    <tr>\n",
       "      <th>0</th>\n",
       "      <td>636</td>\n",
       "      <td>0.094</td>\n",
       "    </tr>\n",
       "    <tr>\n",
       "      <th>1</th>\n",
       "      <td>592</td>\n",
       "      <td>0.094</td>\n",
       "    </tr>\n",
       "    <tr>\n",
       "      <th>2</th>\n",
       "      <td>1365</td>\n",
       "      <td>0.097</td>\n",
       "    </tr>\n",
       "    <tr>\n",
       "      <th>3</th>\n",
       "      <td>659</td>\n",
       "      <td>0.098</td>\n",
       "    </tr>\n",
       "    <tr>\n",
       "      <th>4</th>\n",
       "      <td>1324</td>\n",
       "      <td>0.133</td>\n",
       "    </tr>\n",
       "    <tr>\n",
       "      <th>5</th>\n",
       "      <td>1272</td>\n",
       "      <td>0.167</td>\n",
       "    </tr>\n",
       "    <tr>\n",
       "      <th>6</th>\n",
       "      <td>1227</td>\n",
       "      <td>0.168</td>\n",
       "    </tr>\n",
       "    <tr>\n",
       "      <th>7</th>\n",
       "      <td>136</td>\n",
       "      <td>0.184</td>\n",
       "    </tr>\n",
       "    <tr>\n",
       "      <th>8</th>\n",
       "      <td>1387</td>\n",
       "      <td>0.222</td>\n",
       "    </tr>\n",
       "    <tr>\n",
       "      <th>9</th>\n",
       "      <td>283</td>\n",
       "      <td>0.237</td>\n",
       "    </tr>\n",
       "  </tbody>\n",
       "</table>\n",
       "</div>"
      ],
      "text/plain": [
       "   Ingredient Position  Distance\n",
       "0                  636     0.094\n",
       "1                  592     0.094\n",
       "2                 1365     0.097\n",
       "3                  659     0.098\n",
       "4                 1324     0.133\n",
       "5                 1272     0.167\n",
       "6                 1227     0.168\n",
       "7                  136     0.184\n",
       "8                 1387     0.222\n",
       "9                  283     0.237"
      ]
     },
     "execution_count": 94,
     "metadata": {},
     "output_type": "execute_result"
    }
   ],
   "source": [
    "get_top10_recommendations(['Cheese', 'Red wine', 'chestnut', 'Mustard', 'Parmesan cheese', 'Rice', 'noodles', 'pasta', 'mushrooms'])"
   ]
  }
 ],
 "metadata": {
  "kernelspec": {
   "display_name": "Python 3",
   "language": "python",
   "name": "python3"
  },
  "language_info": {
   "codemirror_mode": {
    "name": "ipython",
    "version": 3
   },
   "file_extension": ".py",
   "mimetype": "text/x-python",
   "name": "python",
   "nbconvert_exporter": "python",
   "pygments_lexer": "ipython3",
   "version": "3.8.3"
  }
 },
 "nbformat": 4,
 "nbformat_minor": 4
}
